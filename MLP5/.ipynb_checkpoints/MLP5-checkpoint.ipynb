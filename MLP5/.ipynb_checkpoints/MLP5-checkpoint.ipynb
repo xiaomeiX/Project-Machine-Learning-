{
 "cells": [
  {
   "cell_type": "markdown",
   "metadata": {},
   "source": [
    "### MLP 5: Neural Network\n",
    "Write your name\n",
    "* xiaomei Xie\n",
    "* Lili Hao\n",
    "\n",
    "In this phase, you will (1) construct neural network models to predict a response variable, (2) evaluate the\n",
    "model, and (3) write a report about what you find from the analysis. \n",
    "\n",
    "(a) Analysis of neural network models with varying number of hidden layers and number of units\n",
    "(nodes) in the hidden layers. (10 pts)\n",
    "\n",
    "(b) Analysis of the effects of different activation functions, such as relu, tanh, and logistic functions.\n",
    "(15 pts)\n",
    "\n",
    "(c) Analysis of optimal parameters and hyper-parameters, alpha value for regularization parameter,\n",
    "learning rate for gradient descent, the number of iterations, etc. (15 pts)\n",
    "\n",
    "For parameters and hyper-parameters, please see the details in Python Scikit. \n"
   ]
  },
  {
   "cell_type": "markdown",
   "metadata": {},
   "source": [
    "### e sure you install the following packages on your machine (No installation needed when you work on Google Colab)\n",
    "\n",
    "Requires the latest pip\n",
    "\n",
    "$ pip install --upgrade pip\n",
    "\n",
    "Current stable release for CPU and GF\n",
    "\n",
    "$ pip install tensorflow"
   ]
  },
  {
   "cell_type": "code",
   "execution_count": 1,
   "metadata": {},
   "outputs": [
    {
     "name": "stdout",
     "output_type": "stream",
     "text": [
      "Requirement already satisfied: tensorflow in c:\\users\\xiexi\\anaconda3\\envs\\cpsc5610\\lib\\site-packages (2.4.1)\n",
      "Requirement already satisfied: wrapt~=1.12.1 in c:\\users\\xiexi\\appdata\\roaming\\python\\python37\\site-packages (from tensorflow) (1.12.1)\n",
      "Note: you may need to restart the kernel to use updated packages.Requirement already satisfied: tensorflow-estimator<2.5.0,>=2.4.0 in c:\\users\\xiexi\\anaconda3\\envs\\cpsc5610\\lib\\site-packages (from tensorflow) (2.4.0)\n",
      "Requirement already satisfied: astunparse~=1.6.3 in c:\\users\\xiexi\\anaconda3\\envs\\cpsc5610\\lib\\site-packages (from tensorflow) (1.6.3)\n",
      "Requirement already satisfied: protobuf>=3.9.2 in c:\\users\\xiexi\\anaconda3\\envs\\cpsc5610\\lib\\site-packages (from tensorflow) (3.15.2)\n",
      "Requirement already satisfied: typing-extensions~=3.7.4 in c:\\users\\xiexi\\anaconda3\\envs\\cpsc5610\\lib\\site-packages (from tensorflow) (3.7.4.3)\n",
      "Requirement already satisfied: numpy~=1.19.2 in c:\\users\\xiexi\\anaconda3\\envs\\cpsc5610\\lib\\site-packages (from tensorflow) (1.19.2)\n",
      "Requirement already satisfied: flatbuffers~=1.12.0 in c:\\users\\xiexi\\anaconda3\\envs\\cpsc5610\\lib\\site-packages (from tensorflow) (1.12)\n",
      "Requirement already satisfied: keras-preprocessing~=1.1.2 in c:\\users\\xiexi\\anaconda3\\envs\\cpsc5610\\lib\\site-packages (from tensorflow) (1.1.2)\n",
      "Requirement already satisfied: tensorboard~=2.4 in c:\\users\\xiexi\\anaconda3\\envs\\cpsc5610\\lib\\site-packages (from tensorflow) (2.4.1)\n",
      "\n",
      "Requirement already satisfied: grpcio~=1.32.0 in c:\\users\\xiexi\\anaconda3\\envs\\cpsc5610\\lib\\site-packages (from tensorflow) (1.32.0)\n",
      "Requirement already satisfied: google-pasta~=0.2 in c:\\users\\xiexi\\anaconda3\\envs\\cpsc5610\\lib\\site-packages (from tensorflow) (0.2.0)\n",
      "Requirement already satisfied: absl-py~=0.10 in c:\\users\\xiexi\\anaconda3\\envs\\cpsc5610\\lib\\site-packages (from tensorflow) (0.11.0)\n",
      "Requirement already satisfied: six~=1.15.0 in c:\\users\\xiexi\\appdata\\roaming\\python\\python37\\site-packages (from tensorflow) (1.15.0)\n",
      "Requirement already satisfied: opt-einsum~=3.3.0 in c:\\users\\xiexi\\anaconda3\\envs\\cpsc5610\\lib\\site-packages (from tensorflow) (3.3.0)\n",
      "Requirement already satisfied: gast==0.3.3 in c:\\users\\xiexi\\anaconda3\\envs\\cpsc5610\\lib\\site-packages (from tensorflow) (0.3.3)\n",
      "Requirement already satisfied: termcolor~=1.1.0 in c:\\users\\xiexi\\anaconda3\\envs\\cpsc5610\\lib\\site-packages (from tensorflow) (1.1.0)\n",
      "Requirement already satisfied: wheel~=0.35 in c:\\users\\xiexi\\anaconda3\\envs\\cpsc5610\\lib\\site-packages (from tensorflow) (0.35.1)\n",
      "Requirement already satisfied: h5py~=2.10.0 in c:\\users\\xiexi\\anaconda3\\envs\\cpsc5610\\lib\\site-packages (from tensorflow) (2.10.0)\n",
      "Requirement already satisfied: requests<3,>=2.21.0 in c:\\users\\xiexi\\anaconda3\\envs\\cpsc5610\\lib\\site-packages (from tensorboard~=2.4->tensorflow) (2.24.0)\n",
      "Requirement already satisfied: google-auth-oauthlib<0.5,>=0.4.1 in c:\\users\\xiexi\\anaconda3\\envs\\cpsc5610\\lib\\site-packages (from tensorboard~=2.4->tensorflow) (0.4.2)\n",
      "Requirement already satisfied: markdown>=2.6.8 in c:\\users\\xiexi\\anaconda3\\envs\\cpsc5610\\lib\\site-packages (from tensorboard~=2.4->tensorflow) (3.3.4)\n",
      "Requirement already satisfied: tensorboard-plugin-wit>=1.6.0 in c:\\users\\xiexi\\anaconda3\\envs\\cpsc5610\\lib\\site-packages (from tensorboard~=2.4->tensorflow) (1.8.0)\n",
      "Requirement already satisfied: setuptools>=41.0.0 in c:\\users\\xiexi\\anaconda3\\envs\\cpsc5610\\lib\\site-packages (from tensorboard~=2.4->tensorflow) (49.6.0.post20200814)\n",
      "Requirement already satisfied: google-auth<2,>=1.6.3 in c:\\users\\xiexi\\anaconda3\\envs\\cpsc5610\\lib\\site-packages (from tensorboard~=2.4->tensorflow) (1.27.0)\n",
      "Requirement already satisfied: werkzeug>=0.11.15 in c:\\users\\xiexi\\anaconda3\\envs\\cpsc5610\\lib\\site-packages (from tensorboard~=2.4->tensorflow) (1.0.1)\n",
      "Requirement already satisfied: pyasn1-modules>=0.2.1 in c:\\users\\xiexi\\anaconda3\\envs\\cpsc5610\\lib\\site-packages (from google-auth<2,>=1.6.3->tensorboard~=2.4->tensorflow) (0.2.8)\n",
      "Requirement already satisfied: rsa<5,>=3.1.4 in c:\\users\\xiexi\\anaconda3\\envs\\cpsc5610\\lib\\site-packages (from google-auth<2,>=1.6.3->tensorboard~=2.4->tensorflow) (4.7.2)\n",
      "Requirement already satisfied: cachetools<5.0,>=2.0.0 in c:\\users\\xiexi\\anaconda3\\envs\\cpsc5610\\lib\\site-packages (from google-auth<2,>=1.6.3->tensorboard~=2.4->tensorflow) (4.2.1)\n",
      "Requirement already satisfied: requests-oauthlib>=0.7.0 in c:\\users\\xiexi\\anaconda3\\envs\\cpsc5610\\lib\\site-packages (from google-auth-oauthlib<0.5,>=0.4.1->tensorboard~=2.4->tensorflow) (1.3.0)\n",
      "Requirement already satisfied: importlib-metadata in c:\\users\\xiexi\\anaconda3\\envs\\cpsc5610\\lib\\site-packages (from markdown>=2.6.8->tensorboard~=2.4->tensorflow) (1.7.0)\n",
      "Requirement already satisfied: pyasn1<0.5.0,>=0.4.6 in c:\\users\\xiexi\\anaconda3\\envs\\cpsc5610\\lib\\site-packages (from pyasn1-modules>=0.2.1->google-auth<2,>=1.6.3->tensorboard~=2.4->tensorflow) (0.4.8)\n",
      "Requirement already satisfied: chardet<4,>=3.0.2 in c:\\users\\xiexi\\anaconda3\\envs\\cpsc5610\\lib\\site-packages (from requests<3,>=2.21.0->tensorboard~=2.4->tensorflow) (3.0.4)\n",
      "Requirement already satisfied: certifi>=2017.4.17 in c:\\users\\xiexi\\anaconda3\\envs\\cpsc5610\\lib\\site-packages (from requests<3,>=2.21.0->tensorboard~=2.4->tensorflow) (2020.11.8)\n",
      "Requirement already satisfied: urllib3!=1.25.0,!=1.25.1,<1.26,>=1.21.1 in c:\\users\\xiexi\\anaconda3\\envs\\cpsc5610\\lib\\site-packages (from requests<3,>=2.21.0->tensorboard~=2.4->tensorflow) (1.25.10)\n",
      "Requirement already satisfied: idna<3,>=2.5 in c:\\users\\xiexi\\anaconda3\\envs\\cpsc5610\\lib\\site-packages (from requests<3,>=2.21.0->tensorboard~=2.4->tensorflow) (2.10)\n",
      "Requirement already satisfied: oauthlib>=3.0.0 in c:\\users\\xiexi\\anaconda3\\envs\\cpsc5610\\lib\\site-packages (from requests-oauthlib>=0.7.0->google-auth-oauthlib<0.5,>=0.4.1->tensorboard~=2.4->tensorflow) (3.1.0)\n",
      "Requirement already satisfied: zipp>=0.5 in c:\\users\\xiexi\\anaconda3\\envs\\cpsc5610\\lib\\site-packages (from importlib-metadata->markdown>=2.6.8->tensorboard~=2.4->tensorflow) (3.1.0)\n"
     ]
    }
   ],
   "source": [
    "pip install tensorflow"
   ]
  },
  {
   "cell_type": "code",
   "execution_count": 2,
   "metadata": {},
   "outputs": [],
   "source": [
    "# Python ≥3.5 is required\n",
    "import sys\n",
    "assert sys.version_info >= (3, 5)\n",
    "\n",
    "# Scikit-Learn ≥0.20 is required\n",
    "import sklearn\n",
    "assert sklearn.__version__ >= \"0.20\"\n",
    "\n",
    "\n",
    "try:\n",
    "    # %tensorflow_version only exists in Colab.\n",
    "    %tensorflow_version 2.x\n",
    "except Exception:\n",
    "    pass\n",
    "\n",
    "# TensorFlow ≥2.0 is required\n",
    "import tensorflow as tf\n",
    "assert tf.__version__ >= \"2.0\"\n",
    "\n",
    "\n",
    "# Common imports\n",
    "import numpy as np\n",
    "import pandas as pd\n",
    "import os\n",
    "\n",
    "from sklearn.metrics import confusion_matrix\n",
    "from sklearn.metrics import classification_report\n",
    "from sklearn.model_selection import train_test_split\n",
    "from matplotlib.colors import ListedColormap\n",
    "from sklearn.datasets import make_classification, make_blobs\n",
    "from sklearn.neural_network import MLPClassifier\n",
    "from sklearn.neural_network import MLPRegressor\n",
    "\n",
    "from sklearn import *\n",
    "\n",
    "\n",
    "\n",
    "from sklearn.linear_model import Ridge\n",
    "\n",
    "# To plot pretty figures\n",
    "%matplotlib inline\n",
    "import matplotlib as mpl\n",
    "import matplotlib.pyplot as plt\n",
    "mpl.rc('axes', labelsize=14)\n",
    "mpl.rc('xtick', labelsize=12)\n",
    "mpl.rc('ytick', labelsize=12)\n",
    "\n",
    "\n",
    "\n",
    "from sklearn.linear_model import LinearRegression\n",
    "from sklearn import metrics\n",
    "\n",
    "\n",
    "color_list_light = ['#FFFFAA', '#EFEFEF', '#AAFFAA', '#AAAAFF']\n",
    "color_list_bold = ['#EEEE00', '#000000', '#00CC00', '#0000CC']\n",
    "cmap_light = ListedColormap(color_list_light[0:2])\n",
    "cmap_bold  = ListedColormap(color_list_bold[0:2])\n",
    "\n",
    "\n",
    "import warnings\n",
    "\n",
    "\n",
    "# to make this notebook's output stable across runs\n",
    "np.random.seed(42)\n",
    "\n",
    "# Where to save the figures\n",
    "PROJECT_ROOT_DIR = \".\"\n",
    "CHAPTER_ID = \"ann\"\n",
    "IMAGES_PATH = os.path.join(PROJECT_ROOT_DIR, \"images\", CHAPTER_ID)\n",
    "\n",
    "os.makedirs(IMAGES_PATH, exist_ok=True)\n",
    "\n",
    "def save_fig(fig_id, tight_layout=True, fig_extension=\"png\", resolution=300):\n",
    "    path = os.path.join(IMAGES_PATH, fig_id + \".\" + fig_extension)\n",
    "    print(\"Saving figure\", fig_id)\n",
    "    if tight_layout:\n",
    "        plt.tight_layout()\n",
    "    plt.savefig(path, format=fig_extension, dpi=resolution)\n",
    "\n",
    "warnings.filterwarnings('ignore')"
   ]
  },
  {
   "cell_type": "code",
   "execution_count": 3,
   "metadata": {},
   "outputs": [
    {
     "data": {
      "text/plain": [
       "(-5.0, 5.0, -1.2, 1.2)"
      ]
     },
     "execution_count": 3,
     "metadata": {},
     "output_type": "execute_result"
    },
    {
     "data": {
      "image/png": "[encoded data removed]",
      "text/plain": [
       "<Figure size 792x288 with 1 Axes>"
      ]
     },
     "metadata": {
      "needs_background": "light"
     },
     "output_type": "display_data"
    }
   ],
   "source": [
    "def sigmoid(z):\n",
    "    return 1 / (1 + np.exp(-z))\n",
    "\n",
    "def relu(z):\n",
    "    return np.maximum(0, z)\n",
    "\n",
    "def derivative(f, z, eps=0.000001):\n",
    "    return (f(z + eps) - f(z - eps))/(2 * eps)\n",
    "\n",
    "\n",
    "z = np.linspace(-5, 5, 200)\n",
    "\n",
    "plt.figure(figsize=(11,4))\n",
    "\n",
    "plt.subplot(121)\n",
    "plt.plot(z, np.sign(z), \"r-\", linewidth=1, label=\"Step\")\n",
    "plt.plot(z, sigmoid(z), \"g--\", linewidth=2, label=\"Sigmoid\")\n",
    "plt.plot(z, np.tanh(z), \"b-\", linewidth=2, label=\"Tanh\")\n",
    "plt.plot(z, relu(z), \"m-.\", linewidth=2, label=\"ReLU\")\n",
    "plt.grid(True)\n",
    "plt.legend(loc=\"center right\", fontsize=14)\n",
    "plt.title(\"Activation functions\", fontsize=14)\n",
    "plt.axis([-5, 5, -1.2, 1.2])"
   ]
  },
  {
   "cell_type": "code",
   "execution_count": 4,
   "metadata": {},
   "outputs": [],
   "source": [
    "import tensorflow as tf\n",
    "from tensorflow import keras"
   ]
  },
  {
   "cell_type": "code",
   "execution_count": 5,
   "metadata": {},
   "outputs": [
    {
     "data": {
      "text/plain": [
       "'2.4.1'"
      ]
     },
     "execution_count": 5,
     "metadata": {},
     "output_type": "execute_result"
    }
   ],
   "source": [
    "tf.__version__"
   ]
  },
  {
   "cell_type": "code",
   "execution_count": 6,
   "metadata": {},
   "outputs": [
    {
     "data": {
      "text/plain": [
       "'2.4.0'"
      ]
     },
     "execution_count": 6,
     "metadata": {},
     "output_type": "execute_result"
    }
   ],
   "source": [
    "keras.__version__"
   ]
  },
  {
   "cell_type": "code",
   "execution_count": 7,
   "metadata": {},
   "outputs": [
    {
     "name": "stdout",
     "output_type": "stream",
     "text": [
      "[-2.         -1.9798995  -1.95979899 -1.93969849 -1.91959799 -1.89949749\n",
      " -1.87939698 -1.85929648 -1.83919598 -1.81909548 -1.79899497 -1.77889447\n",
      " -1.75879397 -1.73869347 -1.71859296 -1.69849246 -1.67839196 -1.65829146\n",
      " -1.63819095 -1.61809045 -1.59798995 -1.57788945 -1.55778894 -1.53768844\n",
      " -1.51758794 -1.49748744 -1.47738693 -1.45728643 -1.43718593 -1.41708543\n",
      " -1.39698492 -1.37688442 -1.35678392 -1.33668342 -1.31658291 -1.29648241\n",
      " -1.27638191 -1.25628141 -1.2361809  -1.2160804  -1.1959799  -1.1758794\n",
      " -1.15577889 -1.13567839 -1.11557789 -1.09547739 -1.07537688 -1.05527638\n",
      " -1.03517588 -1.01507538 -0.99497487 -0.97487437 -0.95477387 -0.93467337\n",
      " -0.91457286 -0.89447236 -0.87437186 -0.85427136 -0.83417085 -0.81407035\n",
      " -0.79396985 -0.77386935 -0.75376884 -0.73366834 -0.71356784 -0.69346734\n",
      " -0.67336683 -0.65326633 -0.63316583 -0.61306533 -0.59296482 -0.57286432\n",
      " -0.55276382 -0.53266332 -0.51256281 -0.49246231 -0.47236181 -0.45226131\n",
      " -0.4321608  -0.4120603  -0.3919598  -0.3718593  -0.35175879 -0.33165829\n",
      " -0.31155779 -0.29145729 -0.27135678 -0.25125628 -0.23115578 -0.21105528\n",
      " -0.19095477 -0.17085427 -0.15075377 -0.13065327 -0.11055276 -0.09045226\n",
      " -0.07035176 -0.05025126 -0.03015075 -0.01005025  0.01005025  0.03015075\n",
      "  0.05025126  0.07035176  0.09045226  0.11055276  0.13065327  0.15075377\n",
      "  0.17085427  0.19095477  0.21105528  0.23115578  0.25125628  0.27135678\n",
      "  0.29145729  0.31155779  0.33165829  0.35175879  0.3718593   0.3919598\n",
      "  0.4120603   0.4321608   0.45226131  0.47236181  0.49246231  0.51256281\n",
      "  0.53266332  0.55276382  0.57286432  0.59296482  0.61306533  0.63316583\n",
      "  0.65326633  0.67336683  0.69346734  0.71356784  0.73366834  0.75376884\n",
      "  0.77386935  0.79396985  0.81407035  0.83417085  0.85427136  0.87437186\n",
      "  0.89447236  0.91457286  0.93467337  0.95477387  0.97487437  0.99497487\n",
      "  1.01507538  1.03517588  1.05527638  1.07537688  1.09547739  1.11557789\n",
      "  1.13567839  1.15577889  1.1758794   1.1959799   1.2160804   1.2361809\n",
      "  1.25628141  1.27638191  1.29648241  1.31658291  1.33668342  1.35678392\n",
      "  1.37688442  1.39698492  1.41708543  1.43718593  1.45728643  1.47738693\n",
      "  1.49748744  1.51758794  1.53768844  1.55778894  1.57788945  1.59798995\n",
      "  1.61809045  1.63819095  1.65829146  1.67839196  1.69849246  1.71859296\n",
      "  1.73869347  1.75879397  1.77889447  1.79899497  1.81909548  1.83919598\n",
      "  1.85929648  1.87939698  1.89949749  1.91959799  1.93969849  1.95979899\n",
      "  1.9798995   2.        ]\n"
     ]
    }
   ],
   "source": [
    "xrange = np.linspace(-2, 2, 200)\n",
    "print(xrange)"
   ]
  },
  {
   "cell_type": "code",
   "execution_count": 8,
   "metadata": {},
   "outputs": [
    {
     "data": {
      "image/png": "[encoded data removed]",
      "text/plain": [
       "<Figure size 504x432 with 1 Axes>"
      ]
     },
     "metadata": {
      "needs_background": "light"
     },
     "output_type": "display_data"
    }
   ],
   "source": [
    "plt.figure(figsize=(7,6))\n",
    "\n",
    "# three commonly used activation functions, relu, tanh, and logistic\n",
    "plt.plot(xrange, np.maximum(xrange,0),label='relu')\n",
    "plt.plot(xrange, np.tanh(xrange),label='tanh')\n",
    "plt.plot(xrange, 1/(1+np.exp(-xrange)), label='logistic')\n",
    "\n",
    "plt.legend()\n",
    "plt.title('Neural network activation functions')\n",
    "plt.xlabel('Input value (x)')\n",
    "plt.ylabel('Activation function output')\n",
    "\n",
    "plt.show()"
   ]
  },
  {
   "cell_type": "markdown",
   "metadata": {},
   "source": [
    "### Utility functions"
   ]
  },
  {
   "cell_type": "code",
   "execution_count": 9,
   "metadata": {},
   "outputs": [],
   "source": [
    "def plot_class_regions_for_classifier_subplot(clf, X, y, X_test, y_test, title, subplot, target_names = None, plot_decision_regions = True):\n",
    "###\n",
    "  #  numClasses = int(np.amax(y)) + 1\n",
    "    \n",
    "  #  print(numClasses)\n",
    "  #  color_list_light = ['#FFFFAA', '#EFEFEF', '#AAFFAA', '#AAAAFF']\n",
    "  #  color_list_bold = ['#EEEE00', '#000000', '#00CC00', '#0000CC']\n",
    "  #  cmap_light = ListedColormap(color_list_light[0:numClasses])\n",
    "   # cmap_bold  = ListedColormap(color_list_bold[0:numClasses])\n",
    "###\n",
    "    h = 0.03\n",
    "    k = 0.5\n",
    "    x_plot_adjust = 0.1\n",
    "    y_plot_adjust = 0.1\n",
    "    plot_symbol_size = 50\n",
    "\n",
    "    x_min = X[:, 0].min()\n",
    "    x_max = X[:, 0].max()\n",
    "    y_min = X[:, 1].min()\n",
    "    y_max = X[:, 1].max()\n",
    "    x2, y2 = np.meshgrid(np.arange(x_min-k, x_max+k, h), np.arange(y_min-k, y_max+k, h))\n",
    "\n",
    "    P = clf.predict(np.c_[x2.ravel(), y2.ravel()])\n",
    "    P = P.reshape(x2.shape)\n",
    "\n",
    "    if plot_decision_regions:\n",
    "        subplot.contourf(x2, y2, P, cmap=cmap_light, alpha = 0.8)\n",
    "\n",
    "    subplot.scatter(X[:, 0], X[:, 1], c=y, cmap=cmap_bold, s=plot_symbol_size, edgecolor = 'black')\n",
    "    subplot.set_xlim(x_min - x_plot_adjust, x_max + x_plot_adjust)\n",
    "    subplot.set_ylim(y_min - y_plot_adjust, y_max + y_plot_adjust)\n",
    "\n",
    "    if (X_test is not None):\n",
    "        subplot.scatter(X_test[:, 0], X_test[:, 1], c=y_test, cmap=cmap_bold, s=plot_symbol_size, marker='^', edgecolor = 'black')\n",
    "        train_score = clf.score(X, y)\n",
    "        test_score  = clf.score(X_test, y_test)\n",
    "        title = title + \"\\nTrain score = {:.2f}, Test score = {:.2f}\".format(train_score, test_score)\n",
    "\n",
    "    subplot.set_title(title)\n",
    "\n",
    "    if (target_names is not None):\n",
    "        legend_handles = []\n",
    "        for i in range(0, len(target_names)):\n",
    "            patch = mpatches.Patch(color=color_list_bold[i], label=target_names[i])\n",
    "            legend_handles.append(patch)\n",
    "        subplot.legend(loc=0, handles=legend_handles)\n"
   ]
  },
  {
   "cell_type": "code",
   "execution_count": 10,
   "metadata": {},
   "outputs": [],
   "source": [
    "def plot_class_regions_for_classifier(clf, X, y, X_test=None, y_test=None, title=None, target_names = None, plot_decision_regions = True):\n",
    "\n",
    "    #numClasses = np.amax(y) + 1\n",
    "  #  color_list_light = ['#FFFFAA', '#EFEFEF', '#AAFFAA', '#AAAAFF']\n",
    " #   color_list_bold = ['#EEEE00', '#000000', '#00CC00', '#0000CC']\n",
    "  #  cmap_light = ListedColormap(color_list_light[0:numClasses])\n",
    "  #  cmap_bold  = ListedColormap(color_list_bold[0:numClasses])\n",
    "\n",
    "    h = 0.03\n",
    "    k = 0.5\n",
    "    x_plot_adjust = 0.1\n",
    "    y_plot_adjust = 0.1\n",
    "    plot_symbol_size = 50\n",
    "\n",
    "    x_min = X[:, 0].min()\n",
    "    x_max = X[:, 0].max()\n",
    "    y_min = y[:, 1].min()\n",
    "    y_max = y[:, 1].max()\n",
    "    x2, y2 = np.meshgrid(np.arange(x_min-k, x_max+k, h), np.arange(y_min-k, y_max+k, h))\n",
    "\n",
    "    P = clf.predict(np.c_[x2.ravel(), y2.ravel()])\n",
    "    P = P.reshape(x2.shape)\n",
    "    plt.figure()\n",
    "    if plot_decision_regions:\n",
    "        plt.contourf(x2, y2, P, cmap=cmap_light, alpha = 0.8)\n",
    "\n",
    "    plt.scatter(X[:, 0], X[:, 1], c=y, cmap=cmap_bold, s=plot_symbol_size, edgecolor = 'black')\n",
    "    plt.xlim(x_min - x_plot_adjust, x_max + x_plot_adjust)\n",
    "    plt.ylim(y_min - y_plot_adjust, y_max + y_plot_adjust)\n",
    "\n",
    "    if (X_test is not None):\n",
    "        plt.scatter(X_test[:, 0], X_test[:, 1], c=y_test, cmap=cmap_bold, s=plot_symbol_size, marker='^', edgecolor = 'black')\n",
    "        train_score = clf.score(X, y)\n",
    "        test_score  = clf.score(X_test, y_test)\n",
    "        title = title + \"\\nTrain score = {:.2f}, Test score = {:.2f}\".format(train_score, test_score)\n",
    "\n",
    "    if (target_names is not None):\n",
    "        legend_handles = []\n",
    "        for i in range(0, len(target_names)):\n",
    "            patch = mpatches.Patch(color=color_list_bold[i], label=target_names[i])\n",
    "            legend_handles.append(patch)\n",
    "        plt.legend(loc=0, handles=legend_handles)\n",
    "\n",
    "    if (title is not None):\n",
    "        plt.title(title)\n",
    "    plt.show()\n",
    "    "
   ]
  },
  {
   "cell_type": "code",
   "execution_count": 11,
   "metadata": {},
   "outputs": [],
   "source": [
    "def get_KFold_report(X, y):\n",
    "    X = X.to_numpy()\n",
    "    y = y.to_numpy()\n",
    "    kf = KFold(n_splits=10, random_state=None, shuffle=True) # Define the split - into 2 folds \n",
    "    tree_clf = DecisionTreeClassifier(max_depth=2, random_state=42)\n",
    "    n=1\n",
    "    for train_index, test_index in kf.split(X):\n",
    "        print(\"=========================Kfold\" , n , \"=======================\")\n",
    "        #print(\"TRAIN:\", train_index, \"TEST:\", test_index)\n",
    "        X_train, X_test = X[train_index], X[test_index]\n",
    "        y_train, y_test = y[train_index], y[test_index]\n",
    "\n",
    "        tree_clf.fit(X_train, y_train)\n",
    "\n",
    "        y_pred = tree_clf.predict(X_test)\n",
    "\n",
    "        # Print classification report\n",
    "        target_names = TARGET_NAMES\n",
    "        print(classification_report(y_test, y_pred, target_names=target_names))\n",
    "        n = n+1"
   ]
  },
  {
   "cell_type": "markdown",
   "metadata": {},
   "source": [
    "### Neural networks: Classification"
   ]
  },
  {
   "cell_type": "markdown",
   "metadata": {},
   "source": [
    "### Quick view of data"
   ]
  },
  {
   "cell_type": "code",
   "execution_count": 12,
   "metadata": {},
   "outputs": [
    {
     "data": {
      "text/html": [
       "<div>\n",
       "<style scoped>\n",
       "    .dataframe tbody tr th:only-of-type {\n",
       "        vertical-align: middle;\n",
       "    }\n",
       "\n",
       "    .dataframe tbody tr th {\n",
       "        vertical-align: top;\n",
       "    }\n",
       "\n",
       "    .dataframe thead th {\n",
       "        text-align: right;\n",
       "    }\n",
       "</style>\n",
       "<table border=\"1\" class=\"dataframe\">\n",
       "  <thead>\n",
       "    <tr style=\"text-align: right;\">\n",
       "      <th></th>\n",
       "      <th>Airport.Code</th>\n",
       "      <th>Airport.Name</th>\n",
       "      <th>Time.Label</th>\n",
       "      <th>Time.Month</th>\n",
       "      <th>Time.Month Name</th>\n",
       "      <th>Time.Year</th>\n",
       "      <th># of Delays.Carrier</th>\n",
       "      <th># of Delays.Late Aircraft</th>\n",
       "      <th># of Delays.National Aviation System</th>\n",
       "      <th># of Delays.Security</th>\n",
       "      <th>...</th>\n",
       "      <th>Flights.Total</th>\n",
       "      <th>Minutes Delayed.Carrier</th>\n",
       "      <th>Minutes Delayed.Late Aircraft</th>\n",
       "      <th>Minutes Delayed.National Aviation System</th>\n",
       "      <th>Minutes Delayed.Security</th>\n",
       "      <th>Minutes Delayed.Total</th>\n",
       "      <th>Minutes Delayed.Weather</th>\n",
       "      <th>Time.Month.level</th>\n",
       "      <th>Rate</th>\n",
       "      <th>Ratio_Rank</th>\n",
       "    </tr>\n",
       "  </thead>\n",
       "  <tbody>\n",
       "    <tr>\n",
       "      <th>0</th>\n",
       "      <td>ATL</td>\n",
       "      <td>Atlanta, GA: Hartsfield-Jackson Atlanta Intern...</td>\n",
       "      <td>2003/06</td>\n",
       "      <td>6</td>\n",
       "      <td>June</td>\n",
       "      <td>2003</td>\n",
       "      <td>0.301513</td>\n",
       "      <td>0.270412</td>\n",
       "      <td>0.350472</td>\n",
       "      <td>0.189474</td>\n",
       "      <td>...</td>\n",
       "      <td>0.770892</td>\n",
       "      <td>0.258823</td>\n",
       "      <td>0.185741</td>\n",
       "      <td>0.194317</td>\n",
       "      <td>0.104668</td>\n",
       "      <td>0.260628</td>\n",
       "      <td>0.253219</td>\n",
       "      <td>3.0</td>\n",
       "      <td>0.797538</td>\n",
       "      <td>2.0</td>\n",
       "    </tr>\n",
       "    <tr>\n",
       "      <th>1</th>\n",
       "      <td>BOS</td>\n",
       "      <td>Boston, MA: Logan International</td>\n",
       "      <td>2003/06</td>\n",
       "      <td>6</td>\n",
       "      <td>June</td>\n",
       "      <td>2003</td>\n",
       "      <td>0.088067</td>\n",
       "      <td>0.093018</td>\n",
       "      <td>0.069295</td>\n",
       "      <td>0.042105</td>\n",
       "      <td>...</td>\n",
       "      <td>0.199003</td>\n",
       "      <td>0.066594</td>\n",
       "      <td>0.067780</td>\n",
       "      <td>0.037010</td>\n",
       "      <td>0.020004</td>\n",
       "      <td>0.064041</td>\n",
       "      <td>0.053621</td>\n",
       "      <td>3.0</td>\n",
       "      <td>0.816993</td>\n",
       "      <td>1.0</td>\n",
       "    </tr>\n",
       "  </tbody>\n",
       "</table>\n",
       "<p>2 rows × 27 columns</p>\n",
       "</div>"
      ],
      "text/plain": [
       "  Airport.Code                                       Airport.Name Time.Label  \\\n",
       "0          ATL  Atlanta, GA: Hartsfield-Jackson Atlanta Intern...    2003/06   \n",
       "1          BOS                    Boston, MA: Logan International    2003/06   \n",
       "\n",
       "   Time.Month Time.Month Name  Time.Year  # of Delays.Carrier  \\\n",
       "0           6            June       2003             0.301513   \n",
       "1           6            June       2003             0.088067   \n",
       "\n",
       "   # of Delays.Late Aircraft  # of Delays.National Aviation System  \\\n",
       "0                   0.270412                              0.350472   \n",
       "1                   0.093018                              0.069295   \n",
       "\n",
       "   # of Delays.Security  ...  Flights.Total Minutes Delayed.Carrier  \\\n",
       "0              0.189474  ...       0.770892                0.258823   \n",
       "1              0.042105  ...       0.199003                0.066594   \n",
       "\n",
       "   Minutes Delayed.Late Aircraft  Minutes Delayed.National Aviation System  \\\n",
       "0                       0.185741                                  0.194317   \n",
       "1                       0.067780                                  0.037010   \n",
       "\n",
       "   Minutes Delayed.Security  Minutes Delayed.Total  Minutes Delayed.Weather  \\\n",
       "0                  0.104668               0.260628                 0.253219   \n",
       "1                  0.020004               0.064041                 0.053621   \n",
       "\n",
       "   Time.Month.level      Rate  Ratio_Rank  \n",
       "0               3.0  0.797538         2.0  \n",
       "1               3.0  0.816993         1.0  \n",
       "\n",
       "[2 rows x 27 columns]"
      ]
     },
     "execution_count": 12,
     "metadata": {},
     "output_type": "execute_result"
    }
   ],
   "source": [
    "df = pd.read_csv('../processeddata/new_airlines_Normalized.csv')\n",
    "df.head(2)"
   ]
  },
  {
   "cell_type": "code",
   "execution_count": 13,
   "metadata": {},
   "outputs": [
    {
     "data": {
      "text/plain": [
       "Index(['Airport.Code', 'Airport.Name', 'Time.Label', 'Time.Month',\n",
       "       'Time.Month Name', 'Time.Year', '# of Delays.Carrier',\n",
       "       '# of Delays.Late Aircraft', '# of Delays.National Aviation System',\n",
       "       '# of Delays.Security', '# of Delays.Weather',\n",
       "       'Statistics.Carriers.Names', 'Carriers.Total', 'Flights.Cancelled',\n",
       "       'Flights.Delayed', 'Flights.Diverted', 'Flights.On Time',\n",
       "       'Flights.Total', 'Minutes Delayed.Carrier',\n",
       "       'Minutes Delayed.Late Aircraft',\n",
       "       'Minutes Delayed.National Aviation System', 'Minutes Delayed.Security',\n",
       "       'Minutes Delayed.Total', 'Minutes Delayed.Weather', 'Time.Month.level',\n",
       "       'Rate', 'Ratio_Rank'],\n",
       "      dtype='object')"
      ]
     },
     "execution_count": 13,
     "metadata": {},
     "output_type": "execute_result"
    }
   ],
   "source": [
    "df.columns"
   ]
  },
  {
   "cell_type": "code",
   "execution_count": 14,
   "metadata": {},
   "outputs": [
    {
     "data": {
      "text/plain": [
       "(4408, 27)"
      ]
     },
     "execution_count": 14,
     "metadata": {},
     "output_type": "execute_result"
    }
   ],
   "source": [
    "df.shape"
   ]
  },
  {
   "cell_type": "code",
   "execution_count": 15,
   "metadata": {},
   "outputs": [],
   "source": [
    "color_list_light = ['#FFFFAA', '#EFEFEF', '#AAFFAA', '#AAAAFF']\n",
    "color_list_bold = ['#EEEE00', '#000000', '#00CC00', '#0000CC']\n",
    "cmap_light = ListedColormap(color_list_light[0:2])\n",
    "cmap_bold  = ListedColormap(color_list_bold[0:2])\n"
   ]
  },
  {
   "cell_type": "code",
   "execution_count": 16,
   "metadata": {},
   "outputs": [],
   "source": [
    "col = ['# of Delays.Carrier','Time.Month',\n",
    "       '# of Delays.Late Aircraft', '# of Delays.National Aviation System',\n",
    "       '# of Delays.Security', '# of Delays.Weather',\n",
    "       'Flights.Cancelled',\n",
    "       'Flights.Delayed', 'Flights.Diverted', 'Flights.On Time',\n",
    "       'Flights.Total', 'Minutes Delayed.Carrier',\n",
    "       'Minutes Delayed.Late Aircraft',\n",
    "       'Minutes Delayed.National Aviation System', 'Minutes Delayed.Security',\n",
    "       'Minutes Delayed.Total', 'Minutes Delayed.Weather']"
   ]
  },
  {
   "cell_type": "code",
   "execution_count": 17,
   "metadata": {},
   "outputs": [],
   "source": [
    "dataset = df[col].values"
   ]
  },
  {
   "cell_type": "code",
   "execution_count": 18,
   "metadata": {},
   "outputs": [],
   "source": [
    "X0 = df[col]\n",
    "y0 = df[\"Rate\"]\n",
    "\n",
    "y0 = y0.values.reshape(X0.shape[0], 1)"
   ]
  },
  {
   "cell_type": "code",
   "execution_count": 19,
   "metadata": {},
   "outputs": [
    {
     "data": {
      "text/plain": [
       "4408"
      ]
     },
     "execution_count": 19,
     "metadata": {},
     "output_type": "execute_result"
    }
   ],
   "source": [
    "X0.shape[0]"
   ]
  },
  {
   "cell_type": "code",
   "execution_count": 20,
   "metadata": {},
   "outputs": [
    {
     "data": {
      "text/plain": [
       "array([[0.79753826],\n",
       "       [0.81699346],\n",
       "       [0.84445517],\n",
       "       ...,\n",
       "       [0.67484477],\n",
       "       [0.85366134],\n",
       "       [0.79186124]])"
      ]
     },
     "execution_count": 20,
     "metadata": {},
     "output_type": "execute_result"
    }
   ],
   "source": [
    "y0"
   ]
  },
  {
   "cell_type": "code",
   "execution_count": 21,
   "metadata": {},
   "outputs": [],
   "source": [
    "#split data into train and test set\n",
    "X0train, X0test, y0train, y0test = train_test_split(X0, y0, test_size=0.2, random_state=2)"
   ]
  },
  {
   "cell_type": "code",
   "execution_count": 22,
   "metadata": {},
   "outputs": [],
   "source": [
    "from sklearn.preprocessing import StandardScaler"
   ]
  },
  {
   "cell_type": "code",
   "execution_count": 23,
   "metadata": {},
   "outputs": [],
   "source": [
    "#standardize the dataset\n",
    "sc = StandardScaler()\n",
    "sc.fit(X0train)\n",
    "X0train = sc.transform(X0train)\n",
    "X0test = sc.transform(X0test)\n"
   ]
  },
  {
   "cell_type": "code",
   "execution_count": 24,
   "metadata": {},
   "outputs": [
    {
     "name": "stdout",
     "output_type": "stream",
     "text": [
      "Shape of train set is (3526, 17)\n",
      "Shape of test set is (882, 17)\n",
      "Shape of train label is (3526, 1)\n",
      "Shape of test labels is (882, 1)\n"
     ]
    }
   ],
   "source": [
    "print(f\"Shape of train set is {X0train.shape}\")\n",
    "print(f\"Shape of test set is {X0test.shape}\")\n",
    "print(f\"Shape of train label is {y0train.shape}\")\n",
    "print(f\"Shape of test labels is {y0test.shape}\")"
   ]
  },
  {
   "cell_type": "code",
   "execution_count": 25,
   "metadata": {},
   "outputs": [],
   "source": [
    "#mlp = MLPRegressor(hidden_layer_sizes=[13,8,1], solver='lbfgs').fit(X0train, y0train)"
   ]
  },
  {
   "cell_type": "code",
   "execution_count": 26,
   "metadata": {},
   "outputs": [],
   "source": [
    "train_scores_means = []\n",
    "test_scores_means = []\n",
    "train_preds=[]\n",
    "test_preds=[]\n",
    "\n",
    "alpha_sizes = [0, 0.0001, 0.001, 0.01, 0.02, 0.05, 0.075, 0.1,0.2,0.3,0.4, 0.5, 0.6, 0.7,0.8,0.9, 1]\n",
    "\n",
    "for this_alpha in alpha_sizes:\n",
    "    mlp_poly = MLPRegressor(hidden_layer_sizes = [10,20,50,100],alpha=this_alpha, solver='lbfgs',\n",
    "                     random_state = 0).fit(X0train, y0train)\n",
    "    r2_train = mlp_poly.score(X0train, y0train)\n",
    "    r2_test = mlp_poly.score(X0test, y0test)\n",
    "    \n",
    "    y_pred = mlp_poly.predict(X0train)\n",
    "    train_preds.append(y_pred)\n",
    "    train_score_mean = np.sqrt(metrics.mean_squared_error(y0train, y_pred))\n",
    "    train_scores_means.append(train_score_mean)\n",
    "\n",
    "    # make predictions on the testing set\n",
    "    y_test = mlp_poly.predict(X0test)\n",
    "    test_preds.append(y_test)\n",
    "    test_score_mean = np.sqrt(metrics.mean_squared_error(y0test, y_test))\n",
    "\n",
    "    test_scores_means.append(test_score_mean)"
   ]
  },
  {
   "cell_type": "code",
   "execution_count": 27,
   "metadata": {},
   "outputs": [
    {
     "data": {
      "text/plain": [
       "[array([0.7088504 , 0.72745777, 0.71739737, ..., 0.81096385, 0.84139222,\n",
       "        0.82356196]),\n",
       " array([0.7114631 , 0.72082676, 0.71434382, ..., 0.82507536, 0.84933717,\n",
       "        0.82099469]),\n",
       " array([0.71914311, 0.71989396, 0.73794277, ..., 0.81579338, 0.8473537 ,\n",
       "        0.82871181]),\n",
       " array([0.71853678, 0.7245186 , 0.72947272, ..., 0.82921913, 0.84460737,\n",
       "        0.82376718]),\n",
       " array([0.71561248, 0.7216131 , 0.7107645 , ..., 0.81948259, 0.84677032,\n",
       "        0.82253401]),\n",
       " array([0.68558207, 0.72629087, 0.74104956, ..., 0.80651777, 0.85419598,\n",
       "        0.8030118 ]),\n",
       " array([0.70796703, 0.72816766, 0.73996221, ..., 0.81996353, 0.85431012,\n",
       "        0.82475811]),\n",
       " array([0.6931836 , 0.71239435, 0.73191406, ..., 0.81000151, 0.85121618,\n",
       "        0.84248935]),\n",
       " array([0.69721357, 0.717228  , 0.76211204, ..., 0.83206138, 0.84410077,\n",
       "        0.82212243]),\n",
       " array([0.67318642, 0.72065283, 0.74887965, ..., 0.81694305, 0.8363549 ,\n",
       "        0.81513936]),\n",
       " array([0.69131942, 0.73464716, 0.74292489, ..., 0.82715993, 0.83676578,\n",
       "        0.82388791]),\n",
       " array([0.69308716, 0.70401739, 0.73350293, ..., 0.81768836, 0.84165657,\n",
       "        0.82258622]),\n",
       " array([0.70754824, 0.71972907, 0.74520114, ..., 0.82692028, 0.83413701,\n",
       "        0.83173589]),\n",
       " array([0.7119946 , 0.72269319, 0.73888858, ..., 0.84550256, 0.83610158,\n",
       "        0.81047683]),\n",
       " array([0.70475041, 0.71678852, 0.73279757, ..., 0.81467696, 0.83659284,\n",
       "        0.814274  ]),\n",
       " array([0.69470402, 0.71658591, 0.74060961, ..., 0.8314065 , 0.83447301,\n",
       "        0.8160881 ]),\n",
       " array([0.68039764, 0.70148476, 0.74263186, ..., 0.83913917, 0.83761069,\n",
       "        0.8111702 ])]"
      ]
     },
     "execution_count": 27,
     "metadata": {},
     "output_type": "execute_result"
    }
   ],
   "source": [
    "train_preds"
   ]
  },
  {
   "cell_type": "code",
   "execution_count": 28,
   "metadata": {},
   "outputs": [
    {
     "data": {
      "image/png": "[encoded data removed]",
      "text/plain": [
       "<Figure size 720x360 with 1 Axes>"
      ]
     },
     "metadata": {
      "needs_background": "light"
     },
     "output_type": "display_data"
    }
   ],
   "source": [
    "# Plot learning curve\n",
    "fig, ax = plt.subplots(1, 1, figsize=(10, 5))\n",
    "\n",
    "ax.set_title('A learning curve for NN_basic Fruit dataset:\\nthe optimla alpha parameter value for regularization')\n",
    "ax.set_xlabel(\"Alpha number\")\n",
    "ax.set_ylabel(\"Score (RMSE)\")\n",
    "ax.grid()\n",
    "\n",
    "ax.plot(alpha_sizes, train_scores_means, 'o-', color=\"b\", label=\"Training score\")\n",
    "ax.plot(alpha_sizes, test_scores_means, 'o-', color=\"r\", label=\"Cross-validation score\")\n",
    "\n",
    "\n",
    "ax.legend(loc=\"best\")\n",
    "\n",
    "plt.show()"
   ]
  },
  {
   "cell_type": "code",
   "execution_count": 36,
   "metadata": {},
   "outputs": [],
   "source": [
    "# Create Neural Net MLP regressor \n",
    "# Explore settings logarithmically (0.1, 0.01, 0.001, 0.00001)\n",
    "alpha_sizes = [0.1, 0.01, 0.001, 0.00001]\n",
    "lossCurve = []\n",
    "for this_alpha in alpha_sizes:\n",
    "    model = MLPRegressor(\n",
    "        # try some layer & node sizes\n",
    "        hidden_layer_sizes=(5,10), \n",
    "        # find a learning rate?\n",
    "        learning_rate_init=.001,\n",
    "        # activation functions (relu, tanh, identity)\n",
    "        activation='relu',\n",
    "        max_iter=2000\n",
    "    );\n",
    "\n",
    "\n",
    "\n",
    "    # Train it (where X_train is your feature matrix & Y_train is a vector with desired target values for each record)\n",
    "    model.fit(X0train,y0train)\n",
    "    lossCurve.append(model.loss_curve_)\n",
    "\n",
    "    "
   ]
  },
  {
   "cell_type": "markdown",
   "metadata": {},
   "source": [
    "## Plot the 'loss_curve_' protery on model to see how well we are learning over the iterations\n",
    "    # Use Pandas built in plot method on DataFrame to creat plot in one line of code\n"
   ]
  },
  {
   "cell_type": "code",
   "execution_count": 31,
   "metadata": {},
   "outputs": [
    {
     "data": {
      "image/png": "[encoded data removed]",
      "text/plain": [
       "<Figure size 1296x576 with 1 Axes>"
      ]
     },
     "metadata": {
      "needs_background": "light"
     },
     "output_type": "display_data"
    }
   ],
   "source": [
    "# Plotting\n",
    "plt.figure(figsize=(18, 8))\n",
    "plt.plot(lossCurve[0], label= r'alpha=0.01' , color=\"darkblue\", alpha=0.6, linewidth=3)\n",
    "plt.plot(lossCurve[1], 'bo-', label=r'alpha=0.01', color=\"darkred\", alpha=0.6, linewidth=3)\n",
    "plt.plot(lossCurve[2], 'bo-', label=r'alpha=0.001', color=\"darkgreen\", alpha=0.6, linewidth=3)\n",
    "plt.plot(lossCurve[3], 'bo-', label=r'alpha=0.00001', color=\"black\", alpha=0.6, linewidth=3)\n",
    "#plt.xlabel('alpha value'); plt.ylabel(r'$R^2$')\n",
    "plt.xlim(0, 8)\n",
    "plt.title(r'Evaluate Neural Network regression for the loss-cure with alpha_size: 0 = 0.1, 1= 0.01, 2 = 0.001, 3=0.00001')\n",
    "plt.legend(loc='best')\n",
    "plt.grid()  "
   ]
  },
  {
   "cell_type": "code",
   "execution_count": 32,
   "metadata": {},
   "outputs": [],
   "source": [
    "from sklearn.metrics import classification_report,confusion_matrix"
   ]
  },
  {
   "cell_type": "code",
   "execution_count": 42,
   "metadata": {},
   "outputs": [],
   "source": [
    "#split data into train and test set\n",
    "X0train, X0test, y0train, y0test = train_test_split(X0, y0, test_size=0.2, random_state=2)"
   ]
  },
  {
   "cell_type": "code",
   "execution_count": 33,
   "metadata": {},
   "outputs": [],
   "source": [
    "mlp = MLPClassifier(hidden_layer_sizes=(13,13,13),max_iter=500)   # 3 hidden layer"
   ]
  },
  {
   "cell_type": "code",
   "execution_count": 50,
   "metadata": {},
   "outputs": [
    {
     "data": {
      "text/plain": [
       "Index(['# of Delays.Carrier', 'Time.Month', '# of Delays.Late Aircraft',\n",
       "       '# of Delays.National Aviation System', '# of Delays.Security',\n",
       "       '# of Delays.Weather', 'Flights.Cancelled', 'Flights.Delayed',\n",
       "       'Flights.Diverted', 'Flights.On Time', 'Flights.Total',\n",
       "       'Minutes Delayed.Carrier', 'Minutes Delayed.Late Aircraft',\n",
       "       'Minutes Delayed.National Aviation System', 'Minutes Delayed.Security',\n",
       "       'Minutes Delayed.Total', 'Minutes Delayed.Weather'],\n",
       "      dtype='object')"
      ]
     },
     "execution_count": 50,
     "metadata": {},
     "output_type": "execute_result"
    }
   ],
   "source": [
    "X0.columns"
   ]
  },
  {
   "cell_type": "code",
   "execution_count": null,
   "metadata": {},
   "outputs": [],
   "source": [
    "classes = ['# of Delays.Carrier', 'Time.Month', '# of Delays.Late Aircraft',\n",
    "       '# of Delays.National Aviation System', '# of Delays.Security',\n",
    "       '# of Delays.Weather', 'Flights.Cancelled', 'Flights.Delayed',\n",
    "       'Flights.Diverted', 'Flights.On Time', 'Flights.Total',\n",
    "       'Minutes Delayed.Carrier', 'Minutes Delayed.Late Aircraft',\n",
    "       'Minutes Delayed.National Aviation System', 'Minutes Delayed.Security',\n",
    "       'Minutes Delayed.Total', 'Minutes Delayed.Weather']"
   ]
  },
  {
   "cell_type": "code",
   "execution_count": 49,
   "metadata": {},
   "outputs": [
    {
     "ename": "TypeError",
     "evalue": "confusion_matrix() missing 1 required positional argument: 'y_pred'",
     "output_type": "error",
     "traceback": [
      "\u001b[1;31m---------------------------------------------------------------------------\u001b[0m",
      "\u001b[1;31mTypeError\u001b[0m                                 Traceback (most recent call last)",
      "\u001b[1;32m<ipython-input-49-9ca4b32b0aa3>\u001b[0m in \u001b[0;36m<module>\u001b[1;34m\u001b[0m\n\u001b[1;32m----> 1\u001b[1;33m \u001b[0mcm\u001b[0m \u001b[1;33m=\u001b[0m\u001b[0mconfusion_matrix\u001b[0m\u001b[1;33m(\u001b[0m\u001b[0mmlp\u001b[0m\u001b[1;33m)\u001b[0m\u001b[1;33m\u001b[0m\u001b[1;33m\u001b[0m\u001b[0m\n\u001b[0m\u001b[0;32m      2\u001b[0m \u001b[1;33m\u001b[0m\u001b[0m\n\u001b[0;32m      3\u001b[0m \u001b[1;31m# Fit fits the passed model. This is unnecessary if you pass the visualizer a pre-fitted model\u001b[0m\u001b[1;33m\u001b[0m\u001b[1;33m\u001b[0m\u001b[1;33m\u001b[0m\u001b[0m\n\u001b[0;32m      4\u001b[0m \u001b[0mcm\u001b[0m\u001b[1;33m.\u001b[0m\u001b[0mfit\u001b[0m\u001b[1;33m(\u001b[0m\u001b[0mX0train\u001b[0m\u001b[1;33m,\u001b[0m \u001b[0my0train\u001b[0m\u001b[1;33m)\u001b[0m\u001b[1;33m\u001b[0m\u001b[1;33m\u001b[0m\u001b[0m\n\u001b[0;32m      5\u001b[0m \u001b[1;33m\u001b[0m\u001b[0m\n",
      "\u001b[1;32m~\\anaconda3\\envs\\CPSC5610\\lib\\site-packages\\sklearn\\utils\\validation.py\u001b[0m in \u001b[0;36minner_f\u001b[1;34m(*args, **kwargs)\u001b[0m\n\u001b[0;32m     61\u001b[0m             \u001b[0mextra_args\u001b[0m \u001b[1;33m=\u001b[0m \u001b[0mlen\u001b[0m\u001b[1;33m(\u001b[0m\u001b[0margs\u001b[0m\u001b[1;33m)\u001b[0m \u001b[1;33m-\u001b[0m \u001b[0mlen\u001b[0m\u001b[1;33m(\u001b[0m\u001b[0mall_args\u001b[0m\u001b[1;33m)\u001b[0m\u001b[1;33m\u001b[0m\u001b[1;33m\u001b[0m\u001b[0m\n\u001b[0;32m     62\u001b[0m             \u001b[1;32mif\u001b[0m \u001b[0mextra_args\u001b[0m \u001b[1;33m<=\u001b[0m \u001b[1;36m0\u001b[0m\u001b[1;33m:\u001b[0m\u001b[1;33m\u001b[0m\u001b[1;33m\u001b[0m\u001b[0m\n\u001b[1;32m---> 63\u001b[1;33m                 \u001b[1;32mreturn\u001b[0m \u001b[0mf\u001b[0m\u001b[1;33m(\u001b[0m\u001b[1;33m*\u001b[0m\u001b[0margs\u001b[0m\u001b[1;33m,\u001b[0m \u001b[1;33m**\u001b[0m\u001b[0mkwargs\u001b[0m\u001b[1;33m)\u001b[0m\u001b[1;33m\u001b[0m\u001b[1;33m\u001b[0m\u001b[0m\n\u001b[0m\u001b[0;32m     64\u001b[0m \u001b[1;33m\u001b[0m\u001b[0m\n\u001b[0;32m     65\u001b[0m             \u001b[1;31m# extra_args > 0\u001b[0m\u001b[1;33m\u001b[0m\u001b[1;33m\u001b[0m\u001b[1;33m\u001b[0m\u001b[0m\n",
      "\u001b[1;31mTypeError\u001b[0m: confusion_matrix() missing 1 required positional argument: 'y_pred'"
     ]
    }
   ],
   "source": [
    "cm =confusion_matrix(mlp, classes = classes, label_encoder = {1:'', 2: '', 3:''})\n",
    "\n",
    "# Fit fits the passed model. This is unnecessary if you pass the visualizer a pre-fitted model\n",
    "cm.fit(X0train, y0train)\n",
    "\n",
    "# To create the ConfusionMatrix, we need some test data. Score runs predict() on the data\n",
    "# and then creates the confusion_matrix from scikit-learn.\n",
    "cm.score(X0test, y0test)\n",
    "\n",
    "# How did we do?\n",
    "cm.show()"
   ]
  },
  {
   "cell_type": "code",
   "execution_count": 47,
   "metadata": {},
   "outputs": [
    {
     "ename": "ValueError",
     "evalue": "Layout of 2x3 must be larger than required size 22",
     "output_type": "error",
     "traceback": [
      "\u001b[1;31m---------------------------------------------------------------------------\u001b[0m",
      "\u001b[1;31mValueError\u001b[0m                                Traceback (most recent call last)",
      "\u001b[1;32m<ipython-input-47-23c04f5f3226>\u001b[0m in \u001b[0;36m<module>\u001b[1;34m\u001b[0m\n\u001b[1;32m----> 1\u001b[1;33m \u001b[0mdf\u001b[0m\u001b[1;33m.\u001b[0m\u001b[0mplot\u001b[0m\u001b[1;33m(\u001b[0m\u001b[0msubplots\u001b[0m\u001b[1;33m=\u001b[0m\u001b[1;32mTrue\u001b[0m\u001b[1;33m,\u001b[0m \u001b[0mlayout\u001b[0m\u001b[1;33m=\u001b[0m\u001b[1;33m(\u001b[0m\u001b[1;36m2\u001b[0m\u001b[1;33m,\u001b[0m \u001b[1;36m3\u001b[0m\u001b[1;33m)\u001b[0m\u001b[1;33m,\u001b[0m \u001b[0mfigsize\u001b[0m\u001b[1;33m=\u001b[0m\u001b[1;33m(\u001b[0m\u001b[1;36m6\u001b[0m\u001b[1;33m,\u001b[0m \u001b[1;36m6\u001b[0m\u001b[1;33m)\u001b[0m\u001b[1;33m,\u001b[0m \u001b[0msharex\u001b[0m\u001b[1;33m=\u001b[0m\u001b[1;32mFalse\u001b[0m\u001b[1;33m)\u001b[0m\u001b[1;33m;\u001b[0m\u001b[1;33m\u001b[0m\u001b[1;33m\u001b[0m\u001b[0m\n\u001b[0m",
      "\u001b[1;32m~\\anaconda3\\envs\\CPSC5610\\lib\\site-packages\\pandas\\plotting\\_core.py\u001b[0m in \u001b[0;36m__call__\u001b[1;34m(self, *args, **kwargs)\u001b[0m\n\u001b[0;32m    947\u001b[0m                     \u001b[0mdata\u001b[0m\u001b[1;33m.\u001b[0m\u001b[0mcolumns\u001b[0m \u001b[1;33m=\u001b[0m \u001b[0mlabel_name\u001b[0m\u001b[1;33m\u001b[0m\u001b[1;33m\u001b[0m\u001b[0m\n\u001b[0;32m    948\u001b[0m \u001b[1;33m\u001b[0m\u001b[0m\n\u001b[1;32m--> 949\u001b[1;33m         \u001b[1;32mreturn\u001b[0m \u001b[0mplot_backend\u001b[0m\u001b[1;33m.\u001b[0m\u001b[0mplot\u001b[0m\u001b[1;33m(\u001b[0m\u001b[0mdata\u001b[0m\u001b[1;33m,\u001b[0m \u001b[0mkind\u001b[0m\u001b[1;33m=\u001b[0m\u001b[0mkind\u001b[0m\u001b[1;33m,\u001b[0m \u001b[1;33m**\u001b[0m\u001b[0mkwargs\u001b[0m\u001b[1;33m)\u001b[0m\u001b[1;33m\u001b[0m\u001b[1;33m\u001b[0m\u001b[0m\n\u001b[0m\u001b[0;32m    950\u001b[0m \u001b[1;33m\u001b[0m\u001b[0m\n\u001b[0;32m    951\u001b[0m     \u001b[0m__call__\u001b[0m\u001b[1;33m.\u001b[0m\u001b[0m__doc__\u001b[0m \u001b[1;33m=\u001b[0m \u001b[0m__doc__\u001b[0m\u001b[1;33m\u001b[0m\u001b[1;33m\u001b[0m\u001b[0m\n",
      "\u001b[1;32m~\\anaconda3\\envs\\CPSC5610\\lib\\site-packages\\pandas\\plotting\\_matplotlib\\__init__.py\u001b[0m in \u001b[0;36mplot\u001b[1;34m(data, kind, **kwargs)\u001b[0m\n\u001b[0;32m     59\u001b[0m             \u001b[0mkwargs\u001b[0m\u001b[1;33m[\u001b[0m\u001b[1;34m\"ax\"\u001b[0m\u001b[1;33m]\u001b[0m \u001b[1;33m=\u001b[0m \u001b[0mgetattr\u001b[0m\u001b[1;33m(\u001b[0m\u001b[0max\u001b[0m\u001b[1;33m,\u001b[0m \u001b[1;34m\"left_ax\"\u001b[0m\u001b[1;33m,\u001b[0m \u001b[0max\u001b[0m\u001b[1;33m)\u001b[0m\u001b[1;33m\u001b[0m\u001b[1;33m\u001b[0m\u001b[0m\n\u001b[0;32m     60\u001b[0m     \u001b[0mplot_obj\u001b[0m \u001b[1;33m=\u001b[0m \u001b[0mPLOT_CLASSES\u001b[0m\u001b[1;33m[\u001b[0m\u001b[0mkind\u001b[0m\u001b[1;33m]\u001b[0m\u001b[1;33m(\u001b[0m\u001b[0mdata\u001b[0m\u001b[1;33m,\u001b[0m \u001b[1;33m**\u001b[0m\u001b[0mkwargs\u001b[0m\u001b[1;33m)\u001b[0m\u001b[1;33m\u001b[0m\u001b[1;33m\u001b[0m\u001b[0m\n\u001b[1;32m---> 61\u001b[1;33m     \u001b[0mplot_obj\u001b[0m\u001b[1;33m.\u001b[0m\u001b[0mgenerate\u001b[0m\u001b[1;33m(\u001b[0m\u001b[1;33m)\u001b[0m\u001b[1;33m\u001b[0m\u001b[1;33m\u001b[0m\u001b[0m\n\u001b[0m\u001b[0;32m     62\u001b[0m     \u001b[0mplot_obj\u001b[0m\u001b[1;33m.\u001b[0m\u001b[0mdraw\u001b[0m\u001b[1;33m(\u001b[0m\u001b[1;33m)\u001b[0m\u001b[1;33m\u001b[0m\u001b[1;33m\u001b[0m\u001b[0m\n\u001b[0;32m     63\u001b[0m     \u001b[1;32mreturn\u001b[0m \u001b[0mplot_obj\u001b[0m\u001b[1;33m.\u001b[0m\u001b[0mresult\u001b[0m\u001b[1;33m\u001b[0m\u001b[1;33m\u001b[0m\u001b[0m\n",
      "\u001b[1;32m~\\anaconda3\\envs\\CPSC5610\\lib\\site-packages\\pandas\\plotting\\_matplotlib\\core.py\u001b[0m in \u001b[0;36mgenerate\u001b[1;34m(self)\u001b[0m\n\u001b[0;32m    268\u001b[0m         \u001b[0mself\u001b[0m\u001b[1;33m.\u001b[0m\u001b[0m_args_adjust\u001b[0m\u001b[1;33m(\u001b[0m\u001b[1;33m)\u001b[0m\u001b[1;33m\u001b[0m\u001b[1;33m\u001b[0m\u001b[0m\n\u001b[0;32m    269\u001b[0m         \u001b[0mself\u001b[0m\u001b[1;33m.\u001b[0m\u001b[0m_compute_plot_data\u001b[0m\u001b[1;33m(\u001b[0m\u001b[1;33m)\u001b[0m\u001b[1;33m\u001b[0m\u001b[1;33m\u001b[0m\u001b[0m\n\u001b[1;32m--> 270\u001b[1;33m         \u001b[0mself\u001b[0m\u001b[1;33m.\u001b[0m\u001b[0m_setup_subplots\u001b[0m\u001b[1;33m(\u001b[0m\u001b[1;33m)\u001b[0m\u001b[1;33m\u001b[0m\u001b[1;33m\u001b[0m\u001b[0m\n\u001b[0m\u001b[0;32m    271\u001b[0m         \u001b[0mself\u001b[0m\u001b[1;33m.\u001b[0m\u001b[0m_make_plot\u001b[0m\u001b[1;33m(\u001b[0m\u001b[1;33m)\u001b[0m\u001b[1;33m\u001b[0m\u001b[1;33m\u001b[0m\u001b[0m\n\u001b[0;32m    272\u001b[0m         \u001b[0mself\u001b[0m\u001b[1;33m.\u001b[0m\u001b[0m_add_table\u001b[0m\u001b[1;33m(\u001b[0m\u001b[1;33m)\u001b[0m\u001b[1;33m\u001b[0m\u001b[1;33m\u001b[0m\u001b[0m\n",
      "\u001b[1;32m~\\anaconda3\\envs\\CPSC5610\\lib\\site-packages\\pandas\\plotting\\_matplotlib\\core.py\u001b[0m in \u001b[0;36m_setup_subplots\u001b[1;34m(self)\u001b[0m\n\u001b[0;32m    322\u001b[0m                 \u001b[0max\u001b[0m\u001b[1;33m=\u001b[0m\u001b[0mself\u001b[0m\u001b[1;33m.\u001b[0m\u001b[0max\u001b[0m\u001b[1;33m,\u001b[0m\u001b[1;33m\u001b[0m\u001b[1;33m\u001b[0m\u001b[0m\n\u001b[0;32m    323\u001b[0m                 \u001b[0mlayout\u001b[0m\u001b[1;33m=\u001b[0m\u001b[0mself\u001b[0m\u001b[1;33m.\u001b[0m\u001b[0mlayout\u001b[0m\u001b[1;33m,\u001b[0m\u001b[1;33m\u001b[0m\u001b[1;33m\u001b[0m\u001b[0m\n\u001b[1;32m--> 324\u001b[1;33m                 \u001b[0mlayout_type\u001b[0m\u001b[1;33m=\u001b[0m\u001b[0mself\u001b[0m\u001b[1;33m.\u001b[0m\u001b[0m_layout_type\u001b[0m\u001b[1;33m,\u001b[0m\u001b[1;33m\u001b[0m\u001b[1;33m\u001b[0m\u001b[0m\n\u001b[0m\u001b[0;32m    325\u001b[0m             )\n\u001b[0;32m    326\u001b[0m         \u001b[1;32melse\u001b[0m\u001b[1;33m:\u001b[0m\u001b[1;33m\u001b[0m\u001b[1;33m\u001b[0m\u001b[0m\n",
      "\u001b[1;32m~\\anaconda3\\envs\\CPSC5610\\lib\\site-packages\\pandas\\plotting\\_matplotlib\\tools.py\u001b[0m in \u001b[0;36m_subplots\u001b[1;34m(naxes, sharex, sharey, squeeze, subplot_kw, ax, layout, layout_type, **fig_kw)\u001b[0m\n\u001b[0;32m    223\u001b[0m             \u001b[0mfig\u001b[0m\u001b[1;33m.\u001b[0m\u001b[0mclear\u001b[0m\u001b[1;33m(\u001b[0m\u001b[1;33m)\u001b[0m\u001b[1;33m\u001b[0m\u001b[1;33m\u001b[0m\u001b[0m\n\u001b[0;32m    224\u001b[0m \u001b[1;33m\u001b[0m\u001b[0m\n\u001b[1;32m--> 225\u001b[1;33m     \u001b[0mnrows\u001b[0m\u001b[1;33m,\u001b[0m \u001b[0mncols\u001b[0m \u001b[1;33m=\u001b[0m \u001b[0m_get_layout\u001b[0m\u001b[1;33m(\u001b[0m\u001b[0mnaxes\u001b[0m\u001b[1;33m,\u001b[0m \u001b[0mlayout\u001b[0m\u001b[1;33m=\u001b[0m\u001b[0mlayout\u001b[0m\u001b[1;33m,\u001b[0m \u001b[0mlayout_type\u001b[0m\u001b[1;33m=\u001b[0m\u001b[0mlayout_type\u001b[0m\u001b[1;33m)\u001b[0m\u001b[1;33m\u001b[0m\u001b[1;33m\u001b[0m\u001b[0m\n\u001b[0m\u001b[0;32m    226\u001b[0m     \u001b[0mnplots\u001b[0m \u001b[1;33m=\u001b[0m \u001b[0mnrows\u001b[0m \u001b[1;33m*\u001b[0m \u001b[0mncols\u001b[0m\u001b[1;33m\u001b[0m\u001b[1;33m\u001b[0m\u001b[0m\n\u001b[0;32m    227\u001b[0m \u001b[1;33m\u001b[0m\u001b[0m\n",
      "\u001b[1;32m~\\anaconda3\\envs\\CPSC5610\\lib\\site-packages\\pandas\\plotting\\_matplotlib\\tools.py\u001b[0m in \u001b[0;36m_get_layout\u001b[1;34m(nplots, layout, layout_type)\u001b[0m\n\u001b[0;32m     63\u001b[0m         \u001b[1;32mif\u001b[0m \u001b[0mnrows\u001b[0m \u001b[1;33m*\u001b[0m \u001b[0mncols\u001b[0m \u001b[1;33m<\u001b[0m \u001b[0mnplots\u001b[0m\u001b[1;33m:\u001b[0m\u001b[1;33m\u001b[0m\u001b[1;33m\u001b[0m\u001b[0m\n\u001b[0;32m     64\u001b[0m             raise ValueError(\n\u001b[1;32m---> 65\u001b[1;33m                 \u001b[1;34mf\"Layout of {nrows}x{ncols} must be larger than required size {nplots}\"\u001b[0m\u001b[1;33m\u001b[0m\u001b[1;33m\u001b[0m\u001b[0m\n\u001b[0m\u001b[0;32m     66\u001b[0m             )\n\u001b[0;32m     67\u001b[0m \u001b[1;33m\u001b[0m\u001b[0m\n",
      "\u001b[1;31mValueError\u001b[0m: Layout of 2x3 must be larger than required size 22"
     ]
    },
    {
     "data": {
      "text/plain": [
       "<Figure size 432x432 with 0 Axes>"
      ]
     },
     "metadata": {},
     "output_type": "display_data"
    }
   ],
   "source": [
    "df.plot(subplots=True, layout=(2, 3), figsize=(6, 6), sharex=False);"
   ]
  },
  {
   "cell_type": "markdown",
   "metadata": {},
   "source": [
    "# Attribute by using # of Delays.Weather & Flights Delayed."
   ]
  },
  {
   "cell_type": "code",
   "execution_count": null,
   "metadata": {},
   "outputs": [],
   "source": [
    "X = dataset[:,5:7]\n",
    "print(type(X))"
   ]
  },
  {
   "cell_type": "code",
   "execution_count": null,
   "metadata": {},
   "outputs": [],
   "source": [
    "print(X)"
   ]
  },
  {
   "cell_type": "code",
   "execution_count": null,
   "metadata": {},
   "outputs": [],
   "source": [
    "type(X)"
   ]
  },
  {
   "cell_type": "code",
   "execution_count": null,
   "metadata": {},
   "outputs": [],
   "source": [
    "y = df[\"Rate\"].values\n",
    "type(y)\n"
   ]
  },
  {
   "cell_type": "code",
   "execution_count": null,
   "metadata": {},
   "outputs": [],
   "source": [
    "int(np.amax(y))"
   ]
  },
  {
   "cell_type": "code",
   "execution_count": null,
   "metadata": {},
   "outputs": [],
   "source": [
    "\n",
    "print(type(X))\n",
    "\n",
    "print(type(y))"
   ]
  },
  {
   "cell_type": "code",
   "execution_count": null,
   "metadata": {},
   "outputs": [],
   "source": [
    "plt.figure()\n",
    "plt.title('Sample binary classification problem with non-linearly separable classes')\n",
    "plt.scatter( X[:,0], X[:,1],c=y,\n",
    "           marker= 'o', s=50, cmap=cmap_bold)\n",
    "plt.show()"
   ]
  },
  {
   "cell_type": "markdown",
   "metadata": {},
   "source": [
    "## Apply neural network with 2 hidden layers with varying number of units (10, 20, 50, 100). \n",
    "\n",
    "  * MLPRegressor"
   ]
  },
  {
   "cell_type": "code",
   "execution_count": null,
   "metadata": {},
   "outputs": [],
   "source": [
    "X_train, X_test, y_train, y_test = train_test_split(X, y, random_state=42, test_size=0.33)"
   ]
  },
  {
   "cell_type": "code",
   "execution_count": null,
   "metadata": {},
   "outputs": [],
   "source": [
    "from sklearn.neural_network import MLPRegressor\n",
    "mlp = MLPRegressor(hidden_layer_sizes=[50,50], solver='lbfgs').fit(X_train, y_train)"
   ]
  },
  {
   "cell_type": "code",
   "execution_count": null,
   "metadata": {},
   "outputs": [],
   "source": [
    "from sklearn.neural_network import MLPClassifier\n",
    "\n",
    "fig, subaxes = plt.subplots(3, 1, figsize=(6,18))\n",
    "\n",
    "# split the data\n",
    "X_train, X_test, y_train, y_test = train_test_split(X, y, random_state=0)\n",
    "\n",
    "for units, axis in zip([1, 100, 400, 600], subaxes):\n",
    "    # model training with one hidden layer\n",
    "    nnclf =MLPRegressor(hidden_layer_sizes = [units], solver = 'lbfgs', random_state=0).fit(X_train, y_train)  \n",
    "    \n",
    "    title = 'Dataset 1: Neural net classifier, 1 layer, {} units'.format(units)\n",
    "    \n",
    "    plot_class_regions_for_classifier_subplot(nnclf, X_train, y_train,\n",
    "                                             X_test, y_test, title, axis)\n",
    "    plt.tight_layout()"
   ]
  },
  {
   "cell_type": "code",
   "execution_count": null,
   "metadata": {},
   "outputs": [],
   "source": [
    "plot_class_regions_for_classifier(mlp, X_train, y_train, X_test, y_test,\n",
    "                                 'Dataset 1: Neural net classifier, 2 layers, 10/10 units')"
   ]
  },
  {
   "cell_type": "markdown",
   "metadata": {},
   "source": [
    "### Apply neural network with 2 hidden layers with varying number of units (10, 20, 50, 100)."
   ]
  },
  {
   "cell_type": "code",
   "execution_count": null,
   "metadata": {},
   "outputs": [],
   "source": [
    "X_train, X_test, y_train, y_test = train_test_split(X, y, random_state=0)\n",
    "\n",
    "# model training with two hidden layers\n",
    "nnclf = MLPRegressor(hidden_layer_sizes = [10,20,50,100], solver='lbfgs',\n",
    "                     random_state = 0).fit(X_train, y_train)\n"
   ]
  },
  {
   "cell_type": "markdown",
   "metadata": {},
   "source": [
    "### find out the optimla alpha parameter value for regularization."
   ]
  },
  {
   "cell_type": "code",
   "execution_count": null,
   "metadata": {},
   "outputs": [],
   "source": [
    "fig, subaxes = plt.subplots(4, 1, figsize=(6, 23))\n",
    "\n",
    "for this_alpha, axis in zip([0.01, 0.1, 1.0, 5.0], subaxes):\n",
    "    # training the data\n",
    "    nnclf = MLPRegressor(solver='lbfgs', activation = 'tanh',\n",
    "                         alpha = this_alpha,\n",
    "                         hidden_layer_sizes = [100, 100],\n",
    "                         random_state = 0).fit(X_train, y_train) \n",
    "    \n",
    "    title = 'Dataset 2: NN classifier, alpha = {:.3f} '.format(this_alpha)\n",
    "    \n",
    "    plot_class_regions_for_classifier_subplot(nnclf, X_train, y_train,\n",
    "                                             X_test, y_test, title, axis)\n",
    "    plt.tight_layout()\n",
    "    save_fig('NN_Fruit_regularization_alpha_{:.3f}'.format(this_alpha))"
   ]
  },
  {
   "cell_type": "code",
   "execution_count": null,
   "metadata": {},
   "outputs": [],
   "source": [
    "train_scores_mean = []\n",
    "test_scores_mean = []\n",
    "\n",
    "alpha_sizes = [0, 0.0001, 0.001, 0.01, 0.02, 0.05, 0.075, 0.1,0.2,0.3,0.4, 0.5, 0.6, 0.7,0.8,0.9, 1]\n",
    "\n",
    "for this_alpha in alpha_sizes:\n",
    "    mlp_poly = MLPRegressor(hidden_layer_sizes = [10,20,50,100],alpha=this_alpha, solver='lbfgs',\n",
    "                     random_state = 0).fit(X_train, y_train)\n",
    "    r2_train = mlp_poly.score(X_train, y_train)\n",
    "    r2_test = mlp_poly.score(X_test, y_test)\n",
    "    print('Alpha = {:.2f}\\\n",
    "\\nr-squared training: {:.2f}, \\nr-squared test: {:.2f}'\n",
    "         .format(this_alpha, r2_train, r2_test))\n",
    "    \n",
    "    y_pred = mlp_poly.predict(X_train)\n",
    "    train_score_mean = np.sqrt(metrics.mean_squared_error(y_train, y_pred))\n",
    "    print('Training RMSE: {:.3f}'.format(train_score_mean))\n",
    "    train_scores_mean.append(train_score_mean)\n",
    "\n",
    "    # make predictions on the testing set\n",
    "    y_pred = mlp_poly.predict(X_test)\n",
    "    test_score_mean = np.sqrt(metrics.mean_squared_error(y_test, y_pred))\n",
    "    print('Testing RMSE: {:.3f}\\n'.format(test_score_mean))\n",
    "    test_scores_mean.append(test_score_mean)"
   ]
  },
  {
   "cell_type": "code",
   "execution_count": null,
   "metadata": {},
   "outputs": [],
   "source": [
    "# Plot learning curve\n",
    "fig, ax = plt.subplots(1, 1, figsize=(8, 3))\n",
    "\n",
    "ax.set_title('A learning curve for NN_basic AirPlant dataset:\\nthe optimla alpha parameter value for regularization')\n",
    "ax.set_xlabel(\"Alpha number\")\n",
    "ax.set_ylabel(\"Score (RMSE)\")\n",
    "ax.grid()\n",
    "\n",
    "ax.plot(alpha_sizes, train_scores_mean, 'o-', color=\"r\", label=\"Training score\")\n",
    "ax.plot(alpha_sizes, test_scores_mean, 'o-', color=\"g\", label=\"Cross-validation score\")\n",
    "ax.legend(loc=\"best\")\n",
    "\n",
    "plt.show()"
   ]
  },
  {
   "cell_type": "markdown",
   "metadata": {},
   "source": [
    "## Apply different activation functions (logistic, tanh, relu) and show the effect."
   ]
  },
  {
   "cell_type": "code",
   "execution_count": null,
   "metadata": {},
   "outputs": [],
   "source": [
    "X = dataset[:,5:6]\n",
    "y = dataset[:,6]"
   ]
  },
  {
   "cell_type": "code",
   "execution_count": null,
   "metadata": {},
   "outputs": [],
   "source": [
    "fig, subaxes = plt.subplots(3, 3, figsize=(11,8), dpi=70)\n",
    "\n",
    "X_predict_input = np.linspace(-3, 3, 50).reshape(-1,1)\n",
    "\n",
    "X_train, X_test, y_train, y_test = train_test_split(X, y, random_state = 0)\n",
    "\n",
    "for thisaxisrow, thisactivation in zip(subaxes, ['logistic','tanh', 'relu']):\n",
    "    for thisalpha, thisaxis in zip([0.001, 0.005, 0.01], thisaxisrow):\n",
    "        mlpreg = MLPRegressor(hidden_layer_sizes = [100,100],\n",
    "                             activation = thisactivation,\n",
    "                             alpha = thisalpha,\n",
    "                             solver = 'lbfgs').fit(X_train, y_train)\n",
    "        y_predict_output = mlpreg.predict(X_predict_input)\n",
    "        thisaxis.set_xlim([-2.5, 0.75])\n",
    "        thisaxis.plot(X_predict_input, y_predict_output,\n",
    "                     '^', markersize = 10)\n",
    "        thisaxis.plot(X_train, y_train, 'o')\n",
    "        thisaxis.set_xlabel('Input feature')\n",
    "        thisaxis.set_ylabel('Target value')\n",
    "        thisaxis.set_title('MLP regression\\nalpha={}, activation={})'\n",
    "                          .format(thisalpha, thisactivation))\n",
    "        plt.tight_layout()"
   ]
  },
  {
   "cell_type": "code",
   "execution_count": null,
   "metadata": {},
   "outputs": [],
   "source": []
  },
  {
   "cell_type": "code",
   "execution_count": null,
   "metadata": {},
   "outputs": [],
   "source": [
    "nnclf.fit(X_train,y_train)\n",
    "\n",
    "predict_train = nnclf.predict(X_train)\n",
    "predict_test = nnclf.predict(X_test)"
   ]
  },
  {
   "cell_type": "code",
   "execution_count": null,
   "metadata": {},
   "outputs": [],
   "source": []
  },
  {
   "cell_type": "code",
   "execution_count": null,
   "metadata": {},
   "outputs": [],
   "source": [
    "from sklearn.metrics import classification_report,confusion_matrix\n",
    "print(confusion_matrix(y_train,predict_train))\n",
    "print(classification_report(y_train,predict_train))"
   ]
  },
  {
   "cell_type": "code",
   "execution_count": null,
   "metadata": {},
   "outputs": [],
   "source": [
    "\n",
    "numClasses = int(np.amax(y)) + 1\n",
    "print(numClasses)\n",
    "color_list_light = ['#FFFFAA', '#EFEFEF', '#AAFFAA', '#AAAAFF']\n",
    "print(ListedColormap(color_list_light[0:numClasses]))\n",
    "plot_class_regions_for_classifier(nnclf, X_train, y_train, X_test, y_test, 'Airline : Neural net classifier, 2 layers, 10/10 units')"
   ]
  },
  {
   "cell_type": "markdown",
   "metadata": {},
   "source": [
    "### (1) Multivariate linear regression modeling"
   ]
  },
  {
   "cell_type": "code",
   "execution_count": null,
   "metadata": {},
   "outputs": [],
   "source": [
    "t = [x/10 for x in range(1, 9)]\n",
    "plt.figure()\n",
    "name = 'Multivariate linear regression modeling'\n",
    "mean_test_r2=[]\n",
    "mean_train_r2 = []\n",
    "for s in t:\n",
    "\n",
    "    train_R2_score = []\n",
    "    test_R2_score = []\n",
    "    y_pred = []\n",
    "    RMSE_score = []\n",
    "    for i in range(1,100):\n",
    "        X_train, X_test, y_train, y_test = train_test_split(X, y, test_size = 1-s)\n",
    "        #tree_clf.fit(X_train, y_train)\n",
    "        linreg = LinearRegression().fit(X_train, y_train)\n",
    "        train_R2_score.append(linreg.score(X_train, y_train))\n",
    "        test_R2_score.append(linreg.score(X_test, y_test))\n",
    "        yPred = linreg.predict(X_test)\n",
    "        y_pred.append(linreg.predict(X_test))\n",
    "        RMSE_score.append(np.sqrt(metrics.mean_squared_error(y_test, yPred)))\n",
    "    testR2 = np.mean(test_R2_score)\n",
    "    trainR2 = np.mean(train_R2_score)\n",
    "    mean_test_r2.append(testR2)\n",
    "    mean_train_r2.append(trainR2)\n",
    "    plt.plot(s, np.mean(test_R2_score), 'bo')\n",
    "    plt.plot(s, np.mean(train_R2_score), 'rx')\n",
    "    plt.legend(['train_R2_score', 'test_R2_score'], loc='best')\n",
    "    plt.title(name)\n",
    "        \n",
    "\n",
    "\n",
    "plt.xlabel('Training set proportion (%)')\n",
    "plt.ylabel('accuracy')\n",
    "save_fig(name)"
   ]
  }
 ],
 "metadata": {
  "kernelspec": {
   "display_name": "Python 3",
   "language": "python",
   "name": "python3"
  },
  "language_info": {
   "codemirror_mode": {
    "name": "ipython",
    "version": 3
   },
   "file_extension": ".py",
   "mimetype": "text/x-python",
   "name": "python",
   "nbconvert_exporter": "python",
   "pygments_lexer": "ipython3",
   "version": "3.7.9"
  }
 },
 "nbformat": 4,
 "nbformat_minor": 4
}
