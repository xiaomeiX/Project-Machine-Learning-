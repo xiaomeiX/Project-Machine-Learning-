{
 "cells": [
  {
   "cell_type": "markdown",
   "metadata": {},
   "source": [
    "### MLP 5: Neural Network\n",
    "Write your name\n",
    "* xiaomei Xie\n",
    "* Lili Hao\n",
    "\n",
    "In this phase, you will (1) construct neural network models to predict a response variable, (2) evaluate the\n",
    "model, and (3) write a report about what you find from the analysis. \n",
    "\n",
    "(a) Analysis of neural network models with varying number of hidden layers and number of units\n",
    "(nodes) in the hidden layers. (10 pts)\n",
    "\n",
    "(b) Analysis of the effects of different activation functions, such as relu, tanh, and logistic functions.\n",
    "(15 pts)\n",
    "\n",
    "(c) Analysis of optimal parameters and hyper-parameters, alpha value for regularization parameter,\n",
    "learning rate for gradient descent, the number of iterations, etc. (15 pts)\n",
    "\n",
    "For parameters and hyper-parameters, please see the details in Python Scikit. \n"
   ]
  },
  {
   "cell_type": "markdown",
   "metadata": {},
   "source": [
    "### e sure you install the following packages on your machine (No installation needed when you work on Google Colab)\n",
    "\n",
    "Requires the latest pip\n",
    "\n",
    "$ pip install --upgrade pip\n",
    "\n",
    "Current stable release for CPU and GF\n",
    "\n",
    "$ pip install tensorflow"
   ]
  },
  {
   "cell_type": "code",
   "execution_count": 1,
   "metadata": {},
   "outputs": [
    {
     "name": "stdout",
     "output_type": "stream",
     "text": [
      "Requirement already satisfied: tensorflow in c:\\users\\xiexi\\anaconda3\\envs\\cpsc5610\\lib\\site-packages (2.4.1)Note: you may need to restart the kernel to use updated packages.\n",
      "Requirement already satisfied: google-pasta~=0.2 in c:\\users\\xiexi\\anaconda3\\envs\\cpsc5610\\lib\\site-packages (from tensorflow) (0.2.0)\n",
      "Requirement already satisfied: typing-extensions~=3.7.4 in c:\\users\\xiexi\\anaconda3\\envs\\cpsc5610\\lib\\site-packages (from tensorflow) (3.7.4.3)\n",
      "Requirement already satisfied: tensorflow-estimator<2.5.0,>=2.4.0 in c:\\users\\xiexi\\anaconda3\\envs\\cpsc5610\\lib\\site-packages (from tensorflow) (2.4.0)\n",
      "Requirement already satisfied: h5py~=2.10.0 in c:\\users\\xiexi\\anaconda3\\envs\\cpsc5610\\lib\\site-packages (from tensorflow) (2.10.0)\n",
      "Requirement already satisfied: tensorboard~=2.4 in c:\\users\\xiexi\\anaconda3\\envs\\cpsc5610\\lib\\site-packages (from tensorflow) (2.4.1)\n",
      "Requirement already satisfied: six~=1.15.0 in c:\\users\\xiexi\\appdata\\roaming\\python\\python37\\site-packages (from tensorflow) (1.15.0)\n",
      "Requirement already satisfied: grpcio~=1.32.0 in c:\\users\\xiexi\\anaconda3\\envs\\cpsc5610\\lib\\site-packages (from tensorflow) (1.32.0)\n",
      "Requirement already satisfied: termcolor~=1.1.0 in c:\\users\\xiexi\\anaconda3\\envs\\cpsc5610\\lib\\site-packages (from tensorflow) (1.1.0)\n",
      "Requirement already satisfied: opt-einsum~=3.3.0 in c:\\users\\xiexi\\anaconda3\\envs\\cpsc5610\\lib\\site-packages (from tensorflow) (3.3.0)\n",
      "Requirement already satisfied: astunparse~=1.6.3 in c:\\users\\xiexi\\anaconda3\\envs\\cpsc5610\\lib\\site-packages (from tensorflow) (1.6.3)\n",
      "Requirement already satisfied: keras-preprocessing~=1.1.2 in c:\\users\\xiexi\\anaconda3\\envs\\cpsc5610\\lib\\site-packages (from tensorflow) (1.1.2)\n",
      "Requirement already satisfied: wrapt~=1.12.1 in c:\\users\\xiexi\\appdata\\roaming\\python\\python37\\site-packages (from tensorflow) (1.12.1)\n",
      "Requirement already satisfied: wheel~=0.35 in c:\\users\\xiexi\\anaconda3\\envs\\cpsc5610\\lib\\site-packages (from tensorflow) (0.35.1)\n",
      "Requirement already satisfied: gast==0.3.3 in c:\\users\\xiexi\\anaconda3\\envs\\cpsc5610\\lib\\site-packages (from tensorflow) (0.3.3)\n",
      "Requirement already satisfied: numpy~=1.19.2 in c:\\users\\xiexi\\anaconda3\\envs\\cpsc5610\\lib\\site-packages (from tensorflow) (1.19.2)\n",
      "Requirement already satisfied: flatbuffers~=1.12.0 in c:\\users\\xiexi\\anaconda3\\envs\\cpsc5610\\lib\\site-packages (from tensorflow) (1.12)\n",
      "Requirement already satisfied: absl-py~=0.10 in c:\\users\\xiexi\\anaconda3\\envs\\cpsc5610\\lib\\site-packages (from tensorflow) (0.11.0)\n",
      "Requirement already satisfied: protobuf>=3.9.2 in c:\\users\\xiexi\\anaconda3\\envs\\cpsc5610\\lib\\site-packages (from tensorflow) (3.15.2)\n",
      "Requirement already satisfied: requests<3,>=2.21.0 in c:\\users\\xiexi\\anaconda3\\envs\\cpsc5610\\lib\\site-packages (from tensorboard~=2.4->tensorflow) (2.24.0)\n",
      "Requirement already satisfied: tensorboard-plugin-wit>=1.6.0 in c:\\users\\xiexi\\anaconda3\\envs\\cpsc5610\\lib\\site-packages (from tensorboard~=2.4->tensorflow) (1.8.0)\n",
      "Requirement already satisfied: werkzeug>=0.11.15 in c:\\users\\xiexi\\anaconda3\\envs\\cpsc5610\\lib\\site-packages (from tensorboard~=2.4->tensorflow) (1.0.1)\n",
      "Requirement already satisfied: setuptools>=41.0.0 in c:\\users\\xiexi\\anaconda3\\envs\\cpsc5610\\lib\\site-packages (from tensorboard~=2.4->tensorflow) (49.6.0.post20200814)\n",
      "Requirement already satisfied: google-auth<2,>=1.6.3 in c:\\users\\xiexi\\anaconda3\\envs\\cpsc5610\\lib\\site-packages (from tensorboard~=2.4->tensorflow) (1.27.0)\n",
      "Requirement already satisfied: markdown>=2.6.8 in c:\\users\\xiexi\\anaconda3\\envs\\cpsc5610\\lib\\site-packages (from tensorboard~=2.4->tensorflow) (3.3.4)\n",
      "Requirement already satisfied: google-auth-oauthlib<0.5,>=0.4.1 in c:\\users\\xiexi\\anaconda3\\envs\\cpsc5610\\lib\\site-packages (from tensorboard~=2.4->tensorflow) (0.4.2)\n",
      "Requirement already satisfied: rsa<5,>=3.1.4 in c:\\users\\xiexi\\anaconda3\\envs\\cpsc5610\\lib\\site-packages (from google-auth<2,>=1.6.3->tensorboard~=2.4->tensorflow) (4.7.2)\n",
      "\n",
      "Requirement already satisfied: pyasn1-modules>=0.2.1 in c:\\users\\xiexi\\anaconda3\\envs\\cpsc5610\\lib\\site-packages (from google-auth<2,>=1.6.3->tensorboard~=2.4->tensorflow) (0.2.8)\n",
      "Requirement already satisfied: cachetools<5.0,>=2.0.0 in c:\\users\\xiexi\\anaconda3\\envs\\cpsc5610\\lib\\site-packages (from google-auth<2,>=1.6.3->tensorboard~=2.4->tensorflow) (4.2.1)\n",
      "Requirement already satisfied: requests-oauthlib>=0.7.0 in c:\\users\\xiexi\\anaconda3\\envs\\cpsc5610\\lib\\site-packages (from google-auth-oauthlib<0.5,>=0.4.1->tensorboard~=2.4->tensorflow) (1.3.0)\n",
      "Requirement already satisfied: importlib-metadata in c:\\users\\xiexi\\anaconda3\\envs\\cpsc5610\\lib\\site-packages (from markdown>=2.6.8->tensorboard~=2.4->tensorflow) (1.7.0)\n",
      "Requirement already satisfied: pyasn1<0.5.0,>=0.4.6 in c:\\users\\xiexi\\anaconda3\\envs\\cpsc5610\\lib\\site-packages (from pyasn1-modules>=0.2.1->google-auth<2,>=1.6.3->tensorboard~=2.4->tensorflow) (0.4.8)\n",
      "Requirement already satisfied: certifi>=2017.4.17 in c:\\users\\xiexi\\anaconda3\\envs\\cpsc5610\\lib\\site-packages (from requests<3,>=2.21.0->tensorboard~=2.4->tensorflow) (2020.11.8)\n",
      "Requirement already satisfied: urllib3!=1.25.0,!=1.25.1,<1.26,>=1.21.1 in c:\\users\\xiexi\\anaconda3\\envs\\cpsc5610\\lib\\site-packages (from requests<3,>=2.21.0->tensorboard~=2.4->tensorflow) (1.25.10)\n",
      "Requirement already satisfied: idna<3,>=2.5 in c:\\users\\xiexi\\anaconda3\\envs\\cpsc5610\\lib\\site-packages (from requests<3,>=2.21.0->tensorboard~=2.4->tensorflow) (2.10)\n",
      "Requirement already satisfied: chardet<4,>=3.0.2 in c:\\users\\xiexi\\anaconda3\\envs\\cpsc5610\\lib\\site-packages (from requests<3,>=2.21.0->tensorboard~=2.4->tensorflow) (3.0.4)\n",
      "Requirement already satisfied: oauthlib>=3.0.0 in c:\\users\\xiexi\\anaconda3\\envs\\cpsc5610\\lib\\site-packages (from requests-oauthlib>=0.7.0->google-auth-oauthlib<0.5,>=0.4.1->tensorboard~=2.4->tensorflow) (3.1.0)\n",
      "Requirement already satisfied: zipp>=0.5 in c:\\users\\xiexi\\anaconda3\\envs\\cpsc5610\\lib\\site-packages (from importlib-metadata->markdown>=2.6.8->tensorboard~=2.4->tensorflow) (3.1.0)\n"
     ]
    }
   ],
   "source": [
    "pip install tensorflow"
   ]
  },
  {
   "cell_type": "code",
   "execution_count": null,
   "metadata": {},
   "outputs": [],
   "source": [
    "# Python ≥3.5 is required\n",
    "import sys\n",
    "assert sys.version_info >= (3, 5)\n",
    "\n",
    "# Scikit-Learn ≥0.20 is required\n",
    "import sklearn\n",
    "assert sklearn.__version__ >= \"0.20\"\n",
    "\n",
    "\n",
    "try:\n",
    "    # %tensorflow_version only exists in Colab.\n",
    "    %tensorflow_version 2.x\n",
    "except Exception:\n",
    "    pass\n",
    "\n",
    "# TensorFlow ≥2.0 is required\n",
    "import tensorflow as tf\n",
    "assert tf.__version__ >= \"2.0\"\n",
    "\n",
    "\n",
    "# Common imports\n",
    "import numpy as np\n",
    "import pandas as pd\n",
    "import os\n",
    "\n",
    "from sklearn.metrics import confusion_matrix\n",
    "from sklearn.metrics import classification_report\n",
    "from sklearn.model_selection import train_test_split\n",
    "from matplotlib.colors import ListedColormap\n",
    "from sklearn.datasets import make_classification, make_blobs\n",
    "from sklearn.neural_network import MLPClassifier\n",
    "from sklearn.neural_network import MLPRegressor\n",
    "from sklearn import *\n",
    "\n",
    "\n",
    "\n",
    "from sklearn.linear_model import Ridge\n",
    "\n",
    "# To plot pretty figures\n",
    "%matplotlib inline\n",
    "import matplotlib as mpl\n",
    "import matplotlib.pyplot as plt\n",
    "mpl.rc('axes', labelsize=14)\n",
    "mpl.rc('xtick', labelsize=12)\n",
    "mpl.rc('ytick', labelsize=12)\n",
    "\n",
    "\n",
    "\n",
    "from sklearn.linear_model import LinearRegression\n",
    "from sklearn import metrics\n",
    "\n",
    "\n",
    "color_list_light = ['#FFFFAA', '#EFEFEF', '#AAFFAA', '#AAAAFF']\n",
    "color_list_bold = ['#EEEE00', '#000000', '#00CC00', '#0000CC']\n",
    "cmap_light = ListedColormap(color_list_light[0:2])\n",
    "cmap_bold  = ListedColormap(color_list_bold[0:2])\n",
    "\n",
    "\n",
    "import warnings\n",
    "\n",
    "\n",
    "# to make this notebook's output stable across runs\n",
    "np.random.seed(42)\n",
    "\n",
    "# Where to save the figures\n",
    "PROJECT_ROOT_DIR = \".\"\n",
    "CHAPTER_ID = \"ann\"\n",
    "IMAGES_PATH = os.path.join(PROJECT_ROOT_DIR, \"images\", CHAPTER_ID)\n",
    "\n",
    "os.makedirs(IMAGES_PATH, exist_ok=True)\n",
    "\n",
    "def save_fig(fig_id, tight_layout=True, fig_extension=\"png\", resolution=300):\n",
    "    path = os.path.join(IMAGES_PATH, fig_id + \".\" + fig_extension)\n",
    "    print(\"Saving figure\", fig_id)\n",
    "    if tight_layout:\n",
    "        plt.tight_layout()\n",
    "    plt.savefig(path, format=fig_extension, dpi=resolution)\n",
    "\n",
    "warnings.filterwarnings('ignore')"
   ]
  },
  {
   "cell_type": "code",
   "execution_count": null,
   "metadata": {},
   "outputs": [],
   "source": [
    "def sigmoid(z):\n",
    "    return 1 / (1 + np.exp(-z))\n",
    "\n",
    "def relu(z):\n",
    "    return np.maximum(0, z)\n",
    "\n",
    "def derivative(f, z, eps=0.000001):\n",
    "    return (f(z + eps) - f(z - eps))/(2 * eps)\n",
    "\n",
    "\n",
    "z = np.linspace(-5, 5, 200)\n",
    "\n",
    "plt.figure(figsize=(11,4))\n",
    "\n",
    "plt.subplot(121)\n",
    "plt.plot(z, np.sign(z), \"r-\", linewidth=1, label=\"Step\")\n",
    "plt.plot(z, sigmoid(z), \"g--\", linewidth=2, label=\"Sigmoid\")\n",
    "plt.plot(z, np.tanh(z), \"b-\", linewidth=2, label=\"Tanh\")\n",
    "plt.plot(z, relu(z), \"m-.\", linewidth=2, label=\"ReLU\")\n",
    "plt.grid(True)\n",
    "plt.legend(loc=\"center right\", fontsize=14)\n",
    "plt.title(\"Activation functions\", fontsize=14)\n",
    "plt.axis([-5, 5, -1.2, 1.2])"
   ]
  },
  {
   "cell_type": "code",
   "execution_count": 29,
   "metadata": {},
   "outputs": [],
   "source": [
    "import tensorflow as tf\n",
    "from tensorflow import keras"
   ]
  },
  {
   "cell_type": "code",
   "execution_count": 30,
   "metadata": {},
   "outputs": [
    {
     "data": {
      "text/plain": [
       "'2.4.1'"
      ]
     },
     "execution_count": 30,
     "metadata": {},
     "output_type": "execute_result"
    }
   ],
   "source": [
    "tf.__version__"
   ]
  },
  {
   "cell_type": "code",
   "execution_count": 31,
   "metadata": {},
   "outputs": [
    {
     "data": {
      "text/plain": [
       "'2.4.0'"
      ]
     },
     "execution_count": 31,
     "metadata": {},
     "output_type": "execute_result"
    }
   ],
   "source": [
    "keras.__version__"
   ]
  },
  {
   "cell_type": "code",
   "execution_count": 32,
   "metadata": {},
   "outputs": [
    {
     "name": "stdout",
     "output_type": "stream",
     "text": [
      "[-2.         -1.9798995  -1.95979899 -1.93969849 -1.91959799 -1.89949749\n",
      " -1.87939698 -1.85929648 -1.83919598 -1.81909548 -1.79899497 -1.77889447\n",
      " -1.75879397 -1.73869347 -1.71859296 -1.69849246 -1.67839196 -1.65829146\n",
      " -1.63819095 -1.61809045 -1.59798995 -1.57788945 -1.55778894 -1.53768844\n",
      " -1.51758794 -1.49748744 -1.47738693 -1.45728643 -1.43718593 -1.41708543\n",
      " -1.39698492 -1.37688442 -1.35678392 -1.33668342 -1.31658291 -1.29648241\n",
      " -1.27638191 -1.25628141 -1.2361809  -1.2160804  -1.1959799  -1.1758794\n",
      " -1.15577889 -1.13567839 -1.11557789 -1.09547739 -1.07537688 -1.05527638\n",
      " -1.03517588 -1.01507538 -0.99497487 -0.97487437 -0.95477387 -0.93467337\n",
      " -0.91457286 -0.89447236 -0.87437186 -0.85427136 -0.83417085 -0.81407035\n",
      " -0.79396985 -0.77386935 -0.75376884 -0.73366834 -0.71356784 -0.69346734\n",
      " -0.67336683 -0.65326633 -0.63316583 -0.61306533 -0.59296482 -0.57286432\n",
      " -0.55276382 -0.53266332 -0.51256281 -0.49246231 -0.47236181 -0.45226131\n",
      " -0.4321608  -0.4120603  -0.3919598  -0.3718593  -0.35175879 -0.33165829\n",
      " -0.31155779 -0.29145729 -0.27135678 -0.25125628 -0.23115578 -0.21105528\n",
      " -0.19095477 -0.17085427 -0.15075377 -0.13065327 -0.11055276 -0.09045226\n",
      " -0.07035176 -0.05025126 -0.03015075 -0.01005025  0.01005025  0.03015075\n",
      "  0.05025126  0.07035176  0.09045226  0.11055276  0.13065327  0.15075377\n",
      "  0.17085427  0.19095477  0.21105528  0.23115578  0.25125628  0.27135678\n",
      "  0.29145729  0.31155779  0.33165829  0.35175879  0.3718593   0.3919598\n",
      "  0.4120603   0.4321608   0.45226131  0.47236181  0.49246231  0.51256281\n",
      "  0.53266332  0.55276382  0.57286432  0.59296482  0.61306533  0.63316583\n",
      "  0.65326633  0.67336683  0.69346734  0.71356784  0.73366834  0.75376884\n",
      "  0.77386935  0.79396985  0.81407035  0.83417085  0.85427136  0.87437186\n",
      "  0.89447236  0.91457286  0.93467337  0.95477387  0.97487437  0.99497487\n",
      "  1.01507538  1.03517588  1.05527638  1.07537688  1.09547739  1.11557789\n",
      "  1.13567839  1.15577889  1.1758794   1.1959799   1.2160804   1.2361809\n",
      "  1.25628141  1.27638191  1.29648241  1.31658291  1.33668342  1.35678392\n",
      "  1.37688442  1.39698492  1.41708543  1.43718593  1.45728643  1.47738693\n",
      "  1.49748744  1.51758794  1.53768844  1.55778894  1.57788945  1.59798995\n",
      "  1.61809045  1.63819095  1.65829146  1.67839196  1.69849246  1.71859296\n",
      "  1.73869347  1.75879397  1.77889447  1.79899497  1.81909548  1.83919598\n",
      "  1.85929648  1.87939698  1.89949749  1.91959799  1.93969849  1.95979899\n",
      "  1.9798995   2.        ]\n"
     ]
    }
   ],
   "source": [
    "xrange = np.linspace(-2, 2, 200)\n",
    "print(xrange)"
   ]
  },
  {
   "cell_type": "code",
   "execution_count": 33,
   "metadata": {},
   "outputs": [
    {
     "data": {
      "image/png": "[encoded data removed]",
      "text/plain": [
       "<Figure size 504x432 with 1 Axes>"
      ]
     },
     "metadata": {
      "needs_background": "light"
     },
     "output_type": "display_data"
    }
   ],
   "source": [
    "plt.figure(figsize=(7,6))\n",
    "\n",
    "# three commonly used activation functions, relu, tanh, and logistic\n",
    "plt.plot(xrange, np.maximum(xrange,0),label='relu')\n",
    "plt.plot(xrange, np.tanh(xrange),label='tanh')\n",
    "plt.plot(xrange, 1/(1+np.exp(-xrange)), label='logistic')\n",
    "\n",
    "plt.legend()\n",
    "plt.title('Neural network activation functions')\n",
    "plt.xlabel('Input value (x)')\n",
    "plt.ylabel('Activation function output')\n",
    "\n",
    "plt.show()"
   ]
  },
  {
   "cell_type": "markdown",
   "metadata": {},
   "source": [
    "### Utility functions"
   ]
  },
  {
   "cell_type": "code",
   "execution_count": 34,
   "metadata": {},
   "outputs": [],
   "source": [
    "def plot_class_regions_for_classifier_subplot(clf, X, y, X_test, y_test, title, subplot, target_names = None, plot_decision_regions = True):\n",
    "###\n",
    "  #  numClasses = int(np.amax(y)) + 1\n",
    "    \n",
    "  #  print(numClasses)\n",
    "  #  color_list_light = ['#FFFFAA', '#EFEFEF', '#AAFFAA', '#AAAAFF']\n",
    "  #  color_list_bold = ['#EEEE00', '#000000', '#00CC00', '#0000CC']\n",
    "  #  cmap_light = ListedColormap(color_list_light[0:numClasses])\n",
    "   # cmap_bold  = ListedColormap(color_list_bold[0:numClasses])\n",
    "###\n",
    "    h = 0.03\n",
    "    k = 0.5\n",
    "    x_plot_adjust = 0.1\n",
    "    y_plot_adjust = 0.1\n",
    "    plot_symbol_size = 50\n",
    "\n",
    "    x_min = X[:, 0].min()\n",
    "    x_max = X[:, 0].max()\n",
    "    y_min = X[:, 1].min()\n",
    "    y_max = X[:, 1].max()\n",
    "    x2, y2 = np.meshgrid(np.arange(x_min-k, x_max+k, h), np.arange(y_min-k, y_max+k, h))\n",
    "\n",
    "    P = clf.predict(np.c_[x2.ravel(), y2.ravel()])\n",
    "    P = P.reshape(x2.shape)\n",
    "\n",
    "    if plot_decision_regions:\n",
    "        subplot.contourf(x2, y2, P, cmap=cmap_light, alpha = 0.8)\n",
    "\n",
    "    subplot.scatter(X[:, 0], X[:, 1], c=y, cmap=cmap_bold, s=plot_symbol_size, edgecolor = 'black')\n",
    "    subplot.set_xlim(x_min - x_plot_adjust, x_max + x_plot_adjust)\n",
    "    subplot.set_ylim(y_min - y_plot_adjust, y_max + y_plot_adjust)\n",
    "\n",
    "    if (X_test is not None):\n",
    "        subplot.scatter(X_test[:, 0], X_test[:, 1], c=y_test, cmap=cmap_bold, s=plot_symbol_size, marker='^', edgecolor = 'black')\n",
    "        train_score = clf.score(X, y)\n",
    "        test_score  = clf.score(X_test, y_test)\n",
    "        title = title + \"\\nTrain score = {:.2f}, Test score = {:.2f}\".format(train_score, test_score)\n",
    "\n",
    "    subplot.set_title(title)\n",
    "\n",
    "    if (target_names is not None):\n",
    "        legend_handles = []\n",
    "        for i in range(0, len(target_names)):\n",
    "            patch = mpatches.Patch(color=color_list_bold[i], label=target_names[i])\n",
    "            legend_handles.append(patch)\n",
    "        subplot.legend(loc=0, handles=legend_handles)\n"
   ]
  },
  {
   "cell_type": "code",
   "execution_count": 35,
   "metadata": {},
   "outputs": [],
   "source": [
    "def plot_class_regions_for_classifier(clf, X, y, X_test=None, y_test=None, title=None, target_names = None, plot_decision_regions = True):\n",
    "\n",
    "    #numClasses = np.amax(y) + 1\n",
    "  #  color_list_light = ['#FFFFAA', '#EFEFEF', '#AAFFAA', '#AAAAFF']\n",
    " #   color_list_bold = ['#EEEE00', '#000000', '#00CC00', '#0000CC']\n",
    "  #  cmap_light = ListedColormap(color_list_light[0:numClasses])\n",
    "  #  cmap_bold  = ListedColormap(color_list_bold[0:numClasses])\n",
    "\n",
    "    h = 0.03\n",
    "    k = 0.5\n",
    "    x_plot_adjust = 0.1\n",
    "    y_plot_adjust = 0.1\n",
    "    plot_symbol_size = 50\n",
    "\n",
    "    x_min = X[:, 0].min()\n",
    "    x_max = X[:, 0].max()\n",
    "    y_min = X[:, 1].min()\n",
    "    y_max = X[:, 1].max()\n",
    "    x2, y2 = np.meshgrid(np.arange(x_min-k, x_max+k, h), np.arange(y_min-k, y_max+k, h))\n",
    "\n",
    "    P = clf.predict(np.c_[x2.ravel(), y2.ravel()])\n",
    "    P = P.reshape(x2.shape)\n",
    "    plt.figure()\n",
    "    if plot_decision_regions:\n",
    "        plt.contourf(x2, y2, P, cmap=cmap_light, alpha = 0.8)\n",
    "\n",
    "    plt.scatter(X[:, 0], X[:, 1], c=y, cmap=cmap_bold, s=plot_symbol_size, edgecolor = 'black')\n",
    "    plt.xlim(x_min - x_plot_adjust, x_max + x_plot_adjust)\n",
    "    plt.ylim(y_min - y_plot_adjust, y_max + y_plot_adjust)\n",
    "\n",
    "    if (X_test is not None):\n",
    "        plt.scatter(X_test[:, 0], X_test[:, 1], c=y_test, cmap=cmap_bold, s=plot_symbol_size, marker='^', edgecolor = 'black')\n",
    "        train_score = clf.score(X, y)\n",
    "        test_score  = clf.score(X_test, y_test)\n",
    "        title = title + \"\\nTrain score = {:.2f}, Test score = {:.2f}\".format(train_score, test_score)\n",
    "\n",
    "    if (target_names is not None):\n",
    "        legend_handles = []\n",
    "        for i in range(0, len(target_names)):\n",
    "            patch = mpatches.Patch(color=color_list_bold[i], label=target_names[i])\n",
    "            legend_handles.append(patch)\n",
    "        plt.legend(loc=0, handles=legend_handles)\n",
    "\n",
    "    if (title is not None):\n",
    "        plt.title(title)\n",
    "    plt.show()\n",
    "    "
   ]
  },
  {
   "cell_type": "code",
   "execution_count": 36,
   "metadata": {},
   "outputs": [],
   "source": [
    "def get_KFold_report(X, y):\n",
    "    X = X.to_numpy()\n",
    "    y = y.to_numpy()\n",
    "    kf = KFold(n_splits=10, random_state=None, shuffle=True) # Define the split - into 2 folds \n",
    "    tree_clf = DecisionTreeClassifier(max_depth=2, random_state=42)\n",
    "    n=1\n",
    "    for train_index, test_index in kf.split(X):\n",
    "        print(\"=========================Kfold\" , n , \"=======================\")\n",
    "        #print(\"TRAIN:\", train_index, \"TEST:\", test_index)\n",
    "        X_train, X_test = X[train_index], X[test_index]\n",
    "        y_train, y_test = y[train_index], y[test_index]\n",
    "\n",
    "        tree_clf.fit(X_train, y_train)\n",
    "\n",
    "        y_pred = tree_clf.predict(X_test)\n",
    "\n",
    "        # Print classification report\n",
    "        target_names = TARGET_NAMES\n",
    "        print(classification_report(y_test, y_pred, target_names=target_names))\n",
    "        n = n+1"
   ]
  },
  {
   "cell_type": "markdown",
   "metadata": {},
   "source": [
    "### Neural networks: Classification"
   ]
  },
  {
   "cell_type": "markdown",
   "metadata": {},
   "source": [
    "### Quick view of data"
   ]
  },
  {
   "cell_type": "code",
   "execution_count": 37,
   "metadata": {},
   "outputs": [
    {
     "data": {
      "text/html": [
       "<div>\n",
       "<style scoped>\n",
       "    .dataframe tbody tr th:only-of-type {\n",
       "        vertical-align: middle;\n",
       "    }\n",
       "\n",
       "    .dataframe tbody tr th {\n",
       "        vertical-align: top;\n",
       "    }\n",
       "\n",
       "    .dataframe thead th {\n",
       "        text-align: right;\n",
       "    }\n",
       "</style>\n",
       "<table border=\"1\" class=\"dataframe\">\n",
       "  <thead>\n",
       "    <tr style=\"text-align: right;\">\n",
       "      <th></th>\n",
       "      <th>Airport.Code</th>\n",
       "      <th>Airport.Name</th>\n",
       "      <th>Time.Label</th>\n",
       "      <th>Time.Month</th>\n",
       "      <th>Time.Month Name</th>\n",
       "      <th>Time.Year</th>\n",
       "      <th># of Delays.Carrier</th>\n",
       "      <th># of Delays.Late Aircraft</th>\n",
       "      <th># of Delays.National Aviation System</th>\n",
       "      <th># of Delays.Security</th>\n",
       "      <th>...</th>\n",
       "      <th>Flights.Total</th>\n",
       "      <th>Minutes Delayed.Carrier</th>\n",
       "      <th>Minutes Delayed.Late Aircraft</th>\n",
       "      <th>Minutes Delayed.National Aviation System</th>\n",
       "      <th>Minutes Delayed.Security</th>\n",
       "      <th>Minutes Delayed.Total</th>\n",
       "      <th>Minutes Delayed.Weather</th>\n",
       "      <th>Time.Month.level</th>\n",
       "      <th>Rate</th>\n",
       "      <th>Ratio_Rank</th>\n",
       "    </tr>\n",
       "  </thead>\n",
       "  <tbody>\n",
       "    <tr>\n",
       "      <th>0</th>\n",
       "      <td>ATL</td>\n",
       "      <td>Atlanta, GA: Hartsfield-Jackson Atlanta Intern...</td>\n",
       "      <td>2003/06</td>\n",
       "      <td>6</td>\n",
       "      <td>June</td>\n",
       "      <td>2003</td>\n",
       "      <td>0.301513</td>\n",
       "      <td>0.270412</td>\n",
       "      <td>0.350472</td>\n",
       "      <td>0.189474</td>\n",
       "      <td>...</td>\n",
       "      <td>0.770892</td>\n",
       "      <td>0.258823</td>\n",
       "      <td>0.185741</td>\n",
       "      <td>0.194317</td>\n",
       "      <td>0.104668</td>\n",
       "      <td>0.260628</td>\n",
       "      <td>0.253219</td>\n",
       "      <td>3.0</td>\n",
       "      <td>0.797538</td>\n",
       "      <td>2.0</td>\n",
       "    </tr>\n",
       "    <tr>\n",
       "      <th>1</th>\n",
       "      <td>BOS</td>\n",
       "      <td>Boston, MA: Logan International</td>\n",
       "      <td>2003/06</td>\n",
       "      <td>6</td>\n",
       "      <td>June</td>\n",
       "      <td>2003</td>\n",
       "      <td>0.088067</td>\n",
       "      <td>0.093018</td>\n",
       "      <td>0.069295</td>\n",
       "      <td>0.042105</td>\n",
       "      <td>...</td>\n",
       "      <td>0.199003</td>\n",
       "      <td>0.066594</td>\n",
       "      <td>0.067780</td>\n",
       "      <td>0.037010</td>\n",
       "      <td>0.020004</td>\n",
       "      <td>0.064041</td>\n",
       "      <td>0.053621</td>\n",
       "      <td>3.0</td>\n",
       "      <td>0.816993</td>\n",
       "      <td>1.0</td>\n",
       "    </tr>\n",
       "  </tbody>\n",
       "</table>\n",
       "<p>2 rows × 27 columns</p>\n",
       "</div>"
      ],
      "text/plain": [
       "  Airport.Code                                       Airport.Name Time.Label  \\\n",
       "0          ATL  Atlanta, GA: Hartsfield-Jackson Atlanta Intern...    2003/06   \n",
       "1          BOS                    Boston, MA: Logan International    2003/06   \n",
       "\n",
       "   Time.Month Time.Month Name  Time.Year  # of Delays.Carrier  \\\n",
       "0           6            June       2003             0.301513   \n",
       "1           6            June       2003             0.088067   \n",
       "\n",
       "   # of Delays.Late Aircraft  # of Delays.National Aviation System  \\\n",
       "0                   0.270412                              0.350472   \n",
       "1                   0.093018                              0.069295   \n",
       "\n",
       "   # of Delays.Security  ...  Flights.Total Minutes Delayed.Carrier  \\\n",
       "0              0.189474  ...       0.770892                0.258823   \n",
       "1              0.042105  ...       0.199003                0.066594   \n",
       "\n",
       "   Minutes Delayed.Late Aircraft  Minutes Delayed.National Aviation System  \\\n",
       "0                       0.185741                                  0.194317   \n",
       "1                       0.067780                                  0.037010   \n",
       "\n",
       "   Minutes Delayed.Security  Minutes Delayed.Total  Minutes Delayed.Weather  \\\n",
       "0                  0.104668               0.260628                 0.253219   \n",
       "1                  0.020004               0.064041                 0.053621   \n",
       "\n",
       "   Time.Month.level      Rate  Ratio_Rank  \n",
       "0               3.0  0.797538         2.0  \n",
       "1               3.0  0.816993         1.0  \n",
       "\n",
       "[2 rows x 27 columns]"
      ]
     },
     "execution_count": 37,
     "metadata": {},
     "output_type": "execute_result"
    }
   ],
   "source": [
    "df = pd.read_csv('../processeddata/new_airlines_Normalized.csv')\n",
    "df.head(2)"
   ]
  },
  {
   "cell_type": "code",
   "execution_count": 38,
   "metadata": {},
   "outputs": [
    {
     "data": {
      "text/plain": [
       "Index(['Airport.Code', 'Airport.Name', 'Time.Label', 'Time.Month',\n",
       "       'Time.Month Name', 'Time.Year', '# of Delays.Carrier',\n",
       "       '# of Delays.Late Aircraft', '# of Delays.National Aviation System',\n",
       "       '# of Delays.Security', '# of Delays.Weather',\n",
       "       'Statistics.Carriers.Names', 'Carriers.Total', 'Flights.Cancelled',\n",
       "       'Flights.Delayed', 'Flights.Diverted', 'Flights.On Time',\n",
       "       'Flights.Total', 'Minutes Delayed.Carrier',\n",
       "       'Minutes Delayed.Late Aircraft',\n",
       "       'Minutes Delayed.National Aviation System', 'Minutes Delayed.Security',\n",
       "       'Minutes Delayed.Total', 'Minutes Delayed.Weather', 'Time.Month.level',\n",
       "       'Rate', 'Ratio_Rank'],\n",
       "      dtype='object')"
      ]
     },
     "execution_count": 38,
     "metadata": {},
     "output_type": "execute_result"
    }
   ],
   "source": [
    "df.columns"
   ]
  },
  {
   "cell_type": "code",
   "execution_count": 39,
   "metadata": {},
   "outputs": [
    {
     "data": {
      "text/plain": [
       "(4408, 27)"
      ]
     },
     "execution_count": 39,
     "metadata": {},
     "output_type": "execute_result"
    }
   ],
   "source": [
    "df.shape"
   ]
  },
  {
   "cell_type": "code",
   "execution_count": 40,
   "metadata": {},
   "outputs": [],
   "source": [
    "color_list_light = ['#FFFFAA', '#EFEFEF', '#AAFFAA', '#AAAAFF']\n",
    "color_list_bold = ['#EEEE00', '#000000', '#00CC00', '#0000CC']\n",
    "cmap_light = ListedColormap(color_list_light[0:2])\n",
    "cmap_bold  = ListedColormap(color_list_bold[0:2])\n"
   ]
  },
  {
   "cell_type": "code",
   "execution_count": 41,
   "metadata": {},
   "outputs": [],
   "source": [
    "col = ['# of Delays.Carrier','Time.Month',\n",
    "       '# of Delays.Late Aircraft', '# of Delays.National Aviation System',\n",
    "       '# of Delays.Security', '# of Delays.Weather',\n",
    "       'Flights.Cancelled',\n",
    "       'Flights.Delayed', 'Flights.Diverted', 'Flights.On Time',\n",
    "       'Flights.Total', 'Minutes Delayed.Carrier',\n",
    "       'Minutes Delayed.Late Aircraft',\n",
    "       'Minutes Delayed.National Aviation System', 'Minutes Delayed.Security',\n",
    "       'Minutes Delayed.Total', 'Minutes Delayed.Weather']"
   ]
  },
  {
   "cell_type": "code",
   "execution_count": 42,
   "metadata": {},
   "outputs": [
    {
     "name": "stdout",
     "output_type": "stream",
     "text": [
      "<class 'numpy.ndarray'>\n"
     ]
    }
   ],
   "source": [
    "X = df[col].values\n",
    "print(type(X))"
   ]
  },
  {
   "cell_type": "code",
   "execution_count": 43,
   "metadata": {},
   "outputs": [
    {
     "name": "stdout",
     "output_type": "stream",
     "text": [
      "[[0.30151261 6.         0.27041164 ... 0.10466761 0.26062804 0.25321933]\n",
      " [0.08806723 6.         0.09301797 ... 0.02000404 0.06404067 0.05362077]\n",
      " [0.06184874 6.         0.08892427 ... 0.05617296 0.05102322 0.08022262]\n",
      " ...\n",
      " [0.15058824 1.         0.19581533 ... 0.01333603 0.27073049 0.11579167]\n",
      " [0.07596639 1.         0.10325222 ... 0.01151748 0.06384675 0.04001356]\n",
      " [0.10016807 1.         0.05822151 ... 0.00747626 0.04414256 0.03319691]]\n"
     ]
    }
   ],
   "source": [
    "\n",
    "print(X)\n"
   ]
  },
  {
   "cell_type": "code",
   "execution_count": 44,
   "metadata": {},
   "outputs": [
    {
     "data": {
      "text/plain": [
       "numpy.ndarray"
      ]
     },
     "execution_count": 44,
     "metadata": {},
     "output_type": "execute_result"
    }
   ],
   "source": [
    "type(X)"
   ]
  },
  {
   "cell_type": "code",
   "execution_count": 45,
   "metadata": {},
   "outputs": [
    {
     "data": {
      "text/plain": [
       "numpy.ndarray"
      ]
     },
     "execution_count": 45,
     "metadata": {},
     "output_type": "execute_result"
    }
   ],
   "source": [
    "y = df[\"Ratio_Rank\"].values\n",
    "type(y)\n"
   ]
  },
  {
   "cell_type": "code",
   "execution_count": 46,
   "metadata": {},
   "outputs": [
    {
     "data": {
      "text/plain": [
       "array([2., 1., 1., ..., 3., 1., 2.])"
      ]
     },
     "execution_count": 46,
     "metadata": {},
     "output_type": "execute_result"
    }
   ],
   "source": [
    "y"
   ]
  },
  {
   "cell_type": "code",
   "execution_count": 47,
   "metadata": {},
   "outputs": [
    {
     "name": "stdout",
     "output_type": "stream",
     "text": [
      "<class 'numpy.ndarray'>\n",
      "<class 'numpy.ndarray'>\n"
     ]
    }
   ],
   "source": [
    "\n",
    "print(type(X))\n",
    "\n",
    "print(type(y))"
   ]
  },
  {
   "cell_type": "code",
   "execution_count": 48,
   "metadata": {},
   "outputs": [
    {
     "data": {
      "text/plain": [
       "(4408,)"
      ]
     },
     "execution_count": 48,
     "metadata": {},
     "output_type": "execute_result"
    }
   ],
   "source": [
    "y.shape"
   ]
  },
  {
   "cell_type": "code",
   "execution_count": 49,
   "metadata": {},
   "outputs": [
    {
     "data": {
      "text/plain": [
       "(4408, 17)"
      ]
     },
     "execution_count": 49,
     "metadata": {},
     "output_type": "execute_result"
    }
   ],
   "source": [
    "X.shape"
   ]
  },
  {
   "cell_type": "code",
   "execution_count": 56,
   "metadata": {},
   "outputs": [
    {
     "data": {
      "image/png": "[encoded data removed]",
      "text/plain": [
       "<Figure size 432x288 with 1 Axes>"
      ]
     },
     "metadata": {
      "needs_background": "light"
     },
     "output_type": "display_data"
    }
   ],
   "source": [
    "plt.figure()\n",
    "plt.title('Sample binary classification problem with non-linearly separable classes')\n",
    "plt.scatter( X[:,0], X[:,4],c=y,\n",
    "           marker= 'o', s=50, cmap=cmap_bold)\n",
    "plt.show()"
   ]
  },
  {
   "cell_type": "markdown",
   "metadata": {},
   "source": [
    "### Apply neural network with 2 hidden layers with varying number of units (10, 20, 50, 100). "
   ]
  },
  {
   "cell_type": "code",
   "execution_count": 26,
   "metadata": {},
   "outputs": [],
   "source": [
    "X_train, X_test, y_train, y_test = train_test_split(X, y, random_state=42, test_size=0.33)"
   ]
  },
  {
   "cell_type": "code",
   "execution_count": 27,
   "metadata": {},
   "outputs": [
    {
     "data": {
      "text/plain": [
       "(2953, 17)"
      ]
     },
     "execution_count": 27,
     "metadata": {},
     "output_type": "execute_result"
    }
   ],
   "source": [
    "X_train.shape"
   ]
  },
  {
   "cell_type": "code",
   "execution_count": 28,
   "metadata": {},
   "outputs": [
    {
     "name": "stdout",
     "output_type": "stream",
     "text": [
      "4\n",
      "<matplotlib.colors.ListedColormap object at 0x00000202AB4D3448>\n"
     ]
    },
    {
     "ename": "ValueError",
     "evalue": "X has 2 features, but MLPRegressor is expecting 17 features as input.",
     "output_type": "error",
     "traceback": [
      "\u001b[1;31m---------------------------------------------------------------------------\u001b[0m",
      "\u001b[1;31mValueError\u001b[0m                                Traceback (most recent call last)",
      "\u001b[1;32m<ipython-input-28-5c908595b464>\u001b[0m in \u001b[0;36m<module>\u001b[1;34m\u001b[0m\n\u001b[0;32m      9\u001b[0m \u001b[0mcolor_list_light\u001b[0m \u001b[1;33m=\u001b[0m \u001b[1;33m[\u001b[0m\u001b[1;34m'#FFFFAA'\u001b[0m\u001b[1;33m,\u001b[0m \u001b[1;34m'#EFEFEF'\u001b[0m\u001b[1;33m,\u001b[0m \u001b[1;34m'#AAFFAA'\u001b[0m\u001b[1;33m,\u001b[0m \u001b[1;34m'#AAAAFF'\u001b[0m\u001b[1;33m]\u001b[0m\u001b[1;33m\u001b[0m\u001b[1;33m\u001b[0m\u001b[0m\n\u001b[0;32m     10\u001b[0m \u001b[0mprint\u001b[0m\u001b[1;33m(\u001b[0m\u001b[0mListedColormap\u001b[0m\u001b[1;33m(\u001b[0m\u001b[0mcolor_list_light\u001b[0m\u001b[1;33m[\u001b[0m\u001b[1;36m0\u001b[0m\u001b[1;33m:\u001b[0m\u001b[0mnumClasses\u001b[0m\u001b[1;33m]\u001b[0m\u001b[1;33m)\u001b[0m\u001b[1;33m)\u001b[0m\u001b[1;33m\u001b[0m\u001b[1;33m\u001b[0m\u001b[0m\n\u001b[1;32m---> 11\u001b[1;33m \u001b[0mplot_class_regions_for_classifier\u001b[0m\u001b[1;33m(\u001b[0m\u001b[0mnnclf\u001b[0m\u001b[1;33m,\u001b[0m \u001b[0mX_train\u001b[0m\u001b[1;33m,\u001b[0m \u001b[0my_train\u001b[0m\u001b[1;33m,\u001b[0m \u001b[0mX_test\u001b[0m\u001b[1;33m,\u001b[0m \u001b[0my_test\u001b[0m\u001b[1;33m,\u001b[0m \u001b[1;34m'Airline : Neural net classifier, 2 layers, 10/10 units'\u001b[0m\u001b[1;33m)\u001b[0m\u001b[1;33m\u001b[0m\u001b[1;33m\u001b[0m\u001b[0m\n\u001b[0m",
      "\u001b[1;32m<ipython-input-10-aac674a6651c>\u001b[0m in \u001b[0;36mplot_class_regions_for_classifier\u001b[1;34m(clf, X, y, X_test, y_test, title, target_names, plot_decision_regions)\u001b[0m\n\u001b[0;32m     19\u001b[0m     \u001b[0mx2\u001b[0m\u001b[1;33m,\u001b[0m \u001b[0my2\u001b[0m \u001b[1;33m=\u001b[0m \u001b[0mnp\u001b[0m\u001b[1;33m.\u001b[0m\u001b[0mmeshgrid\u001b[0m\u001b[1;33m(\u001b[0m\u001b[0mnp\u001b[0m\u001b[1;33m.\u001b[0m\u001b[0marange\u001b[0m\u001b[1;33m(\u001b[0m\u001b[0mx_min\u001b[0m\u001b[1;33m-\u001b[0m\u001b[0mk\u001b[0m\u001b[1;33m,\u001b[0m \u001b[0mx_max\u001b[0m\u001b[1;33m+\u001b[0m\u001b[0mk\u001b[0m\u001b[1;33m,\u001b[0m \u001b[0mh\u001b[0m\u001b[1;33m)\u001b[0m\u001b[1;33m,\u001b[0m \u001b[0mnp\u001b[0m\u001b[1;33m.\u001b[0m\u001b[0marange\u001b[0m\u001b[1;33m(\u001b[0m\u001b[0my_min\u001b[0m\u001b[1;33m-\u001b[0m\u001b[0mk\u001b[0m\u001b[1;33m,\u001b[0m \u001b[0my_max\u001b[0m\u001b[1;33m+\u001b[0m\u001b[0mk\u001b[0m\u001b[1;33m,\u001b[0m \u001b[0mh\u001b[0m\u001b[1;33m)\u001b[0m\u001b[1;33m)\u001b[0m\u001b[1;33m\u001b[0m\u001b[1;33m\u001b[0m\u001b[0m\n\u001b[0;32m     20\u001b[0m \u001b[1;33m\u001b[0m\u001b[0m\n\u001b[1;32m---> 21\u001b[1;33m     \u001b[0mP\u001b[0m \u001b[1;33m=\u001b[0m \u001b[0mclf\u001b[0m\u001b[1;33m.\u001b[0m\u001b[0mpredict\u001b[0m\u001b[1;33m(\u001b[0m\u001b[0mnp\u001b[0m\u001b[1;33m.\u001b[0m\u001b[0mc_\u001b[0m\u001b[1;33m[\u001b[0m\u001b[0mx2\u001b[0m\u001b[1;33m.\u001b[0m\u001b[0mravel\u001b[0m\u001b[1;33m(\u001b[0m\u001b[1;33m)\u001b[0m\u001b[1;33m,\u001b[0m \u001b[0my2\u001b[0m\u001b[1;33m.\u001b[0m\u001b[0mravel\u001b[0m\u001b[1;33m(\u001b[0m\u001b[1;33m)\u001b[0m\u001b[1;33m]\u001b[0m\u001b[1;33m)\u001b[0m\u001b[1;33m\u001b[0m\u001b[1;33m\u001b[0m\u001b[0m\n\u001b[0m\u001b[0;32m     22\u001b[0m     \u001b[0mP\u001b[0m \u001b[1;33m=\u001b[0m \u001b[0mP\u001b[0m\u001b[1;33m.\u001b[0m\u001b[0mreshape\u001b[0m\u001b[1;33m(\u001b[0m\u001b[0mx2\u001b[0m\u001b[1;33m.\u001b[0m\u001b[0mshape\u001b[0m\u001b[1;33m)\u001b[0m\u001b[1;33m\u001b[0m\u001b[1;33m\u001b[0m\u001b[0m\n\u001b[0;32m     23\u001b[0m     \u001b[0mplt\u001b[0m\u001b[1;33m.\u001b[0m\u001b[0mfigure\u001b[0m\u001b[1;33m(\u001b[0m\u001b[1;33m)\u001b[0m\u001b[1;33m\u001b[0m\u001b[1;33m\u001b[0m\u001b[0m\n",
      "\u001b[1;32m~\\anaconda3\\envs\\CPSC5610\\lib\\site-packages\\sklearn\\neural_network\\_multilayer_perceptron.py\u001b[0m in \u001b[0;36mpredict\u001b[1;34m(self, X)\u001b[0m\n\u001b[0;32m   1407\u001b[0m         \"\"\"\n\u001b[0;32m   1408\u001b[0m         \u001b[0mcheck_is_fitted\u001b[0m\u001b[1;33m(\u001b[0m\u001b[0mself\u001b[0m\u001b[1;33m)\u001b[0m\u001b[1;33m\u001b[0m\u001b[1;33m\u001b[0m\u001b[0m\n\u001b[1;32m-> 1409\u001b[1;33m         \u001b[0my_pred\u001b[0m \u001b[1;33m=\u001b[0m \u001b[0mself\u001b[0m\u001b[1;33m.\u001b[0m\u001b[0m_forward_pass_fast\u001b[0m\u001b[1;33m(\u001b[0m\u001b[0mX\u001b[0m\u001b[1;33m)\u001b[0m\u001b[1;33m\u001b[0m\u001b[1;33m\u001b[0m\u001b[0m\n\u001b[0m\u001b[0;32m   1410\u001b[0m         \u001b[1;32mif\u001b[0m \u001b[0my_pred\u001b[0m\u001b[1;33m.\u001b[0m\u001b[0mshape\u001b[0m\u001b[1;33m[\u001b[0m\u001b[1;36m1\u001b[0m\u001b[1;33m]\u001b[0m \u001b[1;33m==\u001b[0m \u001b[1;36m1\u001b[0m\u001b[1;33m:\u001b[0m\u001b[1;33m\u001b[0m\u001b[1;33m\u001b[0m\u001b[0m\n\u001b[0;32m   1411\u001b[0m             \u001b[1;32mreturn\u001b[0m \u001b[0my_pred\u001b[0m\u001b[1;33m.\u001b[0m\u001b[0mravel\u001b[0m\u001b[1;33m(\u001b[0m\u001b[1;33m)\u001b[0m\u001b[1;33m\u001b[0m\u001b[1;33m\u001b[0m\u001b[0m\n",
      "\u001b[1;32m~\\anaconda3\\envs\\CPSC5610\\lib\\site-packages\\sklearn\\neural_network\\_multilayer_perceptron.py\u001b[0m in \u001b[0;36m_forward_pass_fast\u001b[1;34m(self, X)\u001b[0m\n\u001b[0;32m    132\u001b[0m             \u001b[0mThe\u001b[0m \u001b[0mdecision\u001b[0m \u001b[0mfunction\u001b[0m \u001b[0mof\u001b[0m \u001b[0mthe\u001b[0m \u001b[0msamples\u001b[0m \u001b[1;32mfor\u001b[0m \u001b[0meach\u001b[0m \u001b[1;32mclass\u001b[0m \u001b[1;32min\u001b[0m \u001b[0mthe\u001b[0m \u001b[0mmodel\u001b[0m\u001b[1;33m.\u001b[0m\u001b[1;33m\u001b[0m\u001b[1;33m\u001b[0m\u001b[0m\n\u001b[0;32m    133\u001b[0m         \"\"\"\n\u001b[1;32m--> 134\u001b[1;33m         \u001b[0mX\u001b[0m \u001b[1;33m=\u001b[0m \u001b[0mself\u001b[0m\u001b[1;33m.\u001b[0m\u001b[0m_validate_data\u001b[0m\u001b[1;33m(\u001b[0m\u001b[0mX\u001b[0m\u001b[1;33m,\u001b[0m \u001b[0maccept_sparse\u001b[0m\u001b[1;33m=\u001b[0m\u001b[1;33m[\u001b[0m\u001b[1;34m'csr'\u001b[0m\u001b[1;33m,\u001b[0m \u001b[1;34m'csc'\u001b[0m\u001b[1;33m]\u001b[0m\u001b[1;33m,\u001b[0m \u001b[0mreset\u001b[0m\u001b[1;33m=\u001b[0m\u001b[1;32mFalse\u001b[0m\u001b[1;33m)\u001b[0m\u001b[1;33m\u001b[0m\u001b[1;33m\u001b[0m\u001b[0m\n\u001b[0m\u001b[0;32m    135\u001b[0m \u001b[1;33m\u001b[0m\u001b[0m\n\u001b[0;32m    136\u001b[0m         \u001b[1;31m# Initialize first layer\u001b[0m\u001b[1;33m\u001b[0m\u001b[1;33m\u001b[0m\u001b[1;33m\u001b[0m\u001b[0m\n",
      "\u001b[1;32m~\\anaconda3\\envs\\CPSC5610\\lib\\site-packages\\sklearn\\base.py\u001b[0m in \u001b[0;36m_validate_data\u001b[1;34m(self, X, y, reset, validate_separately, **check_params)\u001b[0m\n\u001b[0;32m    435\u001b[0m \u001b[1;33m\u001b[0m\u001b[0m\n\u001b[0;32m    436\u001b[0m         \u001b[1;32mif\u001b[0m \u001b[0mcheck_params\u001b[0m\u001b[1;33m.\u001b[0m\u001b[0mget\u001b[0m\u001b[1;33m(\u001b[0m\u001b[1;34m'ensure_2d'\u001b[0m\u001b[1;33m,\u001b[0m \u001b[1;32mTrue\u001b[0m\u001b[1;33m)\u001b[0m\u001b[1;33m:\u001b[0m\u001b[1;33m\u001b[0m\u001b[1;33m\u001b[0m\u001b[0m\n\u001b[1;32m--> 437\u001b[1;33m             \u001b[0mself\u001b[0m\u001b[1;33m.\u001b[0m\u001b[0m_check_n_features\u001b[0m\u001b[1;33m(\u001b[0m\u001b[0mX\u001b[0m\u001b[1;33m,\u001b[0m \u001b[0mreset\u001b[0m\u001b[1;33m=\u001b[0m\u001b[0mreset\u001b[0m\u001b[1;33m)\u001b[0m\u001b[1;33m\u001b[0m\u001b[1;33m\u001b[0m\u001b[0m\n\u001b[0m\u001b[0;32m    438\u001b[0m \u001b[1;33m\u001b[0m\u001b[0m\n\u001b[0;32m    439\u001b[0m         \u001b[1;32mreturn\u001b[0m \u001b[0mout\u001b[0m\u001b[1;33m\u001b[0m\u001b[1;33m\u001b[0m\u001b[0m\n",
      "\u001b[1;32m~\\anaconda3\\envs\\CPSC5610\\lib\\site-packages\\sklearn\\base.py\u001b[0m in \u001b[0;36m_check_n_features\u001b[1;34m(self, X, reset)\u001b[0m\n\u001b[0;32m    364\u001b[0m         \u001b[1;32mif\u001b[0m \u001b[0mn_features\u001b[0m \u001b[1;33m!=\u001b[0m \u001b[0mself\u001b[0m\u001b[1;33m.\u001b[0m\u001b[0mn_features_in_\u001b[0m\u001b[1;33m:\u001b[0m\u001b[1;33m\u001b[0m\u001b[1;33m\u001b[0m\u001b[0m\n\u001b[0;32m    365\u001b[0m             raise ValueError(\n\u001b[1;32m--> 366\u001b[1;33m                 \u001b[1;34mf\"X has {n_features} features, but {self.__class__.__name__} \"\u001b[0m\u001b[1;33m\u001b[0m\u001b[1;33m\u001b[0m\u001b[0m\n\u001b[0m\u001b[0;32m    367\u001b[0m                 f\"is expecting {self.n_features_in_} features as input.\")\n\u001b[0;32m    368\u001b[0m \u001b[1;33m\u001b[0m\u001b[0m\n",
      "\u001b[1;31mValueError\u001b[0m: X has 2 features, but MLPRegressor is expecting 17 features as input."
     ]
    }
   ],
   "source": [
    "X_train, X_test, y_train, y_test = train_test_split(X, y, random_state=0)\n",
    "\n",
    "# model training with two hidden layers\n",
    "nnclf = MLPRegressor(hidden_layer_sizes = [10,20,50,100], solver='lbfgs',\n",
    "                     random_state = 0).fit(X_train, y_train)\n",
    "\n",
    "numClasses = int(np.amax(y)) + 1\n",
    "print(numClasses)\n",
    "color_list_light = ['#FFFFAA', '#EFEFEF', '#AAFFAA', '#AAAAFF']\n",
    "print(ListedColormap(color_list_light[0:numClasses]))\n",
    "plot_class_regions_for_classifier(nnclf, X_train, y_train, X_test, y_test, 'Airline : Neural net classifier, 2 layers, 10/10 units')"
   ]
  },
  {
   "cell_type": "markdown",
   "metadata": {},
   "source": [
    "### (1) Multivariate linear regression modeling"
   ]
  },
  {
   "cell_type": "code",
   "execution_count": null,
   "metadata": {},
   "outputs": [],
   "source": [
    "t = [x/10 for x in range(1, 9)]\n",
    "plt.figure()\n",
    "name = 'Multivariate linear regression modeling'\n",
    "mean_test_r2=[]\n",
    "mean_train_r2 = []\n",
    "for s in t:\n",
    "\n",
    "    train_R2_score = []\n",
    "    test_R2_score = []\n",
    "    y_pred = []\n",
    "    RMSE_score = []\n",
    "    for i in range(1,100):\n",
    "        X_train, X_test, y_train, y_test = train_test_split(X, y, test_size = 1-s)\n",
    "        #tree_clf.fit(X_train, y_train)\n",
    "        linreg = LinearRegression().fit(X_train, y_train)\n",
    "        train_R2_score.append(linreg.score(X_train, y_train))\n",
    "        test_R2_score.append(linreg.score(X_test, y_test))\n",
    "        yPred = linreg.predict(X_test)\n",
    "        y_pred.append(linreg.predict(X_test))\n",
    "        RMSE_score.append(np.sqrt(metrics.mean_squared_error(y_test, yPred)))\n",
    "    testR2 = np.mean(test_R2_score)\n",
    "    trainR2 = np.mean(train_R2_score)\n",
    "    mean_test_r2.append(testR2)\n",
    "    mean_train_r2.append(trainR2)\n",
    "    plt.plot(s, np.mean(test_R2_score), 'bo')\n",
    "    plt.plot(s, np.mean(train_R2_score), 'rx')\n",
    "    plt.legend(['train_R2_score', 'test_R2_score'], loc='best')\n",
    "    plt.title(name)\n",
    "        \n",
    "\n",
    "\n",
    "plt.xlabel('Training set proportion (%)')\n",
    "plt.ylabel('accuracy')\n",
    "save_fig(name)"
   ]
  },
  {
   "cell_type": "code",
   "execution_count": null,
   "metadata": {},
   "outputs": [],
   "source": [
    "# Plot learning curve\n",
    "fig, ax = plt.subplots(1, 1, figsize=(5, 3))\n",
    "    \n",
    "ax.set_title('Multivariate linear regression modeling')\n",
    "ax.set_xlabel(\"Training set proportion (%)\")\n",
    "ax.set_ylabel(\"Accuracy\")\n",
    "ax.grid()\n",
    "\n",
    "ax.plot(t, mean_test_r2, 'o-', color=\"r\", label=\"Mean Test score\")\n",
    "ax.plot(t, mean_train_r2, 'o-', color=\"g\", label=\"Mean Train score\")\n",
    "ax.legend(loc=\"best\")\n",
    "\n",
    "plt.show()"
   ]
  },
  {
   "cell_type": "code",
   "execution_count": null,
   "metadata": {},
   "outputs": [],
   "source": [
    "X_train, X_test, y_train, y_test = train_test_split(X, y, test_size=0.30)\n",
    "linreg = LinearRegression().fit(X_train, y_train)\n",
    "\n",
    "print('linear model original data intercept (b): {:.3f}'.format(linreg.intercept_))\n",
    "print('linear model original data coeff (w): {}'.format(linreg.coef_))\n",
    "\n",
    "# train data R2\n",
    "print('R-squared score (training): {:.3f}'.format(linreg.score(X_train, y_train)))\n",
    "# test data R2\n",
    "print('R-squared score (test): {:.3f}'.format(linreg.score(X_test, y_test)))\n",
    "\n",
    "# make predictions on the testing set and print RMSE\n",
    "y_pred = linreg.predict(X_test)\n",
    "print('RMSE: {:.3f}'.format(np.sqrt(metrics.mean_squared_error(y_test, y_pred))))"
   ]
  },
  {
   "cell_type": "code",
   "execution_count": null,
   "metadata": {},
   "outputs": [],
   "source": [
    "fig = plt.figure()\n",
    "plt.bar(normalizedData[Xcol].columns, linreg.coef_, width=0.8, bottom=None, align='center')\n",
    "plt.title(\"coeffiences of linear regression\")\n",
    "fig.autofmt_xdate()"
   ]
  },
  {
   "cell_type": "code",
   "execution_count": null,
   "metadata": {},
   "outputs": [],
   "source": [
    "from sklearn.model_selection import learning_curve\n",
    "    \n",
    "# evaluate the training and testing and retrieve the information of model performance. \n",
    "\n",
    "train_sizes = np.linspace(0.2,0.8,5)  # 5 times 5*3 = 15\n",
    "\n",
    "train_sizes, train_mse, test_mse = learning_curve(linreg, X, y, \n",
    "                            train_sizes = train_sizes, \n",
    "                            scoring = 'neg_mean_squared_error',\n",
    "                                                 cv=3, shuffle=True)\n",
    "train_scores = np.sqrt(np.abs(train_mse))\n",
    "\n",
    "test_scores = np.sqrt(np.abs(test_mse))\n",
    "\n",
    "train_scores_mean=np.mean(train_scores, axis=1)\n",
    "\n",
    "test_scores_mean = np.mean(test_scores, axis=1)\n",
    "\n",
    "# Plot learning curve\n",
    "fig, ax = plt.subplots(1, 1, figsize=(5, 3))\n",
    "    \n",
    "ax.set_title('A learning curve for a simple linear regression')\n",
    "ax.set_xlabel(\"Training examples\")\n",
    "ax.set_ylabel(\"Score (RMSE)\")\n",
    "ax.grid()\n",
    "\n",
    "ax.plot(train_sizes, train_scores_mean, 'o-', color=\"r\", label=\"Training score\")\n",
    "ax.plot(train_sizes, test_scores_mean, 'o-', color=\"g\", label=\"Cross-validation score\")\n",
    "ax.legend(loc=\"best\")\n",
    "\n",
    "plt.show()\n",
    "\n"
   ]
  },
  {
   "cell_type": "markdown",
   "metadata": {},
   "source": [
    "### Obtain theta using close form\n",
    "\n",
    "<img src=\"images/cf.png\" style=\"width: 200px;\">\n",
    "read pp. 118 - 122 of A. Geron textbook"
   ]
  },
  {
   "cell_type": "markdown",
   "metadata": {},
   "source": [
    "### (2) Multivariate linear regression model with gradient descent "
   ]
  },
  {
   "cell_type": "code",
   "execution_count": null,
   "metadata": {},
   "outputs": [],
   "source": [
    "# learning rate\n",
    "alpha = 0.01\n",
    "\n",
    "# number of iterations\n",
    "n_iter = 100\n",
    "\n",
    "# the number of data points\n",
    "n = 100\n",
    "\n",
    "# random initialization to theta. \n",
    "# Return samples (11 values for theta0 and theta1) from the “standard normal” distribution.\n",
    "theta = np.random.randn(11, 1)\n",
    "print('initial theta: \\n', theta)\n",
    "\n",
    "# the process of gradient descent\n",
    "for iteration in range(n_iter):\n",
    "    gradients = (1/n) * X_train.T.dot(X_train.dot(theta) - y_train)\n",
    "    theta = theta - alpha*gradients\n",
    "\n",
    "t = [0,1,2,3,4,5,6,7,8,9,10]\n",
    "print('best theta: \\n', theta)\n",
    "#theta_best = np.linalg.inv(X_b.T.dot(X_b)).dot(X_b.T).dot(y_R1)\n",
    "#print(theta_best)"
   ]
  },
  {
   "cell_type": "code",
   "execution_count": null,
   "metadata": {},
   "outputs": [],
   "source": [
    "r2_train = []\n",
    "linridge = []\n",
    "r2_test = []\n",
    "num_coeff_bigger =[]\n",
    "alpha_Range = [0.2,0.4,0.6, 1, 5, 10, 15, 20, 25, 50, 75,100]\n",
    "for this_alpha in alpha_Range:\n",
    "    linridge_val = Ridge(alpha = this_alpha).fit(X_train, y_train)\n",
    "    linridge.append(linridge_val)\n",
    "    r2_train.append(linridge_val.score(X_train, y_train))\n",
    "    r2_test.append(linridge_val.score(X_test, y_test))\n",
    "    num_coeff_bigger.append(np.sum(abs(linridge_val.coef_) > 1.0))\n",
    "    #print('Alpha = {:.2f}\\nnum abs(coeff) > 1.0: {}, \\\n",
    "#r-squared training: {:.2f}, r-squared test: {:.2f}\\n'\n",
    "         #.format(this_alpha, num_coeff_bigger, r2_train, r2_test))\n",
    "\n",
    "y_predict = X_test.dot(theta)\n",
    "\n",
    "# Plot learning curve\n",
    "fig, ax = plt.subplots(1, 1, figsize=(8, 3))\n",
    "    \n",
    "ax.set_title('Ridge regression: effect of alpha regularization parameter\\n')\n",
    "ax.set_xlabel(\"Alpha Range\")\n",
    "ax.set_ylabel(\"Score (R_2)\")\n",
    "ax.grid()\n",
    "\n",
    "ax.plot(alpha_Range, r2_train, 'o-', color=\"r\", label=\"Training score\")\n",
    "ax.plot(alpha_Range, r2_test, 'o-', color=\"b\", label=\"Testing score\")\n",
    "ax.legend(loc=\"best\")\n",
    "\n",
    "plt.show()\n"
   ]
  },
  {
   "cell_type": "markdown",
   "metadata": {},
   "source": [
    "### Linear regression using batch gradient descent"
   ]
  },
  {
   "cell_type": "code",
   "execution_count": null,
   "metadata": {},
   "outputs": [],
   "source": [
    "def batch_Gradient_Descent(alpha):\n",
    "    # learning rate\n",
    "    print(\"alpha=============,\", alpha)\n",
    "    #alpha = 0.0001\n",
    "    #alpha = 0.0002\n",
    "\n",
    "    # number of iterations\n",
    "    #n_iter = 2000\n",
    "    n_iter = 200\n",
    "\n",
    "    # the number of data points\n",
    "    n = 11\n",
    "    theta = np.random.randn(11, 1)\n",
    "\n",
    "    preCost = sys.maxsize\n",
    "    bestCost = preCost\n",
    "\n",
    "    preTheta = np.random.randn(11, 1)\n",
    "    bestTheta = preTheta\n",
    "\n",
    "    changeCost = bestCost\n",
    "\n",
    "    # the process of gradient descent\n",
    "    for iteration in range(n_iter):\n",
    "        gradients = (1/n) * X_train.T.dot(X_train.dot(theta) - np.vstack(y_train))\n",
    "        theta = theta - alpha*gradients\n",
    "\n",
    "        cost = (X_train.dot(theta) - np.vstack(y_train)).T.dot(X_train.dot(theta) - np.vstack(y_train))[0][0] * (1/(2*n))\n",
    "        if preCost-cost>0:\n",
    "            bestCost = cost\n",
    "            bestTheta = theta\n",
    "            changeCost = preCost-cost\n",
    "            #print(preCost-cost)\n",
    "        else:\n",
    "            break\n",
    "            #print(preCost-cost)\n",
    "\n",
    "        preCost = cost\n",
    "        preTheta = theta    \n",
    "    print(\"bestCost:\",bestCost)\n",
    "    #print(bestTheta)\n",
    "    print(\"preCost-cost:\",changeCost)\n",
    "\n",
    "    theta = bestTheta\n",
    "    #print('best theta: \\n', theta)\n",
    "\n",
    "    y_train_predict = X_train.dot(theta)\n",
    "    train_error = np.sqrt(metrics.mean_squared_error(y_train, y_train_predict))\n",
    "    print('training RMSE: {:.3f}'.format(train_error))\n",
    "\n",
    "    y_test_predict = X_test.dot(theta)\n",
    "    test_error = np.sqrt(metrics.mean_squared_error(y_test, y_test_predict))\n",
    "    print('testing RMSE: {:.3f}\\n'.format(test_error))\n",
    "    \n",
    "    return train_error, test_error"
   ]
  },
  {
   "cell_type": "code",
   "execution_count": null,
   "metadata": {},
   "outputs": [],
   "source": [
    "y_predict = X_test.dot(theta)\n",
    "print(y_predict)"
   ]
  },
  {
   "cell_type": "markdown",
   "metadata": {},
   "source": [
    "### Alpah"
   ]
  },
  {
   "cell_type": "code",
   "execution_count": null,
   "metadata": {},
   "outputs": [],
   "source": [
    "alpha_sizes = [0.00001,0.0000125, 0.000015, 0.0000175, 0.00002, 0.000025,0.000030,0.000035, 0.000040,0.000045, \\\n",
    "               0.00005, 0.000075,0.0001,0.000125, 0.00015]#, 0.000175, 0.0002, 0.0005, 0.00075, 0.001]\n",
    "train_errors = []\n",
    "test_errors = []\n",
    "\n",
    "for alpha in alpha_sizes:\n",
    "    train_error, test_error= batch_Gradient_Descent(alpha)\n",
    "    print(train_error, test_error)\n",
    "    train_errors.append(train_error)\n",
    "    test_errors.append(test_error)"
   ]
  },
  {
   "cell_type": "code",
   "execution_count": null,
   "metadata": {},
   "outputs": [],
   "source": [
    "# Plot learning curve\n",
    "fig, ax = plt.subplots(1, 1, figsize=(5, 3))\n",
    "\n",
    "ax.set_title('A learning curve for a Batch gradian regression')\n",
    "ax.set_xlabel(\"alpha\")\n",
    "ax.set_ylabel(\"Score (RMSE)\")\n",
    "ax.grid()\n",
    "\n",
    "ax.plot(alpha_sizes, train_errors, 'o-', color=\"r\", label=\"Training score\")\n",
    "ax.plot(alpha_sizes, test_errors, 'o-', color=\"g\", label=\"Cross-validation score\")\n",
    "for tick in ax.get_xticklabels(): \n",
    "    tick.set_rotation(25) \n",
    "ax.legend(loc=\"best\")\n",
    "\n",
    "plt.show()"
   ]
  },
  {
   "cell_type": "markdown",
   "metadata": {},
   "source": [
    "### theta"
   ]
  },
  {
   "cell_type": "code",
   "execution_count": null,
   "metadata": {},
   "outputs": [],
   "source": [
    "\n",
    "# learning rate\n",
    "#alpha = 0.0000125\n",
    "alpha = 0.0001\n",
    "#alpha = 0.0002\n",
    "\n",
    "# number of iterations\n",
    "n_iter = 10000\n",
    "#n_iter = 100\n",
    "\n",
    "# the number of data points\n",
    "n = 11\n",
    "theta = np.random.randn(11, 1)\n",
    "#theta = bestTheta\n",
    "\n",
    "preCost = sys.maxsize\n",
    "bestCost = preCost\n",
    "\n",
    "preTheta = np.random.randn(11, 1)\n",
    "bestTheta = preTheta\n",
    "\n",
    "changeCost = bestCost\n",
    "\n",
    "# the process of gradient descent\n",
    "for iteration in range(n_iter):\n",
    "    gradients = (1/n) * X_train.T.dot(X_train.dot(theta) - np.vstack(y_train))\n",
    "    theta = theta - alpha*gradients\n",
    "\n",
    "    cost = (X_train.dot(theta) - np.vstack(y_train)).T.dot(X_train.dot(theta) - np.vstack(y_train))[0][0] * (1/(2*n))\n",
    "    if preCost-cost>0:\n",
    "        bestCost = cost\n",
    "        bestTheta = theta\n",
    "        changeCost = preCost-cost\n",
    "        #print(preCost-cost)\n",
    "    else:\n",
    "        break\n",
    "        #print(preCost-cost)\n",
    "\n",
    "    preCost = cost\n",
    "    preTheta = theta    \n",
    "print(\"bestCost:\",bestCost)\n",
    "print(bestTheta)\n",
    "print(\"preCost-cost:\",changeCost)\n",
    "\n",
    "theta = bestTheta\n",
    "#print('best theta: \\n', theta)\n",
    "\n",
    "y_train_predict = X_train.dot(theta)\n",
    "train_error = np.sqrt(metrics.mean_squared_error(y_train, y_train_predict))\n",
    "print('training RMSE: {:.3f}'.format(train_error))\n",
    "\n",
    "y_test_predict = X_test.dot(theta)\n",
    "test_error = np.sqrt(metrics.mean_squared_error(y_test, y_test_predict))\n",
    "print('testing RMSE: {:.3f}\\n'.format(test_error))"
   ]
  },
  {
   "cell_type": "code",
   "execution_count": null,
   "metadata": {},
   "outputs": [],
   "source": [
    "import numpy\n",
    "def rsq(actual, predict):\n",
    "    corr_matrix = numpy.corrcoef(actual, predict)\n",
    "    corr = corr_matrix[0,1]\n",
    "    R_sq = corr**2\n",
    "\n",
    "    #print(R_sq)\n",
    "    return R_sq"
   ]
  },
  {
   "cell_type": "code",
   "execution_count": null,
   "metadata": {},
   "outputs": [],
   "source": [
    "theta = bestTheta\n",
    "#print('best theta: \\n', theta)\n",
    "\n",
    "train_score = rsq(y_train, np.hstack(y_train_predict))\n",
    "print('training R squared: {:.3f}'.format(train_score))\n",
    "\n",
    "y_train_predict = X_train.dot(theta)\n",
    "train_error = np.sqrt(metrics.mean_squared_error(y_train, y_train_predict))\n",
    "#print(np.hstack(y_train_predict))\n",
    "print('training RMSE: {:.3f}'.format(train_error))\n",
    "\n",
    "test_score = rsq(y_test, np.hstack(y_test_predict))\n",
    "print('testing R squared: {:.3f}'.format(test_score))\n",
    "\n",
    "y_test_predict = X_test.dot(theta)\n",
    "test_error = np.sqrt(metrics.mean_squared_error(y_test, y_test_predict))\n",
    "#print(np.hstack(y_test_predict))\n",
    "print('testing RMSE: {:.3f}\\n'.format(test_error))"
   ]
  },
  {
   "cell_type": "markdown",
   "metadata": {},
   "source": [
    "### trainin test splits "
   ]
  },
  {
   "cell_type": "code",
   "execution_count": null,
   "metadata": {},
   "outputs": [],
   "source": [
    "theta = bestTheta\n",
    "\n",
    "train_errors = []\n",
    "test_errors = []\n",
    "\n",
    "train_sizes = np.linspace(0.1, 0.90, 10)\n",
    "\n",
    "for train_size in train_sizes:\n",
    "    # random initialization to theta. \n",
    "    # Return samples (11 values for theta0 and theta1) from the “standard normal” distribution.\n",
    "    test_size = 1 - train_size\n",
    "    \n",
    "    X_train, X_test, y_train, y_test = train_test_split(X, y, test_size=test_size)\n",
    "    \n",
    "    print(\"test_size = : \", test_size)\n",
    "\n",
    "    y_train_predict = X_train.dot(theta)\n",
    "    train_error = np.sqrt(metrics.mean_squared_error(y_train, y_train_predict))\n",
    "    print('training RMSE: {:.3f}'.format(train_error))\n",
    "    train_errors.append(np.sqrt(train_error))\n",
    "\n",
    "    y_test_predict = X_test.dot(theta)\n",
    "    test_error = np.sqrt(metrics.mean_squared_error(y_test, y_test_predict))\n",
    "    print('testing RMSE: {:.3f}\\n'.format(test_error))\n",
    "    test_errors.append(np.sqrt(test_error))"
   ]
  },
  {
   "cell_type": "code",
   "execution_count": null,
   "metadata": {},
   "outputs": [],
   "source": [
    "\n",
    "# Plot learning curve\n",
    "fig, ax = plt.subplots(1, 1, figsize=(5, 3))\n",
    "    \n",
    "ax.set_title('A learning curve for Batch Gradient Descent regression')\n",
    "ax.set_xlabel(\"Training examples\")\n",
    "ax.set_ylabel(\"Score (RMSE)\")\n",
    "ax.grid()\n",
    "\n",
    "ax.plot(train_sizes, train_errors, 'o-', color=\"r\", label=\"Training score\")\n",
    "ax.plot(train_sizes, test_errors, 'o-', color=\"g\", label=\"Cross-validation score\")\n",
    "ax.legend(loc=\"best\")\n",
    "\n",
    "plt.show()"
   ]
  },
  {
   "cell_type": "code",
   "execution_count": null,
   "metadata": {},
   "outputs": [],
   "source": [
    "np.hstack(theta)[0:]"
   ]
  },
  {
   "cell_type": "code",
   "execution_count": null,
   "metadata": {},
   "outputs": [],
   "source": [
    "normalizedData[Xcol].columns"
   ]
  },
  {
   "cell_type": "markdown",
   "metadata": {},
   "source": [
    "### bar chart for best theta "
   ]
  },
  {
   "cell_type": "code",
   "execution_count": null,
   "metadata": {},
   "outputs": [],
   "source": [
    "fig = plt.figure()\n",
    "plt.bar(normalizedData[Xcol].columns, np.hstack(theta)[0:], width=0.8, bottom=None, align='center')\n",
    "plt.title(\"Best Theta of Batch Gradient Descent\")\n",
    "fig.autofmt_xdate()"
   ]
  },
  {
   "cell_type": "markdown",
   "metadata": {},
   "source": [
    "### (3) Regularized linear regression models with feature normalization\n",
    "Ridge regression model "
   ]
  },
  {
   "cell_type": "code",
   "execution_count": null,
   "metadata": {},
   "outputs": [],
   "source": [
    "from sklearn.linear_model import RidgeCV\n",
    "print('Ridge regression: effect of alpha regularization parameter\\n')\n",
    "train_errors = []\n",
    "test_errors = []\n",
    "\n",
    "train_R_sq= []\n",
    "test_R_sq = []\n",
    "\n",
    "alpha_sizes = [0, 0.0001, 0.001, 0.01, 0.02, 0.05, 0.075, 0.1,0.2]#,0.3,0.4, 0.5, 0.6, 0.7,0.8,0.9, 1]\n",
    "\n",
    "for this_alpha in alpha_sizes:\n",
    "    linridge = RidgeCV(alphas = [this_alpha],cv = 10).fit(X_train, y_train)\n",
    "    \n",
    "    r2_train = linridge.score(X_train, y_train)\n",
    "    train_R_sq.append(r2_train)\n",
    "    r2_test = linridge.score(X_test, y_test)\n",
    "    test_R_sq.append(r2_test)\n",
    "    num_coeff_bigger = np.sum(abs(linridge.coef_) > 1.0)\n",
    "    \n",
    "    print('Alpha = {:.2f}\\nnum abs(coeff) > 1.0: {}, \\\n",
    "                    r-squared training: {:.2f}, r-squared test: {:.2f}'\n",
    "         .format(this_alpha, num_coeff_bigger, r2_train, r2_test))\n",
    "    \n",
    "    y_pred = linridge.predict(X_train)\n",
    "    train_error = np.sqrt(metrics.mean_squared_error(y_train, y_pred))\n",
    "    print('Training RMSE: {:.3f}'.format(train_error))\n",
    "    train_errors.append(train_error)\n",
    "\n",
    "    # make predictions on the testing set\n",
    "    y_pred = linridge.predict(X_test)\n",
    "    test_error = np.sqrt(metrics.mean_squared_error(y_test, y_pred))\n",
    "    print('Testing RMSE: {:.3f}\\n'.format(test_error))\n",
    "    test_errors.append(test_error)"
   ]
  },
  {
   "cell_type": "code",
   "execution_count": null,
   "metadata": {},
   "outputs": [],
   "source": [
    "# Plot learning curve\n",
    "fig, ax = plt.subplots(1, 1, figsize=(5, 3))\n",
    "\n",
    "ax.set_title('A learning curve for a Ridge linear regression')\n",
    "ax.set_xlabel(\"Alpha number\")\n",
    "ax.set_ylabel(\"Score (RMSE)\")\n",
    "ax.grid()\n",
    "\n",
    "ax.plot(alpha_sizes, train_errors, 'o-', color=\"r\", label=\"Training score\")\n",
    "ax.plot(alpha_sizes, test_errors, 'o-', color=\"g\", label=\"Cross-validation score\")\n",
    "ax.legend(loc=\"best\")\n",
    "\n",
    "plt.show()"
   ]
  },
  {
   "cell_type": "code",
   "execution_count": null,
   "metadata": {},
   "outputs": [],
   "source": [
    "# change the parameter values for range of lower and upper bound of training data size\n",
    "# and the number of iterations, and see the changes in the learning curve. \n",
    "train_sizes = np.linspace(0.1, 0.90, 10)\n",
    "\n",
    "linridge = Ridge(alpha=0.01)\n",
    "\n",
    "train_sizes, train_mse, test_mse = \\\n",
    "            learning_curve(linridge, X, y, scoring='neg_mean_squared_error', \n",
    "                           train_sizes = train_sizes, cv=10, shuffle=True, random_state=1)\n",
    "    \n",
    "train_scores = np.sqrt(np.abs(train_mse))\n",
    "test_scores = np.sqrt(np.abs(test_mse))\n",
    "#print(train_scores)\n",
    "#print(test_scores)\n",
    "\n",
    "train_scores_mean = np.mean(train_scores, axis=1)\n",
    "\n",
    "test_scores_mean = np.mean(test_scores, axis=1)\n",
    "print(\"training RMSE: \",train_scores_mean)\n",
    "print(\"testing RMSE: \", test_scores_mean)"
   ]
  },
  {
   "cell_type": "code",
   "execution_count": null,
   "metadata": {},
   "outputs": [],
   "source": [
    "# Plot learning curve\n",
    "fig, ax = plt.subplots(1, 1, figsize=(5, 3))\n",
    "    \n",
    "ax.set_title('A learning curve for a Ridge regression')\n",
    "ax.set_xlabel(\"Training examples\")\n",
    "ax.set_ylabel(\"Score (RMSE)\")\n",
    "ax.grid()\n",
    "\n",
    "ax.plot(train_sizes, train_scores_mean, 'o-', color=\"r\", label=\"Training score\")\n",
    "ax.plot(train_sizes, test_scores_mean, 'o-', color=\"g\", label=\"Cross-validation score\")\n",
    "ax.legend(loc=\"best\")\n",
    "\n",
    "plt.show()\n"
   ]
  },
  {
   "cell_type": "code",
   "execution_count": null,
   "metadata": {},
   "outputs": [],
   "source": [
    "from sklearn.linear_model import Ridge\n",
    "\n",
    "r2_train = []\n",
    "linridge = []\n",
    "r2_test = []\n",
    "yPredicts = []\n",
    "rmse = []\n",
    "intercept_s = []\n",
    "coef_s = []\n",
    "\n",
    "\n",
    "alpha_Range = [0.001,0.005,0.01,0.02, 0.05, 0.1, 0.2, 0.5, 1, 2, 5]\n",
    "\n",
    "\n",
    "\n",
    "for this_alpha in alpha_Range:\n",
    "    linridge_val = Ridge(alpha = this_alpha).fit(X_train, y_train)\n",
    "    linridge.append(linridge_val)\n",
    "    r2_train.append(linridge_val.score(X_train, y_train))\n",
    "    r2_test.append(linridge_val.score(X_test, y_test))\n",
    "    y_pred = linridge_val.predict(X_test)\n",
    "    yPredicts.append(y_pred)\n",
    "    rmse.append(np.sqrt(metrics.mean_squared_error(y_test, y_pred)))\n",
    "    intercept_s.append(linridge_val.intercept_)\n",
    "    coef_s.append(linridge_val.coef_)\n",
    "    #print('Alpha = {:.2f}\\nnum abs(coeff) > 1.0: {}, \\\n",
    "#r-squared training: {:.2f}, r-squared test: {:.2f}\\n'\n",
    "         #.format(this_alpha, num_coeff_bigger, r2_train, r2_test))\n",
    "\n",
    "\n",
    "# Plot learning curve\n",
    "fig, ax = plt.subplots(1, 1, figsize=(8, 3))\n",
    "    \n",
    "ax.set_title('Airline dataset: Ridge regression model\\n')\n",
    "ax.set_xlabel(\"Alpha Range\")\n",
    "ax.set_ylabel(\"Score (R_2)\")\n",
    "ax.grid()\n",
    "\n",
    "ax.plot(alpha_Range, r2_train, 'o-', color=\"r\", label=\"R-squared score (training)\")\n",
    "ax.plot(alpha_Range, r2_test, 'o-', color=\"g\", label=\"R-squared score (test)\")\n",
    "ax.legend(loc=\"best\")\n",
    "\n",
    "plt.show()\n"
   ]
  },
  {
   "cell_type": "markdown",
   "metadata": {},
   "source": [
    "### K cross validation "
   ]
  },
  {
   "cell_type": "code",
   "execution_count": null,
   "metadata": {},
   "outputs": [],
   "source": [
    "X_train, X_test, y_train, y_test = train_test_split(X, y, test_size=test_size)"
   ]
  },
  {
   "cell_type": "code",
   "execution_count": null,
   "metadata": {},
   "outputs": [],
   "source": [
    "from sklearn.linear_model import RidgeCV\n",
    "\n",
    "linridge = RidgeCV(alphas=[1e-3, 1e-2, 1e-1, 1], cv = 10).fit(X, y)\n",
    "\n",
    "print('ridge regression linear model alpha: {}'.format(linridge.alpha_))\n",
    "print('ridge regression linear model intercept: {}'.format(linridge.intercept_))\n",
    "print('ridge regression linear model coeff:\\n{}'.format(linridge.coef_))\n",
    "\n",
    "print('R-squared score (training): {:.3f}'.format(linridge.score(X_train, y_train)))\n",
    "\n",
    "print('R-squared score (test): {:.3f}'.format(linridge.best_score_))\n",
    "\n",
    "# make predictions on the testing set and print RMSE\n",
    "y_pred = linridge.predict(X_test)\n",
    "print('RMSE: {:.3f}'.format(np.sqrt(metrics.mean_squared_error(y_test, y_pred))))"
   ]
  },
  {
   "cell_type": "code",
   "execution_count": null,
   "metadata": {},
   "outputs": [],
   "source": [
    "from sklearn.linear_model import Ridge\n",
    "\n",
    "linridge = Ridge(alpha=0.001).fit(X_train, y_train)\n",
    "\n",
    "print('Airline dataset')\n",
    "\n",
    "print('R-squared score (training): {:.3f}'\n",
    "     .format(linridge.score(X_train, y_train)))\n",
    "print('R-squared score (test): {:.3f}'\n",
    "     .format(linridge.score(X_test, y_test)))\n",
    "\n",
    "# make predictions on the testing set\n",
    "y_pred = linridge.predict(X_test)\n",
    "print('RMSE: {:.3f}'.format(np.sqrt(metrics.mean_squared_error(y_test, y_pred))))\n",
    "\n",
    "print('ridge regression linear model intercept: {}'.format(linridge.intercept_))\n",
    "print('ridge regression linear model coeff:\\n{}'.format(linridge.coef_))\n",
    "\n",
    "print('Number of non-zero features: {}'.format(np.sum(linridge.coef_ != 0)))"
   ]
  },
  {
   "cell_type": "code",
   "execution_count": null,
   "metadata": {},
   "outputs": [],
   "source": [
    "fig = plt.figure()\n",
    "plt.bar(normalizedData[Xcol].columns, linridge.coef_, width=0.8, bottom=None, align='center')\n",
    "plt.title(\"coeffiences of Ridge Regression\")\n",
    "fig.autofmt_xdate()"
   ]
  },
  {
   "cell_type": "code",
   "execution_count": null,
   "metadata": {},
   "outputs": [],
   "source": [
    "print('Ridge regression: effect of alpha regularization parameter\\n')\n",
    "for this_alpha in [0, 1, 10, 20, 50, 100, 1000]:\n",
    "    linridge = Ridge(alpha = this_alpha).fit(X_train, y_train)\n",
    "    r2_train = linridge.score(X_train, y_train)\n",
    "    r2_test = linridge.score(X_test, y_test)\n",
    "    num_coeff_bigger = np.sum(abs(linridge.coef_) > 1.0)\n",
    "    print('Alpha = {:.2f}\\nnum abs(coeff) > 1.0: {}, \\\n",
    "r-squared training: {:.2f}, r-squared test: {:.2f}\\n'\n",
    "         .format(this_alpha, num_coeff_bigger, r2_train, r2_test))"
   ]
  },
  {
   "cell_type": "markdown",
   "metadata": {},
   "source": [
    "### Lasso regression model "
   ]
  },
  {
   "cell_type": "code",
   "execution_count": null,
   "metadata": {},
   "outputs": [],
   "source": [
    "from sklearn.linear_model import Lasso\n",
    "\n",
    "linlasso = Lasso(alpha=0.001).fit(X_train, y_train)\n",
    "\n",
    "print('Airline dataset')\n",
    "\n",
    "print('R-squared score (training): {:.3f}'\n",
    "     .format(linlasso.score(X_train, y_train)))\n",
    "print('R-squared score (test): {:.3f}\\n'\n",
    "     .format(linlasso.score(X_test, y_test)))\n",
    "\n",
    "# make predictions on the testing set\n",
    "y_pred = linlasso.predict(X_test)\n",
    "print('RMSE: {:.3f}'.format(np.sqrt(metrics.mean_squared_error(y_test, y_pred))))\n",
    "    \n",
    "print('lasso regression linear model intercept: {}'.format(linlasso.intercept_))\n",
    "print('lasso regression linear model coeff:\\n{}'.format(linlasso.coef_))\n",
    "\n",
    "print('Non-zero features: {}'.format(np.sum(linlasso.coef_ != 0)))\n",
    " \n",
    "print('Features with non-zero weight (sorted by absolute magnitude):')\n",
    "for e in sorted (list(zip(list(X), linlasso.coef_)),\n",
    "                key = lambda e: -abs(e[1])):\n",
    "    if e[1] != 0:\n",
    "        print('\\t{}, {:.3f}'.format(e[0], e[1]))"
   ]
  },
  {
   "cell_type": "markdown",
   "metadata": {},
   "source": [
    "### Lasso with different lambdas\n",
    "Apply the Lasso regression on the training set with the following λ parameters: (0.0001, 0.0005, 0.0007,0.001,0.002, 0.004, 0.007, 0.01, 0.015,0.02). Evaluate the R^2 score for all the models you obtain on both the train and test sets."
   ]
  },
  {
   "cell_type": "markdown",
   "metadata": {},
   "source": [
    "### Plot values as function of lambda \n",
    "Plot all values for both data sets (train and test \n",
    "R2-values) as a function of λ. Comment on your findings."
   ]
  },
  {
   "cell_type": "code",
   "execution_count": null,
   "metadata": {},
   "outputs": [],
   "source": [
    "lambdas = (0.001, 0.01, 0.1, 0.5, 1, 2, 10)\n",
    "l_num = 7\n",
    "pred_num = X.shape[1]\n",
    "\n",
    "# prepare data for enumerate\n",
    "coeff_a = np.zeros((l_num, pred_num))\n",
    "train_r_squared = np.zeros(l_num)\n",
    "test_r_squared = np.zeros(l_num)\n",
    "# enumerate through lambdas with index and i\n",
    "for ind, i in enumerate(lambdas):    \n",
    "    reg = Lasso(alpha = i)\n",
    "    reg.fit(X_train, y_train)\n",
    "\n",
    "    #coeff_a[ind,:] = reg.coef_\n",
    "    train_r_squared[ind] = reg.score(X_train, y_train)\n",
    "    test_r_squared[ind] = reg.score(X_test, y_test)"
   ]
  },
  {
   "cell_type": "code",
   "execution_count": null,
   "metadata": {},
   "outputs": [],
   "source": [
    "# Plotting\n",
    "plt.figure(figsize=(18, 8))\n",
    "plt.plot(train_r_squared, 'bo-', label=r'$R^2$ Training set', color=\"darkblue\", alpha=0.6, linewidth=3)\n",
    "plt.plot(test_r_squared, 'bo-', label=r'$R^2$ Test set', color=\"darkred\", alpha=0.6, linewidth=3)\n",
    "plt.xlabel('Lamda index'); plt.ylabel(r'$R^2$')\n",
    "plt.xlim(0, 6)\n",
    "plt.title(r'Evaluate lasso regression with lamdas: 0 = 0.001, 1= 0.01, 2 = 0.1, 3 = 0.5, 4= 1, 5= 2, 6 = 10')\n",
    "plt.legend(loc='best')\n",
    "plt.grid()"
   ]
  },
  {
   "cell_type": "code",
   "execution_count": null,
   "metadata": {},
   "outputs": [],
   "source": [
    "r2_train = []\n",
    "r2_test = []\n",
    "\n",
    "feature_kept = []\n",
    "\n",
    "\n",
    "alpha_list=[0.0001, 0.0005, 0.0007,0.001,0.002, 0.004, 0.007, 0.01, 0.015,0.02]\n",
    "\n",
    "for alpha in alpha_list :\n",
    "    linlasso = Lasso(alpha, max_iter = 10000).fit(X_train, y_train)\n",
    "    r2_train.append(linlasso.score(X_train, y_train))\n",
    "    r2_test.append(linlasso.score(X_test, y_test))\n",
    "    feature_kept.append(np.sum(linlasso.coef_ != 0))\n",
    "    \n",
    "    #print('Alpha = {:.2f}\\nFeatures kept: {}, r-squared training: {:.2f}, \\\n",
    "#r-squared test: {:.2f}\\n'\n",
    "         #.format(alpha, np.sum(linlasso.coef_ != 0), r2_train, r2_test))\n",
    "    \n",
    "# Plot learning curve\n",
    "fig, ax = plt.subplots(1, 1, figsize=(8, 3))\n",
    "    \n",
    "ax.set_title('Lasso regression: effect of alpha regularization\\n\\\n",
    "            parameter on number of features kept in final model\\n')\n",
    "ax.set_xlabel(\"Alpha Range\")\n",
    "ax.set_ylabel(\"Score (R_2)\")\n",
    "ax.grid()\n",
    "\n",
    "ax.plot(alpha_list, r2_train, 'o-', color=\"r\", label=\"R-squared score (training)\")\n",
    "ax.plot(alpha_list, r2_test, 'o-', color=\"g\", label=\"R-squared score (test)\")\n",
    "ax.legend(loc=\"best\")\n",
    "\n",
    "plt.show()\n"
   ]
  },
  {
   "cell_type": "markdown",
   "metadata": {},
   "source": [
    "### Identify best lambda and coefficients\n",
    "Store your test data results in a DataFrame and indentify the lambda where the \n",
    "R\n",
    "2\n",
    " has it’s maximum value in the test data. Fit a Lasso model with this lambda parameter (use the training data) and obtain the corresponding regression coefficients. Furthermore, obtain the mean squared error for the test data of this model (module: from sklearn.metrics import mean_squared_error)"
   ]
  },
  {
   "cell_type": "code",
   "execution_count": null,
   "metadata": {},
   "outputs": [],
   "source": [
    "df_lam = pd.DataFrame(test_r_squared*100, columns=['R_squared'])\n",
    "df_lam['lambda'] = (lambdas)\n",
    "# returns the index of the row where column has maximum value.\n",
    "df_lam.loc[df_lam['R_squared'].idxmax()]"
   ]
  },
  {
   "cell_type": "code",
   "execution_count": null,
   "metadata": {},
   "outputs": [],
   "source": [
    "# Coefficients of best model\n",
    "reg_best = Lasso(alpha = 0.1)\n",
    "reg_best.fit(X_train, y_train)\n",
    "reg_best.coef_"
   ]
  },
  {
   "cell_type": "code",
   "execution_count": null,
   "metadata": {},
   "outputs": [],
   "source": [
    "from sklearn.metrics import mean_squared_error\n",
    "mean_squared_error(y_test, reg_best.predict(X_test))"
   ]
  },
  {
   "cell_type": "markdown",
   "metadata": {},
   "source": [
    "### Cross Validation \n",
    "Evaluate the performance of a Lasso regression for different regularization parameters λ using 5-fold cross validation on the training set (module: from sklearn.model_selection import cross_val_score) and plot the cross-validation (CV) R2 scores of the training and test data as a function of λ.\n",
    "Use the following lambda parameters: l_min = 0.05 l_max = 0.2 l_num = 20 lambdas = np.linspace(l_min,l_max, l_num)"
   ]
  },
  {
   "cell_type": "code",
   "execution_count": null,
   "metadata": {},
   "outputs": [],
   "source": [
    "l_min = 0.05\n",
    "l_max = 0.2\n",
    "l_num = 20\n",
    "lambdas = np.linspace(l_min,l_max, l_num)\n",
    "\n",
    "train_r_squared = np.zeros(l_num)\n",
    "test_r_squared = np.zeros(l_num)\n",
    "\n",
    "pred_num = X.shape[1]\n",
    "coeff_a = np.zeros((l_num, pred_num))"
   ]
  },
  {
   "cell_type": "code",
   "execution_count": null,
   "metadata": {},
   "outputs": [],
   "source": [
    "from sklearn.model_selection import cross_val_score\n",
    "\n",
    "for ind, i in enumerate(lambdas):    \n",
    "    reg = Lasso(alpha = i)\n",
    "    reg.fit(X_train, y_train)\n",
    "    results = cross_val_score(reg, X, y, cv=5, scoring=\"r2\")\n",
    "\n",
    "    train_r_squared[ind] = reg.score(X_train, y_train)    \n",
    "    test_r_squared[ind] = reg.score(X_test, y_test)"
   ]
  },
  {
   "cell_type": "code",
   "execution_count": null,
   "metadata": {},
   "outputs": [],
   "source": [
    "# Plotting\n",
    "plt.figure(figsize=(18, 8))\n",
    "plt.plot(train_r_squared, 'bo-', label=r'$R^2$ Training set', color=\"darkblue\", alpha=0.6, linewidth=3)\n",
    "plt.plot(test_r_squared, 'bo-', label=r'$R^2$ Test set', color=\"darkred\", alpha=0.6, linewidth=3)\n",
    "plt.xlabel('Lamda value'); plt.ylabel(r'$R^2$')\n",
    "plt.xlim(0, 19)\n",
    "plt.title(r'Evaluate 5-fold cv with different lamdas')\n",
    "plt.legend(loc='best')\n",
    "plt.grid()"
   ]
  },
  {
   "cell_type": "markdown",
   "metadata": {},
   "source": [
    "### 2.8 Best Model\n",
    "Finally, store your test data results in a DataFrame and identify the lambda where the \n",
    "R\n",
    "2\n",
    " has it’s maximum value in the test data. Fit a Lasso model with this lambda parameter (use the training data) and obtain the corresponding regression coefficients. Furthermore, obtain the mean squared error for the test data of this model (module: from sklearn.metrics import mean_squared_error) "
   ]
  },
  {
   "cell_type": "code",
   "execution_count": null,
   "metadata": {},
   "outputs": [],
   "source": [
    "df_lam = pd.DataFrame(test_r_squared*100, columns=['R_squared'])\n",
    "df_lam['lambda'] = (lambdas)\n",
    "# returns the index of the row where column has maximum value.\n",
    "df_lam.loc[df_lam['R_squared'].idxmax()]"
   ]
  },
  {
   "cell_type": "code",
   "execution_count": null,
   "metadata": {},
   "outputs": [],
   "source": [
    "# Best Model\n",
    "reg_best = Lasso(alpha = 0.00001)\n",
    "reg_best.fit(X_train, y_train)"
   ]
  },
  {
   "cell_type": "code",
   "execution_count": null,
   "metadata": {},
   "outputs": [],
   "source": [
    "from sklearn.metrics import mean_squared_error\n",
    "\n",
    "np.sqrt(mean_squared_error(y_test, reg_best.predict(X_test)))"
   ]
  },
  {
   "cell_type": "code",
   "execution_count": null,
   "metadata": {},
   "outputs": [],
   "source": [
    "reg_best.coef_"
   ]
  },
  {
   "cell_type": "code",
   "execution_count": null,
   "metadata": {},
   "outputs": [],
   "source": [
    "fig = plt.figure()\n",
    "plt.bar(normalizedData[Xcol].columns, reg_best.coef_, width=0.8, bottom=None, align='center')\n",
    "plt.title(\"coeffiences of Lasso Regression\")\n",
    "fig.autofmt_xdate()"
   ]
  },
  {
   "cell_type": "code",
   "execution_count": null,
   "metadata": {},
   "outputs": [],
   "source": [
    "from sklearn.linear_model import LassoCV\n",
    "X_train, X_test, y_train, y_test = train_test_split(X, y, test_size=test_size)\n",
    "linlasso = LassoCV(alphas=[1e-6,1e-5,1e-4,1e-3, 1e-2, 1e-1, 1], cv = 10).fit(X, y)\n",
    "\n",
    "print('ridge regression linear model alpha: {}'.format(linlasso.alpha_))\n",
    "print('ridge regression linear model intercept: {}'.format(linlasso.intercept_))\n",
    "print('ridge regression linear model coeff:\\n{}'.format(linlasso.coef_))\n",
    "\n",
    "print('R-squared score (training): {:.3f}'.format(linlasso.score(X_train, y_train)))\n",
    "\n",
    "print('R-squared score (test): {:.3f}'.format(linlasso.score(X_test, y_test)))\n",
    "\n",
    "# make predictions on the testing set and print RMSE\n",
    "y_pred = linlasso.predict(X_test)\n",
    "print('RMSE: {:.3f}'.format(np.sqrt(metrics.mean_squared_error(y_test, y_pred))))"
   ]
  },
  {
   "cell_type": "code",
   "execution_count": null,
   "metadata": {},
   "outputs": [],
   "source": [
    "fig = plt.figure()\n",
    "plt.bar(normalizedData[Xcol].columns, linlasso.coef_, width=0.8, bottom=None, align='center')\n",
    "plt.title(\"coeffiences of Lasso Regression\")\n",
    "fig.autofmt_xdate()"
   ]
  },
  {
   "cell_type": "markdown",
   "metadata": {},
   "source": [
    "### (4) Polynomial regression models \n",
    "a). LinearRegression : Degree, Learing Curve, R-squart, K cross validation\n",
    "\n",
    "b). Ridge Regression : Degree, Alpha, Learing Curve, R-squart, K cross validation\n",
    "\n",
    "c). Lasso Regression : Degree Alpha, Learing Curve, R-squart, K cross validation"
   ]
  },
  {
   "cell_type": "markdown",
   "metadata": {},
   "source": [
    "## Linear Regression "
   ]
  },
  {
   "cell_type": "code",
   "execution_count": null,
   "metadata": {},
   "outputs": [],
   "source": [
    "X_train, X_test, y_train, y_test = train_test_split(X, y, test_size=test_size)"
   ]
  },
  {
   "cell_type": "code",
   "execution_count": null,
   "metadata": {},
   "outputs": [],
   "source": [
    "from sklearn.preprocessing import PolynomialFeatures\n",
    "\n",
    "# change the parameter values for range of lower and upper bound of training data size\n",
    "# and the number of iterations, and see the changes in the learning curve. \n",
    "degree_sizes = [1, 2, 3]\n",
    "train_scores_mean = []\n",
    "test_scores_mean = []\n",
    "for degree in degree_sizes:\n",
    "    print(\"degree =\", degree)\n",
    "    poly = PolynomialFeatures(degree=degree)\n",
    "    X_poly = poly.fit_transform(X)\n",
    "\n",
    "    X_train, X_test, y_train, y_test = train_test_split(X_poly, y, random_state=0)\n",
    "    #print(degree)\n",
    "    \n",
    "    linreg_poly = LinearRegression().fit(X_train, y_train)\n",
    "\n",
    "    #==================================================================================\n",
    "    #print('(poly deg 2) linear model coeff (w):\\n{}'\n",
    "     #    .format(linreg_poly.coef_))\n",
    "    #print('(poly deg 2) linear model intercept (b): {:.3f}'\n",
    "    #     .format(linreg_poly.intercept_))\n",
    "    print('(poly deg ', linreg_poly, ') R-squared score (training): {:.3f}'\n",
    "         .format(linreg_poly.score(X_train, y_train)))\n",
    "    print('(poly deg ', linreg_poly, ') R-squared score (test): {:.3f}'\n",
    "         .format(linreg_poly.score(X_test, y_test)))\n",
    "    \n",
    "    y_pred = linreg_poly.predict(X_train)\n",
    "    train_score_mean = np.sqrt(metrics.mean_squared_error(y_train, y_pred))\n",
    "    print('Training RMSE: {:.3f}'.format(train_score_mean))\n",
    "    train_scores_mean.append(train_score_mean)\n",
    "\n",
    "    # make predictions on the testing set\n",
    "    y_pred = linreg_poly.predict(X_test)\n",
    "    test_score_mean = np.sqrt(metrics.mean_squared_error(y_test, y_pred))\n",
    "    print('Testing RMSE: {:.3f}\\n'.format(test_score_mean))\n",
    "    test_scores_mean.append(test_score_mean)"
   ]
  },
  {
   "cell_type": "code",
   "execution_count": null,
   "metadata": {},
   "outputs": [],
   "source": [
    "# Plot learning curve\n",
    "fig, ax = plt.subplots(1, 1, figsize=(5, 3))\n",
    "\n",
    "ax.set_title('A learning curve for a Polynomial regression')\n",
    "ax.set_xlabel(\"Degree\")\n",
    "ax.set_ylabel(\"Score (RMSE)\")\n",
    "ax.grid()\n",
    "\n",
    "ax.plot(degree_sizes, train_scores_mean, 'o-', color=\"r\", label=\"Training score\")\n",
    "ax.plot(degree_sizes, test_scores_mean, 'o-', color=\"g\", label=\"Cross-validation score\")\n",
    "ax.legend(loc=\"best\")\n",
    "\n",
    "plt.show()"
   ]
  },
  {
   "cell_type": "code",
   "execution_count": null,
   "metadata": {},
   "outputs": [],
   "source": [
    "poly = PolynomialFeatures(degree=2)\n",
    "X_poly = poly.fit_transform(X)\n",
    "\n",
    "X_train, X_test, y_train, y_test = train_test_split(X_poly, y, random_state=0)"
   ]
  },
  {
   "cell_type": "markdown",
   "metadata": {},
   "source": [
    "### A learning curve "
   ]
  },
  {
   "cell_type": "code",
   "execution_count": null,
   "metadata": {},
   "outputs": [],
   "source": [
    "from sklearn.model_selection import learning_curve\n",
    "    \n",
    "# change the parameter values for range of lower and upper bound of training data size\n",
    "# and the number of iterations, and see the changes in the learning curve. \n",
    "\n",
    "linreg_poly = LinearRegression()\n",
    "\n",
    "train_sizes = np.linspace(0.1, 0.90, 10)\n",
    "\n",
    "train_sizes, train_mse, test_mse = \\\n",
    "            learning_curve(linreg_poly, X, y, scoring='neg_mean_squared_error', \n",
    "                           train_sizes = train_sizes, cv=10, shuffle=True, random_state=1)\n",
    "    \n",
    "train_scores = np.sqrt(np.abs(train_mse))\n",
    "test_scores = np.sqrt(np.abs(test_mse))\n",
    "#print(train_scores)\n",
    "#print(test_scores)\n",
    "\n",
    "train_scores_mean = np.mean(train_scores, axis=1)\n",
    "\n",
    "test_scores_mean = np.mean(test_scores, axis=1)\n",
    "print(\"training RMSE: \",train_scores_mean)\n",
    "print(\"testing RMSE: \", test_scores_mean)\n",
    "\n",
    "# Plot learning curve\n",
    "fig, ax = plt.subplots(1, 1, figsize=(5, 3))\n",
    "    \n",
    "ax.set_title('A learning curve for a Polynomial regression')\n",
    "ax.set_xlabel(\"Training examples\")\n",
    "ax.set_ylabel(\"Score (RMSE)\")\n",
    "ax.grid()\n",
    "\n",
    "ax.plot(train_sizes, train_scores_mean, 'o-', color=\"r\", label=\"Training score\")\n",
    "ax.plot(train_sizes, test_scores_mean, 'o-', color=\"g\", label=\"Cross-validation score\")\n",
    "ax.legend(loc=\"best\")\n",
    "\n",
    "plt.show()"
   ]
  },
  {
   "cell_type": "markdown",
   "metadata": {},
   "source": [
    "### R-Squart "
   ]
  },
  {
   "cell_type": "code",
   "execution_count": null,
   "metadata": {},
   "outputs": [],
   "source": [
    "linreg_poly = LinearRegression().fit(X_train, y_train)\n",
    "\n",
    "#print('(poly deg 2) linear model coeff (w):\\n{}'\n",
    " #    .format(linreg_poly.coef_))\n",
    "#print('(poly deg 2) linear model intercept (b): {:.3f}'\n",
    "#     .format(linreg_poly.intercept_))\n",
    "print('(poly deg 2) R-squared score (training): {:.3f}'\n",
    "     .format(linreg_poly.score(X_train, y_train)))\n",
    "print('(poly deg 2) R-squared score (test): {:.3f}'\n",
    "     .format(linreg_poly.score(X_test, y_test)))\n",
    "\n",
    "# make predictions on the testing set\n",
    "y_pred = linreg_poly.predict(X_test)\n",
    "print('(poly deg 2) RMSE: {:.3f}'.format(np.sqrt(metrics.mean_squared_error(y_test, y_pred))))"
   ]
  },
  {
   "cell_type": "markdown",
   "metadata": {},
   "source": [
    "### K cross validation "
   ]
  },
  {
   "cell_type": "code",
   "execution_count": null,
   "metadata": {},
   "outputs": [],
   "source": [
    "from sklearn.model_selection import cross_val_score\n",
    "\n",
    "score = cross_val_score(linreg_poly, X_train, y_train, cv=10)\n",
    "#print(score)\n",
    "#print(score.sum()/10)\n",
    "\n",
    "#print('linear model original data intercept (b): {:.3f}'.format(linreg_poly.intercept_))\n",
    "#print('linear model original data coeff (w): {}'.format(linreg_poly.coef_))\n",
    "\n",
    "# train data R2\n",
    "print('(poly deg 2) R-squared score (training): {:.3f}'.format(score.sum()/10))\n",
    "# test data R2\n",
    "print('(poly deg 2) R-squared score (test): {:.3f}'.format(linreg_poly.score(X_test, y_test)))\n",
    "\n",
    "# make predictions on the testing set and print RMSE\n",
    "y_pred = linreg_poly.predict(X_test)\n",
    "print('(poly deg 2) RMSE: {:.3f}'.format(np.sqrt(metrics.mean_squared_error(y_test, y_pred))))"
   ]
  },
  {
   "cell_type": "markdown",
   "metadata": {},
   "source": [
    "## Ridge "
   ]
  },
  {
   "cell_type": "code",
   "execution_count": null,
   "metadata": {},
   "outputs": [],
   "source": [
    "X_train, X_test, y_train, y_test = train_test_split(X, y, test_size=test_size)"
   ]
  },
  {
   "cell_type": "markdown",
   "metadata": {},
   "source": [
    "### Degree"
   ]
  },
  {
   "cell_type": "code",
   "execution_count": null,
   "metadata": {},
   "outputs": [],
   "source": [
    "# change the parameter values for range of lower and upper bound of training data size\n",
    "# and the number of iterations, and see the changes in the learning curve. \n",
    "degree_sizes = [1, 2, 3, 4]#, 5]\n",
    "train_scores_mean = []\n",
    "test_scores_mean = []\n",
    "for degree in degree_sizes:\n",
    "    print(\"degree =\", degree)\n",
    "    poly = PolynomialFeatures(degree=degree)\n",
    "    X_poly = poly.fit_transform(X)\n",
    "\n",
    "    X_train, X_test, y_train, y_test = train_test_split(X_poly, y, random_state=0)\n",
    "    #print(degree)\n",
    "    \n",
    "    linrig_poly = Ridge(alpha = 0.01).fit(X_train, y_train)\n",
    "    \n",
    "    train_score = linrig_poly.score(X_train, y_train)\n",
    "    print('(poly deg ', linrig_poly, ') R-squared score (training): {:.3f}'\n",
    "         .format(train_score))\n",
    "    test_score = linrig_poly.score(X_test, y_test)\n",
    "    print('(poly deg ', linrig_poly, ') R-squared score (test): {:.3f}'\n",
    "         .format(test_score))\n",
    "    \n",
    "    y_pred = linrig_poly.predict(X_train)\n",
    "    train_score_mean = np.sqrt(metrics.mean_squared_error(y_train, y_pred))\n",
    "    print('Training RMSE: {:.3f}'.format(train_score_mean))\n",
    "    train_scores_mean.append(train_score_mean)\n",
    "\n",
    "    # make predictions on the testing set\n",
    "    y_pred = linrig_poly.predict(X_test)\n",
    "    test_score_mean = np.sqrt(metrics.mean_squared_error(y_test, y_pred))\n",
    "    print('Testing RMSE: {:.3f}\\n'.format(test_score_mean))\n",
    "    test_scores_mean.append(test_score_mean)"
   ]
  },
  {
   "cell_type": "code",
   "execution_count": null,
   "metadata": {},
   "outputs": [],
   "source": [
    "# Plot learning curve\n",
    "fig, ax = plt.subplots(1, 1, figsize=(5, 3))\n",
    "\n",
    "ax.set_title('A learning curve for a Polynomial Ridge regression')\n",
    "ax.set_xlabel(\"Degree\")\n",
    "ax.set_ylabel(\"Score (RMSE)\")\n",
    "ax.grid()\n",
    "\n",
    "ax.plot(degree_sizes, train_scores_mean, 'o-', color=\"r\", label=\"Training score\")\n",
    "ax.plot(degree_sizes, test_scores_mean, 'o-', color=\"g\", label=\"Cross-validation score\")\n",
    "ax.legend(loc=\"best\")\n",
    "\n",
    "plt.show()\n"
   ]
  },
  {
   "cell_type": "code",
   "execution_count": null,
   "metadata": {},
   "outputs": [],
   "source": [
    "poly = PolynomialFeatures(degree=2)\n",
    "X_poly = poly.fit_transform(X)\n",
    "\n",
    "X_train, X_test, y_train, y_test = train_test_split(X_poly, y, random_state=0)"
   ]
  },
  {
   "cell_type": "markdown",
   "metadata": {},
   "source": [
    "### alpha "
   ]
  },
  {
   "cell_type": "code",
   "execution_count": null,
   "metadata": {},
   "outputs": [],
   "source": [
    "X_train, X_test, y_train, y_test = train_test_split(X_poly, y, random_state=0)"
   ]
  },
  {
   "cell_type": "code",
   "execution_count": null,
   "metadata": {},
   "outputs": [],
   "source": [
    "train_scores_mean = []\n",
    "test_scores_mean = []\n",
    "\n",
    "alpha_sizes = [0, 0.0001, 0.001, 0.01, 0.02, 0.05, 0.075, 0.1,0.2,0.3,0.4, 0.5, 0.6, 0.7,0.8,0.9, 1,2,]\n",
    "\n",
    "for this_alpha in alpha_sizes:\n",
    "    linrig_poly = Ridge(alpha = this_alpha).fit(X_train, y_train)\n",
    "    r2_train = linrig_poly.score(X_train, y_train)\n",
    "    r2_test = linrig_poly.score(X_test, y_test)\n",
    "    num_coeff_bigger = np.sum(abs(linrig_poly.coef_) > 1.0)\n",
    "    print('Alpha = {:.2f}\\nnum abs(coeff) > 1.0: {}, \\\n",
    "r-squared training: {:.2f}, r-squared test: {:.2f}'\n",
    "         .format(this_alpha, num_coeff_bigger, r2_train, r2_test))\n",
    "    \n",
    "    y_pred = linrig_poly.predict(X_train)\n",
    "    train_score_mean = np.sqrt(metrics.mean_squared_error(y_train, y_pred))\n",
    "    print('Training RMSE: {:.3f}'.format(train_score_mean))\n",
    "    train_scores_mean.append(train_score_mean)\n",
    "\n",
    "    # make predictions on the testing set\n",
    "    y_pred = linrig_poly.predict(X_test)\n",
    "    test_score_mean = np.sqrt(metrics.mean_squared_error(y_test, y_pred))\n",
    "    print('Testing RMSE: {:.3f}\\n'.format(test_score_mean))\n",
    "    test_scores_mean.append(test_score_mean)"
   ]
  },
  {
   "cell_type": "code",
   "execution_count": null,
   "metadata": {},
   "outputs": [],
   "source": [
    "# Plot learning curve\n",
    "fig, ax = plt.subplots(1, 1, figsize=(5, 3))\n",
    "\n",
    "ax.set_title('A learning curve for a Polynomial Ridge regression')\n",
    "ax.set_xlabel(\"Alpha number\")\n",
    "ax.set_ylabel(\"Score (RMSE)\")\n",
    "ax.grid()\n",
    "\n",
    "ax.plot(alpha_sizes, train_scores_mean, 'o-', color=\"r\", label=\"Training score\")\n",
    "ax.plot(alpha_sizes, test_scores_mean, 'o-', color=\"g\", label=\"Cross-validation score\")\n",
    "ax.legend(loc=\"best\")\n",
    "\n",
    "plt.show()\n"
   ]
  },
  {
   "cell_type": "markdown",
   "metadata": {},
   "source": [
    "### Learning Curve "
   ]
  },
  {
   "cell_type": "code",
   "execution_count": null,
   "metadata": {},
   "outputs": [],
   "source": [
    "from sklearn.model_selection import learning_curve\n",
    "    \n",
    "# change the parameter values for range of lower and upper bound of training data size\n",
    "# and the number of iterations, and see the changes in the learning curve. \n",
    "linrig_poly = Ridge(alpha = 0.01)\n",
    "\n",
    "train_sizes = np.linspace(0.1, 0.90, 10)\n",
    "\n",
    "train_sizes, train_mse, test_mse = \\\n",
    "            learning_curve(linrig_poly, X, y, scoring='neg_mean_squared_error', \n",
    "                           train_sizes = train_sizes, cv=10, shuffle=True, random_state=1)\n",
    "    \n",
    "train_scores = np.sqrt(np.abs(train_mse))\n",
    "test_scores = np.sqrt(np.abs(test_mse))\n",
    "#print(train_scores)\n",
    "#print(test_scores)\n",
    "\n",
    "train_scores_mean = np.mean(train_scores, axis=1)\n",
    "\n",
    "test_scores_mean = np.mean(test_scores, axis=1)\n",
    "print(\"training RMSE: \",train_scores_mean)\n",
    "print(\"testing RMSE: \", test_scores_mean)\n",
    "\n",
    "# Plot learning curve\n",
    "fig, ax = plt.subplots(1, 1, figsize=(5, 3))\n",
    "    \n",
    "ax.set_title('A learning curve for a Polynomial Ridge regression')\n",
    "ax.set_xlabel(\"Training examples\")\n",
    "ax.set_ylabel(\"Score (RMSE)\")\n",
    "ax.grid()\n",
    "\n",
    "ax.plot(train_sizes, train_scores_mean, 'o-', color=\"r\", label=\"Training score\")\n",
    "ax.plot(train_sizes, test_scores_mean, 'o-', color=\"g\", label=\"Cross-validation score\")\n",
    "ax.legend(loc=\"best\")\n",
    "\n",
    "plt.show()"
   ]
  },
  {
   "cell_type": "markdown",
   "metadata": {},
   "source": [
    "### R-Squared"
   ]
  },
  {
   "cell_type": "code",
   "execution_count": null,
   "metadata": {},
   "outputs": [],
   "source": [
    "X_train, X_test, y_train, y_test = train_test_split(X_poly, y, random_state=0)\n",
    "\n",
    "linridge_poly = Ridge(alpha = 0.01).fit(X_train, y_train)\n",
    "\n",
    "\n",
    "print('Airline dataset')\n",
    "\n",
    "print('R-squared score (training): {:.3f}'\n",
    "     .format(linridge_poly.score(X_train, y_train)))\n",
    "print('R-squared score (test): {:.3f}'\n",
    "     .format(linridge_poly.score(X_test, y_test)))\n",
    "\n",
    "# make predictions on the testing set\n",
    "y_pred = linridge_poly.predict(X_test)\n",
    "print('RMSE: {:.3f}'.format(np.sqrt(metrics.mean_squared_error(y_test, y_pred))))\n",
    "\n",
    "#print('ridge regression linear model intercept: {}'.format(linridge.intercept_))\n",
    "#print('ridge regression linear model coeff:\\n{}'.format(linridge.coef_))\n",
    "\n",
    "print('Number of non-zero features: {}'.format(np.sum(linridge_poly.coef_ != 0)))"
   ]
  },
  {
   "cell_type": "code",
   "execution_count": null,
   "metadata": {},
   "outputs": [],
   "source": [
    "from sklearn.model_selection import cross_val_score\n",
    "\n",
    "score = cross_val_score(linridge_poly, X_train, y_train, cv=10)\n",
    "\n",
    "# train data R2\n",
    "print('R-squared score (training): {:.3f}'.format(score.sum()/10))\n",
    "# test data R2\n",
    "print('R-squared score (test): {:.3f}'.format(linridge_poly.score(X_test, y_test)))\n",
    "\n",
    "# make predictions on the testing set and print RMSE\n",
    "y_pred = linridge_poly.predict(X_test)\n",
    "print('RMSE: {:.3f}'.format(np.sqrt(metrics.mean_squared_error(y_test, y_pred))))"
   ]
  },
  {
   "cell_type": "code",
   "execution_count": null,
   "metadata": {
    "scrolled": true
   },
   "outputs": [],
   "source": [
    "print('Ridge regression: effect of alpha regularization parameter\\n')\n",
    "for this_alpha in [0, 0.01, 0.05, 0.075, 0.1, 0.5, 1, 10, 20, 50, 100, 1000]:\n",
    "    linridge = Ridge(alpha = this_alpha).fit(X_train, y_train)\n",
    "    r2_train = linridge.score(X_train, y_train)\n",
    "    r2_test = linridge.score(X_test, y_test)\n",
    "    num_coeff_bigger = np.sum(abs(linridge.coef_) > 1.0)\n",
    "    print('Alpha = {:.2f}\\nnum abs(coeff) > 1.0: {}, \\\n",
    "r-squared training: {:.2f}, r-squared test: {:.2f}\\n'\n",
    "         .format(this_alpha, num_coeff_bigger, r2_train, r2_test))"
   ]
  },
  {
   "cell_type": "markdown",
   "metadata": {},
   "source": [
    "### lasso Regression"
   ]
  },
  {
   "cell_type": "code",
   "execution_count": null,
   "metadata": {},
   "outputs": [],
   "source": [
    "X_train, X_test, y_train, y_test = train_test_split(X, y, test_size=test_size)"
   ]
  },
  {
   "cell_type": "markdown",
   "metadata": {},
   "source": [
    "### Degree"
   ]
  },
  {
   "cell_type": "code",
   "execution_count": null,
   "metadata": {},
   "outputs": [],
   "source": [
    "# change the parameter values for range of lower and upper bound of training data size\n",
    "# and the number of iterations, and see the changes in the learning curve. \n",
    "degree_sizes = [1, 2, 3, 4, 5, 6]#, 7, 8, 9]\n",
    "\n",
    "train_scores_mean = []\n",
    "test_scores_mean = []\n",
    "\n",
    "for degree in degree_sizes:\n",
    "    print(\"degree =\", degree)\n",
    "    poly = PolynomialFeatures(degree=degree)\n",
    "    X_poly = poly.fit_transform(X)\n",
    "\n",
    "    X_train, X_test, y_train, y_test = train_test_split(X_poly, y, random_state=0)\n",
    "    \n",
    "    linlasso_poly = Lasso(alpha = 0.000001).fit(X_train, y_train)\n",
    "\n",
    "    train_score = linlasso_poly.score(X_train, y_train)\n",
    "    print('(poly deg ', linlasso_poly, ') R-squared score (training): {:.3f}'\n",
    "         .format(train_score))\n",
    "    test_score = linlasso_poly.score(X_test, y_test)\n",
    "    print('(poly deg ', linlasso_poly, ') R-squared score (test): {:.3f}'\n",
    "         .format(test_score))\n",
    "    \n",
    "    y_pred = linlasso_poly.predict(X_train)\n",
    "    train_score_mean = np.sqrt(metrics.mean_squared_error(y_train, y_pred))\n",
    "    print('Training RMSE: {:.3f}'.format(train_score_mean))\n",
    "    train_scores_mean.append(train_score_mean)\n",
    "\n",
    "    # make predictions on the testing set\n",
    "    y_pred = linlasso_poly.predict(X_test)\n",
    "    test_score_mean = np.sqrt(metrics.mean_squared_error(y_test, y_pred))\n",
    "    print('Testing RMSE: {:.3f}\\n'.format(test_score_mean))\n",
    "    test_scores_mean.append(test_score_mean)"
   ]
  },
  {
   "cell_type": "markdown",
   "metadata": {},
   "source": [
    "### Learing Curve"
   ]
  },
  {
   "cell_type": "code",
   "execution_count": null,
   "metadata": {},
   "outputs": [],
   "source": [
    "# Plot learning curve\n",
    "fig, ax = plt.subplots(1, 1, figsize=(5, 3))\n",
    "\n",
    "ax.set_title('A learning curve for a polynomial Lasso regression')\n",
    "ax.set_xlabel(\"Degree\")\n",
    "ax.set_ylabel(\"Score (RMSE)\")\n",
    "ax.grid()\n",
    "\n",
    "ax.plot(degree_sizes, train_scores_mean, 'o-', color=\"r\", label=\"Training score\")\n",
    "ax.plot(degree_sizes, test_scores_mean, 'o-', color=\"g\", label=\"Cross-validation score\")\n",
    "ax.legend(loc=\"best\")\n",
    "\n",
    "plt.show()\n"
   ]
  },
  {
   "cell_type": "markdown",
   "metadata": {},
   "source": [
    "### Alpha"
   ]
  },
  {
   "cell_type": "code",
   "execution_count": null,
   "metadata": {},
   "outputs": [],
   "source": [
    "poly = PolynomialFeatures(degree=2)\n",
    "X_poly = poly.fit_transform(X)\n",
    "\n",
    "X_train, X_test, y_train, y_test = train_test_split(X_poly, y, random_state=0)"
   ]
  },
  {
   "cell_type": "code",
   "execution_count": null,
   "metadata": {},
   "outputs": [],
   "source": [
    "print('Lasso regression: effect of alpha regularization\\n\\\n",
    "parameter on number of features kept in final model\\n')\n",
    "\n",
    "train_scores_mean = []\n",
    "test_scores_mean = []\n",
    "\n",
    "#alpha_sizes = [0.0, 0.001, 0.01, 0.025, 0.05, 0.075, 0.25, 0.5, 1, 5]\n",
    "alpha_sizes =  [0.0, 0.0000001,0.0000005,0.000001,0.000005, 0.00001,0.00005, 0.0001]\n",
    "\n",
    "for alpha in alpha_sizes:\n",
    "    linlasso_poly = Lasso(alpha, max_iter = 10000).fit(X_train, y_train)\n",
    "    r2_train = linlasso_poly.score(X_train, y_train)\n",
    "    r2_test = linlasso_poly.score(X_test, y_test)\n",
    "    \n",
    "    print('Alpha = {:.8f}\\nFeatures kept: {}, r-squared training: {:.8f}, \\\n",
    "r-squared test: {:.8f}'\n",
    "         .format(alpha, np.sum(linlasso_poly.coef_ != 0), r2_train, r2_test))\n",
    "    \n",
    "    y_pred = linlasso_poly.predict(X_train)\n",
    "    train_score_mean = np.sqrt(metrics.mean_squared_error(y_train, y_pred))\n",
    "    print('Training RMSE: {:.5f}'.format(train_score_mean))\n",
    "    train_scores_mean.append(train_score_mean)\n",
    "\n",
    "    # make predictions on the testing set\n",
    "    y_pred = linlasso_poly.predict(X_test)\n",
    "    test_score_mean = np.sqrt(metrics.mean_squared_error(y_test, y_pred))\n",
    "    print('Testing RMSE: {:.5f}\\n'.format(test_score_mean))\n",
    "    test_scores_mean.append(test_score_mean)"
   ]
  },
  {
   "cell_type": "markdown",
   "metadata": {},
   "source": [
    "### Learning Curve "
   ]
  },
  {
   "cell_type": "code",
   "execution_count": null,
   "metadata": {},
   "outputs": [],
   "source": [
    "# Plot learning curve\n",
    "fig, ax = plt.subplots(1, 1, figsize=(5, 3))\n",
    "\n",
    "ax.set_title('A learning curve for a Polynomial Lasso regression')\n",
    "ax.set_xlabel(\"Alpha number\")\n",
    "ax.set_ylabel(\"Score (RMSE)\")\n",
    "ax.grid()\n",
    "\n",
    "ax.plot(alpha_sizes, train_scores_mean, 'o-', color=\"r\", label=\"Training score\")\n",
    "ax.plot(alpha_sizes, test_scores_mean, 'o-', color=\"g\", label=\"Cross-validation score\")\n",
    "ax.legend(loc=\"best\")\n",
    "\n",
    "plt.show()"
   ]
  },
  {
   "cell_type": "markdown",
   "metadata": {},
   "source": [
    "### Split Train size/ Testing Size "
   ]
  },
  {
   "cell_type": "code",
   "execution_count": null,
   "metadata": {},
   "outputs": [],
   "source": [
    "from sklearn.model_selection import learning_curve\n",
    "    \n",
    "# change the parameter values for range of lower and upper bound of training data size\n",
    "# and the number of iterations, and see the changes in the learning curve. \n",
    "\n",
    "linlasso_poly = Lasso(alpha = 0.000001)\n",
    "\n",
    "train_sizes = np.linspace(0.2, 0.90, 10)\n",
    "\n",
    "train_sizes, train_mse, test_mse = \\\n",
    "            learning_curve(linlasso_poly, X, y, scoring='neg_mean_squared_error', \n",
    "                           train_sizes = train_sizes, cv=10, shuffle=True, random_state=1)\n",
    "    \n",
    "train_scores = np.sqrt(np.abs(train_mse))\n",
    "test_scores = np.sqrt(np.abs(test_mse))\n",
    "#print(train_scores)\n",
    "#print(test_scores)\n",
    "\n",
    "train_scores_mean = np.mean(train_scores, axis=1)\n",
    "\n",
    "test_scores_mean = np.mean(test_scores, axis=1)\n",
    "print(\"training RMSE: \",train_scores_mean)\n",
    "print(\"testing RMSE: \", test_scores_mean)\n",
    "\n",
    "# Plot learning curve\n",
    "fig, ax = plt.subplots(1, 1, figsize=(5, 3))\n",
    "    \n",
    "ax.set_title('A learning curve for a Polynomial Lasso regression')\n",
    "ax.set_xlabel(\"Training examples\")\n",
    "ax.set_ylabel(\"Score (RMSE)\")\n",
    "ax.grid()\n",
    "\n",
    "ax.plot(train_sizes, train_scores_mean, 'o-', color=\"r\", label=\"Training score\")\n",
    "ax.plot(train_sizes, test_scores_mean, 'o-', color=\"g\", label=\"Cross-validation score\")\n",
    "ax.legend(loc=\"best\")\n",
    "\n",
    "plt.show()"
   ]
  },
  {
   "cell_type": "code",
   "execution_count": null,
   "metadata": {},
   "outputs": [],
   "source": [
    "X_train, X_test, y_train, y_test = train_test_split(X_poly, y,\n",
    "                                                   random_state = 0)\n",
    "\n",
    "linlasso_poly = Lasso(alpha = 0.000001).fit(X_train, y_train)\n",
    "\n",
    "print('Airline dataset')\n",
    "\n",
    "print('R-squared score (training): {:.3f}'\n",
    "     .format(linlasso_poly.score(X_train, y_train)))\n",
    "print('R-squared score (test): {:.3f}'\n",
    "     .format(linlasso_poly.score(X_test, y_test)))\n",
    "\n",
    "# make predictions on the testing set\n",
    "y_pred = linlasso_poly.predict(X_test)\n",
    "print('RMSE: {:.3f}'.format(np.sqrt(metrics.mean_squared_error(y_test, y_pred))))\n",
    "    \n",
    "#print('lasso regression linear model intercept: {}'.format(linlasso.intercept_))\n",
    "#print('lasso regression linear model coeff:\\n{}'.format(linlasso.coef_))\n",
    "\n",
    "print('Non-zero features: {}\\n'.format(np.sum(linlasso_poly.coef_ != 0)))"
   ]
  },
  {
   "cell_type": "code",
   "execution_count": null,
   "metadata": {},
   "outputs": [],
   "source": [
    "from sklearn.model_selection import cross_val_score\n",
    "\n",
    "score = cross_val_score(linlasso_poly, X_train, y_train, cv=10)\n",
    "#print(score)\n",
    "#print(score.sum()/10)\n",
    "\n",
    "#print('linear model original data intercept (b): {:.3f}'.format(linreg_poly.intercept_))\n",
    "#print('linear model original data coeff (w): {}'.format(linreg_poly.coef_))\n",
    "\n",
    "# train data R2\n",
    "print('R-squared score (training): {:.3f}'.format(score.sum()/10))\n",
    "# test data R2\n",
    "print('R-squared score (test): {:.3f}'.format(linlasso_poly.score(X_test, y_test)))\n",
    "\n",
    "# make predictions on the testing set and print RMSE\n",
    "y_pred = linlasso_poly.predict(X_test)\n",
    "print('RMSE: {:.3f}'.format(np.sqrt(metrics.mean_squared_error(y_test, y_pred))))"
   ]
  },
  {
   "cell_type": "code",
   "execution_count": null,
   "metadata": {},
   "outputs": [],
   "source": [
    "from sklearn.linear_model import Lasso\n",
    "from sklearn.preprocessing import MinMaxScaler\n",
    "\n",
    "X_train, X_test, y_train, y_test = train_test_split(X_poly, y,\n",
    "                                                   random_state = 0)\n",
    "\n",
    "linlasso = Lasso(alpha = 0.00001).fit(X_train, y_train)\n",
    "\n",
    "print('Airline dataset')\n",
    "\n",
    "print('R-squared score (training): {:.3f}'\n",
    "     .format(linlasso.score(X_train, y_train)))\n",
    "print('R-squared score (test): {:.3f}\\n'\n",
    "     .format(linlasso.score(X_test, y_test)))\n",
    "\n",
    "# make predictions on the testing set\n",
    "y_pred = linlasso.predict(X_test)\n",
    "print('RMSE: {:.3f}'.format(np.sqrt(metrics.mean_squared_error(y_test, y_pred))))\n",
    "    \n",
    "print('lasso regression linear model intercept: {}'.format(linlasso.intercept_))\n",
    "print('lasso regression linear model coeff:\\n{}'.format(linlasso.coef_))\n",
    "\n",
    "print('Non-zero features: {}'.format(np.sum(linlasso.coef_ != 0)))\n",
    " \n",
    "print('Features with non-zero weight (sorted by absolute magnitude):')\n",
    "for e in sorted (list(zip(list(X), linlasso.coef_)),\n",
    "                key = lambda e: -abs(e[1])):\n",
    "    if e[1] != 0:\n",
    "        print('\\t{}, {:.3f}'.format(e[0], e[1]))"
   ]
  },
  {
   "cell_type": "code",
   "execution_count": null,
   "metadata": {},
   "outputs": [],
   "source": [
    "print('Lasso regression: effect of alpha regularization\\n\\\n",
    "parameter on number of features kept in final model\\n')\n",
    "\n",
    "for alpha in [0.0,0.001, 0.01, 0.025, 0.05, 0.075, 0.25, 0.5, 1, 2, 3, 5, 10, 20, 50]:\n",
    "    linlasso = Lasso(alpha, max_iter = 10000).fit(X_train, y_train)\n",
    "    r2_train = linlasso.score(X_train, y_train)\n",
    "    r2_test = linlasso.score(X_test, y_test)\n",
    "    \n",
    "    print('Alpha = {:.2f}\\nFeatures kept: {}, r-squared training: {:.2f}, \\\n",
    "r-squared test: {:.2f}\\n'\n",
    "         .format(alpha, np.sum(linlasso.coef_ != 0), r2_train, r2_test))"
   ]
  },
  {
   "cell_type": "code",
   "execution_count": null,
   "metadata": {},
   "outputs": [],
   "source": []
  }
 ],
 "metadata": {
  "kernelspec": {
   "display_name": "Python 3",
   "language": "python",
   "name": "python3"
  },
  "language_info": {
   "codemirror_mode": {
    "name": "ipython",
    "version": 3
   },
   "file_extension": ".py",
   "mimetype": "text/x-python",
   "name": "python",
   "nbconvert_exporter": "python",
   "pygments_lexer": "ipython3",
   "version": "3.7.9"
  }
 },
 "nbformat": 4,
 "nbformat_minor": 4
}
