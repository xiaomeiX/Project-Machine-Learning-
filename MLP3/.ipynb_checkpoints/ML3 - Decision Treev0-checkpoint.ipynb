{
 "cells": [
  {
   "cell_type": "markdown",
   "metadata": {},
   "source": [
    "### MLP 3: Classification - Decision Tree"
   ]
  },
  {
   "cell_type": "code",
   "execution_count": 1,
   "metadata": {},
   "outputs": [],
   "source": [
    "import pandas as pd\n",
    "from sklearn.tree import DecisionTreeClassifier\n",
    "from sklearn.neighbors import KNeighborsClassifier\n",
    "from sklearn.naive_bayes import GaussianNB\n",
    "from sklearn.model_selection import train_test_split\n",
    "from sklearn.model_selection import KFold # import k-fold validation\n",
    "from sklearn.model_selection import cross_val_score\n",
    "from sklearn.metrics import confusion_matrix\n",
    "from sklearn.metrics import classification_report\n",
    "import matplotlib.pyplot as plt\n",
    "import numpy as np\n",
    "from sklearn.metrics import roc_curve, auc\n",
    "from sklearn.preprocessing import label_binarize\n",
    "\n",
    "import warnings\n",
    "\n",
    "warnings.filterwarnings('ignore')\n",
    "\n",
    "target_names = ['Class 0', 'Class 1', 'Class 2']"
   ]
  },
  {
   "cell_type": "code",
   "execution_count": 2,
   "metadata": {},
   "outputs": [],
   "source": [
    "# Show confusion matrix\n",
    "def plot_confusion_matrix(confusion_mat, cln):\n",
    "    plt.imshow(confusion_mat, interpolation='nearest', cmap=plt.cm.gray)\n",
    "    \n",
    "    plt.title('Confusion matrix')\n",
    "    plt.colorbar()\n",
    "    \n",
    "    tick_marks = np.arange(cln)\n",
    "    plt.xticks(tick_marks, tick_marks)\n",
    "    plt.yticks(tick_marks, tick_marks)\n",
    "    plt.ylabel('True label')\n",
    "    plt.xlabel('Predicted label')\n",
    "    plt.show()\n",
    "    "
   ]
  },
  {
   "cell_type": "code",
   "execution_count": 3,
   "metadata": {},
   "outputs": [],
   "source": [
    "def plot_feature_importances(clf, feature_names):\n",
    "    c_features = len(feature_names)\n",
    "    plt.barh(range(c_features), clf.feature_importances_)\n",
    "    plt.xlabel(\"Feature importance\")\n",
    "    plt.ylabel(\"Feature name\")\n",
    "    plt.yticks(np.arange(c_features), feature_names)"
   ]
  },
  {
   "cell_type": "code",
   "execution_count": 4,
   "metadata": {},
   "outputs": [
    {
     "data": {
      "text/html": [
       "<div>\n",
       "<style scoped>\n",
       "    .dataframe tbody tr th:only-of-type {\n",
       "        vertical-align: middle;\n",
       "    }\n",
       "\n",
       "    .dataframe tbody tr th {\n",
       "        vertical-align: top;\n",
       "    }\n",
       "\n",
       "    .dataframe thead th {\n",
       "        text-align: right;\n",
       "    }\n",
       "</style>\n",
       "<table border=\"1\" class=\"dataframe\">\n",
       "  <thead>\n",
       "    <tr style=\"text-align: right;\">\n",
       "      <th></th>\n",
       "      <th>Airport.Code</th>\n",
       "      <th>Airport.Name</th>\n",
       "      <th>Time.Label</th>\n",
       "      <th>Time.Month</th>\n",
       "      <th>Time.Month Name</th>\n",
       "      <th>Time.Year</th>\n",
       "      <th># of Delays.Carrier</th>\n",
       "      <th># of Delays.Late Aircraft</th>\n",
       "      <th># of Delays.National Aviation System</th>\n",
       "      <th># of Delays.Security</th>\n",
       "      <th>...</th>\n",
       "      <th>Flights.On Time</th>\n",
       "      <th>Flights.Total</th>\n",
       "      <th>Minutes Delayed.Carrier</th>\n",
       "      <th>Minutes Delayed.Late Aircraft</th>\n",
       "      <th>Minutes Delayed.National Aviation System</th>\n",
       "      <th>Minutes Delayed.Security</th>\n",
       "      <th>Minutes Delayed.Total</th>\n",
       "      <th>Minutes Delayed.Weather</th>\n",
       "      <th>Time.Month.level</th>\n",
       "      <th>Ratio_Rank</th>\n",
       "    </tr>\n",
       "  </thead>\n",
       "  <tbody>\n",
       "    <tr>\n",
       "      <th>0</th>\n",
       "      <td>ATL</td>\n",
       "      <td>Atlanta, GA: Hartsfield-Jackson Atlanta Intern...</td>\n",
       "      <td>2003/06</td>\n",
       "      <td>6</td>\n",
       "      <td>June</td>\n",
       "      <td>2003</td>\n",
       "      <td>3</td>\n",
       "      <td>3</td>\n",
       "      <td>3</td>\n",
       "      <td>3</td>\n",
       "      <td>...</td>\n",
       "      <td>3</td>\n",
       "      <td>3</td>\n",
       "      <td>3</td>\n",
       "      <td>3</td>\n",
       "      <td>3</td>\n",
       "      <td>3</td>\n",
       "      <td>3</td>\n",
       "      <td>3</td>\n",
       "      <td>3.0</td>\n",
       "      <td>2.0</td>\n",
       "    </tr>\n",
       "    <tr>\n",
       "      <th>1</th>\n",
       "      <td>BOS</td>\n",
       "      <td>Boston, MA: Logan International</td>\n",
       "      <td>2003/06</td>\n",
       "      <td>6</td>\n",
       "      <td>June</td>\n",
       "      <td>2003</td>\n",
       "      <td>1</td>\n",
       "      <td>1</td>\n",
       "      <td>2</td>\n",
       "      <td>1</td>\n",
       "      <td>...</td>\n",
       "      <td>2</td>\n",
       "      <td>1</td>\n",
       "      <td>1</td>\n",
       "      <td>1</td>\n",
       "      <td>1</td>\n",
       "      <td>1</td>\n",
       "      <td>1</td>\n",
       "      <td>1</td>\n",
       "      <td>3.0</td>\n",
       "      <td>1.0</td>\n",
       "    </tr>\n",
       "  </tbody>\n",
       "</table>\n",
       "<p>2 rows × 26 columns</p>\n",
       "</div>"
      ],
      "text/plain": [
       "  Airport.Code                                       Airport.Name Time.Label  \\\n",
       "0          ATL  Atlanta, GA: Hartsfield-Jackson Atlanta Intern...    2003/06   \n",
       "1          BOS                    Boston, MA: Logan International    2003/06   \n",
       "\n",
       "   Time.Month Time.Month Name  Time.Year  # of Delays.Carrier  \\\n",
       "0           6            June       2003                    3   \n",
       "1           6            June       2003                    1   \n",
       "\n",
       "   # of Delays.Late Aircraft  # of Delays.National Aviation System  \\\n",
       "0                          3                                     3   \n",
       "1                          1                                     2   \n",
       "\n",
       "   # of Delays.Security  ...  Flights.On Time Flights.Total  \\\n",
       "0                     3  ...                3             3   \n",
       "1                     1  ...                2             1   \n",
       "\n",
       "   Minutes Delayed.Carrier  Minutes Delayed.Late Aircraft  \\\n",
       "0                        3                              3   \n",
       "1                        1                              1   \n",
       "\n",
       "   Minutes Delayed.National Aviation System  Minutes Delayed.Security  \\\n",
       "0                                         3                         3   \n",
       "1                                         1                         1   \n",
       "\n",
       "   Minutes Delayed.Total  Minutes Delayed.Weather  Time.Month.level  \\\n",
       "0                      3                        3               3.0   \n",
       "1                      1                        1               3.0   \n",
       "\n",
       "   Ratio_Rank  \n",
       "0         2.0  \n",
       "1         1.0  \n",
       "\n",
       "[2 rows x 26 columns]"
      ]
     },
     "execution_count": 4,
     "metadata": {},
     "output_type": "execute_result"
    }
   ],
   "source": [
    "df = pd.read_csv('../processeddata/new_airlines_DT.csv')\n",
    "df.head(2)"
   ]
  },
  {
   "cell_type": "code",
   "execution_count": 5,
   "metadata": {},
   "outputs": [
    {
     "data": {
      "text/plain": [
       "(4408, 17)"
      ]
     },
     "execution_count": 5,
     "metadata": {},
     "output_type": "execute_result"
    }
   ],
   "source": [
    "col = ['# of Delays.Carrier', \"Time.Month\",\n",
    "       '# of Delays.Late Aircraft', '# of Delays.National Aviation System',\n",
    "       '# of Delays.Security', '# of Delays.Weather',\n",
    "       'Flights.Cancelled',\n",
    "       'Flights.Delayed', 'Flights.Diverted', #'Flights.On Time',\n",
    "       'Flights.Total', 'Minutes Delayed.Carrier',\n",
    "       'Minutes Delayed.Late Aircraft',\n",
    "       'Minutes Delayed.National Aviation System', 'Minutes Delayed.Security',\n",
    "       'Minutes Delayed.Total', 'Minutes Delayed.Weather', 'Ratio_Rank']\n",
    "\n",
    "rankedData = df[col]\n",
    "rankedData.shape\n"
   ]
  },
  {
   "cell_type": "code",
   "execution_count": 6,
   "metadata": {},
   "outputs": [
    {
     "name": "stdout",
     "output_type": "stream",
     "text": [
      "(4408, 16)\n"
     ]
    },
    {
     "data": {
      "text/html": [
       "<div>\n",
       "<style scoped>\n",
       "    .dataframe tbody tr th:only-of-type {\n",
       "        vertical-align: middle;\n",
       "    }\n",
       "\n",
       "    .dataframe tbody tr th {\n",
       "        vertical-align: top;\n",
       "    }\n",
       "\n",
       "    .dataframe thead th {\n",
       "        text-align: right;\n",
       "    }\n",
       "</style>\n",
       "<table border=\"1\" class=\"dataframe\">\n",
       "  <thead>\n",
       "    <tr style=\"text-align: right;\">\n",
       "      <th></th>\n",
       "      <th># of Delays.Carrier</th>\n",
       "      <th>Time.Month</th>\n",
       "      <th># of Delays.Late Aircraft</th>\n",
       "      <th># of Delays.National Aviation System</th>\n",
       "      <th># of Delays.Security</th>\n",
       "      <th># of Delays.Weather</th>\n",
       "      <th>Flights.Cancelled</th>\n",
       "      <th>Flights.Delayed</th>\n",
       "      <th>Flights.Diverted</th>\n",
       "      <th>Flights.Total</th>\n",
       "      <th>Minutes Delayed.Carrier</th>\n",
       "      <th>Minutes Delayed.Late Aircraft</th>\n",
       "      <th>Minutes Delayed.National Aviation System</th>\n",
       "      <th>Minutes Delayed.Security</th>\n",
       "      <th>Minutes Delayed.Total</th>\n",
       "      <th>Minutes Delayed.Weather</th>\n",
       "    </tr>\n",
       "  </thead>\n",
       "  <tbody>\n",
       "    <tr>\n",
       "      <th>0</th>\n",
       "      <td>3</td>\n",
       "      <td>6</td>\n",
       "      <td>3</td>\n",
       "      <td>3</td>\n",
       "      <td>3</td>\n",
       "      <td>3</td>\n",
       "      <td>2</td>\n",
       "      <td>3</td>\n",
       "      <td>2</td>\n",
       "      <td>3</td>\n",
       "      <td>3</td>\n",
       "      <td>3</td>\n",
       "      <td>3</td>\n",
       "      <td>3</td>\n",
       "      <td>3</td>\n",
       "      <td>3</td>\n",
       "    </tr>\n",
       "    <tr>\n",
       "      <th>1</th>\n",
       "      <td>1</td>\n",
       "      <td>6</td>\n",
       "      <td>1</td>\n",
       "      <td>2</td>\n",
       "      <td>1</td>\n",
       "      <td>2</td>\n",
       "      <td>2</td>\n",
       "      <td>1</td>\n",
       "      <td>0</td>\n",
       "      <td>1</td>\n",
       "      <td>1</td>\n",
       "      <td>1</td>\n",
       "      <td>1</td>\n",
       "      <td>1</td>\n",
       "      <td>1</td>\n",
       "      <td>1</td>\n",
       "    </tr>\n",
       "    <tr>\n",
       "      <th>2</th>\n",
       "      <td>0</td>\n",
       "      <td>6</td>\n",
       "      <td>1</td>\n",
       "      <td>0</td>\n",
       "      <td>3</td>\n",
       "      <td>2</td>\n",
       "      <td>0</td>\n",
       "      <td>0</td>\n",
       "      <td>1</td>\n",
       "      <td>1</td>\n",
       "      <td>0</td>\n",
       "      <td>1</td>\n",
       "      <td>1</td>\n",
       "      <td>3</td>\n",
       "      <td>0</td>\n",
       "      <td>2</td>\n",
       "    </tr>\n",
       "    <tr>\n",
       "      <th>3</th>\n",
       "      <td>0</td>\n",
       "      <td>6</td>\n",
       "      <td>1</td>\n",
       "      <td>2</td>\n",
       "      <td>0</td>\n",
       "      <td>1</td>\n",
       "      <td>1</td>\n",
       "      <td>1</td>\n",
       "      <td>1</td>\n",
       "      <td>1</td>\n",
       "      <td>0</td>\n",
       "      <td>0</td>\n",
       "      <td>1</td>\n",
       "      <td>1</td>\n",
       "      <td>1</td>\n",
       "      <td>1</td>\n",
       "    </tr>\n",
       "    <tr>\n",
       "      <th>4</th>\n",
       "      <td>0</td>\n",
       "      <td>6</td>\n",
       "      <td>0</td>\n",
       "      <td>1</td>\n",
       "      <td>1</td>\n",
       "      <td>1</td>\n",
       "      <td>1</td>\n",
       "      <td>0</td>\n",
       "      <td>2</td>\n",
       "      <td>0</td>\n",
       "      <td>0</td>\n",
       "      <td>0</td>\n",
       "      <td>1</td>\n",
       "      <td>1</td>\n",
       "      <td>0</td>\n",
       "      <td>1</td>\n",
       "    </tr>\n",
       "  </tbody>\n",
       "</table>\n",
       "</div>"
      ],
      "text/plain": [
       "   # of Delays.Carrier  Time.Month  # of Delays.Late Aircraft  \\\n",
       "0                    3           6                          3   \n",
       "1                    1           6                          1   \n",
       "2                    0           6                          1   \n",
       "3                    0           6                          1   \n",
       "4                    0           6                          0   \n",
       "\n",
       "   # of Delays.National Aviation System  # of Delays.Security  \\\n",
       "0                                     3                     3   \n",
       "1                                     2                     1   \n",
       "2                                     0                     3   \n",
       "3                                     2                     0   \n",
       "4                                     1                     1   \n",
       "\n",
       "   # of Delays.Weather  Flights.Cancelled  Flights.Delayed  Flights.Diverted  \\\n",
       "0                    3                  2                3                 2   \n",
       "1                    2                  2                1                 0   \n",
       "2                    2                  0                0                 1   \n",
       "3                    1                  1                1                 1   \n",
       "4                    1                  1                0                 2   \n",
       "\n",
       "   Flights.Total  Minutes Delayed.Carrier  Minutes Delayed.Late Aircraft  \\\n",
       "0              3                        3                              3   \n",
       "1              1                        1                              1   \n",
       "2              1                        0                              1   \n",
       "3              1                        0                              0   \n",
       "4              0                        0                              0   \n",
       "\n",
       "   Minutes Delayed.National Aviation System  Minutes Delayed.Security  \\\n",
       "0                                         3                         3   \n",
       "1                                         1                         1   \n",
       "2                                         1                         3   \n",
       "3                                         1                         1   \n",
       "4                                         1                         1   \n",
       "\n",
       "   Minutes Delayed.Total  Minutes Delayed.Weather  \n",
       "0                      3                        3  \n",
       "1                      1                        1  \n",
       "2                      0                        2  \n",
       "3                      1                        1  \n",
       "4                      0                        1  "
      ]
     },
     "execution_count": 6,
     "metadata": {},
     "output_type": "execute_result"
    }
   ],
   "source": [
    "X = rankedData.iloc[ :, :-1]\n",
    "print(X.shape)\n",
    "X.head()"
   ]
  },
  {
   "cell_type": "code",
   "execution_count": 7,
   "metadata": {},
   "outputs": [
    {
     "data": {
      "text/html": [
       "<div>\n",
       "<style scoped>\n",
       "    .dataframe tbody tr th:only-of-type {\n",
       "        vertical-align: middle;\n",
       "    }\n",
       "\n",
       "    .dataframe tbody tr th {\n",
       "        vertical-align: top;\n",
       "    }\n",
       "\n",
       "    .dataframe thead th {\n",
       "        text-align: right;\n",
       "    }\n",
       "</style>\n",
       "<table border=\"1\" class=\"dataframe\">\n",
       "  <thead>\n",
       "    <tr style=\"text-align: right;\">\n",
       "      <th></th>\n",
       "      <th>Ratio_Rank</th>\n",
       "    </tr>\n",
       "  </thead>\n",
       "  <tbody>\n",
       "    <tr>\n",
       "      <th>0</th>\n",
       "      <td>2.0</td>\n",
       "    </tr>\n",
       "    <tr>\n",
       "      <th>1</th>\n",
       "      <td>1.0</td>\n",
       "    </tr>\n",
       "    <tr>\n",
       "      <th>2</th>\n",
       "      <td>1.0</td>\n",
       "    </tr>\n",
       "    <tr>\n",
       "      <th>3</th>\n",
       "      <td>1.0</td>\n",
       "    </tr>\n",
       "    <tr>\n",
       "      <th>4</th>\n",
       "      <td>1.0</td>\n",
       "    </tr>\n",
       "  </tbody>\n",
       "</table>\n",
       "</div>"
      ],
      "text/plain": [
       "   Ratio_Rank\n",
       "0         2.0\n",
       "1         1.0\n",
       "2         1.0\n",
       "3         1.0\n",
       "4         1.0"
      ]
     },
     "execution_count": 7,
     "metadata": {},
     "output_type": "execute_result"
    }
   ],
   "source": [
    "y = df.iloc[ :, -1:]\n",
    "y.head()"
   ]
  },
  {
   "cell_type": "code",
   "execution_count": 8,
   "metadata": {},
   "outputs": [
    {
     "name": "stdout",
     "output_type": "stream",
     "text": [
      "<class 'numpy.ndarray'>\n",
      "<class 'numpy.ndarray'>\n"
     ]
    }
   ],
   "source": [
    "X = X.to_numpy()\n",
    "print(type(X))\n",
    "\n",
    "y = y.to_numpy()\n",
    "print(type(y))"
   ]
  },
  {
   "cell_type": "markdown",
   "metadata": {},
   "source": [
    "### Decision Tree Entropy"
   ]
  },
  {
   "cell_type": "code",
   "execution_count": 9,
   "metadata": {
    "scrolled": false
   },
   "outputs": [
    {
     "name": "stdout",
     "output_type": "stream",
     "text": [
      "=========================Kfold 1 =======================\n",
      "[[159  38   0]\n",
      " [ 34 142  14]\n",
      " [  0  32  22]]\n",
      "              precision    recall  f1-score   support\n",
      "\n",
      "     Class 0       0.82      0.81      0.82       197\n",
      "     Class 1       0.67      0.75      0.71       190\n",
      "     Class 2       0.61      0.41      0.49        54\n",
      "\n",
      "    accuracy                           0.73       441\n",
      "   macro avg       0.70      0.65      0.67       441\n",
      "weighted avg       0.73      0.73      0.73       441\n",
      "\n",
      "precision (weighted): 0.7314274098207733\n",
      "recall avg (weighted): 0.7324263038548753\n",
      "accuracy:  0.7324263038548753\n",
      "=========================Kfold 2 =======================\n",
      "[[188  39   0]\n",
      " [ 37 111   9]\n",
      " [  0  15  42]]\n",
      "              precision    recall  f1-score   support\n",
      "\n",
      "     Class 0       0.84      0.83      0.83       227\n",
      "     Class 1       0.67      0.71      0.69       157\n",
      "     Class 2       0.82      0.74      0.78        57\n",
      "\n",
      "    accuracy                           0.77       441\n",
      "   macro avg       0.78      0.76      0.77       441\n",
      "weighted avg       0.78      0.77      0.77       441\n",
      "\n",
      "precision (weighted): 0.7760328104305696\n",
      "recall avg (weighted): 0.7732426303854876\n",
      "accuracy:  0.7732426303854876\n",
      "=========================Kfold 3 =======================\n",
      "[[153  34   0]\n",
      " [ 47 130  14]\n",
      " [  0  32  31]]\n",
      "              precision    recall  f1-score   support\n",
      "\n",
      "     Class 0       0.77      0.82      0.79       187\n",
      "     Class 1       0.66      0.68      0.67       191\n",
      "     Class 2       0.69      0.49      0.57        63\n",
      "\n",
      "    accuracy                           0.71       441\n",
      "   macro avg       0.71      0.66      0.68       441\n",
      "weighted avg       0.71      0.71      0.71       441\n",
      "\n",
      "precision (weighted): 0.7100650192049609\n",
      "recall avg (weighted): 0.7120181405895691\n",
      "accuracy:  0.7120181405895691\n",
      "=========================Kfold 4 =======================\n",
      "[[163  37   0]\n",
      " [ 41 128   8]\n",
      " [  0  30  34]]\n",
      "              precision    recall  f1-score   support\n",
      "\n",
      "     Class 0       0.80      0.81      0.81       200\n",
      "     Class 1       0.66      0.72      0.69       177\n",
      "     Class 2       0.81      0.53      0.64        64\n",
      "\n",
      "    accuracy                           0.74       441\n",
      "   macro avg       0.75      0.69      0.71       441\n",
      "weighted avg       0.74      0.74      0.74       441\n",
      "\n",
      "precision (weighted): 0.7433062602330309\n",
      "recall avg (weighted): 0.7369614512471655\n",
      "accuracy:  0.7369614512471655\n",
      "=========================Kfold 5 =======================\n",
      "[[155  42   0]\n",
      " [ 31 148  10]\n",
      " [  0  28  27]]\n",
      "              precision    recall  f1-score   support\n",
      "\n",
      "     Class 0       0.83      0.79      0.81       197\n",
      "     Class 1       0.68      0.78      0.73       189\n",
      "     Class 2       0.73      0.49      0.59        55\n",
      "\n",
      "    accuracy                           0.75       441\n",
      "   macro avg       0.75      0.69      0.71       441\n",
      "weighted avg       0.75      0.75      0.75       441\n",
      "\n",
      "precision (weighted): 0.7542261415131666\n",
      "recall avg (weighted): 0.7482993197278912\n",
      "accuracy:  0.7482993197278912\n",
      "=========================Kfold 6 =======================\n",
      "[[136  39   0]\n",
      " [ 46 139   6]\n",
      " [  0  47  28]]\n",
      "              precision    recall  f1-score   support\n",
      "\n",
      "     Class 0       0.75      0.78      0.76       175\n",
      "     Class 1       0.62      0.73      0.67       191\n",
      "     Class 2       0.82      0.37      0.51        75\n",
      "\n",
      "    accuracy                           0.69       441\n",
      "   macro avg       0.73      0.63      0.65       441\n",
      "weighted avg       0.70      0.69      0.68       441\n",
      "\n",
      "precision (weighted): 0.7041485084062115\n",
      "recall avg (weighted): 0.6870748299319728\n",
      "accuracy:  0.6870748299319728\n",
      "=========================Kfold 7 =======================\n",
      "[[162  38   0]\n",
      " [ 26 149  12]\n",
      " [  0  31  23]]\n",
      "              precision    recall  f1-score   support\n",
      "\n",
      "     Class 0       0.86      0.81      0.84       200\n",
      "     Class 1       0.68      0.80      0.74       187\n",
      "     Class 2       0.66      0.43      0.52        54\n",
      "\n",
      "    accuracy                           0.76       441\n",
      "   macro avg       0.73      0.68      0.70       441\n",
      "weighted avg       0.76      0.76      0.75       441\n",
      "\n",
      "precision (weighted): 0.7610840508461083\n",
      "recall avg (weighted): 0.7573696145124716\n",
      "accuracy:  0.7573696145124716\n",
      "=========================Kfold 8 =======================\n",
      "[[147  44   0]\n",
      " [ 32 155  10]\n",
      " [  0  33  20]]\n",
      "              precision    recall  f1-score   support\n",
      "\n",
      "     Class 0       0.82      0.77      0.79       191\n",
      "     Class 1       0.67      0.79      0.72       197\n",
      "     Class 2       0.67      0.38      0.48        53\n",
      "\n",
      "    accuracy                           0.73       441\n",
      "   macro avg       0.72      0.64      0.67       441\n",
      "weighted avg       0.73      0.73      0.72       441\n",
      "\n",
      "precision (weighted): 0.7342504790182088\n",
      "recall avg (weighted): 0.7301587301587301\n",
      "accuracy:  0.7301587301587301\n",
      "=========================Kfold 9 =======================\n",
      "[[154  33   0]\n",
      " [ 36 144   8]\n",
      " [  0  32  33]]\n",
      "              precision    recall  f1-score   support\n",
      "\n",
      "     Class 0       0.81      0.82      0.82       187\n",
      "     Class 1       0.69      0.77      0.73       188\n",
      "     Class 2       0.80      0.51      0.62        65\n",
      "\n",
      "    accuracy                           0.75       440\n",
      "   macro avg       0.77      0.70      0.72       440\n",
      "weighted avg       0.76      0.75      0.75       440\n",
      "\n",
      "precision (weighted): 0.7577649879587095\n",
      "recall avg (weighted): 0.7522727272727273\n",
      "accuracy:  0.7522727272727273\n",
      "=========================Kfold 10 =======================\n",
      "[[141  47   0]\n",
      " [ 37 147  10]\n",
      " [  2  29  27]]\n",
      "              precision    recall  f1-score   support\n",
      "\n",
      "     Class 0       0.78      0.75      0.77       188\n",
      "     Class 1       0.66      0.76      0.71       194\n",
      "     Class 2       0.73      0.47      0.57        58\n",
      "\n",
      "    accuracy                           0.72       440\n",
      "   macro avg       0.72      0.66      0.68       440\n",
      "weighted avg       0.72      0.72      0.71       440\n",
      "\n",
      "precision (weighted): 0.7215327251425906\n",
      "recall avg (weighted): 0.7159090909090909\n",
      "accuracy:  0.7159090909090909\n"
     ]
    }
   ],
   "source": [
    "tree_clf_entropy = DecisionTreeClassifier(max_depth=5, criterion=\"entropy\", random_state=42)\n",
    "\n",
    "\n",
    "kf = KFold(n_splits=10, random_state=None, shuffle=True) # Define the split - into k folds \n",
    "\n",
    "\n",
    "c0_precisions = []\n",
    "c0_recalls = []\n",
    "c1_precisions = []\n",
    "c1_recalls = []\n",
    "#accTotal = 0\n",
    "n = 1\n",
    "for train_index, test_index in kf.split(X):\n",
    "\n",
    "    print(\"=========================Kfold\" , n , \"=======================\")\n",
    "\n",
    "    X_train, y_train = X[train_index], y[train_index]\n",
    "    X_test, y_test = X[test_index], y[test_index]\n",
    "\n",
    "    tree_clf_entropy.fit(X_train, y_train)\n",
    "    y_pred = tree_clf_entropy.predict(X_test)\n",
    "\n",
    "    print(confusion_matrix(y_test, y_pred))\n",
    "\n",
    "    # Get a dictionary of performance results and access the results\n",
    "    results = classification_report(y_test, y_pred, target_names=target_names)\n",
    "    print(results)\n",
    "\n",
    "\n",
    "    metrics_dict = classification_report(y_test, y_pred, \n",
    "                        target_names=target_names, output_dict=True)\n",
    "\n",
    "    #print(metrics_dict)\n",
    "\n",
    "    print('precision (weighted):', metrics_dict['weighted avg']['precision'])\n",
    "    print('recall avg (weighted):', metrics_dict['weighted avg']['recall'])\n",
    "    #accTotal = accTotal + metrics_dict['accuracy']\n",
    "    print('accuracy: ', metrics_dict['accuracy'])\n",
    "\n",
    "    n = n + 1\n",
    "#print(accTotal/KFoldNum)\n",
    "#print('Accuracy of classifier: {:.2f}'.format((accTotal/KFoldNum)))"
   ]
  },
  {
   "cell_type": "code",
   "execution_count": 10,
   "metadata": {},
   "outputs": [
    {
     "data": {
      "image/png": "[encoded data removed]",
      "text/plain": [
       "<Figure size 432x288 with 1 Axes>"
      ]
     },
     "metadata": {
      "needs_background": "light"
     },
     "output_type": "display_data"
    }
   ],
   "source": [
    "t = [x/10 for x in range(1, 9)]\n",
    "\n",
    "plt.figure()\n",
    "\n",
    "for s in t:\n",
    "    #print(s)\n",
    "\n",
    "    train_score = []\n",
    "    test_score = []\n",
    "    for i in range(1,100):\n",
    "        X_train, X_test, y_train, y_test = train_test_split(X, y, test_size = 1-s)\n",
    "        tree_clf_entropy.fit(X_train, y_train)\n",
    "        train_score.append(tree_clf_entropy.score(X_train, y_train))\n",
    "        test_score.append(tree_clf_entropy.score(X_test, y_test))\n",
    "    plt.plot(s, np.mean(test_score), 'bo')\n",
    "    plt.plot(s, np.mean(train_score), 'rx')\n",
    "    #show \n",
    "\n",
    "plt.xlabel('Training set proportion (%)')\n",
    "plt.ylabel('accuracy');"
   ]
  },
  {
   "cell_type": "code",
   "execution_count": 11,
   "metadata": {},
   "outputs": [],
   "source": [
    "X_train, X_test, y_train, y_test = train_test_split(X, y, test_size=0.30)"
   ]
  },
  {
   "cell_type": "code",
   "execution_count": 12,
   "metadata": {},
   "outputs": [
    {
     "name": "stdout",
     "output_type": "stream",
     "text": [
      "Accuracy of  Decision Tree - Entropy classifier on training set: 0.75\n",
      "Accuracy of  Decision Tree - Entropy classifier on test set: 0.75\n",
      "\n",
      "confustion matrix of  Decision Tree - Entropy classifier on test set and pred values: \n",
      "[[439 139   1]\n",
      " [ 79 439  50]\n",
      " [  1  62 113]]\n"
     ]
    },
    {
     "data": {
      "image/png": "[encoded data removed]",
      "text/plain": [
       "<Figure size 432x288 with 2 Axes>"
      ]
     },
     "metadata": {
      "needs_background": "light"
     },
     "output_type": "display_data"
    },
    {
     "name": "stdout",
     "output_type": "stream",
     "text": [
      "\n",
      "classification report  Decision Tree - Entropy classifier: {:.2f}\n",
      "              precision    recall  f1-score   support\n",
      "\n",
      "     Class 0       0.85      0.76      0.80       579\n",
      "     Class 1       0.69      0.77      0.73       568\n",
      "     Class 2       0.69      0.64      0.66       176\n",
      "\n",
      "    accuracy                           0.75      1323\n",
      "   macro avg       0.74      0.72      0.73      1323\n",
      "weighted avg       0.76      0.75      0.75      1323\n",
      "\n"
     ]
    }
   ],
   "source": [
    "modelName = \"Decision Tree - Entropy\"\n",
    "#simplePerformanceSummary(tree_clf_entropy, X_train, X_test, y_train, y_test, modelName, target_names)\n",
    "print('Accuracy of ' , modelName , 'classifier on training set: {:.2f}'\n",
    " .format(tree_clf_entropy.score(X_train, y_train)))\n",
    "\n",
    "print('Accuracy of ' , modelName , 'classifier on test set: {:.2f}'\n",
    " .format(tree_clf_entropy.score(X_test, y_test)))\n",
    "\n",
    "y_pred = tree_clf_entropy.predict(X_test)\n",
    "\n",
    "print()\n",
    "print('confustion matrix of ' , modelName , 'classifier on test set and pred values: ')\n",
    "# plot a confusion matrix\n",
    "confusion_mat = confusion_matrix(y_test, y_pred)\n",
    "\n",
    "print(confusion_mat)\n",
    "\n",
    "plot_confusion_matrix(confusion_mat, 3)\n",
    "\n",
    "print()\n",
    "print('classification report ' , modelName , 'classifier: {:.2f}')\n",
    "# Print classification report\n",
    "\n",
    "result_metrics = classification_report(y_test, y_pred, target_names=target_names)\n",
    "\n",
    "print(result_metrics)"
   ]
  },
  {
   "cell_type": "code",
   "execution_count": 13,
   "metadata": {},
   "outputs": [
    {
     "name": "stdout",
     "output_type": "stream",
     "text": [
      "Accuracy of DT classifier on training set: 0.75\n",
      "Accuracy of DT classifier on test set: 0.75\n"
     ]
    },
    {
     "data": {
      "image/png": "[encoded data removed]",
      "text/plain": [
       "<Figure size 900x420 with 1 Axes>"
      ]
     },
     "metadata": {
      "needs_background": "light"
     },
     "output_type": "display_data"
    },
    {
     "name": "stdout",
     "output_type": "stream",
     "text": [
      "Feature importances: [0.03046858 0.00903311 0.         0.05865436 0.00702879 0.\n",
      " 0.11593547 0.06900014 0.00248445 0.29783288 0.         0.09385606\n",
      " 0.28787253 0.         0.02783364 0.        ]\n"
     ]
    }
   ],
   "source": [
    "col = ['# of Delays.Carrier', \"Time.Month\",\n",
    "       '# of Delays.Late Aircraft', '# of Delays.National Aviation System',\n",
    "       '# of Delays.Security', '# of Delays.Weather',\n",
    "       'Flights.Cancelled',\n",
    "       'Flights.Delayed', 'Flights.Diverted', #'Flights.On Time',\n",
    "       'Flights.Total', 'Minutes Delayed.Carrier',\n",
    "       'Minutes Delayed.Late Aircraft',\n",
    "       'Minutes Delayed.National Aviation System', 'Minutes Delayed.Security',\n",
    "       'Minutes Delayed.Total', 'Minutes Delayed.Weather']\n",
    "\n",
    "print('Accuracy of DT classifier on training set: {:.2f}'\n",
    "     .format(tree_clf_entropy.score(X_train, y_train)))\n",
    "print('Accuracy of DT classifier on test set: {:.2f}'\n",
    "     .format(tree_clf_entropy.score(X_test, y_test)))\n",
    "\n",
    "plt.figure(figsize=(15,7), dpi=60)\n",
    "\n",
    "# call the function above\n",
    "plot_feature_importances(tree_clf_entropy, col)\n",
    "plt.show()\n",
    "\n",
    "print('Feature importances: {}'.format(tree_clf_entropy.feature_importances_))"
   ]
  },
  {
   "cell_type": "code",
   "execution_count": 14,
   "metadata": {},
   "outputs": [
    {
     "name": "stdout",
     "output_type": "stream",
     "text": [
      "accuracy:  0.9070073541701487\n"
     ]
    },
    {
     "data": {
      "image/png": "[encoded data removed]",
      "text/plain": [
       "<Figure size 432x288 with 1 Axes>"
      ]
     },
     "metadata": {
      "needs_background": "light"
     },
     "output_type": "display_data"
    },
    {
     "name": "stdout",
     "output_type": "stream",
     "text": [
      "accuracy:  0.8305743400802165\n"
     ]
    },
    {
     "data": {
      "image/png": "[encoded data removed]",
      "text/plain": [
       "<Figure size 432x288 with 1 Axes>"
      ]
     },
     "metadata": {
      "needs_background": "light"
     },
     "output_type": "display_data"
    },
    {
     "name": "stdout",
     "output_type": "stream",
     "text": [
      "accuracy:  0.9422084291035904\n"
     ]
    },
    {
     "data": {
      "image/png": "[encoded data removed]",
      "text/plain": [
       "<Figure size 432x288 with 1 Axes>"
      ]
     },
     "metadata": {
      "needs_background": "light"
     },
     "output_type": "display_data"
    }
   ],
   "source": [
    "y_score = tree_clf_entropy.predict_proba(X_test)\n",
    "\n",
    "y_test = label_binarize(y_test, classes=[1,2,3])\n",
    "n_classes = 3\n",
    "\n",
    "# Compute ROC curve and ROC area for each class\n",
    "fpr = dict()\n",
    "tpr = dict()\n",
    "roc_auc = dict()\n",
    "for i in range(n_classes):\n",
    "    fpr[i], tpr[i], _ = roc_curve(y_test[:, i], y_score[:, i])\n",
    "    roc_auc[i] = auc(fpr[i], tpr[i])\n",
    "\n",
    "# Plot of a ROC curve for a specific class\n",
    "for i in range(n_classes):\n",
    "    print(\"accuracy: \" , roc_auc[i])\n",
    "    plt.figure()\n",
    "    plt.plot(fpr[i], tpr[i], label='ROC curve (area = %0.2f)' % roc_auc[i])\n",
    "    plt.plot([0, 1], [0, 1], 'k--')\n",
    "    plt.xlim([0.0, 1.0])\n",
    "    plt.ylim([0.0, 1.05])\n",
    "    plt.xlabel('False Positive Rate')\n",
    "    plt.ylabel('True Positive Rate')\n",
    "    plt.title('Receiver operating characteristic example for class ' + str(i) )\n",
    "    plt.legend(loc=\"lower right\")\n",
    "    plt.show()"
   ]
  },
  {
   "cell_type": "markdown",
   "metadata": {},
   "source": [
    "### Decision Tree GINI"
   ]
  },
  {
   "cell_type": "code",
   "execution_count": 15,
   "metadata": {
    "scrolled": false
   },
   "outputs": [
    {
     "name": "stdout",
     "output_type": "stream",
     "text": [
      "=========================Kfold 1 =======================\n",
      "[[134  49   0]\n",
      " [ 18 158  12]\n",
      " [  1  34  35]]\n",
      "              precision    recall  f1-score   support\n",
      "\n",
      "     Class 0       0.88      0.73      0.80       183\n",
      "     Class 1       0.66      0.84      0.74       188\n",
      "     Class 2       0.74      0.50      0.60        70\n",
      "\n",
      "    accuracy                           0.74       441\n",
      "   macro avg       0.76      0.69      0.71       441\n",
      "weighted avg       0.76      0.74      0.74       441\n",
      "\n",
      "precision (weighted): 0.7611230871010991\n",
      "recall avg (weighted): 0.7414965986394558\n",
      "accuracy:  0.7414965986394558\n",
      "=========================Kfold 2 =======================\n",
      "[[142  46   0]\n",
      " [ 37 148   2]\n",
      " [  2  38  26]]\n",
      "              precision    recall  f1-score   support\n",
      "\n",
      "     Class 0       0.78      0.76      0.77       188\n",
      "     Class 1       0.64      0.79      0.71       187\n",
      "     Class 2       0.93      0.39      0.55        66\n",
      "\n",
      "    accuracy                           0.72       441\n",
      "   macro avg       0.78      0.65      0.68       441\n",
      "weighted avg       0.74      0.72      0.71       441\n",
      "\n",
      "precision (weighted): 0.7439241053087812\n",
      "recall avg (weighted): 0.7165532879818595\n",
      "accuracy:  0.7165532879818595\n",
      "=========================Kfold 3 =======================\n",
      "[[146  43   0]\n",
      " [ 32 150   6]\n",
      " [  0  36  28]]\n",
      "              precision    recall  f1-score   support\n",
      "\n",
      "     Class 0       0.82      0.77      0.80       189\n",
      "     Class 1       0.66      0.80      0.72       188\n",
      "     Class 2       0.82      0.44      0.57        64\n",
      "\n",
      "    accuracy                           0.73       441\n",
      "   macro avg       0.77      0.67      0.70       441\n",
      "weighted avg       0.75      0.73      0.73       441\n",
      "\n",
      "precision (weighted): 0.7502776849581564\n",
      "recall avg (weighted): 0.7346938775510204\n",
      "accuracy:  0.7346938775510204\n",
      "=========================Kfold 4 =======================\n",
      "[[163  42   0]\n",
      " [ 27 139   4]\n",
      " [  0  42  24]]\n",
      "              precision    recall  f1-score   support\n",
      "\n",
      "     Class 0       0.86      0.80      0.83       205\n",
      "     Class 1       0.62      0.82      0.71       170\n",
      "     Class 2       0.86      0.36      0.51        66\n",
      "\n",
      "    accuracy                           0.74       441\n",
      "   macro avg       0.78      0.66      0.68       441\n",
      "weighted avg       0.77      0.74      0.73       441\n",
      "\n",
      "precision (weighted): 0.7673559527995426\n",
      "recall avg (weighted): 0.7392290249433107\n",
      "accuracy:  0.7392290249433107\n",
      "=========================Kfold 5 =======================\n",
      "[[153  55   0]\n",
      " [ 33 144   2]\n",
      " [  1  31  22]]\n",
      "              precision    recall  f1-score   support\n",
      "\n",
      "     Class 0       0.82      0.74      0.77       208\n",
      "     Class 1       0.63      0.80      0.70       179\n",
      "     Class 2       0.92      0.41      0.56        54\n",
      "\n",
      "    accuracy                           0.72       441\n",
      "   macro avg       0.79      0.65      0.68       441\n",
      "weighted avg       0.75      0.72      0.72       441\n",
      "\n",
      "precision (weighted): 0.7522707106558039\n",
      "recall avg (weighted): 0.7233560090702947\n",
      "accuracy:  0.7233560090702947\n",
      "=========================Kfold 6 =======================\n",
      "[[132  44   0]\n",
      " [ 31 165  13]\n",
      " [  0  27  29]]\n",
      "              precision    recall  f1-score   support\n",
      "\n",
      "     Class 0       0.81      0.75      0.78       176\n",
      "     Class 1       0.70      0.79      0.74       209\n",
      "     Class 2       0.69      0.52      0.59        56\n",
      "\n",
      "    accuracy                           0.74       441\n",
      "   macro avg       0.73      0.69      0.70       441\n",
      "weighted avg       0.74      0.74      0.74       441\n",
      "\n",
      "precision (weighted): 0.7422157718470797\n",
      "recall avg (weighted): 0.7392290249433107\n",
      "accuracy:  0.7392290249433107\n",
      "=========================Kfold 7 =======================\n",
      "[[144  65   0]\n",
      " [ 21 155   4]\n",
      " [  0  31  21]]\n",
      "              precision    recall  f1-score   support\n",
      "\n",
      "     Class 0       0.87      0.69      0.77       209\n",
      "     Class 1       0.62      0.86      0.72       180\n",
      "     Class 2       0.84      0.40      0.55        52\n",
      "\n",
      "    accuracy                           0.73       441\n",
      "   macro avg       0.78      0.65      0.68       441\n",
      "weighted avg       0.76      0.73      0.72       441\n",
      "\n",
      "precision (weighted): 0.7647060736645256\n",
      "recall avg (weighted): 0.7256235827664399\n",
      "accuracy:  0.7256235827664399\n",
      "=========================Kfold 8 =======================\n",
      "[[143  49   0]\n",
      " [ 33 149  10]\n",
      " [  0  36  21]]\n",
      "              precision    recall  f1-score   support\n",
      "\n",
      "     Class 0       0.81      0.74      0.78       192\n",
      "     Class 1       0.64      0.78      0.70       192\n",
      "     Class 2       0.68      0.37      0.48        57\n",
      "\n",
      "    accuracy                           0.71       441\n",
      "   macro avg       0.71      0.63      0.65       441\n",
      "weighted avg       0.72      0.71      0.70       441\n",
      "\n",
      "precision (weighted): 0.7185245203678384\n",
      "recall avg (weighted): 0.7097505668934241\n",
      "accuracy:  0.7097505668934241\n",
      "=========================Kfold 9 =======================\n",
      "[[165  31   0]\n",
      " [ 30 150   5]\n",
      " [  0  33  26]]\n",
      "              precision    recall  f1-score   support\n",
      "\n",
      "     Class 0       0.85      0.84      0.84       196\n",
      "     Class 1       0.70      0.81      0.75       185\n",
      "     Class 2       0.84      0.44      0.58        59\n",
      "\n",
      "    accuracy                           0.78       440\n",
      "   macro avg       0.80      0.70      0.72       440\n",
      "weighted avg       0.78      0.78      0.77       440\n",
      "\n",
      "precision (weighted): 0.7840975500230851\n",
      "recall avg (weighted): 0.775\n",
      "accuracy:  0.775\n",
      "=========================Kfold 10 =======================\n",
      "[[166  37   0]\n",
      " [ 22 148  13]\n",
      " [  0  27  27]]\n",
      "              precision    recall  f1-score   support\n",
      "\n",
      "     Class 0       0.88      0.82      0.85       203\n",
      "     Class 1       0.70      0.81      0.75       183\n",
      "     Class 2       0.68      0.50      0.57        54\n",
      "\n",
      "    accuracy                           0.78       440\n",
      "   macro avg       0.75      0.71      0.72       440\n",
      "weighted avg       0.78      0.78      0.77       440\n",
      "\n",
      "precision (weighted): 0.7805668132549907\n",
      "recall avg (weighted): 0.775\n",
      "accuracy:  0.775\n"
     ]
    }
   ],
   "source": [
    "tree_clf_gini = DecisionTreeClassifier(max_depth=5, criterion=\"gini\", random_state=42)\n",
    "\n",
    "#kfoldPerformanceSummary(10, tree_clf_gini, X, y, 'tree_clf_gini', target_names)  #k = 8  or 9\n",
    "kf = KFold(n_splits=10, random_state=None, shuffle=True) # Define the split - into k folds \n",
    "\n",
    "\n",
    "c0_precisions = []\n",
    "c0_recalls = []\n",
    "c1_precisions = []\n",
    "c1_recalls = []\n",
    "#accTotal = 0\n",
    "n = 1\n",
    "for train_index, test_index in kf.split(X):\n",
    "\n",
    "    print(\"=========================Kfold\" , n , \"=======================\")\n",
    "\n",
    "    X_train, y_train = X[train_index], y[train_index]\n",
    "    X_test, y_test = X[test_index], y[test_index]\n",
    "\n",
    "    tree_clf_gini.fit(X_train, y_train)\n",
    "    y_pred = tree_clf_gini.predict(X_test)\n",
    "\n",
    "    print(confusion_matrix(y_test, y_pred))\n",
    "\n",
    "    # Get a dictionary of performance results and access the results\n",
    "    results = classification_report(y_test, y_pred, target_names=target_names)\n",
    "    print(results)\n",
    "\n",
    "\n",
    "    metrics_dict = classification_report(y_test, y_pred, \n",
    "                        target_names=target_names, output_dict=True)\n",
    "\n",
    "    #print(metrics_dict)\n",
    "\n",
    "    print('precision (weighted):', metrics_dict['weighted avg']['precision'])\n",
    "    print('recall avg (weighted):', metrics_dict['weighted avg']['recall'])\n",
    "    #accTotal = accTotal + metrics_dict['accuracy']\n",
    "    print('accuracy: ', metrics_dict['accuracy'])\n",
    "\n",
    "    n = n + 1\n",
    "#print(accTotal/KFoldNum)\n",
    "#print('Accuracy of classifier: {:.2f}'.format((accTotal/KFoldNum)))"
   ]
  },
  {
   "cell_type": "code",
   "execution_count": 16,
   "metadata": {},
   "outputs": [
    {
     "data": {
      "image/png": "[encoded data removed]",
      "text/plain": [
       "<Figure size 432x288 with 1 Axes>"
      ]
     },
     "metadata": {
      "needs_background": "light"
     },
     "output_type": "display_data"
    }
   ],
   "source": [
    "t = [x/10 for x in range(1, 9)]\n",
    "\n",
    "plt.figure()\n",
    "\n",
    "for s in t:\n",
    "    #print(s)\n",
    "\n",
    "    train_score = []\n",
    "    test_score = []\n",
    "    for i in range(1,100):\n",
    "        X_train, X_test, y_train, y_test = train_test_split(X, y, test_size = 1-s)\n",
    "        tree_clf_gini.fit(X_train, y_train)\n",
    "        train_score.append(tree_clf_gini.score(X_train, y_train))\n",
    "        test_score.append(tree_clf_gini.score(X_test, y_test))\n",
    "    plt.plot(s, np.mean(test_score), 'bo')\n",
    "    plt.plot(s, np.mean(train_score), 'rx')\n",
    "\n",
    "plt.xlabel('Training set proportion (%)')\n",
    "plt.ylabel('accuracy');"
   ]
  },
  {
   "cell_type": "code",
   "execution_count": 17,
   "metadata": {},
   "outputs": [
    {
     "name": "stdout",
     "output_type": "stream",
     "text": [
      "Accuracy of  Decision Tree - gini classifier on training set: 0.76\n",
      "Accuracy of  Decision Tree - gini classifier on test set: 0.73\n",
      "\n",
      "confustion matrix of  Decision Tree - gini classifier on test set and pred values: \n",
      "[[295 103   0]\n",
      " [ 42 297  11]\n",
      " [  0  82  52]]\n"
     ]
    },
    {
     "data": {
      "image/png": "[encoded data removed]",
      "text/plain": [
       "<Figure size 432x288 with 2 Axes>"
      ]
     },
     "metadata": {
      "needs_background": "light"
     },
     "output_type": "display_data"
    },
    {
     "name": "stdout",
     "output_type": "stream",
     "text": [
      "\n",
      "classification report  Decision Tree - gini classifier: {:.2f}\n",
      "              precision    recall  f1-score   support\n",
      "\n",
      "     Class 0       0.88      0.74      0.80       398\n",
      "     Class 1       0.62      0.85      0.71       350\n",
      "     Class 2       0.83      0.39      0.53       134\n",
      "\n",
      "    accuracy                           0.73       882\n",
      "   macro avg       0.77      0.66      0.68       882\n",
      "weighted avg       0.76      0.73      0.73       882\n",
      "\n"
     ]
    }
   ],
   "source": [
    "modelName = \"Decision Tree - gini\"\n",
    "\n",
    "print('Accuracy of ' , modelName , 'classifier on training set: {:.2f}'\n",
    " .format(tree_clf_gini.score(X_train, y_train)))\n",
    "\n",
    "print('Accuracy of ' , modelName , 'classifier on test set: {:.2f}'\n",
    " .format(tree_clf_gini.score(X_test, y_test)))\n",
    "\n",
    "y_pred = tree_clf_gini.predict(X_test)\n",
    "\n",
    "print()\n",
    "print('confustion matrix of ' , modelName , 'classifier on test set and pred values: ')\n",
    "# plot a confusion matrix\n",
    "confusion_mat = confusion_matrix(y_test, y_pred)\n",
    "\n",
    "print(confusion_mat)\n",
    "\n",
    "plot_confusion_matrix(confusion_mat, 3)\n",
    "\n",
    "print()\n",
    "print('classification report ' , modelName , 'classifier: {:.2f}')\n",
    "# Print classification report\n",
    "\n",
    "result_metrics = classification_report(y_test, y_pred, target_names=target_names)\n",
    "\n",
    "print(result_metrics)"
   ]
  },
  {
   "cell_type": "code",
   "execution_count": 19,
   "metadata": {},
   "outputs": [
    {
     "name": "stdout",
     "output_type": "stream",
     "text": [
      "Accuracy of DT classifier on training set: 0.76\n",
      "Accuracy of DT classifier on test set: 0.73\n"
     ]
    },
    {
     "data": {
      "image/png": "[encoded data removed]",
      "text/plain": [
       "<Figure size 900x420 with 1 Axes>"
      ]
     },
     "metadata": {
      "needs_background": "light"
     },
     "output_type": "display_data"
    },
    {
     "name": "stdout",
     "output_type": "stream",
     "text": [
      "Feature importances: [4.40965429e-02 1.92187189e-04 0.00000000e+00 4.25352131e-02\n",
      " 1.20108189e-02 7.69218775e-03 8.59054339e-02 9.17981302e-02\n",
      " 4.41273505e-03 2.91378403e-01 0.00000000e+00 8.29419090e-02\n",
      " 2.69669751e-01 0.00000000e+00 6.73666885e-02 0.00000000e+00]\n"
     ]
    }
   ],
   "source": [
    "col = ['# of Delays.Carrier', \"Time.Month\",\n",
    "       '# of Delays.Late Aircraft', '# of Delays.National Aviation System',\n",
    "       '# of Delays.Security', '# of Delays.Weather',\n",
    "       'Flights.Cancelled',\n",
    "       'Flights.Delayed', 'Flights.Diverted',# 'Flights.On Time',\n",
    "       'Flights.Total', 'Minutes Delayed.Carrier',\n",
    "       'Minutes Delayed.Late Aircraft',\n",
    "       'Minutes Delayed.National Aviation System', 'Minutes Delayed.Security',\n",
    "       'Minutes Delayed.Total', 'Minutes Delayed.Weather']\n",
    "\n",
    "print('Accuracy of DT classifier on training set: {:.2f}'\n",
    "     .format(tree_clf_gini.score(X_train, y_train)))\n",
    "print('Accuracy of DT classifier on test set: {:.2f}'\n",
    "     .format(tree_clf_gini.score(X_test, y_test)))\n",
    "\n",
    "plt.figure(figsize=(15,7), dpi=60)\n",
    "\n",
    "# call the function above\n",
    "plot_feature_importances(tree_clf_gini, col)\n",
    "plt.show()\n",
    "\n",
    "print('Feature importances: {}'.format(tree_clf_gini.feature_importances_))"
   ]
  },
  {
   "cell_type": "code",
   "execution_count": 20,
   "metadata": {},
   "outputs": [
    {
     "name": "stdout",
     "output_type": "stream",
     "text": [
      "accuracy:  0.9057062170355912\n"
     ]
    },
    {
     "data": {
      "image/png": "[encoded data removed]",
      "text/plain": [
       "<Figure size 432x288 with 1 Axes>"
      ]
     },
     "metadata": {
      "needs_background": "light"
     },
     "output_type": "display_data"
    },
    {
     "name": "stdout",
     "output_type": "stream",
     "text": [
      "accuracy:  0.7936251342642319\n"
     ]
    },
    {
     "data": {
      "image/png": "[encoded data removed]",
      "text/plain": [
       "<Figure size 432x288 with 1 Axes>"
      ]
     },
     "metadata": {
      "needs_background": "light"
     },
     "output_type": "display_data"
    },
    {
     "name": "stdout",
     "output_type": "stream",
     "text": [
      "accuracy:  0.9124082129459654\n"
     ]
    },
    {
     "data": {
      "image/png": "[encoded data removed]",
      "text/plain": [
       "<Figure size 432x288 with 1 Axes>"
      ]
     },
     "metadata": {
      "needs_background": "light"
     },
     "output_type": "display_data"
    }
   ],
   "source": [
    "y_score = tree_clf_gini.predict_proba(X_test)\n",
    "    \n",
    "y_test = label_binarize(y_test, classes=[1,2,3])\n",
    "n_classes = 3\n",
    "\n",
    "# Compute ROC curve and ROC area for each class\n",
    "fpr = dict()\n",
    "tpr = dict()\n",
    "roc_auc = dict()\n",
    "for i in range(n_classes):\n",
    "    fpr[i], tpr[i], _ = roc_curve(y_test[:, i], y_score[:, i])\n",
    "    roc_auc[i] = auc(fpr[i], tpr[i])\n",
    "\n",
    "# Plot of a ROC curve for a specific class\n",
    "for i in range(n_classes):\n",
    "    print(\"accuracy: \" , roc_auc[i])\n",
    "    plt.figure()\n",
    "    plt.plot(fpr[i], tpr[i], label='ROC curve (area = %0.2f)' % roc_auc[i])\n",
    "    plt.plot([0, 1], [0, 1], 'k--')\n",
    "    plt.xlim([0.0, 1.0])\n",
    "    plt.ylim([0.0, 1.05])\n",
    "    plt.xlabel('False Positive Rate')\n",
    "    plt.ylabel('True Positive Rate')\n",
    "    plt.title('Receiver operating characteristic example for class ' + str(i) )\n",
    "    plt.legend(loc=\"lower right\")\n",
    "    plt.show()"
   ]
  },
  {
   "cell_type": "code",
   "execution_count": 21,
   "metadata": {},
   "outputs": [],
   "source": [
    "X_train, X_test, y_train, y_test = train_test_split(X, y, test_size=0.30)"
   ]
  },
  {
   "cell_type": "code",
   "execution_count": 22,
   "metadata": {},
   "outputs": [],
   "source": [
    "from sklearn.model_selection import GridSearchCV\n",
    "\n",
    "# helper function for printing out grid search results \n",
    "def print_grid_search_metrics(gs):\n",
    "    print (\"Best score: %0.3f\" % gs.best_score_)\n",
    "    print (\"Best parameters set:\")\n",
    "    best_parameters = gs.best_params_\n",
    "    for param_name in sorted(parameters.keys()):\n",
    "        print(\"\\t%s: %r\" % (param_name, best_parameters[param_name]))"
   ]
  },
  {
   "cell_type": "code",
   "execution_count": 23,
   "metadata": {},
   "outputs": [
    {
     "data": {
      "text/plain": [
       "GridSearchCV(cv=5, estimator=DecisionTreeClassifier(),\n",
       "             param_grid={'criterion': ('entropy', 'gini'),\n",
       "                         'max_depth': (2, 3, 4, 5)})"
      ]
     },
     "execution_count": 23,
     "metadata": {},
     "output_type": "execute_result"
    }
   ],
   "source": [
    "parameters = {\n",
    "    'max_depth':(2,3,4,5), \n",
    "    'criterion':('entropy', 'gini'), \n",
    "}\n",
    "\n",
    "Grid_DT_depth = GridSearchCV(DecisionTreeClassifier(),parameters, cv=5)\n",
    "Grid_DT_depth.fit(X_train, y_train)"
   ]
  },
  {
   "cell_type": "code",
   "execution_count": 24,
   "metadata": {},
   "outputs": [
    {
     "name": "stdout",
     "output_type": "stream",
     "text": [
      "Best score: 0.731\n",
      "Best parameters set:\n",
      "\tcriterion: 'entropy'\n",
      "\tmax_depth: 5\n"
     ]
    }
   ],
   "source": [
    "# the best hyperparameter combination\n",
    "print_grid_search_metrics(Grid_DT_depth)"
   ]
  },
  {
   "cell_type": "code",
   "execution_count": 25,
   "metadata": {},
   "outputs": [
    {
     "name": "stdout",
     "output_type": "stream",
     "text": [
      "Accuracy of DT classifier on test set: 0.73\n"
     ]
    }
   ],
   "source": [
    "# best model\n",
    "best_DT_depth_model = Grid_DT_depth.best_estimator_\n",
    "print('Accuracy of DT classifier on test set: {:.2f}'\n",
    "     .format(best_DT_depth_model.score(X_test, y_test)))"
   ]
  },
  {
   "cell_type": "code",
   "execution_count": 26,
   "metadata": {},
   "outputs": [
    {
     "name": "stdout",
     "output_type": "stream",
     "text": [
      "== 3  fold=============================\n",
      "Best score: 0.724\n",
      "Best parameters set:\n",
      "\tcriterion: 'gini'\n",
      "\tmax_depth: 5\n",
      "Accuracy of DT classifier on test set: 0.74\n",
      "== 5  fold=============================\n",
      "Best score: 0.731\n",
      "Best parameters set:\n",
      "\tcriterion: 'entropy'\n",
      "\tmax_depth: 5\n",
      "Accuracy of DT classifier on test set: 0.73\n",
      "== 7  fold=============================\n",
      "Best score: 0.725\n",
      "Best parameters set:\n",
      "\tcriterion: 'entropy'\n",
      "\tmax_depth: 5\n",
      "Accuracy of DT classifier on test set: 0.73\n",
      "== 10  fold=============================\n",
      "Best score: 0.730\n",
      "Best parameters set:\n",
      "\tcriterion: 'gini'\n",
      "\tmax_depth: 5\n",
      "Accuracy of DT classifier on test set: 0.74\n"
     ]
    }
   ],
   "source": [
    "kfold = [3,5,7,10]\n",
    "#type(kfold)\n",
    "for k in kfold:\n",
    "    print(\"==\", k, \" fold=============================\")\n",
    "    parameters = {\n",
    "        'max_depth':(2,3,4,5), \n",
    "        'criterion':('entropy', 'gini'), \n",
    "    }\n",
    "    Grid_DT_kfold = GridSearchCV(DecisionTreeClassifier(),parameters, cv=k)\n",
    "    Grid_DT_kfold.fit(X_train, y_train)\n",
    "    \n",
    "    # the best hyperparameter combination\n",
    "    print_grid_search_metrics(Grid_DT_kfold)\n",
    "    \n",
    "    # best model\n",
    "    best_DT_kfold_model = Grid_DT_kfold.best_estimator_\n",
    "    print('Accuracy of DT classifier on test set: {:.2f}'\n",
    "     .format(best_DT_kfold_model.score(X_test, y_test)))"
   ]
  }
 ],
 "metadata": {
  "kernelspec": {
   "display_name": "Python 3",
   "language": "python",
   "name": "python3"
  },
  "language_info": {
   "codemirror_mode": {
    "name": "ipython",
    "version": 3
   },
   "file_extension": ".py",
   "mimetype": "text/x-python",
   "name": "python",
   "nbconvert_exporter": "python",
   "pygments_lexer": "ipython3",
   "version": "3.8.5"
  }
 },
 "nbformat": 4,
 "nbformat_minor": 4
}
