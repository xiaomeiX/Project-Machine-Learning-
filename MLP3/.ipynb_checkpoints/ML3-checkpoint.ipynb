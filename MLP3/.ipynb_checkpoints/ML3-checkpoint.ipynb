{
 "cells": [
  {
   "cell_type": "code",
   "execution_count": 1,
   "metadata": {},
   "outputs": [],
   "source": [
    "# %matplotlib notebook\n",
    "# Python ≥3.5 is required\n",
    "import sys\n",
    "assert sys.version_info >= (3, 5)\n",
    "\n",
    "# Scikit-Learn ≥0.20 is required\n",
    "import sklearn\n",
    "assert sklearn.__version__ >= \"0.20\"\n",
    "\n",
    "# Common imports\n",
    "import numpy as np\n",
    "import pandas as pd\n",
    "import seaborn as sn\n",
    "import matplotlib as mpl\n",
    "\n",
    "import os\n",
    "\n",
    "from sklearn.metrics import confusion_matrix\n",
    "from sklearn.metrics import classification_report\n",
    "from sklearn.model_selection import train_test_split\n",
    "from sklearn.datasets import make_classification, make_blobs\n",
    "from matplotlib.colors import ListedColormap\n",
    "from sklearn.tree import DecisionTreeClassifier\n",
    "\n",
    "from sklearn.naive_bayes import GaussianNB\n",
    "from sklearn.preprocessing import label_binarize\n",
    "from sklearn.metrics import roc_curve, auc\n",
    "from sklearn.model_selection import KFold # import k-fold validation\n",
    "\n",
    "from sklearn.naive_bayes import GaussianNB\n",
    "\n",
    "\n",
    "# compute classification accuracy for the logistic regression model\n",
    "from sklearn import metrics\n",
    "\n",
    "\n",
    "from sklearn.neighbors import KNeighborsClassifier\n",
    "\n",
    "\n",
    "from sklearn import preprocessing\n",
    "from sklearn.model_selection import cross_val_score\n",
    "\n",
    "\n",
    "# To plot pretty figures\n",
    "%matplotlib inline\n",
    "import matplotlib as mpl\n",
    "import matplotlib.pyplot as plt\n",
    "mpl.rc('axes', labelsize=14)\n",
    "mpl.rc('xtick', labelsize=12)\n",
    "mpl.rc('ytick', labelsize=12)\n",
    "\n",
    "\n",
    "# to make this notebook's output stable across runs\n",
    "np.random.seed(42)\n",
    "\n",
    "# Where to save the figures\n",
    "PROJECT_ROOT_DIR = \".\"\n",
    "\n",
    "CHAPTER_ID = 'Naive Bayesian'\n",
    "IMAGES_PATH = os.path.join(PROJECT_ROOT_DIR, \"images\", CHAPTER_ID)\n",
    "\n",
    "os.makedirs(IMAGES_PATH, exist_ok=True)\n",
    "\n",
    "def save_fig(fig_id, tight_layout=True, fig_extension=\"png\", resolution=300):\n",
    "    path = os.path.join(IMAGES_PATH, fig_id + \".\" + fig_extension)\n",
    "    print(\"Saving figure\", fig_id)\n",
    "    if tight_layout:\n",
    "        plt.tight_layout()\n",
    "    plt.savefig(path, format=fig_extension, dpi=resolution)"
   ]
  },
  {
   "cell_type": "code",
   "execution_count": 2,
   "metadata": {},
   "outputs": [
    {
     "data": {
      "text/plain": [
       "'../processeddata\\\\'"
      ]
     },
     "execution_count": 2,
     "metadata": {},
     "output_type": "execute_result"
    }
   ],
   "source": [
    "datapath = os.path.join(\"../processeddata\",\"\")  \n",
    "datapath"
   ]
  },
  {
   "cell_type": "markdown",
   "metadata": {},
   "source": [
    "### Define constance  variable"
   ]
  },
  {
   "cell_type": "code",
   "execution_count": 3,
   "metadata": {},
   "outputs": [],
   "source": [
    "TARGET_NAMES = ['Class_best_ontime_Rate', 'Class_median_ontime_rate','Class_worse_ontime_rate']\n",
    "k_range = range(1, 51)\n",
    "\n",
    "# Get different color each graph line\n",
    "colorSet = ['navy', 'greenyellow', 'deepskyblue', 'darkviolet', 'crimson', \n",
    "            'darkslategray', 'indigo', 'brown', 'orange', 'palevioletred', 'mediumseagreen',\n",
    "            'k', 'darkgoldenrod', 'g', 'midnightblue', 'c', 'y', 'r', 'b', 'm', 'lawngreen'\n",
    "            'mediumturquoise', 'lime', 'teal', 'drive', 'sienna', 'sandybrown']\n"
   ]
  },
  {
   "cell_type": "markdown",
   "metadata": {},
   "source": [
    "### Plot feature importances "
   ]
  },
  {
   "cell_type": "code",
   "execution_count": 4,
   "metadata": {},
   "outputs": [],
   "source": [
    "def plot_feature_importances(clf, feature_names):\n",
    "    c_features = len(feature_names)\n",
    "    print(c_features)\n",
    "    plt.barh(range(c_features), clf.feature_importances_, color=colorSet[0:c_features])\n",
    "    plt.xlabel(\"Feature importance\")\n",
    "    plt.ylabel(\"Feature name\")\n",
    "    plt.yticks(np.arange(c_features), feature_names)"
   ]
  },
  {
   "cell_type": "markdown",
   "metadata": {},
   "source": [
    "### Graph Roc Curv"
   ]
  },
  {
   "cell_type": "code",
   "execution_count": 5,
   "metadata": {},
   "outputs": [],
   "source": [
    "def graph_Roc_Curv(X_train, y_train, X_test, y_test, typeName):\n",
    "    nbclf = GaussianNB().fit(X_train, y_train)\n",
    "\n",
    "    y_score = nbclf.predict_proba(X_test)\n",
    "\n",
    "    y_test = label_binarize(y_test, classes=[1,2,3])\n",
    "    n_classes = 3\n",
    "\n",
    "    # Compute ROC curve and ROC area for each class\n",
    "    fpr = dict()\n",
    "    tpr = dict()\n",
    "    roc_auc = dict()\n",
    "    for i in range(n_classes):\n",
    "        fpr[i], tpr[i], _ = roc_curve(y_test[:, i], y_score[:, i])\n",
    "        roc_auc[i] = auc(fpr[i], tpr[i])\n",
    "\n",
    "    # Plot of a ROC curve for a specific class\n",
    "    for i in range(n_classes):\n",
    "        print(\"accuracy: \" , roc_auc[i])\n",
    "        plt.figure()\n",
    "        plt.plot(fpr[i], tpr[i], label='ROC curve (area = %0.2f)' % roc_auc[i])\n",
    "        plt.plot([0, 1], [0, 1], 'k--')\n",
    "        plt.xlim([0.0, 1.0])\n",
    "        plt.ylim([0.0, 1.05])\n",
    "        plt.xlabel('False Positive Rate')\n",
    "        plt.ylabel('True Positive Rate')\n",
    "        plt.title('Receiver operating characteristic example for class ' + TARGET_NAMES[i] )\n",
    "        plt.legend(loc=\"lower right\")\n",
    "        plt.show()"
   ]
  },
  {
   "cell_type": "markdown",
   "metadata": {},
   "source": [
    "### Plot confusion matrix "
   ]
  },
  {
   "cell_type": "code",
   "execution_count": 6,
   "metadata": {},
   "outputs": [],
   "source": [
    "# Show confusion matrix\n",
    "def plot_confusion_matrix(confusion_mat, cln):\n",
    "    plt.imshow(confusion_mat, interpolation='nearest', cmap=plt.cm.gray)\n",
    "    \n",
    "    plt.title('Confusion matrix')\n",
    "    plt.colorbar()\n",
    "    \n",
    "    tick_marks = np.arange(cln)\n",
    "    plt.xticks(tick_marks, tick_marks)\n",
    "    plt.yticks(tick_marks, tick_marks)\n",
    "    plt.ylabel('True label')\n",
    "    plt.xlabel('Predicted label')\n",
    "    plt.show()"
   ]
  },
  {
   "cell_type": "markdown",
   "metadata": {},
   "source": [
    "### get_KFold_report"
   ]
  },
  {
   "cell_type": "code",
   "execution_count": 7,
   "metadata": {},
   "outputs": [],
   "source": [
    "def get_KFold_report(X, y):\n",
    "    X = X.to_numpy()\n",
    "    y = y.to_numpy()\n",
    "    kf = KFold(n_splits=10, random_state=None, shuffle=True) # Define the split - into 2 folds \n",
    "    tree_clf = DecisionTreeClassifier(max_depth=2, random_state=42)\n",
    "    n=1\n",
    "    for train_index, test_index in kf.split(X):\n",
    "        print(\"=========================Kfold\" , n , \"=======================\")\n",
    "        #print(\"TRAIN:\", train_index, \"TEST:\", test_index)\n",
    "        X_train, X_test = X[train_index], X[test_index]\n",
    "        y_train, y_test = y[train_index], y[test_index]\n",
    "\n",
    "        tree_clf.fit(X_train, y_train)\n",
    "\n",
    "        y_pred = tree_clf.predict(X_test)\n",
    "\n",
    "        # Print classification report\n",
    "        target_names = TARGET_NAMES\n",
    "        print(classification_report(y_test, y_pred, target_names=target_names))\n",
    "        n = n+1"
   ]
  },
  {
   "cell_type": "markdown",
   "metadata": {},
   "source": [
    "### Get KNN Score"
   ]
  },
  {
   "cell_type": "code",
   "execution_count": 8,
   "metadata": {},
   "outputs": [],
   "source": [
    "def getKNN_score(X_train, X_test, y_train, y_test, k_range):\n",
    "    # try K=1 through K=25 and record testing accuracy\n",
    "\n",
    "    # We can create Python dictionary using [] or dict()\n",
    "    scores = []\n",
    "\n",
    "    # We use a loop through the range 1 to 26\n",
    "    # We append the scores in the dictionary\n",
    "    for k in k_range:\n",
    "        knn = KNeighborsClassifier(n_neighbors=k)\n",
    "        knn.fit(X_train, y_train)\n",
    "        y_pred = knn.predict(X_test)\n",
    "        scores.append(metrics.accuracy_score(y_test, y_pred))\n",
    "    return scores"
   ]
  },
  {
   "cell_type": "markdown",
   "metadata": {},
   "source": [
    "### Plot the Best K-Value for KNN"
   ]
  },
  {
   "cell_type": "code",
   "execution_count": 9,
   "metadata": {},
   "outputs": [],
   "source": [
    "def plot_Best_K_Value_KNN(X_train, X_test, y_train, y_test, k_range):\n",
    "    scores = getKNN_score(X_train, X_test, y_train, y_test, k_range)\n",
    "    plt.plot(k_range, scores)\n",
    "    plt.xlabel('Value of K for KNN')\n",
    "    plt.ylabel('Testing Accuracy')\n",
    "    save_fig('Best_K_Value_KNN')"
   ]
  },
  {
   "cell_type": "markdown",
   "metadata": {},
   "source": [
    "### Plot Traing vs Testing Scrore"
   ]
  },
  {
   "cell_type": "code",
   "execution_count": 10,
   "metadata": {},
   "outputs": [],
   "source": [
    "def plot_train_VS_testing_score(tree_clf, name):\n",
    "    t = [x/10 for x in range(1, 9)]\n",
    "    plt.figure()\n",
    "\n",
    "    for s in t:\n",
    "\n",
    "        train_score = []\n",
    "        test_score = []\n",
    "        for i in range(1,100):\n",
    "            X_train, X_test, y_train, y_test = train_test_split(X, y, test_size = 1-s)\n",
    "            tree_clf.fit(X_train, y_train)\n",
    "            train_score.append(tree_clf.score(X_train, y_train))\n",
    "            test_score.append(tree_clf.score(X_test, y_test))\n",
    "\n",
    "        plt.plot(s, np.mean(test_score), 'bo')\n",
    "        plt.plot(s, np.mean(train_score), 'rx')\n",
    "        plt.legend(['train_score', 'test_score'], loc='best')\n",
    "        plt.title('%s'%name)\n",
    "        \n",
    "\n",
    "\n",
    "    plt.xlabel('Training set proportion (%)')\n",
    "    plt.ylabel('accuracy')\n",
    "    save_fig(name)"
   ]
  },
  {
   "cell_type": "code",
   "execution_count": 11,
   "metadata": {},
   "outputs": [
    {
     "data": {
      "text/plain": [
       "(4408, 26)"
      ]
     },
     "execution_count": 11,
     "metadata": {},
     "output_type": "execute_result"
    }
   ],
   "source": [
    "# Load the data\n",
    "df = pd.read_csv(datapath + \"new_airlines_Rank.csv\", thousands=',')\n",
    "df.shape"
   ]
  },
  {
   "cell_type": "markdown",
   "metadata": {},
   "source": [
    "### Decision Trees "
   ]
  },
  {
   "cell_type": "code",
   "execution_count": 12,
   "metadata": {},
   "outputs": [],
   "source": [
    "col = ['# of Delays.Carrier',\n",
    "       '# of Delays.Late Aircraft', '# of Delays.National Aviation System',\n",
    "       '# of Delays.Security', '# of Delays.Weather',\n",
    "       'Flights.Cancelled',\n",
    "       'Flights.Delayed', 'Flights.Diverted',#'Flights.On Time',\n",
    "       'Flights.Total', 'Minutes Delayed.Carrier',\n",
    "       'Minutes Delayed.Late Aircraft',\n",
    "       'Minutes Delayed.National Aviation System', 'Minutes Delayed.Security',\n",
    "       'Minutes Delayed.Total', 'Minutes Delayed.Weather', 'Rate',\n",
    "       'Ratio_Rank']"
   ]
  },
  {
   "cell_type": "code",
   "execution_count": 13,
   "metadata": {},
   "outputs": [],
   "source": [
    "df_DT = df[col]"
   ]
  },
  {
   "cell_type": "code",
   "execution_count": 14,
   "metadata": {},
   "outputs": [
    {
     "data": {
      "text/plain": [
       "(4408, 17)"
      ]
     },
     "execution_count": 14,
     "metadata": {},
     "output_type": "execute_result"
    }
   ],
   "source": [
    "df_DT.shape"
   ]
  },
  {
   "cell_type": "code",
   "execution_count": 15,
   "metadata": {},
   "outputs": [],
   "source": [
    "X = df_DT.iloc[:, :-2] # petal df['Rate'],df['Ratio_Rank']"
   ]
  },
  {
   "cell_type": "code",
   "execution_count": 16,
   "metadata": {},
   "outputs": [],
   "source": [
    "y = df['Ratio_Rank']"
   ]
  },
  {
   "cell_type": "markdown",
   "metadata": {},
   "source": [
    "### Decision Trees - Gini : train_size = 0.5, 0.6, 0.7, 0.8, 0.9"
   ]
  },
  {
   "cell_type": "code",
   "execution_count": 17,
   "metadata": {},
   "outputs": [
    {
     "name": "stdout",
     "output_type": "stream",
     "text": [
      "\n",
      "################################################################################\n",
      "Train_SIZE is 0.90\n",
      "[[147  29   4]\n",
      " [101  76  20]\n",
      " [ 13  24  27]]\n"
     ]
    },
    {
     "data": {
      "image/png": "[encoded data removed]",
      "text/plain": [
       "<Figure size 432x288 with 2 Axes>"
      ]
     },
     "metadata": {
      "needs_background": "light"
     },
     "output_type": "display_data"
    },
    {
     "name": "stdout",
     "output_type": "stream",
     "text": [
      "              precision    recall  f1-score   support\n",
      "\n",
      "     Class_1       0.56      0.82      0.67       180\n",
      "     Class_2       0.59      0.39      0.47       197\n",
      "     Class_3       0.53      0.42      0.47        64\n",
      "\n",
      "    accuracy                           0.57       441\n",
      "   macro avg       0.56      0.54      0.53       441\n",
      "weighted avg       0.57      0.57      0.55       441\n",
      "\n",
      "Class_1 precision: 0.5632\n",
      "Class_2 precision: 0.5891\n",
      "Class_3 precision: 0.5294\n",
      "\n",
      "################################################################################\n",
      "Train_SIZE is 0.80\n",
      "[[319  54   8]\n",
      " [189 136  53]\n",
      " [ 22  32  69]]\n"
     ]
    },
    {
     "data": {
      "image/png": "[encoded data removed]",
      "text/plain": [
       "<Figure size 432x288 with 2 Axes>"
      ]
     },
     "metadata": {
      "needs_background": "light"
     },
     "output_type": "display_data"
    },
    {
     "name": "stdout",
     "output_type": "stream",
     "text": [
      "              precision    recall  f1-score   support\n",
      "\n",
      "     Class_1       0.60      0.84      0.70       381\n",
      "     Class_2       0.61      0.36      0.45       378\n",
      "     Class_3       0.53      0.56      0.55       123\n",
      "\n",
      "    accuracy                           0.59       882\n",
      "   macro avg       0.58      0.59      0.57       882\n",
      "weighted avg       0.60      0.59      0.57       882\n",
      "\n",
      "Class_1 precision: 0.6019\n",
      "Class_2 precision: 0.6126\n",
      "Class_3 precision: 0.5308\n",
      "\n",
      "################################################################################\n",
      "Train_SIZE is 0.70\n",
      "[[461  80   9]\n",
      " [273 260  53]\n",
      " [ 33  54 100]]\n"
     ]
    },
    {
     "data": {
      "image/png": "[encoded data removed]",
      "text/plain": [
       "<Figure size 432x288 with 2 Axes>"
      ]
     },
     "metadata": {
      "needs_background": "light"
     },
     "output_type": "display_data"
    },
    {
     "name": "stdout",
     "output_type": "stream",
     "text": [
      "              precision    recall  f1-score   support\n",
      "\n",
      "     Class_1       0.60      0.84      0.70       550\n",
      "     Class_2       0.66      0.44      0.53       586\n",
      "     Class_3       0.62      0.53      0.57       187\n",
      "\n",
      "    accuracy                           0.62      1323\n",
      "   macro avg       0.63      0.61      0.60      1323\n",
      "weighted avg       0.63      0.62      0.61      1323\n",
      "\n",
      "Class_1 precision: 0.6010\n",
      "Class_2 precision: 0.6599\n",
      "Class_3 precision: 0.6173\n",
      "\n",
      "################################################################################\n",
      "Train_SIZE is 0.60\n",
      "[[523 245  30]\n",
      " [210 396 124]\n",
      " [ 17  77 142]]\n"
     ]
    },
    {
     "data": {
      "image/png": "[encoded data removed]",
      "text/plain": [
       "<Figure size 432x288 with 2 Axes>"
      ]
     },
     "metadata": {
      "needs_background": "light"
     },
     "output_type": "display_data"
    },
    {
     "name": "stdout",
     "output_type": "stream",
     "text": [
      "              precision    recall  f1-score   support\n",
      "\n",
      "     Class_1       0.70      0.66      0.68       798\n",
      "     Class_2       0.55      0.54      0.55       730\n",
      "     Class_3       0.48      0.60      0.53       236\n",
      "\n",
      "    accuracy                           0.60      1764\n",
      "   macro avg       0.58      0.60      0.59      1764\n",
      "weighted avg       0.61      0.60      0.60      1764\n",
      "\n",
      "Class_1 precision: 0.6973\n",
      "Class_2 precision: 0.5515\n",
      "Class_3 precision: 0.4797\n",
      "\n",
      "################################################################################\n",
      "Train_SIZE is 0.50\n",
      "[[464 515  21]\n",
      " [116 673 106]\n",
      " [  4 147 158]]\n"
     ]
    },
    {
     "data": {
      "image/png": "[encoded data removed]",
      "text/plain": [
       "<Figure size 432x288 with 2 Axes>"
      ]
     },
     "metadata": {
      "needs_background": "light"
     },
     "output_type": "display_data"
    },
    {
     "name": "stdout",
     "output_type": "stream",
     "text": [
      "              precision    recall  f1-score   support\n",
      "\n",
      "     Class_1       0.79      0.46      0.59      1000\n",
      "     Class_2       0.50      0.75      0.60       895\n",
      "     Class_3       0.55      0.51      0.53       309\n",
      "\n",
      "    accuracy                           0.59      2204\n",
      "   macro avg       0.62      0.58      0.57      2204\n",
      "weighted avg       0.64      0.59      0.59      2204\n",
      "\n",
      "Class_1 precision: 0.7945\n",
      "Class_2 precision: 0.5041\n",
      "Class_3 precision: 0.5544\n"
     ]
    }
   ],
   "source": [
    "scale_size = 0.1\n",
    "time_changed = 5\n",
    "inital_testSize = 0.1\n",
    "\n",
    "for i in range(time_changed):\n",
    "    testSize = inital_testSize + scale_size * i \n",
    "    X_train, X_test, y_train, y_test = train_test_split(X, y, test_size=testSize)\n",
    "    tree_clf = DecisionTreeClassifier(max_depth=2, criterion=\"gini\", random_state=42)\n",
    "    tree_clf.fit(X_train, y_train)\n",
    "    y_pred = tree_clf.predict(X_test)\n",
    "    # plot a confusion matrix\n",
    "    confusion_mat = confusion_matrix(y_test, y_pred)\n",
    "    \n",
    "    print('\\n################################################################################')\n",
    "    print('Train_SIZE is %0.2f'%(1-testSize))\n",
    "    \n",
    "    print(confusion_mat)\n",
    "\n",
    "    plot_confusion_matrix(confusion_mat, 3)\n",
    "    \n",
    "    # Print classification report\n",
    "    target_names = ['Class_1', 'Class_2','Class_3']\n",
    "\n",
    "    result_metrics = classification_report(y_test, y_pred, target_names=target_names)\n",
    "\n",
    "    print(result_metrics)\n",
    "    \n",
    "    # you can access each class's metrics from result_metrics\n",
    "    result_metrics_dict = classification_report(y_test, y_pred, target_names=target_names, output_dict=True)\n",
    "\n",
    "    print('Class_1 precision: %0.4f'%result_metrics_dict['Class_1']['precision'])\n",
    "    print('Class_2 precision: %0.4f'%result_metrics_dict['Class_2']['precision'])\n",
    "    print('Class_3 precision: %0.4f'%result_metrics_dict['Class_3']['precision'])"
   ]
  },
  {
   "cell_type": "code",
   "execution_count": 18,
   "metadata": {},
   "outputs": [
    {
     "data": {
      "text/html": [
       "<div>\n",
       "<style scoped>\n",
       "    .dataframe tbody tr th:only-of-type {\n",
       "        vertical-align: middle;\n",
       "    }\n",
       "\n",
       "    .dataframe tbody tr th {\n",
       "        vertical-align: top;\n",
       "    }\n",
       "\n",
       "    .dataframe thead th {\n",
       "        text-align: right;\n",
       "    }\n",
       "</style>\n",
       "<table border=\"1\" class=\"dataframe\">\n",
       "  <thead>\n",
       "    <tr style=\"text-align: right;\">\n",
       "      <th></th>\n",
       "      <th>Airport.Code</th>\n",
       "      <th>Airport.Name</th>\n",
       "      <th>Time.Label</th>\n",
       "      <th>Time.Month</th>\n",
       "      <th>Time.Month Name</th>\n",
       "      <th>Time.Year</th>\n",
       "      <th># of Delays.Carrier</th>\n",
       "      <th># of Delays.Late Aircraft</th>\n",
       "      <th># of Delays.National Aviation System</th>\n",
       "      <th># of Delays.Security</th>\n",
       "      <th>...</th>\n",
       "      <th>Flights.On Time</th>\n",
       "      <th>Flights.Total</th>\n",
       "      <th>Minutes Delayed.Carrier</th>\n",
       "      <th>Minutes Delayed.Late Aircraft</th>\n",
       "      <th>Minutes Delayed.National Aviation System</th>\n",
       "      <th>Minutes Delayed.Security</th>\n",
       "      <th>Minutes Delayed.Total</th>\n",
       "      <th>Minutes Delayed.Weather</th>\n",
       "      <th>Rate</th>\n",
       "      <th>Ratio_Rank</th>\n",
       "    </tr>\n",
       "  </thead>\n",
       "  <tbody>\n",
       "    <tr>\n",
       "      <th>0</th>\n",
       "      <td>ATL</td>\n",
       "      <td>Atlanta, GA: Hartsfield-Jackson Atlanta Intern...</td>\n",
       "      <td>2003/06</td>\n",
       "      <td>6</td>\n",
       "      <td>June</td>\n",
       "      <td>2003</td>\n",
       "      <td>1009</td>\n",
       "      <td>1275</td>\n",
       "      <td>3217</td>\n",
       "      <td>17</td>\n",
       "      <td>...</td>\n",
       "      <td>23974</td>\n",
       "      <td>30060</td>\n",
       "      <td>61606</td>\n",
       "      <td>68335</td>\n",
       "      <td>118831</td>\n",
       "      <td>518</td>\n",
       "      <td>268764</td>\n",
       "      <td>19474</td>\n",
       "      <td>0.797538</td>\n",
       "      <td>2.0</td>\n",
       "    </tr>\n",
       "    <tr>\n",
       "      <th>1</th>\n",
       "      <td>BOS</td>\n",
       "      <td>Boston, MA: Logan International</td>\n",
       "      <td>2003/06</td>\n",
       "      <td>6</td>\n",
       "      <td>June</td>\n",
       "      <td>2003</td>\n",
       "      <td>374</td>\n",
       "      <td>495</td>\n",
       "      <td>685</td>\n",
       "      <td>3</td>\n",
       "      <td>...</td>\n",
       "      <td>7875</td>\n",
       "      <td>9639</td>\n",
       "      <td>20319</td>\n",
       "      <td>28189</td>\n",
       "      <td>24400</td>\n",
       "      <td>99</td>\n",
       "      <td>77167</td>\n",
       "      <td>4160</td>\n",
       "      <td>0.816993</td>\n",
       "      <td>1.0</td>\n",
       "    </tr>\n",
       "    <tr>\n",
       "      <th>2</th>\n",
       "      <td>BWI</td>\n",
       "      <td>Baltimore, MD: Baltimore/Washington Internatio...</td>\n",
       "      <td>2003/06</td>\n",
       "      <td>6</td>\n",
       "      <td>June</td>\n",
       "      <td>2003</td>\n",
       "      <td>296</td>\n",
       "      <td>477</td>\n",
       "      <td>389</td>\n",
       "      <td>8</td>\n",
       "      <td>...</td>\n",
       "      <td>6998</td>\n",
       "      <td>8287</td>\n",
       "      <td>13635</td>\n",
       "      <td>26810</td>\n",
       "      <td>17556</td>\n",
       "      <td>278</td>\n",
       "      <td>64480</td>\n",
       "      <td>6201</td>\n",
       "      <td>0.844455</td>\n",
       "      <td>1.0</td>\n",
       "    </tr>\n",
       "    <tr>\n",
       "      <th>3</th>\n",
       "      <td>CLT</td>\n",
       "      <td>Charlotte, NC: Charlotte Douglas International</td>\n",
       "      <td>2003/06</td>\n",
       "      <td>6</td>\n",
       "      <td>June</td>\n",
       "      <td>2003</td>\n",
       "      <td>300</td>\n",
       "      <td>472</td>\n",
       "      <td>735</td>\n",
       "      <td>2</td>\n",
       "      <td>...</td>\n",
       "      <td>7021</td>\n",
       "      <td>8670</td>\n",
       "      <td>14763</td>\n",
       "      <td>23379</td>\n",
       "      <td>23804</td>\n",
       "      <td>127</td>\n",
       "      <td>65865</td>\n",
       "      <td>3792</td>\n",
       "      <td>0.809804</td>\n",
       "      <td>1.0</td>\n",
       "    </tr>\n",
       "    <tr>\n",
       "      <th>4</th>\n",
       "      <td>DCA</td>\n",
       "      <td>Washington, DC: Ronald Reagan Washington National</td>\n",
       "      <td>2003/06</td>\n",
       "      <td>6</td>\n",
       "      <td>June</td>\n",
       "      <td>2003</td>\n",
       "      <td>283</td>\n",
       "      <td>268</td>\n",
       "      <td>487</td>\n",
       "      <td>4</td>\n",
       "      <td>...</td>\n",
       "      <td>5321</td>\n",
       "      <td>6513</td>\n",
       "      <td>13775</td>\n",
       "      <td>13712</td>\n",
       "      <td>20999</td>\n",
       "      <td>120</td>\n",
       "      <td>52747</td>\n",
       "      <td>4141</td>\n",
       "      <td>0.816981</td>\n",
       "      <td>1.0</td>\n",
       "    </tr>\n",
       "  </tbody>\n",
       "</table>\n",
       "<p>5 rows × 26 columns</p>\n",
       "</div>"
      ],
      "text/plain": [
       "  Airport.Code                                       Airport.Name Time.Label  \\\n",
       "0          ATL  Atlanta, GA: Hartsfield-Jackson Atlanta Intern...    2003/06   \n",
       "1          BOS                    Boston, MA: Logan International    2003/06   \n",
       "2          BWI  Baltimore, MD: Baltimore/Washington Internatio...    2003/06   \n",
       "3          CLT     Charlotte, NC: Charlotte Douglas International    2003/06   \n",
       "4          DCA  Washington, DC: Ronald Reagan Washington National    2003/06   \n",
       "\n",
       "   Time.Month Time.Month Name  Time.Year  # of Delays.Carrier  \\\n",
       "0           6            June       2003                 1009   \n",
       "1           6            June       2003                  374   \n",
       "2           6            June       2003                  296   \n",
       "3           6            June       2003                  300   \n",
       "4           6            June       2003                  283   \n",
       "\n",
       "   # of Delays.Late Aircraft  # of Delays.National Aviation System  \\\n",
       "0                       1275                                  3217   \n",
       "1                        495                                   685   \n",
       "2                        477                                   389   \n",
       "3                        472                                   735   \n",
       "4                        268                                   487   \n",
       "\n",
       "   # of Delays.Security  ...  Flights.On Time Flights.Total  \\\n",
       "0                    17  ...            23974         30060   \n",
       "1                     3  ...             7875          9639   \n",
       "2                     8  ...             6998          8287   \n",
       "3                     2  ...             7021          8670   \n",
       "4                     4  ...             5321          6513   \n",
       "\n",
       "   Minutes Delayed.Carrier  Minutes Delayed.Late Aircraft  \\\n",
       "0                    61606                          68335   \n",
       "1                    20319                          28189   \n",
       "2                    13635                          26810   \n",
       "3                    14763                          23379   \n",
       "4                    13775                          13712   \n",
       "\n",
       "   Minutes Delayed.National Aviation System  Minutes Delayed.Security  \\\n",
       "0                                    118831                       518   \n",
       "1                                     24400                        99   \n",
       "2                                     17556                       278   \n",
       "3                                     23804                       127   \n",
       "4                                     20999                       120   \n",
       "\n",
       "   Minutes Delayed.Total  Minutes Delayed.Weather      Rate  Ratio_Rank  \n",
       "0                 268764                    19474  0.797538         2.0  \n",
       "1                  77167                     4160  0.816993         1.0  \n",
       "2                  64480                     6201  0.844455         1.0  \n",
       "3                  65865                     3792  0.809804         1.0  \n",
       "4                  52747                     4141  0.816981         1.0  \n",
       "\n",
       "[5 rows x 26 columns]"
      ]
     },
     "execution_count": 18,
     "metadata": {},
     "output_type": "execute_result"
    }
   ],
   "source": [
    "df.head()"
   ]
  },
  {
   "cell_type": "code",
   "execution_count": 19,
   "metadata": {},
   "outputs": [],
   "source": [
    "col = ['# of Delays.Carrier', '# of Delays.Late Aircraft',\n",
    "       '# of Delays.National Aviation System', '# of Delays.Security',\n",
    "       '# of Delays.Weather', 'Flights.Cancelled', 'Flights.Delayed',\n",
    "       'Flights.Diverted', 'Flights.Total', 'Minutes Delayed.Carrier',\n",
    "       'Minutes Delayed.Late Aircraft',\n",
    "       'Minutes Delayed.National Aviation System', 'Minutes Delayed.Security',\n",
    "       'Minutes Delayed.Total', 'Minutes Delayed.Weather']"
   ]
  },
  {
   "cell_type": "code",
   "execution_count": 20,
   "metadata": {},
   "outputs": [
    {
     "name": "stdout",
     "output_type": "stream",
     "text": [
      "Accuracy of DT classifier on training set: 0.91\n",
      "Accuracy of DT classifier on test set: 0.82\n",
      "15\n"
     ]
    },
    {
     "data": {
      "image/png": "[encoded data removed]",
      "text/plain": [
       "<Figure size 960x480 with 1 Axes>"
      ]
     },
     "metadata": {
      "needs_background": "light"
     },
     "output_type": "display_data"
    }
   ],
   "source": [
    "clf_gini = DecisionTreeClassifier(criterion='gini', max_depth = 8, min_samples_leaf = 8,\n",
    "                            random_state = 0).fit(X_train, y_train)\n",
    "\n",
    "print('Accuracy of DT classifier on training set: {:.2f}'\n",
    "     .format(clf_gini.score(X_train, y_train)))\n",
    "print('Accuracy of DT classifier on test set: {:.2f}'\n",
    "     .format(clf_gini.score(X_test, y_test)))\n",
    "\n",
    "#plt.title(\"Plot Feature Importances from Decision Tree - Entropy\")\n",
    "plt.figure(figsize=(12,6),dpi=80)\n",
    "plot_feature_importances(clf_gini, col)\n",
    "plt.tight_layout()\n",
    "\n",
    "plt.show() # you can change max_depth= 2, 4, 6, 8"
   ]
  },
  {
   "cell_type": "markdown",
   "metadata": {},
   "source": [
    "### Roc Curv "
   ]
  },
  {
   "cell_type": "code",
   "execution_count": 21,
   "metadata": {},
   "outputs": [
    {
     "name": "stdout",
     "output_type": "stream",
     "text": [
      "accuracy:  0.7931644518272425\n"
     ]
    },
    {
     "data": {
      "image/png": "[encoded data removed]",
      "text/plain": [
       "<Figure size 432x288 with 1 Axes>"
      ]
     },
     "metadata": {
      "needs_background": "light"
     },
     "output_type": "display_data"
    },
    {
     "name": "stdout",
     "output_type": "stream",
     "text": [
      "accuracy:  0.6095838436949182\n"
     ]
    },
    {
     "data": {
      "image/png": "[encoded data removed]",
      "text/plain": [
       "<Figure size 432x288 with 1 Axes>"
      ]
     },
     "metadata": {
      "needs_background": "light"
     },
     "output_type": "display_data"
    },
    {
     "name": "stdout",
     "output_type": "stream",
     "text": [
      "accuracy:  0.8411507031790353\n"
     ]
    },
    {
     "data": {
      "image/png": "[encoded data removed]",
      "text/plain": [
       "<Figure size 432x288 with 1 Axes>"
      ]
     },
     "metadata": {
      "needs_background": "light"
     },
     "output_type": "display_data"
    }
   ],
   "source": [
    "graph_Roc_Curv(X_train, y_train, X_test, y_test,'Gini')"
   ]
  },
  {
   "cell_type": "markdown",
   "metadata": {},
   "source": [
    "# Plot Gini: Training Score vs Testing Scrore"
   ]
  },
  {
   "cell_type": "code",
   "execution_count": 22,
   "metadata": {},
   "outputs": [
    {
     "name": "stdout",
     "output_type": "stream",
     "text": [
      "Saving figure Decision_Tree_Gini\n"
     ]
    },
    {
     "data": {
      "image/png": "[encoded data removed]",
      "text/plain": [
       "<Figure size 432x288 with 1 Axes>"
      ]
     },
     "metadata": {
      "needs_background": "light"
     },
     "output_type": "display_data"
    }
   ],
   "source": [
    "plot_train_VS_testing_score(clf_gini,'Decision_Tree_Gini')"
   ]
  },
  {
   "cell_type": "markdown",
   "metadata": {},
   "source": [
    "### k-Cross Validation\n",
    "\n",
    "* using KFold function with freedom"
   ]
  },
  {
   "cell_type": "code",
   "execution_count": 23,
   "metadata": {},
   "outputs": [
    {
     "name": "stdout",
     "output_type": "stream",
     "text": [
      "=========================Kfold 1 =======================\n",
      "                          precision    recall  f1-score   support\n",
      "\n",
      "  Class_best_ontime_Rate       0.64      0.81      0.71       196\n",
      "Class_median_ontime_rate       0.63      0.47      0.54       184\n",
      " Class_worse_ontime_rate       0.58      0.52      0.55        61\n",
      "\n",
      "                accuracy                           0.63       441\n",
      "               macro avg       0.62      0.60      0.60       441\n",
      "            weighted avg       0.63      0.63      0.62       441\n",
      "\n",
      "=========================Kfold 2 =======================\n",
      "                          precision    recall  f1-score   support\n",
      "\n",
      "  Class_best_ontime_Rate       0.61      0.81      0.69       195\n",
      "Class_median_ontime_rate       0.60      0.42      0.49       185\n",
      " Class_worse_ontime_rate       0.63      0.56      0.59        61\n",
      "\n",
      "                accuracy                           0.61       441\n",
      "               macro avg       0.61      0.59      0.59       441\n",
      "            weighted avg       0.61      0.61      0.59       441\n",
      "\n",
      "=========================Kfold 3 =======================\n",
      "                          precision    recall  f1-score   support\n",
      "\n",
      "  Class_best_ontime_Rate       0.64      0.88      0.74       195\n",
      "Class_median_ontime_rate       0.69      0.40      0.51       185\n",
      " Class_worse_ontime_rate       0.59      0.62      0.61        61\n",
      "\n",
      "                accuracy                           0.64       441\n",
      "               macro avg       0.64      0.64      0.62       441\n",
      "            weighted avg       0.65      0.64      0.62       441\n",
      "\n",
      "=========================Kfold 4 =======================\n",
      "                          precision    recall  f1-score   support\n",
      "\n",
      "  Class_best_ontime_Rate       0.65      0.85      0.74       201\n",
      "Class_median_ontime_rate       0.64      0.38      0.48       178\n",
      " Class_worse_ontime_rate       0.50      0.58      0.54        62\n",
      "\n",
      "                accuracy                           0.62       441\n",
      "               macro avg       0.60      0.60      0.58       441\n",
      "            weighted avg       0.63      0.62      0.60       441\n",
      "\n",
      "=========================Kfold 5 =======================\n",
      "                          precision    recall  f1-score   support\n",
      "\n",
      "  Class_best_ontime_Rate       0.60      0.83      0.70       188\n",
      "Class_median_ontime_rate       0.61      0.42      0.50       191\n",
      " Class_worse_ontime_rate       0.59      0.47      0.52        62\n",
      "\n",
      "                accuracy                           0.60       441\n",
      "               macro avg       0.60      0.57      0.57       441\n",
      "            weighted avg       0.60      0.60      0.59       441\n",
      "\n",
      "=========================Kfold 6 =======================\n",
      "                          precision    recall  f1-score   support\n",
      "\n",
      "  Class_best_ontime_Rate       0.65      0.85      0.74       205\n",
      "Class_median_ontime_rate       0.61      0.42      0.50       180\n",
      " Class_worse_ontime_rate       0.54      0.46      0.50        56\n",
      "\n",
      "                accuracy                           0.63       441\n",
      "               macro avg       0.60      0.58      0.58       441\n",
      "            weighted avg       0.62      0.63      0.61       441\n",
      "\n",
      "=========================Kfold 7 =======================\n",
      "                          precision    recall  f1-score   support\n",
      "\n",
      "  Class_best_ontime_Rate       0.63      0.85      0.72       190\n",
      "Class_median_ontime_rate       0.65      0.43      0.51       188\n",
      " Class_worse_ontime_rate       0.58      0.56      0.57        63\n",
      "\n",
      "                accuracy                           0.63       441\n",
      "               macro avg       0.62      0.61      0.60       441\n",
      "            weighted avg       0.63      0.63      0.61       441\n",
      "\n",
      "=========================Kfold 8 =======================\n",
      "                          precision    recall  f1-score   support\n",
      "\n",
      "  Class_best_ontime_Rate       0.63      0.83      0.71       194\n",
      "Class_median_ontime_rate       0.65      0.43      0.52       189\n",
      " Class_worse_ontime_rate       0.55      0.57      0.56        58\n",
      "\n",
      "                accuracy                           0.62       441\n",
      "               macro avg       0.61      0.61      0.60       441\n",
      "            weighted avg       0.63      0.62      0.61       441\n",
      "\n",
      "=========================Kfold 9 =======================\n",
      "                          precision    recall  f1-score   support\n",
      "\n",
      "  Class_best_ontime_Rate       0.57      0.83      0.68       195\n",
      "Class_median_ontime_rate       0.59      0.34      0.43       192\n",
      " Class_worse_ontime_rate       0.46      0.42      0.44        53\n",
      "\n",
      "                accuracy                           0.57       440\n",
      "               macro avg       0.54      0.53      0.52       440\n",
      "            weighted avg       0.57      0.57      0.54       440\n",
      "\n",
      "=========================Kfold 10 =======================\n",
      "                          precision    recall  f1-score   support\n",
      "\n",
      "  Class_best_ontime_Rate       0.63      0.85      0.73       190\n",
      "Class_median_ontime_rate       0.62      0.40      0.48       189\n",
      " Class_worse_ontime_rate       0.52      0.56      0.54        61\n",
      "\n",
      "                accuracy                           0.61       440\n",
      "               macro avg       0.59      0.60      0.58       440\n",
      "            weighted avg       0.61      0.61      0.60       440\n",
      "\n"
     ]
    }
   ],
   "source": [
    "get_KFold_report(X, y)"
   ]
  },
  {
   "cell_type": "markdown",
   "metadata": {},
   "source": [
    "### Decision Tree - Entropy "
   ]
  },
  {
   "cell_type": "code",
   "execution_count": 24,
   "metadata": {},
   "outputs": [
    {
     "data": {
      "text/plain": [
       "DecisionTreeClassifier(criterion='entropy', max_depth=4, random_state=42)"
      ]
     },
     "execution_count": 24,
     "metadata": {},
     "output_type": "execute_result"
    }
   ],
   "source": [
    "tree_clf_entropy = DecisionTreeClassifier(max_depth=4, criterion=\"entropy\", random_state=42)\n",
    "tree_clf_entropy.fit(X_train, y_train)"
   ]
  },
  {
   "cell_type": "code",
   "execution_count": 25,
   "metadata": {},
   "outputs": [],
   "source": [
    "y_pred_entropy = tree_clf_entropy.predict(X_test)"
   ]
  },
  {
   "cell_type": "code",
   "execution_count": 26,
   "metadata": {},
   "outputs": [
    {
     "name": "stdout",
     "output_type": "stream",
     "text": [
      "[[567 433   0]\n",
      " [ 62 794  39]\n",
      " [  1 167 141]]\n"
     ]
    },
    {
     "data": {
      "image/png": "[encoded data removed]",
      "text/plain": [
       "<Figure size 432x288 with 2 Axes>"
      ]
     },
     "metadata": {
      "needs_background": "light"
     },
     "output_type": "display_data"
    }
   ],
   "source": [
    "# plot a confusion matrix\n",
    "confusion_mat = confusion_matrix(y_test, y_pred_entropy)\n",
    "\n",
    "print(confusion_mat)\n",
    "\n",
    "plot_confusion_matrix(confusion_mat, 3)"
   ]
  },
  {
   "cell_type": "code",
   "execution_count": 27,
   "metadata": {},
   "outputs": [
    {
     "name": "stdout",
     "output_type": "stream",
     "text": [
      "                          precision    recall  f1-score   support\n",
      "\n",
      "  Class_best_ontime_Rate       0.90      0.57      0.70      1000\n",
      "Class_median_ontime_rate       0.57      0.89      0.69       895\n",
      " Class_worse_ontime_rate       0.78      0.46      0.58       309\n",
      "\n",
      "                accuracy                           0.68      2204\n",
      "               macro avg       0.75      0.64      0.66      2204\n",
      "            weighted avg       0.75      0.68      0.68      2204\n",
      "\n"
     ]
    }
   ],
   "source": [
    "result_metrics_entropy = classification_report(y_test, y_pred_entropy, target_names=TARGET_NAMES)\n",
    "\n",
    "print(result_metrics_entropy)"
   ]
  },
  {
   "cell_type": "code",
   "execution_count": 28,
   "metadata": {},
   "outputs": [
    {
     "name": "stdout",
     "output_type": "stream",
     "text": [
      "0.9\n",
      "0.569583931133429\n",
      "0.7833333333333333\n"
     ]
    }
   ],
   "source": [
    "# you can access each class's metrics from result_metrics\n",
    "result_metrics_dict = classification_report(y_test, y_pred_entropy, target_names=TARGET_NAMES, output_dict=True)\n",
    "\n",
    "print(result_metrics_dict['Class_best_ontime_Rate']['precision'])\n",
    "print(result_metrics_dict['Class_median_ontime_rate']['precision'])\n",
    "print(result_metrics_dict['Class_worse_ontime_rate']['precision'])"
   ]
  },
  {
   "cell_type": "markdown",
   "metadata": {},
   "source": [
    "### plot_feature_importances"
   ]
  },
  {
   "cell_type": "code",
   "execution_count": 29,
   "metadata": {},
   "outputs": [],
   "source": [
    "col = ['# of Delays.Carrier', '# of Delays.Late Aircraft',\n",
    "       '# of Delays.National Aviation System', '# of Delays.Security',\n",
    "       '# of Delays.Weather', 'Flights.Cancelled', 'Flights.Delayed',\n",
    "       'Flights.Diverted', 'Flights.Total', 'Minutes Delayed.Carrier',\n",
    "       'Minutes Delayed.Late Aircraft',\n",
    "       'Minutes Delayed.National Aviation System', 'Minutes Delayed.Security',\n",
    "       'Minutes Delayed.Total', 'Minutes Delayed.Weather']"
   ]
  },
  {
   "cell_type": "code",
   "execution_count": 30,
   "metadata": {},
   "outputs": [
    {
     "name": "stdout",
     "output_type": "stream",
     "text": [
      "Accuracy of DT classifier on training set: 0.89\n",
      "Accuracy of DT classifier on test set: 0.83\n",
      "15\n"
     ]
    },
    {
     "data": {
      "image/png": "[encoded data removed]",
      "text/plain": [
       "<Figure size 960x480 with 1 Axes>"
      ]
     },
     "metadata": {
      "needs_background": "light"
     },
     "output_type": "display_data"
    }
   ],
   "source": [
    "clf = DecisionTreeClassifier(criterion='entropy', max_depth = 8, min_samples_leaf = 8,\n",
    "                            random_state = 0).fit(X_train, y_train)\n",
    "\n",
    "print('Accuracy of DT classifier on training set: {:.2f}'\n",
    "     .format(clf.score(X_train, y_train)))\n",
    "print('Accuracy of DT classifier on test set: {:.2f}'\n",
    "     .format(clf.score(X_test, y_test)))\n",
    "\n",
    "#plt.title(\"Plot Feature Importances from Decision Tree - Entropy\")\n",
    "plt.figure(figsize=(12,6),dpi=80)\n",
    "plot_feature_importances(clf, col)\n",
    "plt.tight_layout()\n",
    "\n",
    "plt.show() # you can change max_depth= 2, 4, 6, 8"
   ]
  },
  {
   "cell_type": "markdown",
   "metadata": {},
   "source": [
    "## Roc Curv "
   ]
  },
  {
   "cell_type": "code",
   "execution_count": 31,
   "metadata": {
    "scrolled": true
   },
   "outputs": [
    {
     "name": "stdout",
     "output_type": "stream",
     "text": [
      "accuracy:  0.7931644518272425\n"
     ]
    },
    {
     "data": {
      "image/png": "[encoded data removed]",
      "text/plain": [
       "<Figure size 432x288 with 1 Axes>"
      ]
     },
     "metadata": {
      "needs_background": "light"
     },
     "output_type": "display_data"
    },
    {
     "name": "stdout",
     "output_type": "stream",
     "text": [
      "accuracy:  0.6095838436949182\n"
     ]
    },
    {
     "data": {
      "image/png": "[encoded data removed]",
      "text/plain": [
       "<Figure size 432x288 with 1 Axes>"
      ]
     },
     "metadata": {
      "needs_background": "light"
     },
     "output_type": "display_data"
    },
    {
     "name": "stdout",
     "output_type": "stream",
     "text": [
      "accuracy:  0.8411507031790353\n"
     ]
    },
    {
     "data": {
      "image/png": "[encoded data removed]",
      "text/plain": [
       "<Figure size 432x288 with 1 Axes>"
      ]
     },
     "metadata": {
      "needs_background": "light"
     },
     "output_type": "display_data"
    }
   ],
   "source": [
    "graph_Roc_Curv(X_train, y_train, X_test, y_test, 'Entropy')"
   ]
  },
  {
   "cell_type": "markdown",
   "metadata": {},
   "source": [
    "### Plot Entropy :  Training Score vs Testing Score"
   ]
  },
  {
   "cell_type": "code",
   "execution_count": 32,
   "metadata": {},
   "outputs": [
    {
     "name": "stdout",
     "output_type": "stream",
     "text": [
      "Saving figure Decision_Tree_entropy\n"
     ]
    },
    {
     "data": {
      "image/png": "[encoded data removed]",
      "text/plain": [
       "<Figure size 432x288 with 1 Axes>"
      ]
     },
     "metadata": {
      "needs_background": "light"
     },
     "output_type": "display_data"
    }
   ],
   "source": [
    "plot_train_VS_testing_score(tree_clf_entropy, 'Decision_Tree_entropy')"
   ]
  },
  {
   "cell_type": "code",
   "execution_count": 33,
   "metadata": {},
   "outputs": [
    {
     "name": "stdout",
     "output_type": "stream",
     "text": [
      "k=1\n",
      "training score:  1.0\n",
      "testing score:  0.7078039927404719\n",
      "[[759 229  12]\n",
      " [162 629 104]\n",
      " [  9 128 172]]\n",
      "                          precision    recall  f1-score   support\n",
      "\n",
      "  Class_best_ontime_Rate       0.82      0.76      0.79      1000\n",
      "Class_median_ontime_rate       0.64      0.70      0.67       895\n",
      " Class_worse_ontime_rate       0.60      0.56      0.58       309\n",
      "\n",
      "                accuracy                           0.71      2204\n",
      "               macro avg       0.68      0.67      0.68      2204\n",
      "            weighted avg       0.71      0.71      0.71      2204\n",
      "\n",
      "k=5\n",
      "training score:  0.8262250453720508\n",
      "testing score:  0.7313974591651543\n",
      "[[761 234   5]\n",
      " [136 686  73]\n",
      " [  7 137 165]]\n",
      "                          precision    recall  f1-score   support\n",
      "\n",
      "  Class_best_ontime_Rate       0.84      0.76      0.80      1000\n",
      "Class_median_ontime_rate       0.65      0.77      0.70       895\n",
      " Class_worse_ontime_rate       0.68      0.53      0.60       309\n",
      "\n",
      "                accuracy                           0.73      2204\n",
      "               macro avg       0.72      0.69      0.70      2204\n",
      "            weighted avg       0.74      0.73      0.73      2204\n",
      "\n",
      "k=10\n",
      "training score:  0.7994555353901996\n",
      "testing score:  0.7445553539019963\n",
      "[[788 204   8]\n",
      " [141 704  50]\n",
      " [  8 152 149]]\n",
      "                          precision    recall  f1-score   support\n",
      "\n",
      "  Class_best_ontime_Rate       0.84      0.79      0.81      1000\n",
      "Class_median_ontime_rate       0.66      0.79      0.72       895\n",
      " Class_worse_ontime_rate       0.72      0.48      0.58       309\n",
      "\n",
      "                accuracy                           0.74      2204\n",
      "               macro avg       0.74      0.69      0.70      2204\n",
      "            weighted avg       0.75      0.74      0.74      2204\n",
      "\n",
      "k=15\n",
      "training score:  0.7790381125226861\n",
      "testing score:  0.7309437386569873\n",
      "[[734 258   8]\n",
      " [122 725  48]\n",
      " [  5 152 152]]\n",
      "                          precision    recall  f1-score   support\n",
      "\n",
      "  Class_best_ontime_Rate       0.85      0.73      0.79      1000\n",
      "Class_median_ontime_rate       0.64      0.81      0.71       895\n",
      " Class_worse_ontime_rate       0.73      0.49      0.59       309\n",
      "\n",
      "                accuracy                           0.73      2204\n",
      "               macro avg       0.74      0.68      0.70      2204\n",
      "            weighted avg       0.75      0.73      0.73      2204\n",
      "\n",
      "k=20\n",
      "training score:  0.7758620689655172\n",
      "testing score:  0.7341197822141561\n",
      "[[741 251   8]\n",
      " [116 732  47]\n",
      " [  5 159 145]]\n",
      "                          precision    recall  f1-score   support\n",
      "\n",
      "  Class_best_ontime_Rate       0.86      0.74      0.80      1000\n",
      "Class_median_ontime_rate       0.64      0.82      0.72       895\n",
      " Class_worse_ontime_rate       0.72      0.47      0.57       309\n",
      "\n",
      "                accuracy                           0.73      2204\n",
      "               macro avg       0.74      0.68      0.69      2204\n",
      "            weighted avg       0.75      0.73      0.73      2204\n",
      "\n"
     ]
    }
   ],
   "source": [
    "k_value = [1, 5, 10, 15, 20]\n",
    "\n",
    "for k in k_value:\n",
    "    knn = KNeighborsClassifier(n_neighbors = k)\n",
    "    knn.fit(X_train, y_train)\n",
    "    y_pred = knn.predict(X_test)\n",
    "    print(f\"k={k}\")\n",
    "    print(\"training score: \", knn.score(X_train, y_train))\n",
    "    print(\"testing score: \", knn.score(X_test, y_test))\n",
    "    \n",
    "    # plot a confusion matrix\n",
    "    confusion_mat = confusion_matrix(y_test, y_pred)\n",
    "    print(confusion_mat)\n",
    "    \n",
    "    #classification_report(y_test, y_pred, target_names=target_names, output_dict=True)\n",
    "    result_metrics = classification_report(y_test, y_pred, target_names=TARGET_NAMES)\n",
    "    print(result_metrics)"
   ]
  },
  {
   "cell_type": "markdown",
   "metadata": {},
   "source": [
    "### k-Cross Validation\n",
    "using KFold function with freedom"
   ]
  },
  {
   "cell_type": "code",
   "execution_count": 34,
   "metadata": {},
   "outputs": [
    {
     "name": "stdout",
     "output_type": "stream",
     "text": [
      "=========================Kfold 1 =======================\n",
      "                          precision    recall  f1-score   support\n",
      "\n",
      "  Class_best_ontime_Rate       0.58      0.84      0.68       179\n",
      "Class_median_ontime_rate       0.63      0.39      0.48       203\n",
      " Class_worse_ontime_rate       0.44      0.41      0.42        59\n",
      "\n",
      "                accuracy                           0.58       441\n",
      "               macro avg       0.55      0.55      0.53       441\n",
      "            weighted avg       0.58      0.58      0.56       441\n",
      "\n",
      "=========================Kfold 2 =======================\n",
      "                          precision    recall  f1-score   support\n",
      "\n",
      "  Class_best_ontime_Rate       0.68      0.85      0.76       207\n",
      "Class_median_ontime_rate       0.68      0.51      0.59       177\n",
      " Class_worse_ontime_rate       0.58      0.51      0.54        57\n",
      "\n",
      "                accuracy                           0.67       441\n",
      "               macro avg       0.65      0.62      0.63       441\n",
      "            weighted avg       0.67      0.67      0.66       441\n",
      "\n",
      "=========================Kfold 3 =======================\n",
      "                          precision    recall  f1-score   support\n",
      "\n",
      "  Class_best_ontime_Rate       0.69      0.86      0.76       213\n",
      "Class_median_ontime_rate       0.64      0.44      0.53       171\n",
      " Class_worse_ontime_rate       0.54      0.54      0.54        57\n",
      "\n",
      "                accuracy                           0.66       441\n",
      "               macro avg       0.63      0.62      0.61       441\n",
      "            weighted avg       0.65      0.66      0.64       441\n",
      "\n",
      "=========================Kfold 4 =======================\n",
      "                          precision    recall  f1-score   support\n",
      "\n",
      "  Class_best_ontime_Rate       0.60      0.84      0.70       175\n",
      "Class_median_ontime_rate       0.65      0.47      0.54       193\n",
      " Class_worse_ontime_rate       0.68      0.55      0.61        73\n",
      "\n",
      "                accuracy                           0.63       441\n",
      "               macro avg       0.64      0.62      0.62       441\n",
      "            weighted avg       0.64      0.63      0.62       441\n",
      "\n",
      "=========================Kfold 5 =======================\n",
      "                          precision    recall  f1-score   support\n",
      "\n",
      "  Class_best_ontime_Rate       0.62      0.89      0.73       204\n",
      "Class_median_ontime_rate       0.69      0.40      0.50       187\n",
      " Class_worse_ontime_rate       0.55      0.48      0.51        50\n",
      "\n",
      "                accuracy                           0.63       441\n",
      "               macro avg       0.62      0.59      0.58       441\n",
      "            weighted avg       0.64      0.63      0.61       441\n",
      "\n",
      "=========================Kfold 6 =======================\n",
      "                          precision    recall  f1-score   support\n",
      "\n",
      "  Class_best_ontime_Rate       0.59      0.80      0.68       178\n",
      "Class_median_ontime_rate       0.62      0.42      0.50       202\n",
      " Class_worse_ontime_rate       0.59      0.59      0.59        61\n",
      "\n",
      "                accuracy                           0.60       441\n",
      "               macro avg       0.60      0.60      0.59       441\n",
      "            weighted avg       0.60      0.60      0.59       441\n",
      "\n",
      "=========================Kfold 7 =======================\n",
      "                          precision    recall  f1-score   support\n",
      "\n",
      "  Class_best_ontime_Rate       0.61      0.86      0.71       194\n",
      "Class_median_ontime_rate       0.59      0.32      0.42       183\n",
      " Class_worse_ontime_rate       0.57      0.62      0.60        64\n",
      "\n",
      "                accuracy                           0.60       441\n",
      "               macro avg       0.59      0.60      0.58       441\n",
      "            weighted avg       0.60      0.60      0.57       441\n",
      "\n",
      "=========================Kfold 8 =======================\n",
      "                          precision    recall  f1-score   support\n",
      "\n",
      "  Class_best_ontime_Rate       0.63      0.79      0.70       209\n",
      "Class_median_ontime_rate       0.51      0.38      0.44       163\n",
      " Class_worse_ontime_rate       0.61      0.51      0.56        69\n",
      "\n",
      "                accuracy                           0.59       441\n",
      "               macro avg       0.58      0.56      0.56       441\n",
      "            weighted avg       0.58      0.59      0.58       441\n",
      "\n",
      "=========================Kfold 9 =======================\n",
      "                          precision    recall  f1-score   support\n",
      "\n",
      "  Class_best_ontime_Rate       0.64      0.82      0.72       205\n",
      "Class_median_ontime_rate       0.64      0.41      0.50       183\n",
      " Class_worse_ontime_rate       0.54      0.60      0.57        52\n",
      "\n",
      "                accuracy                           0.62       440\n",
      "               macro avg       0.61      0.61      0.60       440\n",
      "            weighted avg       0.63      0.62      0.61       440\n",
      "\n",
      "=========================Kfold 10 =======================\n",
      "                          precision    recall  f1-score   support\n",
      "\n",
      "  Class_best_ontime_Rate       0.60      0.82      0.69       185\n",
      "Class_median_ontime_rate       0.62      0.43      0.51       199\n",
      " Class_worse_ontime_rate       0.53      0.46      0.50        56\n",
      "\n",
      "                accuracy                           0.60       440\n",
      "               macro avg       0.58      0.57      0.56       440\n",
      "            weighted avg       0.60      0.60      0.58       440\n",
      "\n"
     ]
    }
   ],
   "source": [
    "get_KFold_report(X, y)"
   ]
  },
  {
   "cell_type": "markdown",
   "metadata": {},
   "source": [
    "### knn "
   ]
  },
  {
   "cell_type": "code",
   "execution_count": 35,
   "metadata": {},
   "outputs": [],
   "source": [
    "# default is 75% / 25% train-test split\n",
    "X_train, X_test, y_train, y_test = train_test_split(X, y, random_state=0)"
   ]
  },
  {
   "cell_type": "code",
   "execution_count": 36,
   "metadata": {
    "scrolled": true
   },
   "outputs": [
    {
     "name": "stdout",
     "output_type": "stream",
     "text": [
      "k=1\n",
      "training score:  1.0\n",
      "testing score:  0.720508166969147\n",
      "[[375  93   3]\n",
      " [ 86 339  58]\n",
      " [  5  63  80]]\n",
      "                          precision    recall  f1-score   support\n",
      "\n",
      "  Class_best_ontime_Rate       0.80      0.80      0.80       471\n",
      "Class_median_ontime_rate       0.68      0.70      0.69       483\n",
      " Class_worse_ontime_rate       0.57      0.54      0.55       148\n",
      "\n",
      "                accuracy                           0.72      1102\n",
      "               macro avg       0.69      0.68      0.68      1102\n",
      "            weighted avg       0.72      0.72      0.72      1102\n",
      "\n",
      "k=5\n",
      "training score:  0.8254688445251058\n",
      "testing score:  0.7431941923774955\n",
      "[[383  86   2]\n",
      " [ 84 368  31]\n",
      " [  3  77  68]]\n",
      "                          precision    recall  f1-score   support\n",
      "\n",
      "  Class_best_ontime_Rate       0.81      0.81      0.81       471\n",
      "Class_median_ontime_rate       0.69      0.76      0.73       483\n",
      " Class_worse_ontime_rate       0.67      0.46      0.55       148\n",
      "\n",
      "                accuracy                           0.74      1102\n",
      "               macro avg       0.73      0.68      0.70      1102\n",
      "            weighted avg       0.74      0.74      0.74      1102\n",
      "\n",
      "k=10\n",
      "training score:  0.7994555353901996\n",
      "testing score:  0.7395644283121597\n",
      "[[383  86   2]\n",
      " [ 90 372  21]\n",
      " [  7  81  60]]\n",
      "                          precision    recall  f1-score   support\n",
      "\n",
      "  Class_best_ontime_Rate       0.80      0.81      0.81       471\n",
      "Class_median_ontime_rate       0.69      0.77      0.73       483\n",
      " Class_worse_ontime_rate       0.72      0.41      0.52       148\n",
      "\n",
      "                accuracy                           0.74      1102\n",
      "               macro avg       0.74      0.66      0.68      1102\n",
      "            weighted avg       0.74      0.74      0.73      1102\n",
      "\n",
      "k=15\n",
      "training score:  0.7879612825166364\n",
      "testing score:  0.7486388384754991\n",
      "[[371  97   3]\n",
      " [ 70 390  23]\n",
      " [  4  80  64]]\n",
      "                          precision    recall  f1-score   support\n",
      "\n",
      "  Class_best_ontime_Rate       0.83      0.79      0.81       471\n",
      "Class_median_ontime_rate       0.69      0.81      0.74       483\n",
      " Class_worse_ontime_rate       0.71      0.43      0.54       148\n",
      "\n",
      "                accuracy                           0.75      1102\n",
      "               macro avg       0.74      0.68      0.70      1102\n",
      "            weighted avg       0.75      0.75      0.74      1102\n",
      "\n",
      "k=20\n",
      "training score:  0.7752571082879612\n",
      "testing score:  0.7549909255898367\n",
      "[[375  93   3]\n",
      " [ 65 395  23]\n",
      " [  3  83  62]]\n",
      "                          precision    recall  f1-score   support\n",
      "\n",
      "  Class_best_ontime_Rate       0.85      0.80      0.82       471\n",
      "Class_median_ontime_rate       0.69      0.82      0.75       483\n",
      " Class_worse_ontime_rate       0.70      0.42      0.53       148\n",
      "\n",
      "                accuracy                           0.75      1102\n",
      "               macro avg       0.75      0.68      0.70      1102\n",
      "            weighted avg       0.76      0.75      0.75      1102\n",
      "\n"
     ]
    }
   ],
   "source": [
    "k_value = [1, 5, 10, 15, 20]\n",
    "\n",
    "for k in k_value:\n",
    "    knn = KNeighborsClassifier(n_neighbors = k)\n",
    "    knn.fit(X_train, y_train)\n",
    "    y_pred = knn.predict(X_test)\n",
    "    print(f\"k={k}\")\n",
    "    print(\"training score: \", knn.score(X_train, y_train))\n",
    "    print(\"testing score: \", knn.score(X_test, y_test))\n",
    "    \n",
    "    # plot a confusion matrix\n",
    "    confusion_mat = confusion_matrix(y_test, y_pred)\n",
    "    print(confusion_mat)\n",
    "    \n",
    "    #classification_report(y_test, y_pred, target_names=target_names, output_dict=True)\n",
    "    result_metrics = classification_report(y_test, y_pred, target_names=TARGET_NAMES)\n",
    "    print(result_metrics)"
   ]
  },
  {
   "cell_type": "markdown",
   "metadata": {},
   "source": [
    "### Find the best k-value for KNN "
   ]
  },
  {
   "cell_type": "code",
   "execution_count": 37,
   "metadata": {},
   "outputs": [
    {
     "name": "stdout",
     "output_type": "stream",
     "text": [
      "Saving figure Best_K_Value_KNN\n"
     ]
    },
    {
     "data": {
      "image/png": "[encoded data removed]",
      "text/plain": [
       "<Figure size 432x288 with 1 Axes>"
      ]
     },
     "metadata": {
      "needs_background": "light"
     },
     "output_type": "display_data"
    }
   ],
   "source": [
    "plot_Best_K_Value_KNN(X_train, X_test, y_train, y_test, k_range)"
   ]
  },
  {
   "cell_type": "markdown",
   "metadata": {},
   "source": [
    "## KNN:  k-Cross Validation\n",
    "using KFold function with freedom"
   ]
  },
  {
   "cell_type": "code",
   "execution_count": 38,
   "metadata": {
    "scrolled": true
   },
   "outputs": [
    {
     "name": "stdout",
     "output_type": "stream",
     "text": [
      "=========================Kfold 1 =======================\n",
      "                          precision    recall  f1-score   support\n",
      "\n",
      "  Class_best_ontime_Rate       0.60      0.86      0.70       195\n",
      "Class_median_ontime_rate       0.64      0.34      0.45       189\n",
      " Class_worse_ontime_rate       0.51      0.51      0.51        57\n",
      "\n",
      "                accuracy                           0.59       441\n",
      "               macro avg       0.58      0.57      0.55       441\n",
      "            weighted avg       0.60      0.59      0.57       441\n",
      "\n",
      "=========================Kfold 2 =======================\n",
      "                          precision    recall  f1-score   support\n",
      "\n",
      "  Class_best_ontime_Rate       0.63      0.86      0.73       202\n",
      "Class_median_ontime_rate       0.58      0.37      0.45       173\n",
      " Class_worse_ontime_rate       0.63      0.55      0.59        66\n",
      "\n",
      "                accuracy                           0.62       441\n",
      "               macro avg       0.61      0.59      0.59       441\n",
      "            weighted avg       0.61      0.62      0.60       441\n",
      "\n",
      "=========================Kfold 3 =======================\n",
      "                          precision    recall  f1-score   support\n",
      "\n",
      "  Class_best_ontime_Rate       0.61      0.91      0.73       183\n",
      "Class_median_ontime_rate       0.73      0.42      0.53       199\n",
      " Class_worse_ontime_rate       0.57      0.54      0.56        59\n",
      "\n",
      "                accuracy                           0.64       441\n",
      "               macro avg       0.64      0.62      0.61       441\n",
      "            weighted avg       0.66      0.64      0.62       441\n",
      "\n",
      "=========================Kfold 4 =======================\n",
      "                          precision    recall  f1-score   support\n",
      "\n",
      "  Class_best_ontime_Rate       0.67      0.79      0.73       219\n",
      "Class_median_ontime_rate       0.59      0.44      0.51       170\n",
      " Class_worse_ontime_rate       0.53      0.56      0.54        52\n",
      "\n",
      "                accuracy                           0.63       441\n",
      "               macro avg       0.60      0.60      0.59       441\n",
      "            weighted avg       0.62      0.63      0.62       441\n",
      "\n",
      "=========================Kfold 5 =======================\n",
      "                          precision    recall  f1-score   support\n",
      "\n",
      "  Class_best_ontime_Rate       0.62      0.84      0.72       195\n",
      "Class_median_ontime_rate       0.63      0.43      0.51       189\n",
      " Class_worse_ontime_rate       0.60      0.51      0.55        57\n",
      "\n",
      "                accuracy                           0.62       441\n",
      "               macro avg       0.62      0.59      0.59       441\n",
      "            weighted avg       0.62      0.62      0.61       441\n",
      "\n",
      "=========================Kfold 6 =======================\n",
      "                          precision    recall  f1-score   support\n",
      "\n",
      "  Class_best_ontime_Rate       0.60      0.84      0.70       183\n",
      "Class_median_ontime_rate       0.60      0.40      0.48       191\n",
      " Class_worse_ontime_rate       0.52      0.43      0.47        67\n",
      "\n",
      "                accuracy                           0.59       441\n",
      "               macro avg       0.57      0.56      0.55       441\n",
      "            weighted avg       0.59      0.59      0.57       441\n",
      "\n",
      "=========================Kfold 7 =======================\n",
      "                          precision    recall  f1-score   support\n",
      "\n",
      "  Class_best_ontime_Rate       0.62      0.84      0.71       187\n",
      "Class_median_ontime_rate       0.64      0.42      0.51       200\n",
      " Class_worse_ontime_rate       0.50      0.52      0.51        54\n",
      "\n",
      "                accuracy                           0.61       441\n",
      "               macro avg       0.59      0.59      0.58       441\n",
      "            weighted avg       0.61      0.61      0.59       441\n",
      "\n",
      "=========================Kfold 8 =======================\n",
      "                          precision    recall  f1-score   support\n",
      "\n",
      "  Class_best_ontime_Rate       0.63      0.86      0.72       201\n",
      "Class_median_ontime_rate       0.64      0.40      0.49       180\n",
      " Class_worse_ontime_rate       0.64      0.58      0.61        60\n",
      "\n",
      "                accuracy                           0.63       441\n",
      "               macro avg       0.64      0.61      0.61       441\n",
      "            weighted avg       0.64      0.63      0.61       441\n",
      "\n",
      "=========================Kfold 9 =======================\n",
      "                          precision    recall  f1-score   support\n",
      "\n",
      "  Class_best_ontime_Rate       0.63      0.80      0.71       204\n",
      "Class_median_ontime_rate       0.59      0.42      0.49       174\n",
      " Class_worse_ontime_rate       0.63      0.60      0.61        62\n",
      "\n",
      "                accuracy                           0.62       440\n",
      "               macro avg       0.62      0.61      0.60       440\n",
      "            weighted avg       0.62      0.62      0.61       440\n",
      "\n",
      "=========================Kfold 10 =======================\n",
      "                          precision    recall  f1-score   support\n",
      "\n",
      "  Class_best_ontime_Rate       0.63      0.82      0.71       180\n",
      "Class_median_ontime_rate       0.65      0.51      0.57       196\n",
      " Class_worse_ontime_rate       0.57      0.50      0.53        64\n",
      "\n",
      "                accuracy                           0.63       440\n",
      "               macro avg       0.62      0.61      0.61       440\n",
      "            weighted avg       0.63      0.63      0.62       440\n",
      "\n"
     ]
    }
   ],
   "source": [
    "get_KFold_report(X, y)"
   ]
  },
  {
   "cell_type": "markdown",
   "metadata": {},
   "source": [
    "### Original data - NaiveBayes"
   ]
  },
  {
   "cell_type": "code",
   "execution_count": 39,
   "metadata": {},
   "outputs": [
    {
     "data": {
      "text/plain": [
       "0.5353901996370236"
      ]
     },
     "execution_count": 39,
     "metadata": {},
     "output_type": "execute_result"
    }
   ],
   "source": [
    "nbclf = GaussianNB().fit(X_train, y_train)\n",
    "nbclf.score(X_test, y_test)"
   ]
  },
  {
   "cell_type": "code",
   "execution_count": 40,
   "metadata": {},
   "outputs": [
    {
     "data": {
      "text/plain": [
       "0.5347898928865695"
      ]
     },
     "execution_count": 40,
     "metadata": {},
     "output_type": "execute_result"
    }
   ],
   "source": [
    "a = cross_val_score(nbclf, X_train, y_train, cv=10, scoring=\"accuracy\")\n",
    "a.sum()/10"
   ]
  },
  {
   "cell_type": "code",
   "execution_count": 41,
   "metadata": {},
   "outputs": [
    {
     "name": "stdout",
     "output_type": "stream",
     "text": [
      "[[410  45  16]\n",
      " [301 132  50]\n",
      " [ 24  76  48]]\n"
     ]
    }
   ],
   "source": [
    "y_pred = nbclf.predict(X_test)\n",
    "\n",
    "# plot a confusion matrix\n",
    "confusion_mat = confusion_matrix(y_test, y_pred)\n",
    "\n",
    "print(confusion_mat)"
   ]
  },
  {
   "cell_type": "code",
   "execution_count": 42,
   "metadata": {},
   "outputs": [
    {
     "name": "stdout",
     "output_type": "stream",
     "text": [
      "                          precision    recall  f1-score   support\n",
      "\n",
      "  Class_best_ontime_Rate       0.56      0.87      0.68       471\n",
      "Class_median_ontime_rate       0.52      0.27      0.36       483\n",
      " Class_worse_ontime_rate       0.42      0.32      0.37       148\n",
      "\n",
      "                accuracy                           0.54      1102\n",
      "               macro avg       0.50      0.49      0.47      1102\n",
      "            weighted avg       0.52      0.54      0.50      1102\n",
      "\n"
     ]
    }
   ],
   "source": [
    "result_metrics = classification_report(y_test, y_pred, target_names=TARGET_NAMES)\n",
    "\n",
    "print(result_metrics)"
   ]
  },
  {
   "cell_type": "markdown",
   "metadata": {},
   "source": [
    "### Roc Curv "
   ]
  },
  {
   "cell_type": "code",
   "execution_count": 43,
   "metadata": {},
   "outputs": [
    {
     "name": "stdout",
     "output_type": "stream",
     "text": [
      "accuracy:  0.7860572474520612\n"
     ]
    },
    {
     "data": {
      "image/png": "[encoded data removed]",
      "text/plain": [
       "<Figure size 432x288 with 1 Axes>"
      ]
     },
     "metadata": {
      "needs_background": "light"
     },
     "output_type": "display_data"
    },
    {
     "name": "stdout",
     "output_type": "stream",
     "text": [
      "accuracy:  0.6328312880255003\n"
     ]
    },
    {
     "data": {
      "image/png": "[encoded data removed]",
      "text/plain": [
       "<Figure size 432x288 with 1 Axes>"
      ]
     },
     "metadata": {
      "needs_background": "light"
     },
     "output_type": "display_data"
    },
    {
     "name": "stdout",
     "output_type": "stream",
     "text": [
      "accuracy:  0.8412516289874781\n"
     ]
    },
    {
     "data": {
      "image/png": "[encoded data removed]",
      "text/plain": [
       "<Figure size 432x288 with 1 Axes>"
      ]
     },
     "metadata": {
      "needs_background": "light"
     },
     "output_type": "display_data"
    }
   ],
   "source": [
    "graph_Roc_Curv(X_train, y_train, X_test, y_test, 'NaiveBays')"
   ]
  },
  {
   "cell_type": "markdown",
   "metadata": {},
   "source": [
    "### Plot : Training VS Testing Score"
   ]
  },
  {
   "cell_type": "code",
   "execution_count": 44,
   "metadata": {},
   "outputs": [
    {
     "name": "stdout",
     "output_type": "stream",
     "text": [
      "Saving figure Naive_Bayes\n"
     ]
    },
    {
     "data": {
      "image/png": "[encoded data removed]",
      "text/plain": [
       "<Figure size 432x288 with 1 Axes>"
      ]
     },
     "metadata": {
      "needs_background": "light"
     },
     "output_type": "display_data"
    }
   ],
   "source": [
    "nbclf = GaussianNB()\n",
    "plot_train_VS_testing_score(nbclf, \"Naive_Bayes\")"
   ]
  },
  {
   "cell_type": "markdown",
   "metadata": {},
   "source": [
    "### k-Cross Validation\n",
    "\n",
    "- using KFold function with freedom"
   ]
  },
  {
   "cell_type": "code",
   "execution_count": 45,
   "metadata": {},
   "outputs": [
    {
     "name": "stdout",
     "output_type": "stream",
     "text": [
      "=========================Kfold 1 =======================\n",
      "                          precision    recall  f1-score   support\n",
      "\n",
      "  Class_best_ontime_Rate       0.63      0.83      0.71       191\n",
      "Class_median_ontime_rate       0.69      0.51      0.58       195\n",
      " Class_worse_ontime_rate       0.56      0.45      0.50        55\n",
      "\n",
      "                accuracy                           0.64       441\n",
      "               macro avg       0.62      0.60      0.60       441\n",
      "            weighted avg       0.64      0.64      0.63       441\n",
      "\n",
      "=========================Kfold 2 =======================\n",
      "                          precision    recall  f1-score   support\n",
      "\n",
      "  Class_best_ontime_Rate       0.61      0.86      0.71       184\n",
      "Class_median_ontime_rate       0.66      0.40      0.50       189\n",
      " Class_worse_ontime_rate       0.64      0.65      0.64        68\n",
      "\n",
      "                accuracy                           0.63       441\n",
      "               macro avg       0.64      0.63      0.62       441\n",
      "            weighted avg       0.64      0.63      0.61       441\n",
      "\n",
      "=========================Kfold 3 =======================\n",
      "                          precision    recall  f1-score   support\n",
      "\n",
      "  Class_best_ontime_Rate       0.64      0.83      0.72       210\n",
      "Class_median_ontime_rate       0.56      0.39      0.46       179\n",
      " Class_worse_ontime_rate       0.43      0.35      0.38        52\n",
      "\n",
      "                accuracy                           0.59       441\n",
      "               macro avg       0.54      0.52      0.52       441\n",
      "            weighted avg       0.58      0.59      0.57       441\n",
      "\n",
      "=========================Kfold 4 =======================\n",
      "                          precision    recall  f1-score   support\n",
      "\n",
      "  Class_best_ontime_Rate       0.63      0.87      0.73       193\n",
      "Class_median_ontime_rate       0.69      0.47      0.55       187\n",
      " Class_worse_ontime_rate       0.70      0.52      0.60        61\n",
      "\n",
      "                accuracy                           0.65       441\n",
      "               macro avg       0.67      0.62      0.63       441\n",
      "            weighted avg       0.66      0.65      0.64       441\n",
      "\n",
      "=========================Kfold 5 =======================\n",
      "                          precision    recall  f1-score   support\n",
      "\n",
      "  Class_best_ontime_Rate       0.65      0.84      0.73       197\n",
      "Class_median_ontime_rate       0.62      0.40      0.48       184\n",
      " Class_worse_ontime_rate       0.54      0.62      0.57        60\n",
      "\n",
      "                accuracy                           0.62       441\n",
      "               macro avg       0.60      0.62      0.60       441\n",
      "            weighted avg       0.62      0.62      0.61       441\n",
      "\n",
      "=========================Kfold 6 =======================\n",
      "                          precision    recall  f1-score   support\n",
      "\n",
      "  Class_best_ontime_Rate       0.62      0.78      0.69       190\n",
      "Class_median_ontime_rate       0.53      0.42      0.47       177\n",
      " Class_worse_ontime_rate       0.61      0.50      0.55        74\n",
      "\n",
      "                accuracy                           0.59       441\n",
      "               macro avg       0.59      0.57      0.57       441\n",
      "            weighted avg       0.58      0.59      0.58       441\n",
      "\n",
      "=========================Kfold 7 =======================\n",
      "                          precision    recall  f1-score   support\n",
      "\n",
      "  Class_best_ontime_Rate       0.60      0.83      0.70       195\n",
      "Class_median_ontime_rate       0.65      0.35      0.45       198\n",
      " Class_worse_ontime_rate       0.47      0.62      0.54        48\n",
      "\n",
      "                accuracy                           0.59       441\n",
      "               macro avg       0.57      0.60      0.56       441\n",
      "            weighted avg       0.61      0.59      0.57       441\n",
      "\n",
      "=========================Kfold 8 =======================\n",
      "                          precision    recall  f1-score   support\n",
      "\n",
      "  Class_best_ontime_Rate       0.65      0.83      0.73       205\n",
      "Class_median_ontime_rate       0.62      0.45      0.52       182\n",
      " Class_worse_ontime_rate       0.59      0.54      0.56        54\n",
      "\n",
      "                accuracy                           0.64       441\n",
      "               macro avg       0.62      0.61      0.60       441\n",
      "            weighted avg       0.63      0.64      0.62       441\n",
      "\n",
      "=========================Kfold 9 =======================\n",
      "                          precision    recall  f1-score   support\n",
      "\n",
      "  Class_best_ontime_Rate       0.58      0.83      0.68       183\n",
      "Class_median_ontime_rate       0.57      0.38      0.45       185\n",
      " Class_worse_ontime_rate       0.56      0.43      0.49        72\n",
      "\n",
      "                accuracy                           0.57       440\n",
      "               macro avg       0.57      0.55      0.54       440\n",
      "            weighted avg       0.57      0.57      0.56       440\n",
      "\n",
      "=========================Kfold 10 =======================\n",
      "                          precision    recall  f1-score   support\n",
      "\n",
      "  Class_best_ontime_Rate       0.65      0.82      0.73       201\n",
      "Class_median_ontime_rate       0.63      0.43      0.51       185\n",
      " Class_worse_ontime_rate       0.52      0.61      0.56        54\n",
      "\n",
      "                accuracy                           0.63       440\n",
      "               macro avg       0.60      0.62      0.60       440\n",
      "            weighted avg       0.63      0.63      0.62       440\n",
      "\n"
     ]
    }
   ],
   "source": [
    "get_KFold_report(X, y)"
   ]
  },
  {
   "cell_type": "markdown",
   "metadata": {},
   "source": [
    "### KNN"
   ]
  },
  {
   "cell_type": "code",
   "execution_count": 46,
   "metadata": {},
   "outputs": [],
   "source": [
    "X_train, X_test, y_train, y_test = train_test_split(X, y, random_state=0)"
   ]
  },
  {
   "cell_type": "code",
   "execution_count": 47,
   "metadata": {},
   "outputs": [
    {
     "name": "stdout",
     "output_type": "stream",
     "text": [
      "Saving figure KNN\n"
     ]
    },
    {
     "data": {
      "image/png": "[encoded data removed]",
      "text/plain": [
       "<Figure size 432x288 with 1 Axes>"
      ]
     },
     "metadata": {
      "needs_background": "light"
     },
     "output_type": "display_data"
    }
   ],
   "source": [
    "knn = KNeighborsClassifier(n_neighbors = 5)\n",
    "plot_train_VS_testing_score(knn, \"KNN\")"
   ]
  },
  {
   "cell_type": "code",
   "execution_count": 48,
   "metadata": {},
   "outputs": [
    {
     "name": "stdout",
     "output_type": "stream",
     "text": [
      "Saving figure Best_K_Value_KNN\n"
     ]
    },
    {
     "data": {
      "image/png": "[encoded data removed]",
      "text/plain": [
       "<Figure size 432x288 with 1 Axes>"
      ]
     },
     "metadata": {
      "needs_background": "light"
     },
     "output_type": "display_data"
    }
   ],
   "source": [
    "plot_Best_K_Value_KNN(X_train, X_test, y_train, y_test, k_range)"
   ]
  },
  {
   "cell_type": "markdown",
   "metadata": {},
   "source": [
    "### Normalized data"
   ]
  },
  {
   "cell_type": "code",
   "execution_count": 49,
   "metadata": {},
   "outputs": [],
   "source": [
    "dfNormalize = df.copy()"
   ]
  },
  {
   "cell_type": "code",
   "execution_count": 50,
   "metadata": {},
   "outputs": [
    {
     "data": {
      "text/plain": [
       "Index(['Airport.Code', 'Airport.Name', 'Time.Label', 'Time.Month',\n",
       "       'Time.Month Name', 'Time.Year', '# of Delays.Carrier',\n",
       "       '# of Delays.Late Aircraft', '# of Delays.National Aviation System',\n",
       "       '# of Delays.Security', '# of Delays.Weather',\n",
       "       'Statistics.Carriers.Names', 'Carriers.Total', 'Flights.Cancelled',\n",
       "       'Flights.Delayed', 'Flights.Diverted', 'Flights.On Time',\n",
       "       'Flights.Total', 'Minutes Delayed.Carrier',\n",
       "       'Minutes Delayed.Late Aircraft',\n",
       "       'Minutes Delayed.National Aviation System', 'Minutes Delayed.Security',\n",
       "       'Minutes Delayed.Total', 'Minutes Delayed.Weather', 'Rate',\n",
       "       'Ratio_Rank'],\n",
       "      dtype='object')"
      ]
     },
     "execution_count": 50,
     "metadata": {},
     "output_type": "execute_result"
    }
   ],
   "source": [
    "df.columns"
   ]
  },
  {
   "cell_type": "code",
   "execution_count": 51,
   "metadata": {},
   "outputs": [],
   "source": [
    "col = ['# of Delays.Late Aircraft', '# of Delays.National Aviation System',\n",
    "       '# of Delays.Security', '# of Delays.Weather',\n",
    "       'Carriers.Total', 'Flights.Cancelled',\n",
    "       'Flights.Delayed', 'Flights.Diverted', 'Flights.On Time',\n",
    "       'Flights.Total', 'Minutes Delayed.Carrier',\n",
    "       'Minutes Delayed.Late Aircraft',\n",
    "       'Minutes Delayed.National Aviation System', 'Minutes Delayed.Security',\n",
    "       'Minutes Delayed.Total', 'Minutes Delayed.Weather', 'Rate',\n",
    "       'Ratio_Rank']"
   ]
  },
  {
   "cell_type": "code",
   "execution_count": 52,
   "metadata": {},
   "outputs": [
    {
     "data": {
      "text/html": [
       "<div>\n",
       "<style scoped>\n",
       "    .dataframe tbody tr th:only-of-type {\n",
       "        vertical-align: middle;\n",
       "    }\n",
       "\n",
       "    .dataframe tbody tr th {\n",
       "        vertical-align: top;\n",
       "    }\n",
       "\n",
       "    .dataframe thead th {\n",
       "        text-align: right;\n",
       "    }\n",
       "</style>\n",
       "<table border=\"1\" class=\"dataframe\">\n",
       "  <thead>\n",
       "    <tr style=\"text-align: right;\">\n",
       "      <th></th>\n",
       "      <th># of Delays.Late Aircraft</th>\n",
       "      <th># of Delays.National Aviation System</th>\n",
       "      <th># of Delays.Security</th>\n",
       "      <th># of Delays.Weather</th>\n",
       "      <th>Carriers.Total</th>\n",
       "      <th>Flights.Cancelled</th>\n",
       "      <th>Flights.Delayed</th>\n",
       "      <th>Flights.Diverted</th>\n",
       "      <th>Flights.On Time</th>\n",
       "      <th>Flights.Total</th>\n",
       "      <th>Minutes Delayed.Carrier</th>\n",
       "      <th>Minutes Delayed.Late Aircraft</th>\n",
       "      <th>Minutes Delayed.National Aviation System</th>\n",
       "      <th>Minutes Delayed.Security</th>\n",
       "      <th>Minutes Delayed.Total</th>\n",
       "      <th>Minutes Delayed.Weather</th>\n",
       "      <th>Rate</th>\n",
       "      <th>Ratio_Rank</th>\n",
       "    </tr>\n",
       "  </thead>\n",
       "  <tbody>\n",
       "    <tr>\n",
       "      <th>4403</th>\n",
       "      <td>0.070730</td>\n",
       "      <td>0.012215</td>\n",
       "      <td>0.031579</td>\n",
       "      <td>0.023428</td>\n",
       "      <td>0.533333</td>\n",
       "      <td>0.025564</td>\n",
       "      <td>0.043828</td>\n",
       "      <td>0.040724</td>\n",
       "      <td>0.102732</td>\n",
       "      <td>0.097541</td>\n",
       "      <td>0.044073</td>\n",
       "      <td>0.052601</td>\n",
       "      <td>0.006394</td>\n",
       "      <td>0.015963</td>\n",
       "      <td>0.032273</td>\n",
       "      <td>0.020267</td>\n",
       "      <td>0.788492</td>\n",
       "      <td>0.0</td>\n",
       "    </tr>\n",
       "    <tr>\n",
       "      <th>4404</th>\n",
       "      <td>0.097112</td>\n",
       "      <td>0.032204</td>\n",
       "      <td>0.031579</td>\n",
       "      <td>0.060419</td>\n",
       "      <td>0.466667</td>\n",
       "      <td>0.027468</td>\n",
       "      <td>0.073867</td>\n",
       "      <td>0.070136</td>\n",
       "      <td>0.214729</td>\n",
       "      <td>0.201804</td>\n",
       "      <td>0.090535</td>\n",
       "      <td>0.081014</td>\n",
       "      <td>0.015464</td>\n",
       "      <td>0.014750</td>\n",
       "      <td>0.060809</td>\n",
       "      <td>0.055758</td>\n",
       "      <td>0.829840</td>\n",
       "      <td>0.0</td>\n",
       "    </tr>\n",
       "    <tr>\n",
       "      <th>4405</th>\n",
       "      <td>0.195815</td>\n",
       "      <td>0.236868</td>\n",
       "      <td>0.031579</td>\n",
       "      <td>0.145499</td>\n",
       "      <td>0.466667</td>\n",
       "      <td>0.121295</td>\n",
       "      <td>0.264013</td>\n",
       "      <td>0.045249</td>\n",
       "      <td>0.234482</td>\n",
       "      <td>0.298897</td>\n",
       "      <td>0.175179</td>\n",
       "      <td>0.198146</td>\n",
       "      <td>0.251931</td>\n",
       "      <td>0.013336</td>\n",
       "      <td>0.270730</td>\n",
       "      <td>0.115792</td>\n",
       "      <td>0.441587</td>\n",
       "      <td>1.0</td>\n",
       "    </tr>\n",
       "    <tr>\n",
       "      <th>4406</th>\n",
       "      <td>0.103252</td>\n",
       "      <td>0.021321</td>\n",
       "      <td>0.042105</td>\n",
       "      <td>0.045623</td>\n",
       "      <td>0.333333</td>\n",
       "      <td>0.022029</td>\n",
       "      <td>0.066488</td>\n",
       "      <td>0.031674</td>\n",
       "      <td>0.184049</td>\n",
       "      <td>0.172678</td>\n",
       "      <td>0.121287</td>\n",
       "      <td>0.083920</td>\n",
       "      <td>0.009785</td>\n",
       "      <td>0.011517</td>\n",
       "      <td>0.063847</td>\n",
       "      <td>0.040014</td>\n",
       "      <td>0.826263</td>\n",
       "      <td>0.0</td>\n",
       "    </tr>\n",
       "    <tr>\n",
       "      <th>4407</th>\n",
       "      <td>0.058222</td>\n",
       "      <td>0.027873</td>\n",
       "      <td>0.031579</td>\n",
       "      <td>0.032059</td>\n",
       "      <td>0.333333</td>\n",
       "      <td>0.038890</td>\n",
       "      <td>0.060525</td>\n",
       "      <td>0.015837</td>\n",
       "      <td>0.093161</td>\n",
       "      <td>0.096981</td>\n",
       "      <td>0.077014</td>\n",
       "      <td>0.047139</td>\n",
       "      <td>0.015392</td>\n",
       "      <td>0.007476</td>\n",
       "      <td>0.044143</td>\n",
       "      <td>0.033197</td>\n",
       "      <td>0.693317</td>\n",
       "      <td>0.5</td>\n",
       "    </tr>\n",
       "  </tbody>\n",
       "</table>\n",
       "</div>"
      ],
      "text/plain": [
       "      # of Delays.Late Aircraft  # of Delays.National Aviation System  \\\n",
       "4403                   0.070730                              0.012215   \n",
       "4404                   0.097112                              0.032204   \n",
       "4405                   0.195815                              0.236868   \n",
       "4406                   0.103252                              0.021321   \n",
       "4407                   0.058222                              0.027873   \n",
       "\n",
       "      # of Delays.Security  # of Delays.Weather  Carriers.Total  \\\n",
       "4403              0.031579             0.023428        0.533333   \n",
       "4404              0.031579             0.060419        0.466667   \n",
       "4405              0.031579             0.145499        0.466667   \n",
       "4406              0.042105             0.045623        0.333333   \n",
       "4407              0.031579             0.032059        0.333333   \n",
       "\n",
       "      Flights.Cancelled  Flights.Delayed  Flights.Diverted  Flights.On Time  \\\n",
       "4403           0.025564         0.043828          0.040724         0.102732   \n",
       "4404           0.027468         0.073867          0.070136         0.214729   \n",
       "4405           0.121295         0.264013          0.045249         0.234482   \n",
       "4406           0.022029         0.066488          0.031674         0.184049   \n",
       "4407           0.038890         0.060525          0.015837         0.093161   \n",
       "\n",
       "      Flights.Total  Minutes Delayed.Carrier  Minutes Delayed.Late Aircraft  \\\n",
       "4403       0.097541                 0.044073                       0.052601   \n",
       "4404       0.201804                 0.090535                       0.081014   \n",
       "4405       0.298897                 0.175179                       0.198146   \n",
       "4406       0.172678                 0.121287                       0.083920   \n",
       "4407       0.096981                 0.077014                       0.047139   \n",
       "\n",
       "      Minutes Delayed.National Aviation System  Minutes Delayed.Security  \\\n",
       "4403                                  0.006394                  0.015963   \n",
       "4404                                  0.015464                  0.014750   \n",
       "4405                                  0.251931                  0.013336   \n",
       "4406                                  0.009785                  0.011517   \n",
       "4407                                  0.015392                  0.007476   \n",
       "\n",
       "      Minutes Delayed.Total  Minutes Delayed.Weather      Rate  Ratio_Rank  \n",
       "4403               0.032273                 0.020267  0.788492         0.0  \n",
       "4404               0.060809                 0.055758  0.829840         0.0  \n",
       "4405               0.270730                 0.115792  0.441587         1.0  \n",
       "4406               0.063847                 0.040014  0.826263         0.0  \n",
       "4407               0.044143                 0.033197  0.693317         0.5  "
      ]
     },
     "execution_count": 52,
     "metadata": {},
     "output_type": "execute_result"
    }
   ],
   "source": [
    "min_max = preprocessing.MinMaxScaler()\n",
    "scaled_df = min_max.fit_transform(dfNormalize[col].values)\n",
    "normalized_df = pd.DataFrame(scaled_df, columns=col)\n",
    "normalized_df.tail()"
   ]
  },
  {
   "cell_type": "markdown",
   "metadata": {},
   "source": [
    "## Compare NB and KNN (K = 10) using normalized data "
   ]
  },
  {
   "cell_type": "code",
   "execution_count": 53,
   "metadata": {},
   "outputs": [
    {
     "data": {
      "text/plain": [
       "array([[0.27041164, 0.35047196, 0.18947368, ..., 0.10466761, 0.26062804,\n",
       "        0.25321933],\n",
       "       [0.09301797, 0.06929484, 0.04210526, ..., 0.02000404, 0.06404067,\n",
       "        0.05362077],\n",
       "       [0.08892427, 0.03642421, 0.09473684, ..., 0.05617296, 0.05102322,\n",
       "        0.08022262],\n",
       "       ...,\n",
       "       [0.19581533, 0.23686841, 0.03157895, ..., 0.01333603, 0.27073049,\n",
       "        0.11579167],\n",
       "       [0.10325222, 0.02132149, 0.04210526, ..., 0.01151748, 0.06384675,\n",
       "        0.04001356],\n",
       "       [0.05822151, 0.0278734 , 0.03157895, ..., 0.00747626, 0.04414256,\n",
       "        0.03319691]])"
      ]
     },
     "execution_count": 53,
     "metadata": {},
     "output_type": "execute_result"
    }
   ],
   "source": [
    "X = normalized_df.iloc[:, : -2].to_numpy() \n",
    "y = df['Ratio_Rank'].to_numpy() \n",
    "X"
   ]
  },
  {
   "cell_type": "code",
   "execution_count": 54,
   "metadata": {},
   "outputs": [],
   "source": [
    "from sklearn.naive_bayes import GaussianNB\n",
    "#from adspy_shared_utilities import plot_class_regions_for_classifier\n",
    "\n",
    "\n",
    "X_train4, X_test4, y_train4, y_test4 = train_test_split(X, y, random_state=0)"
   ]
  },
  {
   "cell_type": "code",
   "execution_count": 55,
   "metadata": {},
   "outputs": [
    {
     "name": "stdout",
     "output_type": "stream",
     "text": [
      "[0.58006042 0.55589124 0.52870091 0.48640483 0.55891239 0.5407855\n",
      " 0.56363636 0.51818182 0.53636364 0.54242424]\n",
      "0.5411361347615123\n"
     ]
    }
   ],
   "source": [
    "nbclfNormalized = GaussianNB().fit(X_train4, y_train4)\n",
    "\n",
    "score = cross_val_score(nbclfNormalized, X_train4, y_train4, cv=10, scoring=\"accuracy\")\n",
    "print(score)\n",
    "print(score.sum()/10)"
   ]
  },
  {
   "cell_type": "code",
   "execution_count": 56,
   "metadata": {},
   "outputs": [
    {
     "data": {
      "text/plain": [
       "0.5480943738656987"
      ]
     },
     "execution_count": 56,
     "metadata": {},
     "output_type": "execute_result"
    }
   ],
   "source": [
    "nbclfNormalized.score(X_test4, y_test4)"
   ]
  },
  {
   "cell_type": "code",
   "execution_count": 57,
   "metadata": {},
   "outputs": [
    {
     "name": "stdout",
     "output_type": "stream",
     "text": [
      "[0.89425982 0.86404834 0.86404834 0.81873112 0.89728097 0.85800604\n",
      " 0.89090909 0.85151515 0.86363636 0.86969697]\n",
      "0.8672132198114071\n"
     ]
    }
   ],
   "source": [
    "knnNormalized = KNeighborsClassifier(n_neighbors = 5).fit(X_train4, y_train4)\n",
    "\n",
    "score = cross_val_score(knnNormalized, X_train4, y_train4, cv=10, scoring=\"accuracy\")\n",
    "print(score)\n",
    "print(score.sum()/10)"
   ]
  },
  {
   "cell_type": "code",
   "execution_count": 58,
   "metadata": {},
   "outputs": [
    {
     "data": {
      "text/plain": [
       "0.8738656987295825"
      ]
     },
     "execution_count": 58,
     "metadata": {},
     "output_type": "execute_result"
    }
   ],
   "source": [
    "knnNormalized.score(X_test4, y_test4)"
   ]
  },
  {
   "cell_type": "code",
   "execution_count": 59,
   "metadata": {},
   "outputs": [
    {
     "data": {
      "text/html": [
       "<div>\n",
       "<style scoped>\n",
       "    .dataframe tbody tr th:only-of-type {\n",
       "        vertical-align: middle;\n",
       "    }\n",
       "\n",
       "    .dataframe tbody tr th {\n",
       "        vertical-align: top;\n",
       "    }\n",
       "\n",
       "    .dataframe thead th {\n",
       "        text-align: right;\n",
       "    }\n",
       "</style>\n",
       "<table border=\"1\" class=\"dataframe\">\n",
       "  <thead>\n",
       "    <tr style=\"text-align: right;\">\n",
       "      <th></th>\n",
       "      <th>Airport.Code</th>\n",
       "      <th>Airport.Name</th>\n",
       "      <th>Time.Label</th>\n",
       "      <th>Time.Month</th>\n",
       "      <th>Time.Month Name</th>\n",
       "      <th>Time.Year</th>\n",
       "      <th># of Delays.Carrier</th>\n",
       "      <th># of Delays.Late Aircraft</th>\n",
       "      <th># of Delays.National Aviation System</th>\n",
       "      <th># of Delays.Security</th>\n",
       "      <th>...</th>\n",
       "      <th>Flights.On Time</th>\n",
       "      <th>Flights.Total</th>\n",
       "      <th>Minutes Delayed.Carrier</th>\n",
       "      <th>Minutes Delayed.Late Aircraft</th>\n",
       "      <th>Minutes Delayed.National Aviation System</th>\n",
       "      <th>Minutes Delayed.Security</th>\n",
       "      <th>Minutes Delayed.Total</th>\n",
       "      <th>Minutes Delayed.Weather</th>\n",
       "      <th>Rate</th>\n",
       "      <th>Ratio_Rank</th>\n",
       "    </tr>\n",
       "  </thead>\n",
       "  <tbody>\n",
       "    <tr>\n",
       "      <th>0</th>\n",
       "      <td>ATL</td>\n",
       "      <td>Atlanta, GA: Hartsfield-Jackson Atlanta Intern...</td>\n",
       "      <td>2003/06</td>\n",
       "      <td>6</td>\n",
       "      <td>June</td>\n",
       "      <td>2003</td>\n",
       "      <td>1009</td>\n",
       "      <td>1275</td>\n",
       "      <td>3217</td>\n",
       "      <td>17</td>\n",
       "      <td>...</td>\n",
       "      <td>23974</td>\n",
       "      <td>30060</td>\n",
       "      <td>61606</td>\n",
       "      <td>68335</td>\n",
       "      <td>118831</td>\n",
       "      <td>518</td>\n",
       "      <td>268764</td>\n",
       "      <td>19474</td>\n",
       "      <td>0.797538</td>\n",
       "      <td>2.0</td>\n",
       "    </tr>\n",
       "    <tr>\n",
       "      <th>1</th>\n",
       "      <td>BOS</td>\n",
       "      <td>Boston, MA: Logan International</td>\n",
       "      <td>2003/06</td>\n",
       "      <td>6</td>\n",
       "      <td>June</td>\n",
       "      <td>2003</td>\n",
       "      <td>374</td>\n",
       "      <td>495</td>\n",
       "      <td>685</td>\n",
       "      <td>3</td>\n",
       "      <td>...</td>\n",
       "      <td>7875</td>\n",
       "      <td>9639</td>\n",
       "      <td>20319</td>\n",
       "      <td>28189</td>\n",
       "      <td>24400</td>\n",
       "      <td>99</td>\n",
       "      <td>77167</td>\n",
       "      <td>4160</td>\n",
       "      <td>0.816993</td>\n",
       "      <td>1.0</td>\n",
       "    </tr>\n",
       "    <tr>\n",
       "      <th>2</th>\n",
       "      <td>BWI</td>\n",
       "      <td>Baltimore, MD: Baltimore/Washington Internatio...</td>\n",
       "      <td>2003/06</td>\n",
       "      <td>6</td>\n",
       "      <td>June</td>\n",
       "      <td>2003</td>\n",
       "      <td>296</td>\n",
       "      <td>477</td>\n",
       "      <td>389</td>\n",
       "      <td>8</td>\n",
       "      <td>...</td>\n",
       "      <td>6998</td>\n",
       "      <td>8287</td>\n",
       "      <td>13635</td>\n",
       "      <td>26810</td>\n",
       "      <td>17556</td>\n",
       "      <td>278</td>\n",
       "      <td>64480</td>\n",
       "      <td>6201</td>\n",
       "      <td>0.844455</td>\n",
       "      <td>1.0</td>\n",
       "    </tr>\n",
       "    <tr>\n",
       "      <th>3</th>\n",
       "      <td>CLT</td>\n",
       "      <td>Charlotte, NC: Charlotte Douglas International</td>\n",
       "      <td>2003/06</td>\n",
       "      <td>6</td>\n",
       "      <td>June</td>\n",
       "      <td>2003</td>\n",
       "      <td>300</td>\n",
       "      <td>472</td>\n",
       "      <td>735</td>\n",
       "      <td>2</td>\n",
       "      <td>...</td>\n",
       "      <td>7021</td>\n",
       "      <td>8670</td>\n",
       "      <td>14763</td>\n",
       "      <td>23379</td>\n",
       "      <td>23804</td>\n",
       "      <td>127</td>\n",
       "      <td>65865</td>\n",
       "      <td>3792</td>\n",
       "      <td>0.809804</td>\n",
       "      <td>1.0</td>\n",
       "    </tr>\n",
       "    <tr>\n",
       "      <th>4</th>\n",
       "      <td>DCA</td>\n",
       "      <td>Washington, DC: Ronald Reagan Washington National</td>\n",
       "      <td>2003/06</td>\n",
       "      <td>6</td>\n",
       "      <td>June</td>\n",
       "      <td>2003</td>\n",
       "      <td>283</td>\n",
       "      <td>268</td>\n",
       "      <td>487</td>\n",
       "      <td>4</td>\n",
       "      <td>...</td>\n",
       "      <td>5321</td>\n",
       "      <td>6513</td>\n",
       "      <td>13775</td>\n",
       "      <td>13712</td>\n",
       "      <td>20999</td>\n",
       "      <td>120</td>\n",
       "      <td>52747</td>\n",
       "      <td>4141</td>\n",
       "      <td>0.816981</td>\n",
       "      <td>1.0</td>\n",
       "    </tr>\n",
       "  </tbody>\n",
       "</table>\n",
       "<p>5 rows × 26 columns</p>\n",
       "</div>"
      ],
      "text/plain": [
       "  Airport.Code                                       Airport.Name Time.Label  \\\n",
       "0          ATL  Atlanta, GA: Hartsfield-Jackson Atlanta Intern...    2003/06   \n",
       "1          BOS                    Boston, MA: Logan International    2003/06   \n",
       "2          BWI  Baltimore, MD: Baltimore/Washington Internatio...    2003/06   \n",
       "3          CLT     Charlotte, NC: Charlotte Douglas International    2003/06   \n",
       "4          DCA  Washington, DC: Ronald Reagan Washington National    2003/06   \n",
       "\n",
       "   Time.Month Time.Month Name  Time.Year  # of Delays.Carrier  \\\n",
       "0           6            June       2003                 1009   \n",
       "1           6            June       2003                  374   \n",
       "2           6            June       2003                  296   \n",
       "3           6            June       2003                  300   \n",
       "4           6            June       2003                  283   \n",
       "\n",
       "   # of Delays.Late Aircraft  # of Delays.National Aviation System  \\\n",
       "0                       1275                                  3217   \n",
       "1                        495                                   685   \n",
       "2                        477                                   389   \n",
       "3                        472                                   735   \n",
       "4                        268                                   487   \n",
       "\n",
       "   # of Delays.Security  ...  Flights.On Time Flights.Total  \\\n",
       "0                    17  ...            23974         30060   \n",
       "1                     3  ...             7875          9639   \n",
       "2                     8  ...             6998          8287   \n",
       "3                     2  ...             7021          8670   \n",
       "4                     4  ...             5321          6513   \n",
       "\n",
       "   Minutes Delayed.Carrier  Minutes Delayed.Late Aircraft  \\\n",
       "0                    61606                          68335   \n",
       "1                    20319                          28189   \n",
       "2                    13635                          26810   \n",
       "3                    14763                          23379   \n",
       "4                    13775                          13712   \n",
       "\n",
       "   Minutes Delayed.National Aviation System  Minutes Delayed.Security  \\\n",
       "0                                    118831                       518   \n",
       "1                                     24400                        99   \n",
       "2                                     17556                       278   \n",
       "3                                     23804                       127   \n",
       "4                                     20999                       120   \n",
       "\n",
       "   Minutes Delayed.Total  Minutes Delayed.Weather      Rate  Ratio_Rank  \n",
       "0                 268764                    19474  0.797538         2.0  \n",
       "1                  77167                     4160  0.816993         1.0  \n",
       "2                  64480                     6201  0.844455         1.0  \n",
       "3                  65865                     3792  0.809804         1.0  \n",
       "4                  52747                     4141  0.816981         1.0  \n",
       "\n",
       "[5 rows x 26 columns]"
      ]
     },
     "execution_count": 59,
     "metadata": {},
     "output_type": "execute_result"
    }
   ],
   "source": [
    "df.head()"
   ]
  },
  {
   "cell_type": "code",
   "execution_count": null,
   "metadata": {},
   "outputs": [],
   "source": []
  }
 ],
 "metadata": {
  "kernelspec": {
   "display_name": "Python 3",
   "language": "python",
   "name": "python3"
  },
  "language_info": {
   "codemirror_mode": {
    "name": "ipython",
    "version": 3
   },
   "file_extension": ".py",
   "mimetype": "text/x-python",
   "name": "python",
   "nbconvert_exporter": "python",
   "pygments_lexer": "ipython3",
   "version": "3.7.9"
  }
 },
 "nbformat": 4,
 "nbformat_minor": 4
}
