{
 "cells": [
  {
   "cell_type": "markdown",
   "metadata": {},
   "source": [
    "### MLP 4: Classification"
   ]
  },
  {
   "cell_type": "markdown",
   "metadata": {},
   "source": [
    "#### Write your name\n",
    "\n",
    "- xiaomei Xie\n",
    "- Lili Hao\n"
   ]
  },
  {
   "cell_type": "code",
   "execution_count": 1,
   "metadata": {},
   "outputs": [],
   "source": [
    "import pandas as pd\n",
    "from sklearn.model_selection import train_test_split\n",
    "from sklearn.linear_model import LinearRegression\n",
    "from sklearn import metrics\n",
    "import numpy as np\n",
    "import matplotlib.pyplot as plt\n",
    "import sys\n",
    "from sklearn.model_selection import KFold\n",
    "\n",
    "import warnings\n",
    "\n",
    "warnings.filterwarnings('ignore')"
   ]
  },
  {
   "cell_type": "code",
   "execution_count": 2,
   "metadata": {},
   "outputs": [
    {
     "data": {
      "text/html": [
       "<div>\n",
       "<style scoped>\n",
       "    .dataframe tbody tr th:only-of-type {\n",
       "        vertical-align: middle;\n",
       "    }\n",
       "\n",
       "    .dataframe tbody tr th {\n",
       "        vertical-align: top;\n",
       "    }\n",
       "\n",
       "    .dataframe thead th {\n",
       "        text-align: right;\n",
       "    }\n",
       "</style>\n",
       "<table border=\"1\" class=\"dataframe\">\n",
       "  <thead>\n",
       "    <tr style=\"text-align: right;\">\n",
       "      <th></th>\n",
       "      <th>Airport.Code</th>\n",
       "      <th>Airport.Name</th>\n",
       "      <th>Time.Label</th>\n",
       "      <th>Time.Month</th>\n",
       "      <th>Time.Month Name</th>\n",
       "      <th>Time.Year</th>\n",
       "      <th># of Delays.Carrier</th>\n",
       "      <th># of Delays.Late Aircraft</th>\n",
       "      <th># of Delays.National Aviation System</th>\n",
       "      <th># of Delays.Security</th>\n",
       "      <th>...</th>\n",
       "      <th>Flights.Total</th>\n",
       "      <th>Minutes Delayed.Carrier</th>\n",
       "      <th>Minutes Delayed.Late Aircraft</th>\n",
       "      <th>Minutes Delayed.National Aviation System</th>\n",
       "      <th>Minutes Delayed.Security</th>\n",
       "      <th>Minutes Delayed.Total</th>\n",
       "      <th>Minutes Delayed.Weather</th>\n",
       "      <th>Time.Month.level</th>\n",
       "      <th>Rate</th>\n",
       "      <th>Ratio_Rank</th>\n",
       "    </tr>\n",
       "  </thead>\n",
       "  <tbody>\n",
       "    <tr>\n",
       "      <th>0</th>\n",
       "      <td>ATL</td>\n",
       "      <td>Atlanta, GA: Hartsfield-Jackson Atlanta Intern...</td>\n",
       "      <td>2003/06</td>\n",
       "      <td>6</td>\n",
       "      <td>June</td>\n",
       "      <td>2003</td>\n",
       "      <td>0.301513</td>\n",
       "      <td>0.270412</td>\n",
       "      <td>0.350472</td>\n",
       "      <td>0.189474</td>\n",
       "      <td>...</td>\n",
       "      <td>0.770892</td>\n",
       "      <td>0.258823</td>\n",
       "      <td>0.185741</td>\n",
       "      <td>0.194317</td>\n",
       "      <td>0.104668</td>\n",
       "      <td>0.260628</td>\n",
       "      <td>0.253219</td>\n",
       "      <td>3.0</td>\n",
       "      <td>0.797538</td>\n",
       "      <td>2.0</td>\n",
       "    </tr>\n",
       "    <tr>\n",
       "      <th>1</th>\n",
       "      <td>BOS</td>\n",
       "      <td>Boston, MA: Logan International</td>\n",
       "      <td>2003/06</td>\n",
       "      <td>6</td>\n",
       "      <td>June</td>\n",
       "      <td>2003</td>\n",
       "      <td>0.088067</td>\n",
       "      <td>0.093018</td>\n",
       "      <td>0.069295</td>\n",
       "      <td>0.042105</td>\n",
       "      <td>...</td>\n",
       "      <td>0.199003</td>\n",
       "      <td>0.066594</td>\n",
       "      <td>0.067780</td>\n",
       "      <td>0.037010</td>\n",
       "      <td>0.020004</td>\n",
       "      <td>0.064041</td>\n",
       "      <td>0.053621</td>\n",
       "      <td>3.0</td>\n",
       "      <td>0.816993</td>\n",
       "      <td>1.0</td>\n",
       "    </tr>\n",
       "  </tbody>\n",
       "</table>\n",
       "<p>2 rows × 27 columns</p>\n",
       "</div>"
      ],
      "text/plain": [
       "  Airport.Code                                       Airport.Name Time.Label  \\\n",
       "0          ATL  Atlanta, GA: Hartsfield-Jackson Atlanta Intern...    2003/06   \n",
       "1          BOS                    Boston, MA: Logan International    2003/06   \n",
       "\n",
       "   Time.Month Time.Month Name  Time.Year  # of Delays.Carrier  \\\n",
       "0           6            June       2003             0.301513   \n",
       "1           6            June       2003             0.088067   \n",
       "\n",
       "   # of Delays.Late Aircraft  # of Delays.National Aviation System  \\\n",
       "0                   0.270412                              0.350472   \n",
       "1                   0.093018                              0.069295   \n",
       "\n",
       "   # of Delays.Security  ...  Flights.Total Minutes Delayed.Carrier  \\\n",
       "0              0.189474  ...       0.770892                0.258823   \n",
       "1              0.042105  ...       0.199003                0.066594   \n",
       "\n",
       "   Minutes Delayed.Late Aircraft  Minutes Delayed.National Aviation System  \\\n",
       "0                       0.185741                                  0.194317   \n",
       "1                       0.067780                                  0.037010   \n",
       "\n",
       "   Minutes Delayed.Security  Minutes Delayed.Total  Minutes Delayed.Weather  \\\n",
       "0                  0.104668               0.260628                 0.253219   \n",
       "1                  0.020004               0.064041                 0.053621   \n",
       "\n",
       "   Time.Month.level      Rate  Ratio_Rank  \n",
       "0               3.0  0.797538         2.0  \n",
       "1               3.0  0.816993         1.0  \n",
       "\n",
       "[2 rows x 27 columns]"
      ]
     },
     "execution_count": 2,
     "metadata": {},
     "output_type": "execute_result"
    }
   ],
   "source": [
    "df = pd.read_csv('../processeddata/new_airlines_Normalized.csv')\n",
    "df.head(2)"
   ]
  },
  {
   "cell_type": "code",
   "execution_count": 3,
   "metadata": {},
   "outputs": [],
   "source": [
    "col = ['# of Delays.Carrier', \"Time.Month\",\n",
    "       '# of Delays.Late Aircraft', '# of Delays.National Aviation System',\n",
    "       '# of Delays.Security', '# of Delays.Weather',\n",
    "       'Flights.Cancelled',\n",
    "       'Flights.Delayed', 'Flights.Diverted', 'Flights.On Time',\n",
    "       'Flights.Total', 'Minutes Delayed.Carrier',\n",
    "       'Minutes Delayed.Late Aircraft',\n",
    "       'Minutes Delayed.National Aviation System', 'Minutes Delayed.Security',\n",
    "       'Minutes Delayed.Total', 'Minutes Delayed.Weather']"
   ]
  },
  {
   "cell_type": "code",
   "execution_count": 4,
   "metadata": {},
   "outputs": [
    {
     "data": {
      "text/plain": [
       "(4408, 17)"
      ]
     },
     "execution_count": 4,
     "metadata": {},
     "output_type": "execute_result"
    }
   ],
   "source": [
    "normalizedData = df[col]\n",
    "normalizedData.shape\n",
    "# of fligth on time "
   ]
  },
  {
   "cell_type": "code",
   "execution_count": 5,
   "metadata": {},
   "outputs": [],
   "source": [
    "Xcol = ['# of Delays.Carrier', \"Time.Month\",\n",
    "       '# of Delays.Late Aircraft', '# of Delays.National Aviation System',\n",
    "       '# of Delays.Security', '# of Delays.Weather',\n",
    "        'Minutes Delayed.Carrier',\n",
    "       'Minutes Delayed.Late Aircraft',\n",
    "       'Minutes Delayed.National Aviation System', 'Minutes Delayed.Security',\n",
    "       'Minutes Delayed.Weather']"
   ]
  },
  {
   "cell_type": "code",
   "execution_count": 6,
   "metadata": {},
   "outputs": [
    {
     "name": "stdout",
     "output_type": "stream",
     "text": [
      "(4408, 11)\n"
     ]
    },
    {
     "data": {
      "text/html": [
       "<div>\n",
       "<style scoped>\n",
       "    .dataframe tbody tr th:only-of-type {\n",
       "        vertical-align: middle;\n",
       "    }\n",
       "\n",
       "    .dataframe tbody tr th {\n",
       "        vertical-align: top;\n",
       "    }\n",
       "\n",
       "    .dataframe thead th {\n",
       "        text-align: right;\n",
       "    }\n",
       "</style>\n",
       "<table border=\"1\" class=\"dataframe\">\n",
       "  <thead>\n",
       "    <tr style=\"text-align: right;\">\n",
       "      <th></th>\n",
       "      <th># of Delays.Carrier</th>\n",
       "      <th>Time.Month</th>\n",
       "      <th># of Delays.Late Aircraft</th>\n",
       "      <th># of Delays.National Aviation System</th>\n",
       "      <th># of Delays.Security</th>\n",
       "      <th># of Delays.Weather</th>\n",
       "      <th>Minutes Delayed.Carrier</th>\n",
       "      <th>Minutes Delayed.Late Aircraft</th>\n",
       "      <th>Minutes Delayed.National Aviation System</th>\n",
       "      <th>Minutes Delayed.Security</th>\n",
       "      <th>Minutes Delayed.Weather</th>\n",
       "    </tr>\n",
       "  </thead>\n",
       "  <tbody>\n",
       "    <tr>\n",
       "      <th>0</th>\n",
       "      <td>0.301513</td>\n",
       "      <td>6</td>\n",
       "      <td>0.270412</td>\n",
       "      <td>0.350472</td>\n",
       "      <td>0.189474</td>\n",
       "      <td>0.403206</td>\n",
       "      <td>0.258823</td>\n",
       "      <td>0.185741</td>\n",
       "      <td>0.194317</td>\n",
       "      <td>0.104668</td>\n",
       "      <td>0.253219</td>\n",
       "    </tr>\n",
       "    <tr>\n",
       "      <th>1</th>\n",
       "      <td>0.088067</td>\n",
       "      <td>6</td>\n",
       "      <td>0.093018</td>\n",
       "      <td>0.069295</td>\n",
       "      <td>0.042105</td>\n",
       "      <td>0.080148</td>\n",
       "      <td>0.066594</td>\n",
       "      <td>0.067780</td>\n",
       "      <td>0.037010</td>\n",
       "      <td>0.020004</td>\n",
       "      <td>0.053621</td>\n",
       "    </tr>\n",
       "    <tr>\n",
       "      <th>2</th>\n",
       "      <td>0.061849</td>\n",
       "      <td>6</td>\n",
       "      <td>0.088924</td>\n",
       "      <td>0.036424</td>\n",
       "      <td>0.094737</td>\n",
       "      <td>0.094945</td>\n",
       "      <td>0.035474</td>\n",
       "      <td>0.063728</td>\n",
       "      <td>0.025609</td>\n",
       "      <td>0.056173</td>\n",
       "      <td>0.080223</td>\n",
       "    </tr>\n",
       "    <tr>\n",
       "      <th>3</th>\n",
       "      <td>0.063193</td>\n",
       "      <td>6</td>\n",
       "      <td>0.087787</td>\n",
       "      <td>0.074847</td>\n",
       "      <td>0.031579</td>\n",
       "      <td>0.065351</td>\n",
       "      <td>0.040725</td>\n",
       "      <td>0.053647</td>\n",
       "      <td>0.036017</td>\n",
       "      <td>0.025662</td>\n",
       "      <td>0.048824</td>\n",
       "    </tr>\n",
       "    <tr>\n",
       "      <th>4</th>\n",
       "      <td>0.057479</td>\n",
       "      <td>6</td>\n",
       "      <td>0.041392</td>\n",
       "      <td>0.047307</td>\n",
       "      <td>0.052632</td>\n",
       "      <td>0.070284</td>\n",
       "      <td>0.036125</td>\n",
       "      <td>0.025243</td>\n",
       "      <td>0.031345</td>\n",
       "      <td>0.024247</td>\n",
       "      <td>0.053373</td>\n",
       "    </tr>\n",
       "  </tbody>\n",
       "</table>\n",
       "</div>"
      ],
      "text/plain": [
       "   # of Delays.Carrier  Time.Month  # of Delays.Late Aircraft  \\\n",
       "0             0.301513           6                   0.270412   \n",
       "1             0.088067           6                   0.093018   \n",
       "2             0.061849           6                   0.088924   \n",
       "3             0.063193           6                   0.087787   \n",
       "4             0.057479           6                   0.041392   \n",
       "\n",
       "   # of Delays.National Aviation System  # of Delays.Security  \\\n",
       "0                              0.350472              0.189474   \n",
       "1                              0.069295              0.042105   \n",
       "2                              0.036424              0.094737   \n",
       "3                              0.074847              0.031579   \n",
       "4                              0.047307              0.052632   \n",
       "\n",
       "   # of Delays.Weather  Minutes Delayed.Carrier  \\\n",
       "0             0.403206                 0.258823   \n",
       "1             0.080148                 0.066594   \n",
       "2             0.094945                 0.035474   \n",
       "3             0.065351                 0.040725   \n",
       "4             0.070284                 0.036125   \n",
       "\n",
       "   Minutes Delayed.Late Aircraft  Minutes Delayed.National Aviation System  \\\n",
       "0                       0.185741                                  0.194317   \n",
       "1                       0.067780                                  0.037010   \n",
       "2                       0.063728                                  0.025609   \n",
       "3                       0.053647                                  0.036017   \n",
       "4                       0.025243                                  0.031345   \n",
       "\n",
       "   Minutes Delayed.Security  Minutes Delayed.Weather  \n",
       "0                  0.104668                 0.253219  \n",
       "1                  0.020004                 0.053621  \n",
       "2                  0.056173                 0.080223  \n",
       "3                  0.025662                 0.048824  \n",
       "4                  0.024247                 0.053373  "
      ]
     },
     "execution_count": 6,
     "metadata": {},
     "output_type": "execute_result"
    }
   ],
   "source": [
    "X = normalizedData[Xcol]\n",
    "print(X.shape)\n",
    "X.head()"
   ]
  },
  {
   "cell_type": "code",
   "execution_count": 7,
   "metadata": {},
   "outputs": [
    {
     "data": {
      "text/plain": [
       "0    0.745664\n",
       "1    0.199287\n",
       "2    0.169523\n",
       "3    0.170304\n",
       "4    0.112608\n",
       "Name: Flights.On Time, dtype: float64"
      ]
     },
     "execution_count": 7,
     "metadata": {},
     "output_type": "execute_result"
    }
   ],
   "source": [
    "y = normalizedData[\"Flights.On Time\"]\n",
    "y.head()"
   ]
  },
  {
   "cell_type": "code",
   "execution_count": 8,
   "metadata": {},
   "outputs": [
    {
     "name": "stdout",
     "output_type": "stream",
     "text": [
      "<class 'numpy.ndarray'>\n"
     ]
    },
    {
     "data": {
      "text/plain": [
       "array([0.74566435, 0.19928729, 0.16952316, ..., 0.23448159, 0.18404887,\n",
       "       0.09316138])"
      ]
     },
     "execution_count": 8,
     "metadata": {},
     "output_type": "execute_result"
    }
   ],
   "source": [
    "X = X.to_numpy()\n",
    "print(type(X))\n",
    "\n",
    "y = y.to_numpy()\n",
    "#print(type(y))\n",
    "y"
   ]
  },
  {
   "cell_type": "code",
   "execution_count": 9,
   "metadata": {},
   "outputs": [
    {
     "data": {
      "text/plain": [
       "array([0.74566435, 0.19928729, 0.16952316, ..., 0.23448159, 0.18404887,\n",
       "       0.09316138])"
      ]
     },
     "execution_count": 9,
     "metadata": {},
     "output_type": "execute_result"
    }
   ],
   "source": [
    "y = y.T\n",
    "#print(type(y))\n",
    "y"
   ]
  },
  {
   "cell_type": "code",
   "execution_count": 10,
   "metadata": {},
   "outputs": [
    {
     "name": "stdout",
     "output_type": "stream",
     "text": [
      "(4408, 11)\n"
     ]
    }
   ],
   "source": [
    "print(X.shape)"
   ]
  },
  {
   "cell_type": "code",
   "execution_count": 11,
   "metadata": {},
   "outputs": [],
   "source": [
    "X = np.c_[np.ones((4408, 1)), X] "
   ]
  },
  {
   "cell_type": "code",
   "execution_count": 12,
   "metadata": {},
   "outputs": [
    {
     "name": "stdout",
     "output_type": "stream",
     "text": [
      "(4408, 12)\n"
     ]
    }
   ],
   "source": [
    "print(X.shape)"
   ]
  },
  {
   "cell_type": "code",
   "execution_count": 13,
   "metadata": {},
   "outputs": [],
   "source": [
    "X_train, X_test, y_train, y_test = train_test_split(X, y, test_size=0.30)"
   ]
  },
  {
   "cell_type": "markdown",
   "metadata": {},
   "source": [
    "# Linear regression using batch gradient descent\n",
    "\n",
    "- read pp. 118 - 122 of A. Geron textbook\n",
    "\n",
    "<img src=\"images/gd.png\" width=300>\n",
    "<img src=\"images/cost.png\" width=300>"
   ]
  },
  {
   "cell_type": "markdown",
   "metadata": {},
   "source": [
    "### (2) Multivariate linear regression model with batch gradient descent"
   ]
  },
  {
   "cell_type": "code",
   "execution_count": 14,
   "metadata": {},
   "outputs": [],
   "source": [
    "def batch_Gradient_Descent(alpha):\n",
    "    # learning rate\n",
    "    print(\"alpha=============,\", alpha)\n",
    "    #alpha = 0.0001\n",
    "    #alpha = 0.0002\n",
    "\n",
    "    # number of iterations\n",
    "    #n_iter = 2000\n",
    "    n_iter = 200\n",
    "\n",
    "    # the number of data points\n",
    "    n = 12\n",
    "    theta = np.random.randn(12, 1)\n",
    "\n",
    "    preCost = sys.maxsize\n",
    "    bestCost = preCost\n",
    "\n",
    "    preTheta = np.random.randn(12, 1)\n",
    "    bestTheta = preTheta\n",
    "\n",
    "    changeCost = bestCost\n",
    "\n",
    "    # the process of gradient descent\n",
    "    for iteration in range(n_iter):\n",
    "        gradients = (1/n) * X_train.T.dot(X_train.dot(theta) - np.vstack(y_train))\n",
    "        theta = theta - alpha*gradients\n",
    "\n",
    "        cost = (X_train.dot(theta) - np.vstack(y_train)).T.dot(X_train.dot(theta) - np.vstack(y_train))[0][0] * (1/(2*n))\n",
    "        if preCost-cost>0:\n",
    "            bestCost = cost\n",
    "            bestTheta = theta\n",
    "            changeCost = preCost-cost\n",
    "            #print(preCost-cost)\n",
    "        else:\n",
    "            break\n",
    "            #print(preCost-cost)\n",
    "\n",
    "        preCost = cost\n",
    "        preTheta = theta    \n",
    "    print(\"bestCost:\",bestCost)\n",
    "    #print(bestTheta)\n",
    "    print(\"preCost-cost:\",changeCost)\n",
    "\n",
    "    theta = bestTheta\n",
    "    #print('best theta: \\n', theta)\n",
    "\n",
    "    y_train_predict = X_train.dot(theta)\n",
    "    train_error = np.sqrt(metrics.mean_squared_error(y_train, y_train_predict))\n",
    "    print('training RMSE: {:.3f}'.format(train_error))\n",
    "\n",
    "    y_test_predict = X_test.dot(theta)\n",
    "    test_error = np.sqrt(metrics.mean_squared_error(y_test, y_test_predict))\n",
    "    print('testing RMSE: {:.3f}\\n'.format(test_error))\n",
    "    \n",
    "    return train_error, test_error"
   ]
  },
  {
   "cell_type": "markdown",
   "metadata": {},
   "source": [
    "#### alpah"
   ]
  },
  {
   "cell_type": "code",
   "execution_count": 15,
   "metadata": {
    "scrolled": false
   },
   "outputs": [
    {
     "name": "stdout",
     "output_type": "stream",
     "text": [
      "alpha=============, 1e-05\n",
      "bestCost: 6.52786576309466\n",
      "preCost-cost: 0.0013329733858826742\n",
      "training RMSE: 0.225\n",
      "testing RMSE: 0.221\n",
      "\n",
      "0.2253531558120452 0.221348141150735\n",
      "alpha=============, 1.25e-05\n",
      "bestCost: 29.762885367945604\n",
      "preCost-cost: 0.0100171019385904\n",
      "training RMSE: 0.481\n",
      "testing RMSE: 0.457\n",
      "\n",
      "0.48118884678058305 0.45650902552013417\n",
      "alpha=============, 1.5e-05\n",
      "bestCost: 21.716595252409434\n",
      "preCost-cost: 0.03314170239301717\n",
      "training RMSE: 0.411\n",
      "testing RMSE: 0.397\n",
      "\n",
      "0.41103036362810824 0.3969777076653312\n",
      "alpha=============, 1.75e-05\n",
      "bestCost: 23.688855762532945\n",
      "preCost-cost: 0.039923691977673315\n",
      "training RMSE: 0.429\n",
      "testing RMSE: 0.442\n",
      "\n",
      "0.4292893144425839 0.4415122245490701\n",
      "alpha=============, 2e-05\n",
      "bestCost: 3.393457952825024\n",
      "preCost-cost: 0.0006660347433724567\n",
      "training RMSE: 0.162\n",
      "testing RMSE: 0.156\n",
      "\n",
      "0.1624797614803059 0.15567902960870225\n",
      "alpha=============, 2.5e-05\n",
      "bestCost: 55.10902685550165\n",
      "preCost-cost: 0.13469093785209196\n",
      "training RMSE: 0.655\n",
      "testing RMSE: 0.638\n",
      "\n",
      "0.6547709571531813 0.6382716981374846\n",
      "alpha=============, 3e-05\n",
      "bestCost: 89.21729770129737\n",
      "preCost-cost: 0.24537216295011888\n",
      "training RMSE: 0.833\n",
      "testing RMSE: 0.810\n",
      "\n",
      "0.8331104251516223 0.8099902522969353\n",
      "alpha=============, 3.5e-05\n",
      "bestCost: 6.358348896997706\n",
      "preCost-cost: 0.0015644217707286856\n",
      "training RMSE: 0.222\n",
      "testing RMSE: 0.221\n",
      "\n",
      "0.22240790239912106 0.22113541280198692\n",
      "alpha=============, 4e-05\n",
      "bestCost: 20.190598125646964\n",
      "preCost-cost: 0.0912439155063538\n",
      "training RMSE: 0.396\n",
      "testing RMSE: 0.392\n",
      "\n",
      "0.39632605922880443 0.3915694793726114\n",
      "alpha=============, 4.5e-05\n",
      "bestCost: 36.818836891822144\n",
      "preCost-cost: 0.14294340269976402\n",
      "training RMSE: 0.535\n",
      "testing RMSE: 0.523\n",
      "\n",
      "0.5351962591304905 0.523157317863046\n",
      "alpha=============, 5e-05\n",
      "bestCost: 4.5368082880728595\n",
      "preCost-cost: 0.0032270902166251503\n",
      "training RMSE: 0.188\n",
      "testing RMSE: 0.185\n",
      "\n",
      "0.1878681896919638 0.18471509144684284\n",
      "alpha=============, 7.5e-05\n",
      "bestCost: 5.6332050354007634\n",
      "preCost-cost: 0.02497795649936041\n",
      "training RMSE: 0.209\n",
      "testing RMSE: 0.216\n",
      "\n",
      "0.20934173348262403 0.21558507526363843\n",
      "alpha=============, 0.0001\n",
      "bestCost: 9.188842529313039\n",
      "preCost-cost: 0.012599247732556051\n",
      "training RMSE: 0.267\n",
      "testing RMSE: 0.271\n",
      "\n",
      "0.2673673928443896 0.27062833589302226\n",
      "alpha=============, 0.000125\n",
      "bestCost: 23.437288243922428\n",
      "preCost-cost: 0.07360144718307993\n",
      "training RMSE: 0.427\n",
      "testing RMSE: 0.401\n",
      "\n",
      "0.42700377774534604 0.40128699137828716\n",
      "alpha=============, 0.00015\n",
      "bestCost: 1411.2137505488831\n",
      "preCost-cost: 9.223372036854775e+18\n",
      "training RMSE: 3.313\n",
      "testing RMSE: 3.344\n",
      "\n",
      "3.3134043373073654 3.3435946206187275\n"
     ]
    }
   ],
   "source": [
    "alpha_sizes = [0.00001,0.0000125, 0.000015, 0.0000175, 0.00002, 0.000025,0.000030,0.000035, 0.000040,0.000045, \\\n",
    "               0.00005, 0.000075,0.0001,0.000125, 0.00015]#, 0.000175, 0.0002, 0.0005, 0.00075, 0.001]\n",
    "train_errors = []\n",
    "test_errors = []\n",
    "\n",
    "for alpha in alpha_sizes:\n",
    "    train_error, test_error= batch_Gradient_Descent(alpha)\n",
    "    print(train_error, test_error)\n",
    "    train_errors.append(train_error)\n",
    "    test_errors.append(test_error)"
   ]
  },
  {
   "cell_type": "code",
   "execution_count": 16,
   "metadata": {},
   "outputs": [
    {
     "data": {
      "image/png": "[encoded data removed]",
      "text/plain": [
       "<Figure size 360x216 with 1 Axes>"
      ]
     },
     "metadata": {
      "needs_background": "light"
     },
     "output_type": "display_data"
    }
   ],
   "source": [
    "# Plot learning curve\n",
    "fig, ax = plt.subplots(1, 1, figsize=(5, 3))\n",
    "\n",
    "ax.set_title('A learning curve for a Batch gradian regression')\n",
    "ax.set_xlabel(\"alpha\")\n",
    "ax.set_ylabel(\"Score (RMSE)\")\n",
    "ax.grid()\n",
    "\n",
    "ax.plot(alpha_sizes, train_errors, 'o-', color=\"r\", label=\"Training score\")\n",
    "ax.plot(alpha_sizes, test_errors, 'o-', color=\"g\", label=\"Cross-validation score\")\n",
    "for tick in ax.get_xticklabels(): \n",
    "    tick.set_rotation(25) \n",
    "ax.legend(loc=\"best\")\n",
    "\n",
    "plt.show()"
   ]
  },
  {
   "cell_type": "markdown",
   "metadata": {},
   "source": [
    "#### theta"
   ]
  },
  {
   "cell_type": "code",
   "execution_count": 17,
   "metadata": {
    "scrolled": false
   },
   "outputs": [
    {
     "name": "stdout",
     "output_type": "stream",
     "text": [
      "bestCost: 2.032170032059929\n",
      "[[ 3.49664889e-02]\n",
      " [ 1.91237257e+00]\n",
      " [ 8.14587329e-04]\n",
      " [ 2.70033917e-01]\n",
      " [ 1.97757452e-01]\n",
      " [-3.08291353e-01]\n",
      " [-8.93738157e-01]\n",
      " [-4.61443385e-01]\n",
      " [-9.95146710e-02]\n",
      " [ 3.34436817e-01]\n",
      " [ 7.90231747e-03]\n",
      " [ 3.71928463e-02]]\n",
      "preCost-cost: 4.34603383712151e-05\n",
      "training RMSE: 0.126\n",
      "testing RMSE: 0.130\n",
      "\n"
     ]
    }
   ],
   "source": [
    "# learning rate\n",
    "#alpha = 0.0000125\n",
    "alpha = 0.0001\n",
    "#alpha = 0.0002\n",
    "\n",
    "# number of iterations\n",
    "n_iter = 10000\n",
    "#n_iter = 100\n",
    "\n",
    "# the number of data points\n",
    "n = 12\n",
    "theta = np.random.randn(12, 1)\n",
    "#theta = bestTheta\n",
    "\n",
    "preCost = sys.maxsize\n",
    "bestCost = preCost\n",
    "\n",
    "preTheta = np.random.randn(12, 1)\n",
    "bestTheta = preTheta\n",
    "\n",
    "changeCost = bestCost\n",
    "\n",
    "# the process of gradient descent\n",
    "for iteration in range(n_iter):\n",
    "    gradients = (1/n) * X_train.T.dot(X_train.dot(theta) - np.vstack(y_train))\n",
    "    theta = theta - alpha*gradients\n",
    "\n",
    "    cost = (X_train.dot(theta) - np.vstack(y_train)).T.dot(X_train.dot(theta) - np.vstack(y_train))[0][0] * (1/(2*n))\n",
    "    if preCost-cost>0:\n",
    "        bestCost = cost\n",
    "        bestTheta = theta\n",
    "        changeCost = preCost-cost\n",
    "        #print(preCost-cost)\n",
    "    else:\n",
    "        break\n",
    "        #print(preCost-cost)\n",
    "\n",
    "    preCost = cost\n",
    "    preTheta = theta    \n",
    "print(\"bestCost:\",bestCost)\n",
    "print(bestTheta)\n",
    "print(\"preCost-cost:\",changeCost)\n",
    "\n",
    "theta = bestTheta\n",
    "#print('best theta: \\n', theta)\n",
    "\n",
    "y_train_predict = X_train.dot(theta)\n",
    "train_error = np.sqrt(metrics.mean_squared_error(y_train, y_train_predict))\n",
    "print('training RMSE: {:.3f}'.format(train_error))\n",
    "\n",
    "y_test_predict = X_test.dot(theta)\n",
    "test_error = np.sqrt(metrics.mean_squared_error(y_test, y_test_predict))\n",
    "print('testing RMSE: {:.3f}\\n'.format(test_error))"
   ]
  },
  {
   "cell_type": "code",
   "execution_count": 18,
   "metadata": {},
   "outputs": [],
   "source": [
    "import numpy\n",
    "def rsq(actual, predict):\n",
    "    corr_matrix = numpy.corrcoef(actual, predict)\n",
    "    corr = corr_matrix[0,1]\n",
    "    R_sq = corr**2\n",
    "\n",
    "    #print(R_sq)\n",
    "    return R_sq"
   ]
  },
  {
   "cell_type": "code",
   "execution_count": 19,
   "metadata": {},
   "outputs": [
    {
     "name": "stdout",
     "output_type": "stream",
     "text": [
      "training R squared: 0.548\n",
      "training RMSE: 0.126\n",
      "testing R squared: 0.480\n",
      "testing RMSE: 0.130\n",
      "\n"
     ]
    }
   ],
   "source": [
    "theta = bestTheta\n",
    "#print('best theta: \\n', theta)\n",
    "\n",
    "train_score = rsq(y_train, np.hstack(y_train_predict))\n",
    "print('training R squared: {:.3f}'.format(train_score))\n",
    "\n",
    "y_train_predict = X_train.dot(theta)\n",
    "train_error = np.sqrt(metrics.mean_squared_error(y_train, y_train_predict))\n",
    "#print(np.hstack(y_train_predict))\n",
    "print('training RMSE: {:.3f}'.format(train_error))\n",
    "\n",
    "test_score = rsq(y_test, np.hstack(y_test_predict))\n",
    "print('testing R squared: {:.3f}'.format(test_score))\n",
    "\n",
    "y_test_predict = X_test.dot(theta)\n",
    "test_error = np.sqrt(metrics.mean_squared_error(y_test, y_test_predict))\n",
    "#print(np.hstack(y_test_predict))\n",
    "print('testing RMSE: {:.3f}\\n'.format(test_error))\n",
    "\n",
    "\n"
   ]
  },
  {
   "cell_type": "markdown",
   "metadata": {},
   "source": [
    "#### trainin test splits"
   ]
  },
  {
   "cell_type": "code",
   "execution_count": 35,
   "metadata": {},
   "outputs": [
    {
     "name": "stdout",
     "output_type": "stream",
     "text": [
      "test_size = :  0.9\n",
      "training RMSE: 0.114\n",
      "testing RMSE: 0.128\n",
      "\n",
      "test_size = :  0.8111111111111111\n",
      "training RMSE: 0.121\n",
      "testing RMSE: 0.128\n",
      "\n",
      "test_size = :  0.7222222222222222\n",
      "training RMSE: 0.122\n",
      "testing RMSE: 0.129\n",
      "\n",
      "test_size = :  0.6333333333333333\n",
      "training RMSE: 0.128\n",
      "testing RMSE: 0.126\n",
      "\n",
      "test_size = :  0.5444444444444444\n",
      "training RMSE: 0.125\n",
      "testing RMSE: 0.129\n",
      "\n",
      "test_size = :  0.4555555555555555\n",
      "training RMSE: 0.122\n",
      "testing RMSE: 0.133\n",
      "\n",
      "test_size = :  0.3666666666666667\n",
      "training RMSE: 0.129\n",
      "testing RMSE: 0.124\n",
      "\n",
      "test_size = :  0.2777777777777778\n",
      "training RMSE: 0.124\n",
      "testing RMSE: 0.134\n",
      "\n",
      "test_size = :  0.18888888888888888\n",
      "training RMSE: 0.126\n",
      "testing RMSE: 0.133\n",
      "\n",
      "test_size = :  0.09999999999999998\n",
      "training RMSE: 0.127\n",
      "testing RMSE: 0.131\n",
      "\n"
     ]
    }
   ],
   "source": [
    "theta = bestTheta\n",
    "\n",
    "train_errors = []\n",
    "test_errors = []\n",
    "\n",
    "train_sizes = np.linspace(0.1, 0.90, 10)\n",
    "\n",
    "for train_size in train_sizes:\n",
    "    # random initialization to theta. \n",
    "    # Return samples (11 values for theta0 and theta1) from the “standard normal” distribution.\n",
    "    test_size = 1 - train_size\n",
    "    \n",
    "    X_train, X_test, y_train, y_test = train_test_split(X, y, test_size=test_size)\n",
    "    \n",
    "    print(\"test_size = : \", test_size)\n",
    "\n",
    "    y_train_predict = X_train.dot(theta)\n",
    "    train_error = np.sqrt(metrics.mean_squared_error(y_train, y_train_predict))\n",
    "    print('training RMSE: {:.3f}'.format(train_error))\n",
    "    train_errors.append(np.sqrt(train_error))\n",
    "\n",
    "    y_test_predict = X_test.dot(theta)\n",
    "    test_error = np.sqrt(metrics.mean_squared_error(y_test, y_test_predict))\n",
    "    print('testing RMSE: {:.3f}\\n'.format(test_error))\n",
    "    test_errors.append(np.sqrt(test_error))"
   ]
  },
  {
   "cell_type": "code",
   "execution_count": 36,
   "metadata": {},
   "outputs": [
    {
     "data": {
      "image/png": "[encoded data removed]",
      "text/plain": [
       "<Figure size 360x216 with 1 Axes>"
      ]
     },
     "metadata": {
      "needs_background": "light"
     },
     "output_type": "display_data"
    }
   ],
   "source": [
    "# Plot learning curve\n",
    "fig, ax = plt.subplots(1, 1, figsize=(5, 3))\n",
    "    \n",
    "ax.set_title('A learning curve for Batch Gradient Descent regression')\n",
    "ax.set_xlabel(\"Training examples\")\n",
    "ax.set_ylabel(\"Score (RMSE)\")\n",
    "ax.grid()\n",
    "\n",
    "ax.plot(train_sizes, train_errors, 'o-', color=\"r\", label=\"Training score\")\n",
    "ax.plot(train_sizes, test_errors, 'o-', color=\"g\", label=\"Cross-validation score\")\n",
    "ax.legend(loc=\"best\")\n",
    "\n",
    "plt.show()"
   ]
  },
  {
   "cell_type": "markdown",
   "metadata": {},
   "source": [
    "#### bar chart for best theta"
   ]
  },
  {
   "cell_type": "code",
   "execution_count": 37,
   "metadata": {},
   "outputs": [
    {
     "data": {
      "image/png": "[encoded data removed]",
      "text/plain": [
       "<Figure size 432x288 with 1 Axes>"
      ]
     },
     "metadata": {
      "needs_background": "light"
     },
     "output_type": "display_data"
    }
   ],
   "source": [
    "np.hstack(theta)[1:]\n",
    "fig = plt.figure()\n",
    "plt.bar(normalizedData[Xcol].columns, np.hstack(theta)[1:], width=0.8, bottom=None, align='center')\n",
    "plt.title(\"Best Theta of Batch Gradient Descent\")\n",
    "fig.autofmt_xdate()"
   ]
  }
 ],
 "metadata": {
  "kernelspec": {
   "display_name": "Python 3",
   "language": "python",
   "name": "python3"
  },
  "language_info": {
   "codemirror_mode": {
    "name": "ipython",
    "version": 3
   },
   "file_extension": ".py",
   "mimetype": "text/x-python",
   "name": "python",
   "nbconvert_exporter": "python",
   "pygments_lexer": "ipython3",
   "version": "3.8.5"
  }
 },
 "nbformat": 4,
 "nbformat_minor": 4
}
