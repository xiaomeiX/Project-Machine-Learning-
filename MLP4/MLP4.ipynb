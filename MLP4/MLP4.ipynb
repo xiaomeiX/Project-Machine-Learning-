{
 "cells": [
  {
   "cell_type": "markdown",
   "metadata": {},
   "source": [
    "### MLP 4: Classification\n",
    "Write your name\n",
    "* xiaomei Xie\n",
    "* Lili Hao"
   ]
  },
  {
   "cell_type": "code",
   "execution_count": 2,
   "metadata": {},
   "outputs": [],
   "source": [
    "# Python ≥3.5 is required\n",
    "import sys\n",
    "assert sys.version_info >= (3, 5)\n",
    "\n",
    "# Scikit-Learn ≥0.20 is required\n",
    "import sklearn\n",
    "assert sklearn.__version__ >= \"0.20\"\n",
    "\n",
    "# Common imports\n",
    "import numpy as np\n",
    "import pandas as pd\n",
    "import os\n",
    "from sklearn.metrics import confusion_matrix\n",
    "from sklearn.metrics import classification_report\n",
    "from sklearn.model_selection import train_test_split\n",
    "\n",
    "from sklearn.linear_model import Ridge\n",
    "\n",
    "# To plot pretty figures\n",
    "%matplotlib inline\n",
    "import matplotlib as mpl\n",
    "import matplotlib.pyplot as plt\n",
    "mpl.rc('axes', labelsize=14)\n",
    "mpl.rc('xtick', labelsize=12)\n",
    "mpl.rc('ytick', labelsize=12)\n",
    "\n",
    "from sklearn.linear_model import LinearRegression\n",
    "from sklearn import metrics\n",
    "\n",
    "\n",
    "import warnings\n",
    "\n",
    "\n",
    "# to make this notebook's output stable across runs\n",
    "np.random.seed(42)\n",
    "\n",
    "# Where to save the figures\n",
    "PROJECT_ROOT_DIR = \".\"\n",
    "CHAPTER_ID = \"decision_trees\"\n",
    "IMAGES_PATH = os.path.join(PROJECT_ROOT_DIR, \"images\", CHAPTER_ID)\n",
    "\n",
    "os.makedirs(IMAGES_PATH, exist_ok=True)\n",
    "\n",
    "def save_fig(fig_id, tight_layout=True, fig_extension=\"png\", resolution=300):\n",
    "    path = os.path.join(IMAGES_PATH, fig_id + \".\" + fig_extension)\n",
    "    print(\"Saving figure\", fig_id)\n",
    "    if tight_layout:\n",
    "        plt.tight_layout()\n",
    "    plt.savefig(path, format=fig_extension, dpi=resolution)\n",
    "\n",
    "warnings.filterwarnings('ignore')"
   ]
  },
  {
   "cell_type": "code",
   "execution_count": 3,
   "metadata": {},
   "outputs": [],
   "source": [
    "def get_KFold_report(X, y):\n",
    "    X = X.to_numpy()\n",
    "    y = y.to_numpy()\n",
    "    kf = KFold(n_splits=10, random_state=None, shuffle=True) # Define the split - into 2 folds \n",
    "    tree_clf = DecisionTreeClassifier(max_depth=2, random_state=42)\n",
    "    n=1\n",
    "    for train_index, test_index in kf.split(X):\n",
    "        print(\"=========================Kfold\" , n , \"=======================\")\n",
    "        #print(\"TRAIN:\", train_index, \"TEST:\", test_index)\n",
    "        X_train, X_test = X[train_index], X[test_index]\n",
    "        y_train, y_test = y[train_index], y[test_index]\n",
    "\n",
    "        tree_clf.fit(X_train, y_train)\n",
    "\n",
    "        y_pred = tree_clf.predict(X_test)\n",
    "\n",
    "        # Print classification report\n",
    "        target_names = TARGET_NAMES\n",
    "        print(classification_report(y_test, y_pred, target_names=target_names))\n",
    "        n = n+1"
   ]
  },
  {
   "cell_type": "code",
   "execution_count": 4,
   "metadata": {},
   "outputs": [
    {
     "data": {
      "text/html": [
       "<div>\n",
       "<style scoped>\n",
       "    .dataframe tbody tr th:only-of-type {\n",
       "        vertical-align: middle;\n",
       "    }\n",
       "\n",
       "    .dataframe tbody tr th {\n",
       "        vertical-align: top;\n",
       "    }\n",
       "\n",
       "    .dataframe thead th {\n",
       "        text-align: right;\n",
       "    }\n",
       "</style>\n",
       "<table border=\"1\" class=\"dataframe\">\n",
       "  <thead>\n",
       "    <tr style=\"text-align: right;\">\n",
       "      <th></th>\n",
       "      <th>Airport.Code</th>\n",
       "      <th>Airport.Name</th>\n",
       "      <th>Time.Label</th>\n",
       "      <th>Time.Month</th>\n",
       "      <th>Time.Month Name</th>\n",
       "      <th>Time.Year</th>\n",
       "      <th># of Delays.Carrier</th>\n",
       "      <th># of Delays.Late Aircraft</th>\n",
       "      <th># of Delays.National Aviation System</th>\n",
       "      <th># of Delays.Security</th>\n",
       "      <th>...</th>\n",
       "      <th>Flights.Total</th>\n",
       "      <th>Minutes Delayed.Carrier</th>\n",
       "      <th>Minutes Delayed.Late Aircraft</th>\n",
       "      <th>Minutes Delayed.National Aviation System</th>\n",
       "      <th>Minutes Delayed.Security</th>\n",
       "      <th>Minutes Delayed.Total</th>\n",
       "      <th>Minutes Delayed.Weather</th>\n",
       "      <th>Time.Month.level</th>\n",
       "      <th>Rate</th>\n",
       "      <th>Ratio_Rank</th>\n",
       "    </tr>\n",
       "  </thead>\n",
       "  <tbody>\n",
       "    <tr>\n",
       "      <th>0</th>\n",
       "      <td>ATL</td>\n",
       "      <td>Atlanta, GA: Hartsfield-Jackson Atlanta Intern...</td>\n",
       "      <td>2003/06</td>\n",
       "      <td>6</td>\n",
       "      <td>June</td>\n",
       "      <td>2003</td>\n",
       "      <td>0.301513</td>\n",
       "      <td>0.270412</td>\n",
       "      <td>0.350472</td>\n",
       "      <td>0.189474</td>\n",
       "      <td>...</td>\n",
       "      <td>0.770892</td>\n",
       "      <td>0.258823</td>\n",
       "      <td>0.185741</td>\n",
       "      <td>0.194317</td>\n",
       "      <td>0.104668</td>\n",
       "      <td>0.260628</td>\n",
       "      <td>0.253219</td>\n",
       "      <td>3.0</td>\n",
       "      <td>0.797538</td>\n",
       "      <td>2.0</td>\n",
       "    </tr>\n",
       "    <tr>\n",
       "      <th>1</th>\n",
       "      <td>BOS</td>\n",
       "      <td>Boston, MA: Logan International</td>\n",
       "      <td>2003/06</td>\n",
       "      <td>6</td>\n",
       "      <td>June</td>\n",
       "      <td>2003</td>\n",
       "      <td>0.088067</td>\n",
       "      <td>0.093018</td>\n",
       "      <td>0.069295</td>\n",
       "      <td>0.042105</td>\n",
       "      <td>...</td>\n",
       "      <td>0.199003</td>\n",
       "      <td>0.066594</td>\n",
       "      <td>0.067780</td>\n",
       "      <td>0.037010</td>\n",
       "      <td>0.020004</td>\n",
       "      <td>0.064041</td>\n",
       "      <td>0.053621</td>\n",
       "      <td>3.0</td>\n",
       "      <td>0.816993</td>\n",
       "      <td>1.0</td>\n",
       "    </tr>\n",
       "    <tr>\n",
       "      <th>2</th>\n",
       "      <td>BWI</td>\n",
       "      <td>Baltimore, MD: Baltimore/Washington Internatio...</td>\n",
       "      <td>2003/06</td>\n",
       "      <td>6</td>\n",
       "      <td>June</td>\n",
       "      <td>2003</td>\n",
       "      <td>0.061849</td>\n",
       "      <td>0.088924</td>\n",
       "      <td>0.036424</td>\n",
       "      <td>0.094737</td>\n",
       "      <td>...</td>\n",
       "      <td>0.161140</td>\n",
       "      <td>0.035474</td>\n",
       "      <td>0.063728</td>\n",
       "      <td>0.025609</td>\n",
       "      <td>0.056173</td>\n",
       "      <td>0.051023</td>\n",
       "      <td>0.080223</td>\n",
       "      <td>3.0</td>\n",
       "      <td>0.844455</td>\n",
       "      <td>1.0</td>\n",
       "    </tr>\n",
       "    <tr>\n",
       "      <th>3</th>\n",
       "      <td>CLT</td>\n",
       "      <td>Charlotte, NC: Charlotte Douglas International</td>\n",
       "      <td>2003/06</td>\n",
       "      <td>6</td>\n",
       "      <td>June</td>\n",
       "      <td>2003</td>\n",
       "      <td>0.063193</td>\n",
       "      <td>0.087787</td>\n",
       "      <td>0.074847</td>\n",
       "      <td>0.031579</td>\n",
       "      <td>...</td>\n",
       "      <td>0.171866</td>\n",
       "      <td>0.040725</td>\n",
       "      <td>0.053647</td>\n",
       "      <td>0.036017</td>\n",
       "      <td>0.025662</td>\n",
       "      <td>0.052444</td>\n",
       "      <td>0.048824</td>\n",
       "      <td>3.0</td>\n",
       "      <td>0.809804</td>\n",
       "      <td>1.0</td>\n",
       "    </tr>\n",
       "    <tr>\n",
       "      <th>4</th>\n",
       "      <td>DCA</td>\n",
       "      <td>Washington, DC: Ronald Reagan Washington National</td>\n",
       "      <td>2003/06</td>\n",
       "      <td>6</td>\n",
       "      <td>June</td>\n",
       "      <td>2003</td>\n",
       "      <td>0.057479</td>\n",
       "      <td>0.041392</td>\n",
       "      <td>0.047307</td>\n",
       "      <td>0.052632</td>\n",
       "      <td>...</td>\n",
       "      <td>0.111460</td>\n",
       "      <td>0.036125</td>\n",
       "      <td>0.025243</td>\n",
       "      <td>0.031345</td>\n",
       "      <td>0.024247</td>\n",
       "      <td>0.038985</td>\n",
       "      <td>0.053373</td>\n",
       "      <td>3.0</td>\n",
       "      <td>0.816981</td>\n",
       "      <td>1.0</td>\n",
       "    </tr>\n",
       "    <tr>\n",
       "      <th>5</th>\n",
       "      <td>DEN</td>\n",
       "      <td>Denver, CO: Denver International</td>\n",
       "      <td>2003/06</td>\n",
       "      <td>6</td>\n",
       "      <td>June</td>\n",
       "      <td>2003</td>\n",
       "      <td>0.135798</td>\n",
       "      <td>0.053900</td>\n",
       "      <td>0.066963</td>\n",
       "      <td>0.126316</td>\n",
       "      <td>...</td>\n",
       "      <td>0.256469</td>\n",
       "      <td>0.095996</td>\n",
       "      <td>0.040689</td>\n",
       "      <td>0.035574</td>\n",
       "      <td>0.142655</td>\n",
       "      <td>0.062256</td>\n",
       "      <td>0.072142</td>\n",
       "      <td>3.0</td>\n",
       "      <td>0.857412</td>\n",
       "      <td>1.0</td>\n",
       "    </tr>\n",
       "    <tr>\n",
       "      <th>6</th>\n",
       "      <td>DFW</td>\n",
       "      <td>Dallas/Fort Worth, TX: Dallas/Fort Worth Inter...</td>\n",
       "      <td>2003/06</td>\n",
       "      <td>6</td>\n",
       "      <td>June</td>\n",
       "      <td>2003</td>\n",
       "      <td>0.293782</td>\n",
       "      <td>0.296566</td>\n",
       "      <td>0.231649</td>\n",
       "      <td>0.210526</td>\n",
       "      <td>...</td>\n",
       "      <td>0.702784</td>\n",
       "      <td>0.302179</td>\n",
       "      <td>0.222114</td>\n",
       "      <td>0.147246</td>\n",
       "      <td>0.138008</td>\n",
       "      <td>0.255248</td>\n",
       "      <td>0.268312</td>\n",
       "      <td>3.0</td>\n",
       "      <td>0.807261</td>\n",
       "      <td>1.0</td>\n",
       "    </tr>\n",
       "    <tr>\n",
       "      <th>7</th>\n",
       "      <td>DTW</td>\n",
       "      <td>Detroit, MI: Detroit Metro Wayne County</td>\n",
       "      <td>2003/06</td>\n",
       "      <td>6</td>\n",
       "      <td>June</td>\n",
       "      <td>2003</td>\n",
       "      <td>0.088739</td>\n",
       "      <td>0.064817</td>\n",
       "      <td>0.056524</td>\n",
       "      <td>0.073684</td>\n",
       "      <td>...</td>\n",
       "      <td>0.258233</td>\n",
       "      <td>0.073498</td>\n",
       "      <td>0.039943</td>\n",
       "      <td>0.023820</td>\n",
       "      <td>0.028086</td>\n",
       "      <td>0.047111</td>\n",
       "      <td>0.045396</td>\n",
       "      <td>3.0</td>\n",
       "      <td>0.870087</td>\n",
       "      <td>1.0</td>\n",
       "    </tr>\n",
       "    <tr>\n",
       "      <th>8</th>\n",
       "      <td>EWR</td>\n",
       "      <td>Newark, NJ: Newark Liberty International</td>\n",
       "      <td>2003/06</td>\n",
       "      <td>6</td>\n",
       "      <td>June</td>\n",
       "      <td>2003</td>\n",
       "      <td>0.070588</td>\n",
       "      <td>0.098476</td>\n",
       "      <td>0.209550</td>\n",
       "      <td>0.115789</td>\n",
       "      <td>...</td>\n",
       "      <td>0.279293</td>\n",
       "      <td>0.065993</td>\n",
       "      <td>0.075761</td>\n",
       "      <td>0.148035</td>\n",
       "      <td>0.099010</td>\n",
       "      <td>0.139297</td>\n",
       "      <td>0.102106</td>\n",
       "      <td>3.0</td>\n",
       "      <td>0.754918</td>\n",
       "      <td>2.0</td>\n",
       "    </tr>\n",
       "    <tr>\n",
       "      <th>9</th>\n",
       "      <td>FLL</td>\n",
       "      <td>Fort Lauderdale, FL: Fort Lauderdale-Hollywood...</td>\n",
       "      <td>2003/06</td>\n",
       "      <td>6</td>\n",
       "      <td>June</td>\n",
       "      <td>2003</td>\n",
       "      <td>0.045378</td>\n",
       "      <td>0.038663</td>\n",
       "      <td>0.040644</td>\n",
       "      <td>0.063158</td>\n",
       "      <td>...</td>\n",
       "      <td>0.059622</td>\n",
       "      <td>0.030408</td>\n",
       "      <td>0.027852</td>\n",
       "      <td>0.021243</td>\n",
       "      <td>0.028491</td>\n",
       "      <td>0.030321</td>\n",
       "      <td>0.026511</td>\n",
       "      <td>3.0</td>\n",
       "      <td>0.787645</td>\n",
       "      <td>2.0</td>\n",
       "    </tr>\n",
       "  </tbody>\n",
       "</table>\n",
       "<p>10 rows × 27 columns</p>\n",
       "</div>"
      ],
      "text/plain": [
       "  Airport.Code                                       Airport.Name Time.Label  \\\n",
       "0          ATL  Atlanta, GA: Hartsfield-Jackson Atlanta Intern...    2003/06   \n",
       "1          BOS                    Boston, MA: Logan International    2003/06   \n",
       "2          BWI  Baltimore, MD: Baltimore/Washington Internatio...    2003/06   \n",
       "3          CLT     Charlotte, NC: Charlotte Douglas International    2003/06   \n",
       "4          DCA  Washington, DC: Ronald Reagan Washington National    2003/06   \n",
       "5          DEN                   Denver, CO: Denver International    2003/06   \n",
       "6          DFW  Dallas/Fort Worth, TX: Dallas/Fort Worth Inter...    2003/06   \n",
       "7          DTW            Detroit, MI: Detroit Metro Wayne County    2003/06   \n",
       "8          EWR           Newark, NJ: Newark Liberty International    2003/06   \n",
       "9          FLL  Fort Lauderdale, FL: Fort Lauderdale-Hollywood...    2003/06   \n",
       "\n",
       "   Time.Month Time.Month Name  Time.Year  # of Delays.Carrier  \\\n",
       "0           6            June       2003             0.301513   \n",
       "1           6            June       2003             0.088067   \n",
       "2           6            June       2003             0.061849   \n",
       "3           6            June       2003             0.063193   \n",
       "4           6            June       2003             0.057479   \n",
       "5           6            June       2003             0.135798   \n",
       "6           6            June       2003             0.293782   \n",
       "7           6            June       2003             0.088739   \n",
       "8           6            June       2003             0.070588   \n",
       "9           6            June       2003             0.045378   \n",
       "\n",
       "   # of Delays.Late Aircraft  # of Delays.National Aviation System  \\\n",
       "0                   0.270412                              0.350472   \n",
       "1                   0.093018                              0.069295   \n",
       "2                   0.088924                              0.036424   \n",
       "3                   0.087787                              0.074847   \n",
       "4                   0.041392                              0.047307   \n",
       "5                   0.053900                              0.066963   \n",
       "6                   0.296566                              0.231649   \n",
       "7                   0.064817                              0.056524   \n",
       "8                   0.098476                              0.209550   \n",
       "9                   0.038663                              0.040644   \n",
       "\n",
       "   # of Delays.Security  ...  Flights.Total Minutes Delayed.Carrier  \\\n",
       "0              0.189474  ...       0.770892                0.258823   \n",
       "1              0.042105  ...       0.199003                0.066594   \n",
       "2              0.094737  ...       0.161140                0.035474   \n",
       "3              0.031579  ...       0.171866                0.040725   \n",
       "4              0.052632  ...       0.111460                0.036125   \n",
       "5              0.126316  ...       0.256469                0.095996   \n",
       "6              0.210526  ...       0.702784                0.302179   \n",
       "7              0.073684  ...       0.258233                0.073498   \n",
       "8              0.115789  ...       0.279293                0.065993   \n",
       "9              0.063158  ...       0.059622                0.030408   \n",
       "\n",
       "   Minutes Delayed.Late Aircraft  Minutes Delayed.National Aviation System  \\\n",
       "0                       0.185741                                  0.194317   \n",
       "1                       0.067780                                  0.037010   \n",
       "2                       0.063728                                  0.025609   \n",
       "3                       0.053647                                  0.036017   \n",
       "4                       0.025243                                  0.031345   \n",
       "5                       0.040689                                  0.035574   \n",
       "6                       0.222114                                  0.147246   \n",
       "7                       0.039943                                  0.023820   \n",
       "8                       0.075761                                  0.148035   \n",
       "9                       0.027852                                  0.021243   \n",
       "\n",
       "   Minutes Delayed.Security  Minutes Delayed.Total  Minutes Delayed.Weather  \\\n",
       "0                  0.104668               0.260628                 0.253219   \n",
       "1                  0.020004               0.064041                 0.053621   \n",
       "2                  0.056173               0.051023                 0.080223   \n",
       "3                  0.025662               0.052444                 0.048824   \n",
       "4                  0.024247               0.038985                 0.053373   \n",
       "5                  0.142655               0.062256                 0.072142   \n",
       "6                  0.138008               0.255248                 0.268312   \n",
       "7                  0.028086               0.047111                 0.045396   \n",
       "8                  0.099010               0.139297                 0.102106   \n",
       "9                  0.028491               0.030321                 0.026511   \n",
       "\n",
       "   Time.Month.level      Rate  Ratio_Rank  \n",
       "0               3.0  0.797538         2.0  \n",
       "1               3.0  0.816993         1.0  \n",
       "2               3.0  0.844455         1.0  \n",
       "3               3.0  0.809804         1.0  \n",
       "4               3.0  0.816981         1.0  \n",
       "5               3.0  0.857412         1.0  \n",
       "6               3.0  0.807261         1.0  \n",
       "7               3.0  0.870087         1.0  \n",
       "8               3.0  0.754918         2.0  \n",
       "9               3.0  0.787645         2.0  \n",
       "\n",
       "[10 rows x 27 columns]"
      ]
     },
     "execution_count": 4,
     "metadata": {},
     "output_type": "execute_result"
    }
   ],
   "source": [
    "df = pd.read_csv('../processeddata/new_airlines_Normalized.csv')\n",
    "df.head(10)"
   ]
  },
  {
   "cell_type": "code",
   "execution_count": 7,
   "metadata": {},
   "outputs": [
    {
     "data": {
      "text/plain": [
       "Index(['Airport.Code', 'Airport.Name', 'Time.Label', 'Time.Month',\n",
       "       'Time.Month Name', 'Time.Year', '# of Delays.Carrier',\n",
       "       '# of Delays.Late Aircraft', '# of Delays.National Aviation System',\n",
       "       '# of Delays.Security', '# of Delays.Weather',\n",
       "       'Statistics.Carriers.Names', 'Carriers.Total', 'Flights.Cancelled',\n",
       "       'Flights.Delayed', 'Flights.Diverted', 'Flights.On Time',\n",
       "       'Flights.Total', 'Minutes Delayed.Carrier',\n",
       "       'Minutes Delayed.Late Aircraft',\n",
       "       'Minutes Delayed.National Aviation System', 'Minutes Delayed.Security',\n",
       "       'Minutes Delayed.Total', 'Minutes Delayed.Weather', 'Time.Month.level',\n",
       "       'Rate', 'Ratio_Rank'],\n",
       "      dtype='object')"
      ]
     },
     "execution_count": 7,
     "metadata": {},
     "output_type": "execute_result"
    }
   ],
   "source": [
    "df.columns"
   ]
  },
  {
   "cell_type": "code",
   "execution_count": 8,
   "metadata": {},
   "outputs": [
    {
     "data": {
      "text/plain": [
       "(4408, 27)"
      ]
     },
     "execution_count": 8,
     "metadata": {},
     "output_type": "execute_result"
    }
   ],
   "source": [
    "df.shape"
   ]
  },
  {
   "cell_type": "code",
   "execution_count": 14,
   "metadata": {},
   "outputs": [],
   "source": [
    "col = ['# of Delays.Carrier',\n",
    "       '# of Delays.Late Aircraft', '# of Delays.National Aviation System',\n",
    "       '# of Delays.Security', '# of Delays.Weather',\n",
    "       'Flights.Cancelled',\n",
    "       'Flights.Delayed', 'Flights.Diverted', 'Flights.On Time',\n",
    "       'Flights.Total', 'Minutes Delayed.Carrier',\n",
    "       'Minutes Delayed.Late Aircraft',\n",
    "       'Minutes Delayed.National Aviation System', 'Minutes Delayed.Security',\n",
    "       'Minutes Delayed.Total', 'Minutes Delayed.Weather']"
   ]
  },
  {
   "cell_type": "code",
   "execution_count": 15,
   "metadata": {},
   "outputs": [
    {
     "data": {
      "text/plain": [
       "(4408, 16)"
      ]
     },
     "execution_count": 15,
     "metadata": {},
     "output_type": "execute_result"
    }
   ],
   "source": [
    "normalizedData = df[col]\n",
    "normalizedData.shape"
   ]
  },
  {
   "cell_type": "code",
   "execution_count": 18,
   "metadata": {},
   "outputs": [],
   "source": [
    "Xcol = ['# of Delays.Carrier',\n",
    "       '# of Delays.Late Aircraft', '# of Delays.National Aviation System',\n",
    "       '# of Delays.Security', '# of Delays.Weather',\n",
    "        'Minutes Delayed.Carrier',\n",
    "       'Minutes Delayed.Late Aircraft',\n",
    "       'Minutes Delayed.National Aviation System', 'Minutes Delayed.Security',\n",
    "       'Minutes Delayed.Weather']"
   ]
  },
  {
   "cell_type": "code",
   "execution_count": 19,
   "metadata": {},
   "outputs": [
    {
     "name": "stdout",
     "output_type": "stream",
     "text": [
      "(4408, 10)\n"
     ]
    },
    {
     "data": {
      "text/html": [
       "<div>\n",
       "<style scoped>\n",
       "    .dataframe tbody tr th:only-of-type {\n",
       "        vertical-align: middle;\n",
       "    }\n",
       "\n",
       "    .dataframe tbody tr th {\n",
       "        vertical-align: top;\n",
       "    }\n",
       "\n",
       "    .dataframe thead th {\n",
       "        text-align: right;\n",
       "    }\n",
       "</style>\n",
       "<table border=\"1\" class=\"dataframe\">\n",
       "  <thead>\n",
       "    <tr style=\"text-align: right;\">\n",
       "      <th></th>\n",
       "      <th># of Delays.Carrier</th>\n",
       "      <th># of Delays.Late Aircraft</th>\n",
       "      <th># of Delays.National Aviation System</th>\n",
       "      <th># of Delays.Security</th>\n",
       "      <th># of Delays.Weather</th>\n",
       "      <th>Minutes Delayed.Carrier</th>\n",
       "      <th>Minutes Delayed.Late Aircraft</th>\n",
       "      <th>Minutes Delayed.National Aviation System</th>\n",
       "      <th>Minutes Delayed.Security</th>\n",
       "      <th>Minutes Delayed.Weather</th>\n",
       "    </tr>\n",
       "  </thead>\n",
       "  <tbody>\n",
       "    <tr>\n",
       "      <th>0</th>\n",
       "      <td>0.301513</td>\n",
       "      <td>0.270412</td>\n",
       "      <td>0.350472</td>\n",
       "      <td>0.189474</td>\n",
       "      <td>0.403206</td>\n",
       "      <td>0.258823</td>\n",
       "      <td>0.185741</td>\n",
       "      <td>0.194317</td>\n",
       "      <td>0.104668</td>\n",
       "      <td>0.253219</td>\n",
       "    </tr>\n",
       "    <tr>\n",
       "      <th>1</th>\n",
       "      <td>0.088067</td>\n",
       "      <td>0.093018</td>\n",
       "      <td>0.069295</td>\n",
       "      <td>0.042105</td>\n",
       "      <td>0.080148</td>\n",
       "      <td>0.066594</td>\n",
       "      <td>0.067780</td>\n",
       "      <td>0.037010</td>\n",
       "      <td>0.020004</td>\n",
       "      <td>0.053621</td>\n",
       "    </tr>\n",
       "    <tr>\n",
       "      <th>2</th>\n",
       "      <td>0.061849</td>\n",
       "      <td>0.088924</td>\n",
       "      <td>0.036424</td>\n",
       "      <td>0.094737</td>\n",
       "      <td>0.094945</td>\n",
       "      <td>0.035474</td>\n",
       "      <td>0.063728</td>\n",
       "      <td>0.025609</td>\n",
       "      <td>0.056173</td>\n",
       "      <td>0.080223</td>\n",
       "    </tr>\n",
       "    <tr>\n",
       "      <th>3</th>\n",
       "      <td>0.063193</td>\n",
       "      <td>0.087787</td>\n",
       "      <td>0.074847</td>\n",
       "      <td>0.031579</td>\n",
       "      <td>0.065351</td>\n",
       "      <td>0.040725</td>\n",
       "      <td>0.053647</td>\n",
       "      <td>0.036017</td>\n",
       "      <td>0.025662</td>\n",
       "      <td>0.048824</td>\n",
       "    </tr>\n",
       "    <tr>\n",
       "      <th>4</th>\n",
       "      <td>0.057479</td>\n",
       "      <td>0.041392</td>\n",
       "      <td>0.047307</td>\n",
       "      <td>0.052632</td>\n",
       "      <td>0.070284</td>\n",
       "      <td>0.036125</td>\n",
       "      <td>0.025243</td>\n",
       "      <td>0.031345</td>\n",
       "      <td>0.024247</td>\n",
       "      <td>0.053373</td>\n",
       "    </tr>\n",
       "  </tbody>\n",
       "</table>\n",
       "</div>"
      ],
      "text/plain": [
       "   # of Delays.Carrier  # of Delays.Late Aircraft  \\\n",
       "0             0.301513                   0.270412   \n",
       "1             0.088067                   0.093018   \n",
       "2             0.061849                   0.088924   \n",
       "3             0.063193                   0.087787   \n",
       "4             0.057479                   0.041392   \n",
       "\n",
       "   # of Delays.National Aviation System  # of Delays.Security  \\\n",
       "0                              0.350472              0.189474   \n",
       "1                              0.069295              0.042105   \n",
       "2                              0.036424              0.094737   \n",
       "3                              0.074847              0.031579   \n",
       "4                              0.047307              0.052632   \n",
       "\n",
       "   # of Delays.Weather  Minutes Delayed.Carrier  \\\n",
       "0             0.403206                 0.258823   \n",
       "1             0.080148                 0.066594   \n",
       "2             0.094945                 0.035474   \n",
       "3             0.065351                 0.040725   \n",
       "4             0.070284                 0.036125   \n",
       "\n",
       "   Minutes Delayed.Late Aircraft  Minutes Delayed.National Aviation System  \\\n",
       "0                       0.185741                                  0.194317   \n",
       "1                       0.067780                                  0.037010   \n",
       "2                       0.063728                                  0.025609   \n",
       "3                       0.053647                                  0.036017   \n",
       "4                       0.025243                                  0.031345   \n",
       "\n",
       "   Minutes Delayed.Security  Minutes Delayed.Weather  \n",
       "0                  0.104668                 0.253219  \n",
       "1                  0.020004                 0.053621  \n",
       "2                  0.056173                 0.080223  \n",
       "3                  0.025662                 0.048824  \n",
       "4                  0.024247                 0.053373  "
      ]
     },
     "execution_count": 19,
     "metadata": {},
     "output_type": "execute_result"
    }
   ],
   "source": [
    "X = normalizedData[Xcol]\n",
    "print(X.shape)\n",
    "X.head()"
   ]
  },
  {
   "cell_type": "code",
   "execution_count": 20,
   "metadata": {},
   "outputs": [
    {
     "data": {
      "text/plain": [
       "pandas.core.frame.DataFrame"
      ]
     },
     "execution_count": 20,
     "metadata": {},
     "output_type": "execute_result"
    }
   ],
   "source": [
    "type(X)"
   ]
  },
  {
   "cell_type": "code",
   "execution_count": 21,
   "metadata": {},
   "outputs": [
    {
     "data": {
      "text/plain": [
       "(4408,)"
      ]
     },
     "execution_count": 21,
     "metadata": {},
     "output_type": "execute_result"
    }
   ],
   "source": [
    "y = normalizedData[\"Flights.On Time\"]\n",
    "y.shape"
   ]
  },
  {
   "cell_type": "code",
   "execution_count": 22,
   "metadata": {},
   "outputs": [
    {
     "data": {
      "text/plain": [
       "0       0.745664\n",
       "1       0.199287\n",
       "2       0.169523\n",
       "3       0.170304\n",
       "4       0.112608\n",
       "          ...   \n",
       "4403    0.102732\n",
       "4404    0.214729\n",
       "4405    0.234482\n",
       "4406    0.184049\n",
       "4407    0.093161\n",
       "Name: Flights.On Time, Length: 4408, dtype: float64"
      ]
     },
     "execution_count": 22,
     "metadata": {},
     "output_type": "execute_result"
    }
   ],
   "source": [
    "y"
   ]
  },
  {
   "cell_type": "code",
   "execution_count": 11,
   "metadata": {},
   "outputs": [],
   "source": [
    "#get_KFold_report(X, y)"
   ]
  },
  {
   "cell_type": "code",
   "execution_count": 23,
   "metadata": {},
   "outputs": [
    {
     "name": "stdout",
     "output_type": "stream",
     "text": [
      "<class 'numpy.ndarray'>\n",
      "<class 'numpy.ndarray'>\n"
     ]
    }
   ],
   "source": [
    "X = X.to_numpy()\n",
    "print(type(X))\n",
    "\n",
    "y = y.to_numpy()\n",
    "print(type(y))"
   ]
  },
  {
   "cell_type": "code",
   "execution_count": 24,
   "metadata": {},
   "outputs": [
    {
     "data": {
      "text/plain": [
       "(4408, 10)"
      ]
     },
     "execution_count": 24,
     "metadata": {},
     "output_type": "execute_result"
    }
   ],
   "source": [
    "X.shape"
   ]
  },
  {
   "cell_type": "code",
   "execution_count": 25,
   "metadata": {},
   "outputs": [
    {
     "data": {
      "text/plain": [
       "(4408,)"
      ]
     },
     "execution_count": 25,
     "metadata": {},
     "output_type": "execute_result"
    }
   ],
   "source": [
    "y.shape"
   ]
  },
  {
   "cell_type": "markdown",
   "metadata": {},
   "source": [
    "### (1) Multivariate linear regression modeling"
   ]
  },
  {
   "cell_type": "code",
   "execution_count": 15,
   "metadata": {},
   "outputs": [
    {
     "name": "stdout",
     "output_type": "stream",
     "text": [
      "Saving figure Multivariate linear regression modeling\n"
     ]
    },
    {
     "data": {
      "image/png": "[encoded data removed]",
      "text/plain": [
       "<Figure size 432x288 with 1 Axes>"
      ]
     },
     "metadata": {
      "needs_background": "light"
     },
     "output_type": "display_data"
    }
   ],
   "source": [
    "t = [x/10 for x in range(1, 9)]\n",
    "plt.figure()\n",
    "name = 'Multivariate linear regression modeling'\n",
    "mean_test_r2=[]\n",
    "mean_train_r2 = []\n",
    "for s in t:\n",
    "\n",
    "    train_R2_score = []\n",
    "    test_R2_score = []\n",
    "    y_pred = []\n",
    "    RMSE_score = []\n",
    "    for i in range(1,100):\n",
    "        X_train, X_test, y_train, y_test = train_test_split(X, y, test_size = 1-s)\n",
    "        #tree_clf.fit(X_train, y_train)\n",
    "        linreg = LinearRegression().fit(X_train, y_train)\n",
    "        train_R2_score.append(linreg.score(X_train, y_train))\n",
    "        test_R2_score.append(linreg.score(X_test, y_test))\n",
    "        yPred = linreg.predict(X_test)\n",
    "        y_pred.append(linreg.predict(X_test))\n",
    "        RMSE_score.append(np.sqrt(metrics.mean_squared_error(y_test, yPred)))\n",
    "    testR2 = np.mean(test_R2_score)\n",
    "    trainR2 = np.mean(train_R2_score)\n",
    "    mean_test_r2.append(testR2)\n",
    "    mean_train_r2.append(trainR2)\n",
    "    plt.plot(s, np.mean(test_R2_score), 'bo')\n",
    "    plt.plot(s, np.mean(train_R2_score), 'rx')\n",
    "    plt.legend(['train_R2_score', 'test_R2_score'], loc='best')\n",
    "    plt.title(name)\n",
    "        \n",
    "\n",
    "\n",
    "plt.xlabel('Training set proportion (%)')\n",
    "plt.ylabel('accuracy')\n",
    "save_fig(name)"
   ]
  },
  {
   "cell_type": "code",
   "execution_count": 16,
   "metadata": {},
   "outputs": [
    {
     "data": {
      "image/png": "[encoded data removed]",
      "text/plain": [
       "<Figure size 360x216 with 1 Axes>"
      ]
     },
     "metadata": {
      "needs_background": "light"
     },
     "output_type": "display_data"
    }
   ],
   "source": [
    "# Plot learning curve\n",
    "fig, ax = plt.subplots(1, 1, figsize=(5, 3))\n",
    "    \n",
    "ax.set_title('Multivariate linear regression modeling')\n",
    "ax.set_xlabel(\"Training set proportion (%)\")\n",
    "ax.set_ylabel(\"Accuracy\")\n",
    "ax.grid()\n",
    "\n",
    "ax.plot(t, mean_test_r2, 'o-', color=\"r\", label=\"Mean Test score\")\n",
    "ax.plot(t, mean_train_r2, 'o-', color=\"g\", label=\"Mean Train score\")\n",
    "ax.legend(loc=\"best\")\n",
    "\n",
    "plt.show()"
   ]
  },
  {
   "cell_type": "code",
   "execution_count": 17,
   "metadata": {},
   "outputs": [
    {
     "name": "stdout",
     "output_type": "stream",
     "text": [
      "linear model original data intercept (b): 0.052\n",
      "linear model original data coeff (w): [-7.30645450e-01  1.24607230e-03  2.26740369e+00  6.29783539e-01\n",
      " -2.96073710e-01  5.71890971e-02  1.77591964e+00 -2.46958069e+00\n",
      " -2.82611973e-01  4.28451777e-01 -3.27444758e-01]\n",
      "R-squared score (training): 0.754\n",
      "R-squared score (test): 0.728\n",
      "RMSE: 0.094\n"
     ]
    }
   ],
   "source": [
    "X_train, X_test, y_train, y_test = train_test_split(X, y, test_size=0.30)\n",
    "linreg = LinearRegression().fit(X_train, y_train)\n",
    "\n",
    "print('linear model original data intercept (b): {:.3f}'.format(linreg.intercept_))\n",
    "print('linear model original data coeff (w): {}'.format(linreg.coef_))\n",
    "\n",
    "# train data R2\n",
    "print('R-squared score (training): {:.3f}'.format(linreg.score(X_train, y_train)))\n",
    "# test data R2\n",
    "print('R-squared score (test): {:.3f}'.format(linreg.score(X_test, y_test)))\n",
    "\n",
    "# make predictions on the testing set and print RMSE\n",
    "y_pred = linreg.predict(X_test)\n",
    "print('RMSE: {:.3f}'.format(np.sqrt(metrics.mean_squared_error(y_test, y_pred))))"
   ]
  },
  {
   "cell_type": "code",
   "execution_count": 18,
   "metadata": {},
   "outputs": [
    {
     "data": {
      "image/png": "[encoded data removed]",
      "text/plain": [
       "<Figure size 432x288 with 1 Axes>"
      ]
     },
     "metadata": {
      "needs_background": "light"
     },
     "output_type": "display_data"
    }
   ],
   "source": [
    "fig = plt.figure()\n",
    "plt.bar(normalizedData[Xcol].columns, linreg.coef_, width=0.8, bottom=None, align='center')\n",
    "plt.title(\"coeffiences of linear regression\")\n",
    "fig.autofmt_xdate()"
   ]
  },
  {
   "cell_type": "code",
   "execution_count": 19,
   "metadata": {},
   "outputs": [
    {
     "data": {
      "image/png": "[encoded data removed]",
      "text/plain": [
       "<Figure size 360x216 with 1 Axes>"
      ]
     },
     "metadata": {
      "needs_background": "light"
     },
     "output_type": "display_data"
    }
   ],
   "source": [
    "from sklearn.model_selection import learning_curve\n",
    "    \n",
    "# evaluate the training and testing and retrieve the information of model performance. \n",
    "\n",
    "train_sizes = np.linspace(0.2,0.8,5)  # 5 times 5*3 = 15\n",
    "\n",
    "train_sizes, train_mse, test_mse = learning_curve(linreg, X, y, \n",
    "                            train_sizes = train_sizes, \n",
    "                            scoring = 'neg_mean_squared_error',\n",
    "                                                 cv=3, shuffle=True)\n",
    "train_scores = np.sqrt(np.abs(train_mse))\n",
    "\n",
    "test_scores = np.sqrt(np.abs(test_mse))\n",
    "\n",
    "train_scores_mean=np.mean(train_scores, axis=1)\n",
    "\n",
    "test_scores_mean = np.mean(test_scores, axis=1)\n",
    "\n",
    "# Plot learning curve\n",
    "fig, ax = plt.subplots(1, 1, figsize=(5, 3))\n",
    "    \n",
    "ax.set_title('A learning curve for a simple linear regression')\n",
    "ax.set_xlabel(\"Training examples\")\n",
    "ax.set_ylabel(\"Score (RMSE)\")\n",
    "ax.grid()\n",
    "\n",
    "ax.plot(train_sizes, train_scores_mean, 'o-', color=\"r\", label=\"Training score\")\n",
    "ax.plot(train_sizes, test_scores_mean, 'o-', color=\"g\", label=\"Cross-validation score\")\n",
    "ax.legend(loc=\"best\")\n",
    "\n",
    "plt.show()\n",
    "\n"
   ]
  },
  {
   "cell_type": "markdown",
   "metadata": {},
   "source": [
    "### Obtain theta using close form\n",
    "\n",
    "<img src=\"images/cf.png\" style=\"width: 200px;\">\n",
    "read pp. 118 - 122 of A. Geron textbook"
   ]
  },
  {
   "cell_type": "markdown",
   "metadata": {},
   "source": [
    "### (2) Multivariate linear regression model with gradient descent "
   ]
  },
  {
   "cell_type": "code",
   "execution_count": 20,
   "metadata": {},
   "outputs": [
    {
     "name": "stdout",
     "output_type": "stream",
     "text": [
      "initial theta: \n",
      " [[ 1.24357949]\n",
      " [-0.03189058]\n",
      " [-0.5011376 ]\n",
      " [ 1.1486678 ]\n",
      " [-0.41135556]\n",
      " [-0.23429606]\n",
      " [ 0.67086407]\n",
      " [-0.78068743]\n",
      " [ 0.20412026]\n",
      " [ 0.71358068]\n",
      " [-0.81983829]]\n",
      "best theta: \n",
      " [[-1.07255683e+117 -1.00661061e+117 -2.70143461e+116 ... -2.94653246e+116\n",
      "  -3.53693393e+116 -2.95556001e+116]\n",
      " [-5.70926775e+118 -5.35823309e+118 -1.43798567e+118 ... -1.56845235e+118\n",
      "  -1.88272568e+118 -1.57325776e+118]\n",
      " [-1.10431698e+117 -1.03641798e+117 -2.78142848e+116 ... -3.03378409e+116\n",
      "  -3.64166830e+116 -3.04307895e+116]\n",
      " ...\n",
      " [-4.89158529e+116 -4.59082588e+116 -1.23203708e+116 ... -1.34381830e+116\n",
      "  -1.61308133e+116 -1.34793547e+116]\n",
      " [-2.97739025e+116 -2.79432523e+116 -7.49911321e+115 ... -8.17949857e+115\n",
      "  -9.81843789e+115 -8.20455880e+115]\n",
      " [-5.42168976e+116 -5.08833685e+116 -1.36555379e+116 ... -1.48944881e+116\n",
      "  -1.78789207e+116 -1.49401216e+116]]\n"
     ]
    }
   ],
   "source": [
    "# learning rate\n",
    "alpha = 0.01\n",
    "\n",
    "# number of iterations\n",
    "n_iter = 100\n",
    "\n",
    "# the number of data points\n",
    "n = 100\n",
    "\n",
    "# random initialization to theta. \n",
    "# Return samples (11 values for theta0 and theta1) from the “standard normal” distribution.\n",
    "theta = np.random.randn(11, 1)\n",
    "print('initial theta: \\n', theta)\n",
    "\n",
    "# the process of gradient descent\n",
    "for iteration in range(n_iter):\n",
    "    gradients = (1/n) * X_train.T.dot(X_train.dot(theta) - y_train)\n",
    "    theta = theta - alpha*gradients\n",
    "\n",
    "t = [0,1,2,3,4,5,6,7,8,9,10]\n",
    "print('best theta: \\n', theta)\n",
    "#theta_best = np.linalg.inv(X_b.T.dot(X_b)).dot(X_b.T).dot(y_R1)\n",
    "#print(theta_best)"
   ]
  },
  {
   "cell_type": "code",
   "execution_count": 21,
   "metadata": {},
   "outputs": [
    {
     "data": {
      "image/png": "[encoded data removed]",
      "text/plain": [
       "<Figure size 576x216 with 1 Axes>"
      ]
     },
     "metadata": {
      "needs_background": "light"
     },
     "output_type": "display_data"
    }
   ],
   "source": [
    "r2_train = []\n",
    "linridge = []\n",
    "r2_test = []\n",
    "num_coeff_bigger =[]\n",
    "alpha_Range = [0.2,0.4,0.6, 1, 5, 10, 15, 20, 25, 50, 75,100]\n",
    "for this_alpha in alpha_Range:\n",
    "    linridge_val = Ridge(alpha = this_alpha).fit(X_train, y_train)\n",
    "    linridge.append(linridge_val)\n",
    "    r2_train.append(linridge_val.score(X_train, y_train))\n",
    "    r2_test.append(linridge_val.score(X_test, y_test))\n",
    "    num_coeff_bigger.append(np.sum(abs(linridge_val.coef_) > 1.0))\n",
    "    #print('Alpha = {:.2f}\\nnum abs(coeff) > 1.0: {}, \\\n",
    "#r-squared training: {:.2f}, r-squared test: {:.2f}\\n'\n",
    "         #.format(this_alpha, num_coeff_bigger, r2_train, r2_test))\n",
    "\n",
    "y_predict = X_test.dot(theta)\n",
    "\n",
    "# Plot learning curve\n",
    "fig, ax = plt.subplots(1, 1, figsize=(8, 3))\n",
    "    \n",
    "ax.set_title('Ridge regression: effect of alpha regularization parameter\\n')\n",
    "ax.set_xlabel(\"Alpha Range\")\n",
    "ax.set_ylabel(\"Score (R_2)\")\n",
    "ax.grid()\n",
    "\n",
    "ax.plot(alpha_Range, r2_train, 'o-', color=\"r\", label=\"Training score\")\n",
    "ax.plot(alpha_Range, r2_test, 'o-', color=\"b\", label=\"Testing score\")\n",
    "ax.legend(loc=\"best\")\n",
    "\n",
    "plt.show()\n"
   ]
  },
  {
   "cell_type": "markdown",
   "metadata": {},
   "source": [
    "### Linear regression using batch gradient descent"
   ]
  },
  {
   "cell_type": "code",
   "execution_count": 22,
   "metadata": {},
   "outputs": [],
   "source": [
    "def batch_Gradient_Descent(alpha):\n",
    "    # learning rate\n",
    "    print(\"alpha=============,\", alpha)\n",
    "    #alpha = 0.0001\n",
    "    #alpha = 0.0002\n",
    "\n",
    "    # number of iterations\n",
    "    #n_iter = 2000\n",
    "    n_iter = 200\n",
    "\n",
    "    # the number of data points\n",
    "    n = 11\n",
    "    theta = np.random.randn(11, 1)\n",
    "\n",
    "    preCost = sys.maxsize\n",
    "    bestCost = preCost\n",
    "\n",
    "    preTheta = np.random.randn(11, 1)\n",
    "    bestTheta = preTheta\n",
    "\n",
    "    changeCost = bestCost\n",
    "\n",
    "    # the process of gradient descent\n",
    "    for iteration in range(n_iter):\n",
    "        gradients = (1/n) * X_train.T.dot(X_train.dot(theta) - np.vstack(y_train))\n",
    "        theta = theta - alpha*gradients\n",
    "\n",
    "        cost = (X_train.dot(theta) - np.vstack(y_train)).T.dot(X_train.dot(theta) - np.vstack(y_train))[0][0] * (1/(2*n))\n",
    "        if preCost-cost>0:\n",
    "            bestCost = cost\n",
    "            bestTheta = theta\n",
    "            changeCost = preCost-cost\n",
    "            #print(preCost-cost)\n",
    "        else:\n",
    "            break\n",
    "            #print(preCost-cost)\n",
    "\n",
    "        preCost = cost\n",
    "        preTheta = theta    \n",
    "    print(\"bestCost:\",bestCost)\n",
    "    #print(bestTheta)\n",
    "    print(\"preCost-cost:\",changeCost)\n",
    "\n",
    "    theta = bestTheta\n",
    "    #print('best theta: \\n', theta)\n",
    "\n",
    "    y_train_predict = X_train.dot(theta)\n",
    "    train_error = np.sqrt(metrics.mean_squared_error(y_train, y_train_predict))\n",
    "    print('training RMSE: {:.3f}'.format(train_error))\n",
    "\n",
    "    y_test_predict = X_test.dot(theta)\n",
    "    test_error = np.sqrt(metrics.mean_squared_error(y_test, y_test_predict))\n",
    "    print('testing RMSE: {:.3f}\\n'.format(test_error))\n",
    "    \n",
    "    return train_error, test_error"
   ]
  },
  {
   "cell_type": "code",
   "execution_count": 23,
   "metadata": {},
   "outputs": [
    {
     "name": "stdout",
     "output_type": "stream",
     "text": [
      "[[-5.14368040e+119 -4.82742091e+119 -1.29553194e+119 ... -1.41307397e+119\n",
      "  -1.69621388e+119 -1.41740332e+119]\n",
      " [-6.86789618e+119 -6.44562319e+119 -1.72980788e+119 ... -1.88675123e+119\n",
      "  -2.26480261e+119 -1.89253183e+119]\n",
      " [-5.13961133e+119 -4.82360203e+119 -1.29450707e+119 ... -1.41195611e+119\n",
      "  -1.69487203e+119 -1.41628204e+119]\n",
      " ...\n",
      " [-4.00566702e+119 -3.75937835e+119 -1.00890202e+119 ... -1.10043847e+119\n",
      "  -1.32093510e+119 -1.10380998e+119]\n",
      " [-2.85879153e+119 -2.68301857e+119 -7.20040020e+118 ... -7.85368370e+118\n",
      "  -9.42733897e+118 -7.87774570e+118]\n",
      " [-5.14253082e+119 -4.82634202e+119 -1.29524240e+119 ... -1.41275815e+119\n",
      "  -1.69583479e+119 -1.41708654e+119]]\n"
     ]
    }
   ],
   "source": [
    "y_predict = X_test.dot(theta)\n",
    "print(y_predict)"
   ]
  },
  {
   "cell_type": "markdown",
   "metadata": {},
   "source": [
    "### Alpah"
   ]
  },
  {
   "cell_type": "code",
   "execution_count": 24,
   "metadata": {},
   "outputs": [
    {
     "name": "stdout",
     "output_type": "stream",
     "text": [
      "alpha=============, 1e-05\n",
      "bestCost: 13.090746548252335\n",
      "preCost-cost: 0.004599313720362375\n",
      "training RMSE: 0.306\n",
      "testing RMSE: 0.302\n",
      "\n",
      "0.30553851498075574 0.30200722097298166\n",
      "alpha=============, 1.25e-05\n",
      "bestCost: 53.41745442730677\n",
      "preCost-cost: 0.03320549869397382\n",
      "training RMSE: 0.617\n",
      "testing RMSE: 0.613\n",
      "\n",
      "0.6171991940910393 0.6126391235924772\n",
      "alpha=============, 1.5e-05\n",
      "bestCost: 14.312569398640225\n",
      "preCost-cost: 0.007249172935576809\n",
      "training RMSE: 0.319\n",
      "testing RMSE: 0.318\n",
      "\n",
      "0.3194791784583511 0.3175849470860169\n",
      "alpha=============, 1.75e-05\n",
      "bestCost: 5.113714931848486\n",
      "preCost-cost: 0.002095407864616483\n",
      "training RMSE: 0.191\n",
      "testing RMSE: 0.181\n",
      "\n",
      "0.19096422441996783 0.18142344071540326\n",
      "alpha=============, 2e-05\n",
      "bestCost: 2.013323919341432\n",
      "preCost-cost: 0.0002784423778225964\n",
      "training RMSE: 0.120\n",
      "testing RMSE: 0.118\n",
      "\n",
      "0.11982310871723262 0.11750961836693807\n",
      "alpha=============, 2.5e-05\n",
      "bestCost: 9.239010861997011\n",
      "preCost-cost: 0.001074097163595411\n",
      "training RMSE: 0.257\n",
      "testing RMSE: 0.250\n",
      "\n",
      "0.25668263862934443 0.25045677499021457\n",
      "alpha=============, 3e-05\n",
      "bestCost: 3.9199987644708596\n",
      "preCost-cost: 0.0007858514109346793\n",
      "training RMSE: 0.167\n",
      "testing RMSE: 0.173\n",
      "\n",
      "0.1671963226685703 0.17331812101074548\n",
      "alpha=============, 3.5e-05\n",
      "bestCost: 6.269130383655815\n",
      "preCost-cost: 0.00852163049977861\n",
      "training RMSE: 0.211\n",
      "testing RMSE: 0.206\n",
      "\n",
      "0.21144012523860428 0.20631587187606223\n",
      "alpha=============, 4e-05\n",
      "bestCost: 13.502892752347172\n",
      "preCost-cost: 0.016635656475029847\n",
      "training RMSE: 0.310\n",
      "testing RMSE: 0.314\n",
      "\n",
      "0.31031099606571977 0.3143003289642539\n",
      "alpha=============, 4.5e-05\n",
      "bestCost: 6.3558912282090345\n",
      "preCost-cost: 0.004847972918474497\n",
      "training RMSE: 0.213\n",
      "testing RMSE: 0.200\n",
      "\n",
      "0.2128981974329757 0.2001474195058739\n",
      "alpha=============, 5e-05\n",
      "bestCost: 21.428209562443303\n",
      "preCost-cost: 0.04537876759874493\n",
      "training RMSE: 0.391\n",
      "testing RMSE: 0.395\n",
      "\n",
      "0.3909099264838163 0.39464560687358674\n",
      "alpha=============, 7.5e-05\n",
      "bestCost: 19.273929639341812\n",
      "preCost-cost: 0.06403803209261838\n",
      "training RMSE: 0.371\n",
      "testing RMSE: 0.372\n",
      "\n",
      "0.37073952642738 0.371540510891366\n",
      "alpha=============, 0.0001\n",
      "bestCost: 2.313334853018769\n",
      "preCost-cost: 0.00017128339897043432\n",
      "training RMSE: 0.128\n",
      "testing RMSE: 0.139\n",
      "\n",
      "0.12844080142413547 0.1385365345369959\n",
      "alpha=============, 0.000125\n",
      "bestCost: 3.4821824971249837\n",
      "preCost-cost: 0.0026254112565764487\n",
      "training RMSE: 0.158\n",
      "testing RMSE: 0.169\n",
      "\n",
      "0.15758305667993966 0.16887651931739892\n",
      "alpha=============, 0.00015\n",
      "bestCost: 24054.53204725152\n",
      "preCost-cost: 9.223372036854752e+18\n",
      "training RMSE: 13.097\n",
      "testing RMSE: 13.479\n",
      "\n",
      "13.097313184566902 13.478999028385513\n"
     ]
    }
   ],
   "source": [
    "alpha_sizes = [0.00001,0.0000125, 0.000015, 0.0000175, 0.00002, 0.000025,0.000030,0.000035, 0.000040,0.000045, \\\n",
    "               0.00005, 0.000075,0.0001,0.000125, 0.00015]#, 0.000175, 0.0002, 0.0005, 0.00075, 0.001]\n",
    "train_errors = []\n",
    "test_errors = []\n",
    "\n",
    "for alpha in alpha_sizes:\n",
    "    train_error, test_error= batch_Gradient_Descent(alpha)\n",
    "    print(train_error, test_error)\n",
    "    train_errors.append(train_error)\n",
    "    test_errors.append(test_error)"
   ]
  },
  {
   "cell_type": "code",
   "execution_count": 25,
   "metadata": {},
   "outputs": [
    {
     "data": {
      "image/png": "[encoded data removed]",
      "text/plain": [
       "<Figure size 360x216 with 1 Axes>"
      ]
     },
     "metadata": {
      "needs_background": "light"
     },
     "output_type": "display_data"
    }
   ],
   "source": [
    "# Plot learning curve\n",
    "fig, ax = plt.subplots(1, 1, figsize=(5, 3))\n",
    "\n",
    "ax.set_title('A learning curve for a Batch gradian regression')\n",
    "ax.set_xlabel(\"alpha\")\n",
    "ax.set_ylabel(\"Score (RMSE)\")\n",
    "ax.grid()\n",
    "\n",
    "ax.plot(alpha_sizes, train_errors, 'o-', color=\"r\", label=\"Training score\")\n",
    "ax.plot(alpha_sizes, test_errors, 'o-', color=\"g\", label=\"Cross-validation score\")\n",
    "for tick in ax.get_xticklabels(): \n",
    "    tick.set_rotation(25) \n",
    "ax.legend(loc=\"best\")\n",
    "\n",
    "plt.show()"
   ]
  },
  {
   "cell_type": "markdown",
   "metadata": {},
   "source": [
    "### theta"
   ]
  },
  {
   "cell_type": "code",
   "execution_count": 26,
   "metadata": {},
   "outputs": [
    {
     "name": "stdout",
     "output_type": "stream",
     "text": [
      "bestCost: 1.9516134519101704\n",
      "[[ 0.6514461 ]\n",
      " [ 0.00397956]\n",
      " [ 0.56133827]\n",
      " [ 0.11745345]\n",
      " [ 0.5249891 ]\n",
      " [-0.96215457]\n",
      " [ 0.28700602]\n",
      " [-0.46590338]\n",
      " [ 0.03982603]\n",
      " [-0.20402516]\n",
      " [ 1.18624396]]\n",
      "preCost-cost: 4.521947077873456e-05\n",
      "training RMSE: 0.118\n",
      "testing RMSE: 0.120\n",
      "\n"
     ]
    }
   ],
   "source": [
    "\n",
    "# learning rate\n",
    "#alpha = 0.0000125\n",
    "alpha = 0.0001\n",
    "#alpha = 0.0002\n",
    "\n",
    "# number of iterations\n",
    "n_iter = 10000\n",
    "#n_iter = 100\n",
    "\n",
    "# the number of data points\n",
    "n = 11\n",
    "theta = np.random.randn(11, 1)\n",
    "#theta = bestTheta\n",
    "\n",
    "preCost = sys.maxsize\n",
    "bestCost = preCost\n",
    "\n",
    "preTheta = np.random.randn(11, 1)\n",
    "bestTheta = preTheta\n",
    "\n",
    "changeCost = bestCost\n",
    "\n",
    "# the process of gradient descent\n",
    "for iteration in range(n_iter):\n",
    "    gradients = (1/n) * X_train.T.dot(X_train.dot(theta) - np.vstack(y_train))\n",
    "    theta = theta - alpha*gradients\n",
    "\n",
    "    cost = (X_train.dot(theta) - np.vstack(y_train)).T.dot(X_train.dot(theta) - np.vstack(y_train))[0][0] * (1/(2*n))\n",
    "    if preCost-cost>0:\n",
    "        bestCost = cost\n",
    "        bestTheta = theta\n",
    "        changeCost = preCost-cost\n",
    "        #print(preCost-cost)\n",
    "    else:\n",
    "        break\n",
    "        #print(preCost-cost)\n",
    "\n",
    "    preCost = cost\n",
    "    preTheta = theta    \n",
    "print(\"bestCost:\",bestCost)\n",
    "print(bestTheta)\n",
    "print(\"preCost-cost:\",changeCost)\n",
    "\n",
    "theta = bestTheta\n",
    "#print('best theta: \\n', theta)\n",
    "\n",
    "y_train_predict = X_train.dot(theta)\n",
    "train_error = np.sqrt(metrics.mean_squared_error(y_train, y_train_predict))\n",
    "print('training RMSE: {:.3f}'.format(train_error))\n",
    "\n",
    "y_test_predict = X_test.dot(theta)\n",
    "test_error = np.sqrt(metrics.mean_squared_error(y_test, y_test_predict))\n",
    "print('testing RMSE: {:.3f}\\n'.format(test_error))"
   ]
  },
  {
   "cell_type": "code",
   "execution_count": 27,
   "metadata": {},
   "outputs": [],
   "source": [
    "import numpy\n",
    "def rsq(actual, predict):\n",
    "    corr_matrix = numpy.corrcoef(actual, predict)\n",
    "    corr = corr_matrix[0,1]\n",
    "    R_sq = corr**2\n",
    "\n",
    "    #print(R_sq)\n",
    "    return R_sq"
   ]
  },
  {
   "cell_type": "code",
   "execution_count": 28,
   "metadata": {},
   "outputs": [
    {
     "name": "stdout",
     "output_type": "stream",
     "text": [
      "training R squared: 0.585\n",
      "training RMSE: 0.118\n",
      "testing R squared: 0.565\n",
      "testing RMSE: 0.120\n",
      "\n"
     ]
    }
   ],
   "source": [
    "theta = bestTheta\n",
    "#print('best theta: \\n', theta)\n",
    "\n",
    "train_score = rsq(y_train, np.hstack(y_train_predict))\n",
    "print('training R squared: {:.3f}'.format(train_score))\n",
    "\n",
    "y_train_predict = X_train.dot(theta)\n",
    "train_error = np.sqrt(metrics.mean_squared_error(y_train, y_train_predict))\n",
    "#print(np.hstack(y_train_predict))\n",
    "print('training RMSE: {:.3f}'.format(train_error))\n",
    "\n",
    "test_score = rsq(y_test, np.hstack(y_test_predict))\n",
    "print('testing R squared: {:.3f}'.format(test_score))\n",
    "\n",
    "y_test_predict = X_test.dot(theta)\n",
    "test_error = np.sqrt(metrics.mean_squared_error(y_test, y_test_predict))\n",
    "#print(np.hstack(y_test_predict))\n",
    "print('testing RMSE: {:.3f}\\n'.format(test_error))"
   ]
  },
  {
   "cell_type": "markdown",
   "metadata": {},
   "source": [
    "### trainin test splits "
   ]
  },
  {
   "cell_type": "code",
   "execution_count": 29,
   "metadata": {},
   "outputs": [
    {
     "name": "stdout",
     "output_type": "stream",
     "text": [
      "test_size = :  0.9\n",
      "training RMSE: 0.118\n",
      "testing RMSE: 0.119\n",
      "\n",
      "test_size = :  0.8111111111111111\n",
      "training RMSE: 0.116\n",
      "testing RMSE: 0.119\n",
      "\n",
      "test_size = :  0.7222222222222222\n",
      "training RMSE: 0.115\n",
      "testing RMSE: 0.120\n",
      "\n",
      "test_size = :  0.6333333333333333\n",
      "training RMSE: 0.119\n",
      "testing RMSE: 0.118\n",
      "\n",
      "test_size = :  0.5444444444444444\n",
      "training RMSE: 0.116\n",
      "testing RMSE: 0.121\n",
      "\n",
      "test_size = :  0.4555555555555555\n",
      "training RMSE: 0.117\n",
      "testing RMSE: 0.120\n",
      "\n",
      "test_size = :  0.3666666666666667\n",
      "training RMSE: 0.119\n",
      "testing RMSE: 0.117\n",
      "\n",
      "test_size = :  0.2777777777777778\n",
      "training RMSE: 0.116\n",
      "testing RMSE: 0.124\n",
      "\n",
      "test_size = :  0.18888888888888888\n",
      "training RMSE: 0.118\n",
      "testing RMSE: 0.119\n",
      "\n",
      "test_size = :  0.09999999999999998\n",
      "training RMSE: 0.119\n",
      "testing RMSE: 0.113\n",
      "\n"
     ]
    }
   ],
   "source": [
    "theta = bestTheta\n",
    "\n",
    "train_errors = []\n",
    "test_errors = []\n",
    "\n",
    "train_sizes = np.linspace(0.1, 0.90, 10)\n",
    "\n",
    "for train_size in train_sizes:\n",
    "    # random initialization to theta. \n",
    "    # Return samples (11 values for theta0 and theta1) from the “standard normal” distribution.\n",
    "    test_size = 1 - train_size\n",
    "    \n",
    "    X_train, X_test, y_train, y_test = train_test_split(X, y, test_size=test_size)\n",
    "    \n",
    "    print(\"test_size = : \", test_size)\n",
    "\n",
    "    y_train_predict = X_train.dot(theta)\n",
    "    train_error = np.sqrt(metrics.mean_squared_error(y_train, y_train_predict))\n",
    "    print('training RMSE: {:.3f}'.format(train_error))\n",
    "    train_errors.append(np.sqrt(train_error))\n",
    "\n",
    "    y_test_predict = X_test.dot(theta)\n",
    "    test_error = np.sqrt(metrics.mean_squared_error(y_test, y_test_predict))\n",
    "    print('testing RMSE: {:.3f}\\n'.format(test_error))\n",
    "    test_errors.append(np.sqrt(test_error))"
   ]
  },
  {
   "cell_type": "code",
   "execution_count": 30,
   "metadata": {},
   "outputs": [
    {
     "data": {
      "image/png": "[encoded data removed]",
      "text/plain": [
       "<Figure size 360x216 with 1 Axes>"
      ]
     },
     "metadata": {
      "needs_background": "light"
     },
     "output_type": "display_data"
    }
   ],
   "source": [
    "\n",
    "# Plot learning curve\n",
    "fig, ax = plt.subplots(1, 1, figsize=(5, 3))\n",
    "    \n",
    "ax.set_title('A learning curve for Batch Gradient Descent regression')\n",
    "ax.set_xlabel(\"Training examples\")\n",
    "ax.set_ylabel(\"Score (RMSE)\")\n",
    "ax.grid()\n",
    "\n",
    "ax.plot(train_sizes, train_errors, 'o-', color=\"r\", label=\"Training score\")\n",
    "ax.plot(train_sizes, test_errors, 'o-', color=\"g\", label=\"Cross-validation score\")\n",
    "ax.legend(loc=\"best\")\n",
    "\n",
    "plt.show()"
   ]
  },
  {
   "cell_type": "code",
   "execution_count": 31,
   "metadata": {},
   "outputs": [
    {
     "data": {
      "text/plain": [
       "array([ 0.6514461 ,  0.00397956,  0.56133827,  0.11745345,  0.5249891 ,\n",
       "       -0.96215457,  0.28700602, -0.46590338,  0.03982603, -0.20402516,\n",
       "        1.18624396])"
      ]
     },
     "execution_count": 31,
     "metadata": {},
     "output_type": "execute_result"
    }
   ],
   "source": [
    "np.hstack(theta)[0:]"
   ]
  },
  {
   "cell_type": "code",
   "execution_count": 32,
   "metadata": {},
   "outputs": [
    {
     "data": {
      "text/plain": [
       "Index(['# of Delays.Carrier', 'Time.Month', '# of Delays.Late Aircraft',\n",
       "       '# of Delays.National Aviation System', '# of Delays.Security',\n",
       "       '# of Delays.Weather', 'Minutes Delayed.Carrier',\n",
       "       'Minutes Delayed.Late Aircraft',\n",
       "       'Minutes Delayed.National Aviation System', 'Minutes Delayed.Security',\n",
       "       'Minutes Delayed.Weather'],\n",
       "      dtype='object')"
      ]
     },
     "execution_count": 32,
     "metadata": {},
     "output_type": "execute_result"
    }
   ],
   "source": [
    "normalizedData[Xcol].columns"
   ]
  },
  {
   "cell_type": "markdown",
   "metadata": {},
   "source": [
    "### bar chart for best theta "
   ]
  },
  {
   "cell_type": "code",
   "execution_count": 33,
   "metadata": {},
   "outputs": [
    {
     "data": {
      "image/png": "[encoded data removed]",
      "text/plain": [
       "<Figure size 432x288 with 1 Axes>"
      ]
     },
     "metadata": {
      "needs_background": "light"
     },
     "output_type": "display_data"
    }
   ],
   "source": [
    "fig = plt.figure()\n",
    "plt.bar(normalizedData[Xcol].columns, np.hstack(theta)[0:], width=0.8, bottom=None, align='center')\n",
    "plt.title(\"Best Theta of Batch Gradient Descent\")\n",
    "fig.autofmt_xdate()"
   ]
  },
  {
   "cell_type": "markdown",
   "metadata": {},
   "source": [
    "### (3) Regularized linear regression models with feature normalization\n",
    "Ridge regression model "
   ]
  },
  {
   "cell_type": "code",
   "execution_count": 34,
   "metadata": {},
   "outputs": [
    {
     "name": "stdout",
     "output_type": "stream",
     "text": [
      "Ridge regression: effect of alpha regularization parameter\n",
      "\n",
      "Alpha = 0.00\n",
      "num abs(coeff) > 1.0: 3,                     r-squared training: 0.75, r-squared test: 0.75\n",
      "Training RMSE: 0.091\n",
      "Testing RMSE: 0.090\n",
      "\n",
      "Alpha = 0.00\n",
      "num abs(coeff) > 1.0: 3,                     r-squared training: 0.75, r-squared test: 0.75\n",
      "Training RMSE: 0.091\n",
      "Testing RMSE: 0.090\n",
      "\n",
      "Alpha = 0.00\n",
      "num abs(coeff) > 1.0: 3,                     r-squared training: 0.75, r-squared test: 0.75\n",
      "Training RMSE: 0.091\n",
      "Testing RMSE: 0.090\n",
      "\n",
      "Alpha = 0.01\n",
      "num abs(coeff) > 1.0: 3,                     r-squared training: 0.75, r-squared test: 0.75\n",
      "Training RMSE: 0.091\n",
      "Testing RMSE: 0.090\n",
      "\n",
      "Alpha = 0.02\n",
      "num abs(coeff) > 1.0: 3,                     r-squared training: 0.75, r-squared test: 0.75\n",
      "Training RMSE: 0.091\n",
      "Testing RMSE: 0.090\n",
      "\n",
      "Alpha = 0.05\n",
      "num abs(coeff) > 1.0: 3,                     r-squared training: 0.75, r-squared test: 0.75\n",
      "Training RMSE: 0.091\n",
      "Testing RMSE: 0.090\n",
      "\n",
      "Alpha = 0.07\n",
      "num abs(coeff) > 1.0: 3,                     r-squared training: 0.75, r-squared test: 0.75\n",
      "Training RMSE: 0.091\n",
      "Testing RMSE: 0.090\n",
      "\n",
      "Alpha = 0.10\n",
      "num abs(coeff) > 1.0: 3,                     r-squared training: 0.75, r-squared test: 0.74\n",
      "Training RMSE: 0.091\n",
      "Testing RMSE: 0.091\n",
      "\n",
      "Alpha = 0.20\n",
      "num abs(coeff) > 1.0: 3,                     r-squared training: 0.74, r-squared test: 0.74\n",
      "Training RMSE: 0.092\n",
      "Testing RMSE: 0.091\n",
      "\n"
     ]
    }
   ],
   "source": [
    "from sklearn.linear_model import RidgeCV\n",
    "print('Ridge regression: effect of alpha regularization parameter\\n')\n",
    "train_errors = []\n",
    "test_errors = []\n",
    "\n",
    "train_R_sq= []\n",
    "test_R_sq = []\n",
    "\n",
    "alpha_sizes = [0, 0.0001, 0.001, 0.01, 0.02, 0.05, 0.075, 0.1,0.2]#,0.3,0.4, 0.5, 0.6, 0.7,0.8,0.9, 1]\n",
    "\n",
    "for this_alpha in alpha_sizes:\n",
    "    linridge = RidgeCV(alphas = [this_alpha],cv = 10).fit(X_train, y_train)\n",
    "    \n",
    "    r2_train = linridge.score(X_train, y_train)\n",
    "    train_R_sq.append(r2_train)\n",
    "    r2_test = linridge.score(X_test, y_test)\n",
    "    test_R_sq.append(r2_test)\n",
    "    num_coeff_bigger = np.sum(abs(linridge.coef_) > 1.0)\n",
    "    \n",
    "    print('Alpha = {:.2f}\\nnum abs(coeff) > 1.0: {}, \\\n",
    "                    r-squared training: {:.2f}, r-squared test: {:.2f}'\n",
    "         .format(this_alpha, num_coeff_bigger, r2_train, r2_test))\n",
    "    \n",
    "    y_pred = linridge.predict(X_train)\n",
    "    train_error = np.sqrt(metrics.mean_squared_error(y_train, y_pred))\n",
    "    print('Training RMSE: {:.3f}'.format(train_error))\n",
    "    train_errors.append(train_error)\n",
    "\n",
    "    # make predictions on the testing set\n",
    "    y_pred = linridge.predict(X_test)\n",
    "    test_error = np.sqrt(metrics.mean_squared_error(y_test, y_pred))\n",
    "    print('Testing RMSE: {:.3f}\\n'.format(test_error))\n",
    "    test_errors.append(test_error)"
   ]
  },
  {
   "cell_type": "code",
   "execution_count": 35,
   "metadata": {},
   "outputs": [
    {
     "data": {
      "image/png": "[encoded data removed]",
      "text/plain": [
       "<Figure size 360x216 with 1 Axes>"
      ]
     },
     "metadata": {
      "needs_background": "light"
     },
     "output_type": "display_data"
    }
   ],
   "source": [
    "# Plot learning curve\n",
    "fig, ax = plt.subplots(1, 1, figsize=(5, 3))\n",
    "\n",
    "ax.set_title('A learning curve for a Ridge linear regression')\n",
    "ax.set_xlabel(\"Alpha number\")\n",
    "ax.set_ylabel(\"Score (RMSE)\")\n",
    "ax.grid()\n",
    "\n",
    "ax.plot(alpha_sizes, train_errors, 'o-', color=\"r\", label=\"Training score\")\n",
    "ax.plot(alpha_sizes, test_errors, 'o-', color=\"g\", label=\"Cross-validation score\")\n",
    "ax.legend(loc=\"best\")\n",
    "\n",
    "plt.show()"
   ]
  },
  {
   "cell_type": "code",
   "execution_count": 36,
   "metadata": {},
   "outputs": [
    {
     "name": "stdout",
     "output_type": "stream",
     "text": [
      "training RMSE:  [0.08829321 0.09005763 0.09017083 0.09017668 0.09000425 0.08995185\n",
      " 0.09001061 0.09058182 0.09042759 0.09093699]\n",
      "testing RMSE:  [0.09448705 0.09518036 0.09535508 0.09479349 0.09423852 0.09387219\n",
      " 0.09382304 0.09368041 0.09365472 0.09372435]\n"
     ]
    }
   ],
   "source": [
    "# change the parameter values for range of lower and upper bound of training data size\n",
    "# and the number of iterations, and see the changes in the learning curve. \n",
    "train_sizes = np.linspace(0.1, 0.90, 10)\n",
    "\n",
    "linridge = Ridge(alpha=0.01)\n",
    "\n",
    "train_sizes, train_mse, test_mse = \\\n",
    "            learning_curve(linridge, X, y, scoring='neg_mean_squared_error', \n",
    "                           train_sizes = train_sizes, cv=10, shuffle=True, random_state=1)\n",
    "    \n",
    "train_scores = np.sqrt(np.abs(train_mse))\n",
    "test_scores = np.sqrt(np.abs(test_mse))\n",
    "#print(train_scores)\n",
    "#print(test_scores)\n",
    "\n",
    "train_scores_mean = np.mean(train_scores, axis=1)\n",
    "\n",
    "test_scores_mean = np.mean(test_scores, axis=1)\n",
    "print(\"training RMSE: \",train_scores_mean)\n",
    "print(\"testing RMSE: \", test_scores_mean)"
   ]
  },
  {
   "cell_type": "code",
   "execution_count": 37,
   "metadata": {},
   "outputs": [
    {
     "data": {
      "image/png": "[encoded data removed]",
      "text/plain": [
       "<Figure size 360x216 with 1 Axes>"
      ]
     },
     "metadata": {
      "needs_background": "light"
     },
     "output_type": "display_data"
    }
   ],
   "source": [
    "# Plot learning curve\n",
    "fig, ax = plt.subplots(1, 1, figsize=(5, 3))\n",
    "    \n",
    "ax.set_title('A learning curve for a Ridge regression')\n",
    "ax.set_xlabel(\"Training examples\")\n",
    "ax.set_ylabel(\"Score (RMSE)\")\n",
    "ax.grid()\n",
    "\n",
    "ax.plot(train_sizes, train_scores_mean, 'o-', color=\"r\", label=\"Training score\")\n",
    "ax.plot(train_sizes, test_scores_mean, 'o-', color=\"g\", label=\"Cross-validation score\")\n",
    "ax.legend(loc=\"best\")\n",
    "\n",
    "plt.show()\n"
   ]
  },
  {
   "cell_type": "code",
   "execution_count": 38,
   "metadata": {},
   "outputs": [
    {
     "data": {
      "image/png": "[encoded data removed]",
      "text/plain": [
       "<Figure size 576x216 with 1 Axes>"
      ]
     },
     "metadata": {
      "needs_background": "light"
     },
     "output_type": "display_data"
    }
   ],
   "source": [
    "from sklearn.linear_model import Ridge\n",
    "\n",
    "r2_train = []\n",
    "linridge = []\n",
    "r2_test = []\n",
    "yPredicts = []\n",
    "rmse = []\n",
    "intercept_s = []\n",
    "coef_s = []\n",
    "\n",
    "\n",
    "alpha_Range = [0.001,0.005,0.01,0.02, 0.05, 0.1, 0.2, 0.5, 1, 2, 5]\n",
    "\n",
    "\n",
    "\n",
    "for this_alpha in alpha_Range:\n",
    "    linridge_val = Ridge(alpha = this_alpha).fit(X_train, y_train)\n",
    "    linridge.append(linridge_val)\n",
    "    r2_train.append(linridge_val.score(X_train, y_train))\n",
    "    r2_test.append(linridge_val.score(X_test, y_test))\n",
    "    y_pred = linridge_val.predict(X_test)\n",
    "    yPredicts.append(y_pred)\n",
    "    rmse.append(np.sqrt(metrics.mean_squared_error(y_test, y_pred)))\n",
    "    intercept_s.append(linridge_val.intercept_)\n",
    "    coef_s.append(linridge_val.coef_)\n",
    "    #print('Alpha = {:.2f}\\nnum abs(coeff) > 1.0: {}, \\\n",
    "#r-squared training: {:.2f}, r-squared test: {:.2f}\\n'\n",
    "         #.format(this_alpha, num_coeff_bigger, r2_train, r2_test))\n",
    "\n",
    "\n",
    "# Plot learning curve\n",
    "fig, ax = plt.subplots(1, 1, figsize=(8, 3))\n",
    "    \n",
    "ax.set_title('Airline dataset: Ridge regression model\\n')\n",
    "ax.set_xlabel(\"Alpha Range\")\n",
    "ax.set_ylabel(\"Score (R_2)\")\n",
    "ax.grid()\n",
    "\n",
    "ax.plot(alpha_Range, r2_train, 'o-', color=\"r\", label=\"R-squared score (training)\")\n",
    "ax.plot(alpha_Range, r2_test, 'o-', color=\"g\", label=\"R-squared score (test)\")\n",
    "ax.legend(loc=\"best\")\n",
    "\n",
    "plt.show()\n"
   ]
  },
  {
   "cell_type": "markdown",
   "metadata": {},
   "source": [
    "### K cross validation "
   ]
  },
  {
   "cell_type": "code",
   "execution_count": 39,
   "metadata": {},
   "outputs": [],
   "source": [
    "X_train, X_test, y_train, y_test = train_test_split(X, y, test_size=test_size)"
   ]
  },
  {
   "cell_type": "code",
   "execution_count": 40,
   "metadata": {},
   "outputs": [
    {
     "name": "stdout",
     "output_type": "stream",
     "text": [
      "ridge regression linear model alpha: 0.01\n",
      "ridge regression linear model intercept: 0.05326624190019877\n",
      "ridge regression linear model coeff:\n",
      "[-7.51221573e-01  1.40563423e-03  2.26520330e+00  7.33966247e-01\n",
      " -1.83874613e-01 -4.90124409e-02  1.75921802e+00 -2.45620003e+00\n",
      " -3.80424359e-01  2.50906901e-01 -2.30620238e-01]\n",
      "R-squared score (training): 0.748\n",
      "R-squared score (test): 0.727\n",
      "RMSE: 0.091\n"
     ]
    }
   ],
   "source": [
    "from sklearn.linear_model import RidgeCV\n",
    "\n",
    "linridge = RidgeCV(alphas=[1e-3, 1e-2, 1e-1, 1], cv = 10).fit(X, y)\n",
    "\n",
    "print('ridge regression linear model alpha: {}'.format(linridge.alpha_))\n",
    "print('ridge regression linear model intercept: {}'.format(linridge.intercept_))\n",
    "print('ridge regression linear model coeff:\\n{}'.format(linridge.coef_))\n",
    "\n",
    "print('R-squared score (training): {:.3f}'.format(linridge.score(X_train, y_train)))\n",
    "\n",
    "print('R-squared score (test): {:.3f}'.format(linridge.best_score_))\n",
    "\n",
    "# make predictions on the testing set and print RMSE\n",
    "y_pred = linridge.predict(X_test)\n",
    "print('RMSE: {:.3f}'.format(np.sqrt(metrics.mean_squared_error(y_test, y_pred))))"
   ]
  },
  {
   "cell_type": "code",
   "execution_count": 41,
   "metadata": {},
   "outputs": [
    {
     "name": "stdout",
     "output_type": "stream",
     "text": [
      "Airline dataset\n",
      "R-squared score (training): 0.748\n",
      "R-squared score (test): 0.742\n",
      "RMSE: 0.091\n",
      "ridge regression linear model intercept: 0.051303964551650455\n",
      "ridge regression linear model coeff:\n",
      "[-7.73015811e-01  1.74623989e-03  2.30607722e+00  7.51069569e-01\n",
      " -1.82817995e-01 -1.08028369e-01  1.77568979e+00 -2.49510193e+00\n",
      " -3.97147044e-01  2.55038433e-01 -1.79700948e-01]\n",
      "Number of non-zero features: 11\n"
     ]
    }
   ],
   "source": [
    "from sklearn.linear_model import Ridge\n",
    "\n",
    "linridge = Ridge(alpha=0.001).fit(X_train, y_train)\n",
    "\n",
    "print('Airline dataset')\n",
    "\n",
    "print('R-squared score (training): {:.3f}'\n",
    "     .format(linridge.score(X_train, y_train)))\n",
    "print('R-squared score (test): {:.3f}'\n",
    "     .format(linridge.score(X_test, y_test)))\n",
    "\n",
    "# make predictions on the testing set\n",
    "y_pred = linridge.predict(X_test)\n",
    "print('RMSE: {:.3f}'.format(np.sqrt(metrics.mean_squared_error(y_test, y_pred))))\n",
    "\n",
    "print('ridge regression linear model intercept: {}'.format(linridge.intercept_))\n",
    "print('ridge regression linear model coeff:\\n{}'.format(linridge.coef_))\n",
    "\n",
    "print('Number of non-zero features: {}'.format(np.sum(linridge.coef_ != 0)))"
   ]
  },
  {
   "cell_type": "code",
   "execution_count": 42,
   "metadata": {},
   "outputs": [
    {
     "data": {
      "image/png": "[encoded data removed]",
      "text/plain": [
       "<Figure size 432x288 with 1 Axes>"
      ]
     },
     "metadata": {
      "needs_background": "light"
     },
     "output_type": "display_data"
    }
   ],
   "source": [
    "fig = plt.figure()\n",
    "plt.bar(normalizedData[Xcol].columns, linridge.coef_, width=0.8, bottom=None, align='center')\n",
    "plt.title(\"coeffiences of Ridge Regression\")\n",
    "fig.autofmt_xdate()"
   ]
  },
  {
   "cell_type": "code",
   "execution_count": 43,
   "metadata": {},
   "outputs": [
    {
     "name": "stdout",
     "output_type": "stream",
     "text": [
      "Ridge regression: effect of alpha regularization parameter\n",
      "\n",
      "Alpha = 0.00\n",
      "num abs(coeff) > 1.0: 3, r-squared training: 0.75, r-squared test: 0.74\n",
      "\n",
      "Alpha = 1.00\n",
      "num abs(coeff) > 1.0: 2, r-squared training: 0.72, r-squared test: 0.72\n",
      "\n",
      "Alpha = 10.00\n",
      "num abs(coeff) > 1.0: 0, r-squared training: 0.64, r-squared test: 0.66\n",
      "\n",
      "Alpha = 20.00\n",
      "num abs(coeff) > 1.0: 0, r-squared training: 0.62, r-squared test: 0.64\n",
      "\n",
      "Alpha = 50.00\n",
      "num abs(coeff) > 1.0: 0, r-squared training: 0.58, r-squared test: 0.61\n",
      "\n",
      "Alpha = 100.00\n",
      "num abs(coeff) > 1.0: 0, r-squared training: 0.54, r-squared test: 0.56\n",
      "\n",
      "Alpha = 1000.00\n",
      "num abs(coeff) > 1.0: 0, r-squared training: 0.23, r-squared test: 0.22\n",
      "\n"
     ]
    }
   ],
   "source": [
    "print('Ridge regression: effect of alpha regularization parameter\\n')\n",
    "for this_alpha in [0, 1, 10, 20, 50, 100, 1000]:\n",
    "    linridge = Ridge(alpha = this_alpha).fit(X_train, y_train)\n",
    "    r2_train = linridge.score(X_train, y_train)\n",
    "    r2_test = linridge.score(X_test, y_test)\n",
    "    num_coeff_bigger = np.sum(abs(linridge.coef_) > 1.0)\n",
    "    print('Alpha = {:.2f}\\nnum abs(coeff) > 1.0: {}, \\\n",
    "r-squared training: {:.2f}, r-squared test: {:.2f}\\n'\n",
    "         .format(this_alpha, num_coeff_bigger, r2_train, r2_test))"
   ]
  },
  {
   "cell_type": "markdown",
   "metadata": {},
   "source": [
    "### Lasso regression model "
   ]
  },
  {
   "cell_type": "code",
   "execution_count": 44,
   "metadata": {},
   "outputs": [
    {
     "name": "stdout",
     "output_type": "stream",
     "text": [
      "Airline dataset\n",
      "R-squared score (training): 0.632\n",
      "R-squared score (test): 0.657\n",
      "\n",
      "RMSE: 0.105\n",
      "lasso regression linear model intercept: 0.06362003425774465\n",
      "lasso regression linear model coeff:\n",
      "[ 0.          0.00245844  0.2236659   0.02713034  0.         -0.\n",
      "  0.94614561 -0.         -0.          0.         -0.        ]\n",
      "Non-zero features: 4\n",
      "Features with non-zero weight (sorted by absolute magnitude):\n",
      "\t[0.29378151 6.         0.29656584 0.23164908 0.21052632 0.31689273\n",
      " 0.30217897 0.22211351 0.14724569 0.13800768 0.26831239], 0.946\n",
      "\t[0.06184874 6.         0.08892427 0.03642421 0.09473684 0.09494451\n",
      " 0.03547351 0.06372839 0.02560903 0.05617296 0.08022262], 0.224\n",
      "\t[0.06319328 6.         0.08778713 0.07484731 0.03157895 0.06535142\n",
      " 0.04072539 0.05364714 0.03601723 0.02566175 0.04882436], 0.027\n",
      "\t[0.08806723 6.         0.09301797 0.06929484 0.04210526 0.08014797\n",
      " 0.06659372 0.06778028 0.03701008 0.02000404 0.05362077], 0.002\n"
     ]
    }
   ],
   "source": [
    "from sklearn.linear_model import Lasso\n",
    "\n",
    "linlasso = Lasso(alpha=0.001).fit(X_train, y_train)\n",
    "\n",
    "print('Airline dataset')\n",
    "\n",
    "print('R-squared score (training): {:.3f}'\n",
    "     .format(linlasso.score(X_train, y_train)))\n",
    "print('R-squared score (test): {:.3f}\\n'\n",
    "     .format(linlasso.score(X_test, y_test)))\n",
    "\n",
    "# make predictions on the testing set\n",
    "y_pred = linlasso.predict(X_test)\n",
    "print('RMSE: {:.3f}'.format(np.sqrt(metrics.mean_squared_error(y_test, y_pred))))\n",
    "    \n",
    "print('lasso regression linear model intercept: {}'.format(linlasso.intercept_))\n",
    "print('lasso regression linear model coeff:\\n{}'.format(linlasso.coef_))\n",
    "\n",
    "print('Non-zero features: {}'.format(np.sum(linlasso.coef_ != 0)))\n",
    " \n",
    "print('Features with non-zero weight (sorted by absolute magnitude):')\n",
    "for e in sorted (list(zip(list(X), linlasso.coef_)),\n",
    "                key = lambda e: -abs(e[1])):\n",
    "    if e[1] != 0:\n",
    "        print('\\t{}, {:.3f}'.format(e[0], e[1]))"
   ]
  },
  {
   "cell_type": "markdown",
   "metadata": {},
   "source": [
    "### Lasso with different lambdas\n",
    "Apply the Lasso regression on the training set with the following λ parameters: (0.0001, 0.0005, 0.0007,0.001,0.002, 0.004, 0.007, 0.01, 0.015,0.02). Evaluate the R^2 score for all the models you obtain on both the train and test sets."
   ]
  },
  {
   "cell_type": "markdown",
   "metadata": {},
   "source": [
    "### Plot values as function of lambda \n",
    "Plot all values for both data sets (train and test \n",
    "R2-values) as a function of λ. Comment on your findings."
   ]
  },
  {
   "cell_type": "code",
   "execution_count": 45,
   "metadata": {},
   "outputs": [],
   "source": [
    "lambdas = (0.001, 0.01, 0.1, 0.5, 1, 2, 10)\n",
    "l_num = 7\n",
    "pred_num = X.shape[1]\n",
    "\n",
    "# prepare data for enumerate\n",
    "coeff_a = np.zeros((l_num, pred_num))\n",
    "train_r_squared = np.zeros(l_num)\n",
    "test_r_squared = np.zeros(l_num)\n",
    "# enumerate through lambdas with index and i\n",
    "for ind, i in enumerate(lambdas):    \n",
    "    reg = Lasso(alpha = i)\n",
    "    reg.fit(X_train, y_train)\n",
    "\n",
    "    #coeff_a[ind,:] = reg.coef_\n",
    "    train_r_squared[ind] = reg.score(X_train, y_train)\n",
    "    test_r_squared[ind] = reg.score(X_test, y_test)"
   ]
  },
  {
   "cell_type": "code",
   "execution_count": 46,
   "metadata": {},
   "outputs": [
    {
     "data": {
      "image/png": "[encoded data removed]",
      "text/plain": [
       "<Figure size 1296x576 with 1 Axes>"
      ]
     },
     "metadata": {
      "needs_background": "light"
     },
     "output_type": "display_data"
    }
   ],
   "source": [
    "# Plotting\n",
    "plt.figure(figsize=(18, 8))\n",
    "plt.plot(train_r_squared, 'bo-', label=r'$R^2$ Training set', color=\"darkblue\", alpha=0.6, linewidth=3)\n",
    "plt.plot(test_r_squared, 'bo-', label=r'$R^2$ Test set', color=\"darkred\", alpha=0.6, linewidth=3)\n",
    "plt.xlabel('Lamda index'); plt.ylabel(r'$R^2$')\n",
    "plt.xlim(0, 6)\n",
    "plt.title(r'Evaluate lasso regression with lamdas: 0 = 0.001, 1= 0.01, 2 = 0.1, 3 = 0.5, 4= 1, 5= 2, 6 = 10')\n",
    "plt.legend(loc='best')\n",
    "plt.grid()"
   ]
  },
  {
   "cell_type": "code",
   "execution_count": 47,
   "metadata": {},
   "outputs": [
    {
     "data": {
      "image/png": "[encoded data removed]",
      "text/plain": [
       "<Figure size 576x216 with 1 Axes>"
      ]
     },
     "metadata": {
      "needs_background": "light"
     },
     "output_type": "display_data"
    }
   ],
   "source": [
    "r2_train = []\n",
    "r2_test = []\n",
    "\n",
    "feature_kept = []\n",
    "\n",
    "\n",
    "alpha_list=[0.0001, 0.0005, 0.0007,0.001,0.002, 0.004, 0.007, 0.01, 0.015,0.02]\n",
    "\n",
    "for alpha in alpha_list :\n",
    "    linlasso = Lasso(alpha, max_iter = 10000).fit(X_train, y_train)\n",
    "    r2_train.append(linlasso.score(X_train, y_train))\n",
    "    r2_test.append(linlasso.score(X_test, y_test))\n",
    "    feature_kept.append(np.sum(linlasso.coef_ != 0))\n",
    "    \n",
    "    #print('Alpha = {:.2f}\\nFeatures kept: {}, r-squared training: {:.2f}, \\\n",
    "#r-squared test: {:.2f}\\n'\n",
    "         #.format(alpha, np.sum(linlasso.coef_ != 0), r2_train, r2_test))\n",
    "    \n",
    "# Plot learning curve\n",
    "fig, ax = plt.subplots(1, 1, figsize=(8, 3))\n",
    "    \n",
    "ax.set_title('Lasso regression: effect of alpha regularization\\n\\\n",
    "            parameter on number of features kept in final model\\n')\n",
    "ax.set_xlabel(\"Alpha Range\")\n",
    "ax.set_ylabel(\"Score (R_2)\")\n",
    "ax.grid()\n",
    "\n",
    "ax.plot(alpha_list, r2_train, 'o-', color=\"r\", label=\"R-squared score (training)\")\n",
    "ax.plot(alpha_list, r2_test, 'o-', color=\"g\", label=\"R-squared score (test)\")\n",
    "ax.legend(loc=\"best\")\n",
    "\n",
    "plt.show()\n"
   ]
  },
  {
   "cell_type": "markdown",
   "metadata": {},
   "source": [
    "### Identify best lambda and coefficients\n",
    "Store your test data results in a DataFrame and indentify the lambda where the \n",
    "R\n",
    "2\n",
    " has it’s maximum value in the test data. Fit a Lasso model with this lambda parameter (use the training data) and obtain the corresponding regression coefficients. Furthermore, obtain the mean squared error for the test data of this model (module: from sklearn.metrics import mean_squared_error)"
   ]
  },
  {
   "cell_type": "code",
   "execution_count": 48,
   "metadata": {},
   "outputs": [
    {
     "data": {
      "text/plain": [
       "R_squared    65.670329\n",
       "lambda        0.001000\n",
       "Name: 0, dtype: float64"
      ]
     },
     "execution_count": 48,
     "metadata": {},
     "output_type": "execute_result"
    }
   ],
   "source": [
    "df_lam = pd.DataFrame(test_r_squared*100, columns=['R_squared'])\n",
    "df_lam['lambda'] = (lambdas)\n",
    "# returns the index of the row where column has maximum value.\n",
    "df_lam.loc[df_lam['R_squared'].idxmax()]"
   ]
  },
  {
   "cell_type": "code",
   "execution_count": 49,
   "metadata": {},
   "outputs": [
    {
     "data": {
      "text/plain": [
       "array([0., 0., 0., 0., 0., 0., 0., 0., 0., 0., 0.])"
      ]
     },
     "execution_count": 49,
     "metadata": {},
     "output_type": "execute_result"
    }
   ],
   "source": [
    "# Coefficients of best model\n",
    "reg_best = Lasso(alpha = 0.1)\n",
    "reg_best.fit(X_train, y_train)\n",
    "reg_best.coef_"
   ]
  },
  {
   "cell_type": "code",
   "execution_count": 50,
   "metadata": {},
   "outputs": [
    {
     "data": {
      "text/plain": [
       "0.032335554153546706"
      ]
     },
     "execution_count": 50,
     "metadata": {},
     "output_type": "execute_result"
    }
   ],
   "source": [
    "from sklearn.metrics import mean_squared_error\n",
    "mean_squared_error(y_test, reg_best.predict(X_test))"
   ]
  },
  {
   "cell_type": "markdown",
   "metadata": {},
   "source": [
    "### Cross Validation \n",
    "Evaluate the performance of a Lasso regression for different regularization parameters λ using 5-fold cross validation on the training set (module: from sklearn.model_selection import cross_val_score) and plot the cross-validation (CV) R2 scores of the training and test data as a function of λ.\n",
    "Use the following lambda parameters: l_min = 0.05 l_max = 0.2 l_num = 20 lambdas = np.linspace(l_min,l_max, l_num)"
   ]
  },
  {
   "cell_type": "code",
   "execution_count": 51,
   "metadata": {},
   "outputs": [],
   "source": [
    "l_min = 0.05\n",
    "l_max = 0.2\n",
    "l_num = 20\n",
    "lambdas = np.linspace(l_min,l_max, l_num)\n",
    "\n",
    "train_r_squared = np.zeros(l_num)\n",
    "test_r_squared = np.zeros(l_num)\n",
    "\n",
    "pred_num = X.shape[1]\n",
    "coeff_a = np.zeros((l_num, pred_num))"
   ]
  },
  {
   "cell_type": "code",
   "execution_count": 52,
   "metadata": {},
   "outputs": [],
   "source": [
    "from sklearn.model_selection import cross_val_score\n",
    "\n",
    "for ind, i in enumerate(lambdas):    \n",
    "    reg = Lasso(alpha = i)\n",
    "    reg.fit(X_train, y_train)\n",
    "    results = cross_val_score(reg, X, y, cv=5, scoring=\"r2\")\n",
    "\n",
    "    train_r_squared[ind] = reg.score(X_train, y_train)    \n",
    "    test_r_squared[ind] = reg.score(X_test, y_test)"
   ]
  },
  {
   "cell_type": "code",
   "execution_count": 53,
   "metadata": {},
   "outputs": [
    {
     "data": {
      "image/png": "[encoded data removed]",
      "text/plain": [
       "<Figure size 1296x576 with 1 Axes>"
      ]
     },
     "metadata": {
      "needs_background": "light"
     },
     "output_type": "display_data"
    }
   ],
   "source": [
    "# Plotting\n",
    "plt.figure(figsize=(18, 8))\n",
    "plt.plot(train_r_squared, 'bo-', label=r'$R^2$ Training set', color=\"darkblue\", alpha=0.6, linewidth=3)\n",
    "plt.plot(test_r_squared, 'bo-', label=r'$R^2$ Test set', color=\"darkred\", alpha=0.6, linewidth=3)\n",
    "plt.xlabel('Lamda value'); plt.ylabel(r'$R^2$')\n",
    "plt.xlim(0, 19)\n",
    "plt.title(r'Evaluate 5-fold cv with different lamdas')\n",
    "plt.legend(loc='best')\n",
    "plt.grid()"
   ]
  },
  {
   "cell_type": "markdown",
   "metadata": {},
   "source": [
    "### 2.8 Best Model\n",
    "Finally, store your test data results in a DataFrame and identify the lambda where the \n",
    "R\n",
    "2\n",
    " has it’s maximum value in the test data. Fit a Lasso model with this lambda parameter (use the training data) and obtain the corresponding regression coefficients. Furthermore, obtain the mean squared error for the test data of this model (module: from sklearn.metrics import mean_squared_error) "
   ]
  },
  {
   "cell_type": "code",
   "execution_count": 54,
   "metadata": {},
   "outputs": [
    {
     "data": {
      "text/plain": [
       "R_squared   -0.00895\n",
       "lambda       0.05000\n",
       "Name: 0, dtype: float64"
      ]
     },
     "execution_count": 54,
     "metadata": {},
     "output_type": "execute_result"
    }
   ],
   "source": [
    "df_lam = pd.DataFrame(test_r_squared*100, columns=['R_squared'])\n",
    "df_lam['lambda'] = (lambdas)\n",
    "# returns the index of the row where column has maximum value.\n",
    "df_lam.loc[df_lam['R_squared'].idxmax()]"
   ]
  },
  {
   "cell_type": "code",
   "execution_count": 55,
   "metadata": {},
   "outputs": [
    {
     "data": {
      "text/plain": [
       "Lasso(alpha=1e-05)"
      ]
     },
     "execution_count": 55,
     "metadata": {},
     "output_type": "execute_result"
    }
   ],
   "source": [
    "# Best Model\n",
    "reg_best = Lasso(alpha = 0.00001)\n",
    "reg_best.fit(X_train, y_train)"
   ]
  },
  {
   "cell_type": "code",
   "execution_count": 56,
   "metadata": {},
   "outputs": [
    {
     "data": {
      "text/plain": [
       "0.09130996547413765"
      ]
     },
     "execution_count": 56,
     "metadata": {},
     "output_type": "execute_result"
    }
   ],
   "source": [
    "from sklearn.metrics import mean_squared_error\n",
    "\n",
    "np.sqrt(mean_squared_error(y_test, reg_best.predict(X_test)))"
   ]
  },
  {
   "cell_type": "code",
   "execution_count": 57,
   "metadata": {},
   "outputs": [
    {
     "data": {
      "text/plain": [
       "array([-7.44153131e-01,  1.75375321e-03,  2.26318623e+00,  7.32599759e-01,\n",
       "       -1.65087498e-01, -9.75965786e-02,  1.75083824e+00, -2.44630258e+00,\n",
       "       -3.82939559e-01,  2.31378673e-01, -1.87916052e-01])"
      ]
     },
     "execution_count": 57,
     "metadata": {},
     "output_type": "execute_result"
    }
   ],
   "source": [
    "reg_best.coef_"
   ]
  },
  {
   "cell_type": "code",
   "execution_count": 58,
   "metadata": {},
   "outputs": [
    {
     "data": {
      "image/png": "[encoded data removed]",
      "text/plain": [
       "<Figure size 432x288 with 1 Axes>"
      ]
     },
     "metadata": {
      "needs_background": "light"
     },
     "output_type": "display_data"
    }
   ],
   "source": [
    "fig = plt.figure()\n",
    "plt.bar(normalizedData[Xcol].columns, reg_best.coef_, width=0.8, bottom=None, align='center')\n",
    "plt.title(\"coeffiences of Lasso Regression\")\n",
    "fig.autofmt_xdate()"
   ]
  },
  {
   "cell_type": "code",
   "execution_count": 59,
   "metadata": {},
   "outputs": [
    {
     "name": "stdout",
     "output_type": "stream",
     "text": [
      "ridge regression linear model alpha: 1e-06\n",
      "ridge regression linear model intercept: 0.05329989980870095\n",
      "ridge regression linear model coeff:\n",
      "[-7.60985702e-01  1.40289088e-03  2.29477366e+00  7.21622829e-01\n",
      " -1.82737858e-01 -4.85448672e-02  1.76935637e+00 -2.49126240e+00\n",
      " -3.65743343e-01  2.49583296e-01 -2.29666979e-01]\n",
      "R-squared score (training): 0.742\n",
      "R-squared score (test): 0.798\n",
      "RMSE: 0.080\n"
     ]
    }
   ],
   "source": [
    "from sklearn.linear_model import LassoCV\n",
    "X_train, X_test, y_train, y_test = train_test_split(X, y, test_size=test_size)\n",
    "linlasso = LassoCV(alphas=[1e-6,1e-5,1e-4,1e-3, 1e-2, 1e-1, 1], cv = 10).fit(X, y)\n",
    "\n",
    "print('ridge regression linear model alpha: {}'.format(linlasso.alpha_))\n",
    "print('ridge regression linear model intercept: {}'.format(linlasso.intercept_))\n",
    "print('ridge regression linear model coeff:\\n{}'.format(linlasso.coef_))\n",
    "\n",
    "print('R-squared score (training): {:.3f}'.format(linlasso.score(X_train, y_train)))\n",
    "\n",
    "print('R-squared score (test): {:.3f}'.format(linlasso.score(X_test, y_test)))\n",
    "\n",
    "# make predictions on the testing set and print RMSE\n",
    "y_pred = linlasso.predict(X_test)\n",
    "print('RMSE: {:.3f}'.format(np.sqrt(metrics.mean_squared_error(y_test, y_pred))))"
   ]
  },
  {
   "cell_type": "code",
   "execution_count": 60,
   "metadata": {},
   "outputs": [
    {
     "data": {
      "image/png": "[encoded data removed]",
      "text/plain": [
       "<Figure size 432x288 with 1 Axes>"
      ]
     },
     "metadata": {
      "needs_background": "light"
     },
     "output_type": "display_data"
    }
   ],
   "source": [
    "fig = plt.figure()\n",
    "plt.bar(normalizedData[Xcol].columns, linlasso.coef_, width=0.8, bottom=None, align='center')\n",
    "plt.title(\"coeffiences of Lasso Regression\")\n",
    "fig.autofmt_xdate()"
   ]
  },
  {
   "cell_type": "markdown",
   "metadata": {},
   "source": [
    "### (4) Polynomial regression models \n",
    "a). LinearRegression : Degree, Learing Curve, R-squart, K cross validation\n",
    "\n",
    "b). Ridge Regression : Degree, Alpha, Learing Curve, R-squart, K cross validation\n",
    "\n",
    "c). Lasso Regression : Degree Alpha, Learing Curve, R-squart, K cross validation"
   ]
  },
  {
   "cell_type": "markdown",
   "metadata": {},
   "source": [
    "## Linear Regression "
   ]
  },
  {
   "cell_type": "code",
   "execution_count": 61,
   "metadata": {},
   "outputs": [],
   "source": [
    "X_train, X_test, y_train, y_test = train_test_split(X, y, test_size=test_size)"
   ]
  },
  {
   "cell_type": "code",
   "execution_count": 62,
   "metadata": {},
   "outputs": [
    {
     "name": "stdout",
     "output_type": "stream",
     "text": [
      "degree = 1\n",
      "(poly deg  LinearRegression() ) R-squared score (training): 0.755\n",
      "(poly deg  LinearRegression() ) R-squared score (test): 0.724\n",
      "Training RMSE: 0.090\n",
      "Testing RMSE: 0.093\n",
      "\n",
      "degree = 2\n",
      "(poly deg  LinearRegression() ) R-squared score (training): 0.793\n",
      "(poly deg  LinearRegression() ) R-squared score (test): 0.768\n",
      "Training RMSE: 0.083\n",
      "Testing RMSE: 0.085\n",
      "\n",
      "degree = 3\n",
      "(poly deg  LinearRegression() ) R-squared score (training): 0.813\n",
      "(poly deg  LinearRegression() ) R-squared score (test): 0.157\n",
      "Training RMSE: 0.079\n",
      "Testing RMSE: 0.162\n",
      "\n"
     ]
    }
   ],
   "source": [
    "from sklearn.preprocessing import PolynomialFeatures\n",
    "\n",
    "# change the parameter values for range of lower and upper bound of training data size\n",
    "# and the number of iterations, and see the changes in the learning curve. \n",
    "degree_sizes = [1, 2, 3]\n",
    "train_scores_mean = []\n",
    "test_scores_mean = []\n",
    "for degree in degree_sizes:\n",
    "    print(\"degree =\", degree)\n",
    "    poly = PolynomialFeatures(degree=degree)\n",
    "    X_poly = poly.fit_transform(X)\n",
    "\n",
    "    X_train, X_test, y_train, y_test = train_test_split(X_poly, y, random_state=0)\n",
    "    #print(degree)\n",
    "    \n",
    "    linreg_poly = LinearRegression().fit(X_train, y_train)\n",
    "\n",
    "    #==================================================================================\n",
    "    #print('(poly deg 2) linear model coeff (w):\\n{}'\n",
    "     #    .format(linreg_poly.coef_))\n",
    "    #print('(poly deg 2) linear model intercept (b): {:.3f}'\n",
    "    #     .format(linreg_poly.intercept_))\n",
    "    print('(poly deg ', linreg_poly, ') R-squared score (training): {:.3f}'\n",
    "         .format(linreg_poly.score(X_train, y_train)))\n",
    "    print('(poly deg ', linreg_poly, ') R-squared score (test): {:.3f}'\n",
    "         .format(linreg_poly.score(X_test, y_test)))\n",
    "    \n",
    "    y_pred = linreg_poly.predict(X_train)\n",
    "    train_score_mean = np.sqrt(metrics.mean_squared_error(y_train, y_pred))\n",
    "    print('Training RMSE: {:.3f}'.format(train_score_mean))\n",
    "    train_scores_mean.append(train_score_mean)\n",
    "\n",
    "    # make predictions on the testing set\n",
    "    y_pred = linreg_poly.predict(X_test)\n",
    "    test_score_mean = np.sqrt(metrics.mean_squared_error(y_test, y_pred))\n",
    "    print('Testing RMSE: {:.3f}\\n'.format(test_score_mean))\n",
    "    test_scores_mean.append(test_score_mean)"
   ]
  },
  {
   "cell_type": "code",
   "execution_count": 63,
   "metadata": {},
   "outputs": [
    {
     "data": {
      "image/png": "[encoded data removed]",
      "text/plain": [
       "<Figure size 360x216 with 1 Axes>"
      ]
     },
     "metadata": {
      "needs_background": "light"
     },
     "output_type": "display_data"
    }
   ],
   "source": [
    "# Plot learning curve\n",
    "fig, ax = plt.subplots(1, 1, figsize=(5, 3))\n",
    "\n",
    "ax.set_title('A learning curve for a Polynomial regression')\n",
    "ax.set_xlabel(\"Degree\")\n",
    "ax.set_ylabel(\"Score (RMSE)\")\n",
    "ax.grid()\n",
    "\n",
    "ax.plot(degree_sizes, train_scores_mean, 'o-', color=\"r\", label=\"Training score\")\n",
    "ax.plot(degree_sizes, test_scores_mean, 'o-', color=\"g\", label=\"Cross-validation score\")\n",
    "ax.legend(loc=\"best\")\n",
    "\n",
    "plt.show()"
   ]
  },
  {
   "cell_type": "code",
   "execution_count": 64,
   "metadata": {},
   "outputs": [],
   "source": [
    "poly = PolynomialFeatures(degree=2)\n",
    "X_poly = poly.fit_transform(X)\n",
    "\n",
    "X_train, X_test, y_train, y_test = train_test_split(X_poly, y, random_state=0)"
   ]
  },
  {
   "cell_type": "markdown",
   "metadata": {},
   "source": [
    "### A learning curve "
   ]
  },
  {
   "cell_type": "code",
   "execution_count": 65,
   "metadata": {},
   "outputs": [
    {
     "name": "stdout",
     "output_type": "stream",
     "text": [
      "training RMSE:  [0.08797106 0.08997609 0.09013293 0.09015443 0.08998905 0.08994131\n",
      " 0.09000272 0.09057573 0.09042288 0.09093324]\n",
      "testing RMSE:  [0.09452184 0.095182   0.09540136 0.09481474 0.09425107 0.09388102\n",
      " 0.09382943 0.09368181 0.09366134 0.09373373]\n"
     ]
    },
    {
     "data": {
      "image/png": "[encoded data removed]",
      "text/plain": [
       "<Figure size 360x216 with 1 Axes>"
      ]
     },
     "metadata": {
      "needs_background": "light"
     },
     "output_type": "display_data"
    }
   ],
   "source": [
    "from sklearn.model_selection import learning_curve\n",
    "    \n",
    "# change the parameter values for range of lower and upper bound of training data size\n",
    "# and the number of iterations, and see the changes in the learning curve. \n",
    "\n",
    "linreg_poly = LinearRegression()\n",
    "\n",
    "train_sizes = np.linspace(0.1, 0.90, 10)\n",
    "\n",
    "train_sizes, train_mse, test_mse = \\\n",
    "            learning_curve(linreg_poly, X, y, scoring='neg_mean_squared_error', \n",
    "                           train_sizes = train_sizes, cv=10, shuffle=True, random_state=1)\n",
    "    \n",
    "train_scores = np.sqrt(np.abs(train_mse))\n",
    "test_scores = np.sqrt(np.abs(test_mse))\n",
    "#print(train_scores)\n",
    "#print(test_scores)\n",
    "\n",
    "train_scores_mean = np.mean(train_scores, axis=1)\n",
    "\n",
    "test_scores_mean = np.mean(test_scores, axis=1)\n",
    "print(\"training RMSE: \",train_scores_mean)\n",
    "print(\"testing RMSE: \", test_scores_mean)\n",
    "\n",
    "# Plot learning curve\n",
    "fig, ax = plt.subplots(1, 1, figsize=(5, 3))\n",
    "    \n",
    "ax.set_title('A learning curve for a Polynomial regression')\n",
    "ax.set_xlabel(\"Training examples\")\n",
    "ax.set_ylabel(\"Score (RMSE)\")\n",
    "ax.grid()\n",
    "\n",
    "ax.plot(train_sizes, train_scores_mean, 'o-', color=\"r\", label=\"Training score\")\n",
    "ax.plot(train_sizes, test_scores_mean, 'o-', color=\"g\", label=\"Cross-validation score\")\n",
    "ax.legend(loc=\"best\")\n",
    "\n",
    "plt.show()"
   ]
  },
  {
   "cell_type": "markdown",
   "metadata": {},
   "source": [
    "### R-Squart "
   ]
  },
  {
   "cell_type": "code",
   "execution_count": 66,
   "metadata": {},
   "outputs": [
    {
     "name": "stdout",
     "output_type": "stream",
     "text": [
      "(poly deg 2) R-squared score (training): 0.793\n",
      "(poly deg 2) R-squared score (test): 0.768\n",
      "(poly deg 2) RMSE: 0.085\n"
     ]
    }
   ],
   "source": [
    "linreg_poly = LinearRegression().fit(X_train, y_train)\n",
    "\n",
    "#print('(poly deg 2) linear model coeff (w):\\n{}'\n",
    " #    .format(linreg_poly.coef_))\n",
    "#print('(poly deg 2) linear model intercept (b): {:.3f}'\n",
    "#     .format(linreg_poly.intercept_))\n",
    "print('(poly deg 2) R-squared score (training): {:.3f}'\n",
    "     .format(linreg_poly.score(X_train, y_train)))\n",
    "print('(poly deg 2) R-squared score (test): {:.3f}'\n",
    "     .format(linreg_poly.score(X_test, y_test)))\n",
    "\n",
    "# make predictions on the testing set\n",
    "y_pred = linreg_poly.predict(X_test)\n",
    "print('(poly deg 2) RMSE: {:.3f}'.format(np.sqrt(metrics.mean_squared_error(y_test, y_pred))))"
   ]
  },
  {
   "cell_type": "markdown",
   "metadata": {},
   "source": [
    "### K cross validation "
   ]
  },
  {
   "cell_type": "code",
   "execution_count": 67,
   "metadata": {},
   "outputs": [
    {
     "name": "stdout",
     "output_type": "stream",
     "text": [
      "(poly deg 2) R-squared score (training): 0.757\n",
      "(poly deg 2) R-squared score (test): 0.768\n",
      "(poly deg 2) RMSE: 0.085\n"
     ]
    }
   ],
   "source": [
    "from sklearn.model_selection import cross_val_score\n",
    "\n",
    "score = cross_val_score(linreg_poly, X_train, y_train, cv=10)\n",
    "#print(score)\n",
    "#print(score.sum()/10)\n",
    "\n",
    "#print('linear model original data intercept (b): {:.3f}'.format(linreg_poly.intercept_))\n",
    "#print('linear model original data coeff (w): {}'.format(linreg_poly.coef_))\n",
    "\n",
    "# train data R2\n",
    "print('(poly deg 2) R-squared score (training): {:.3f}'.format(score.sum()/10))\n",
    "# test data R2\n",
    "print('(poly deg 2) R-squared score (test): {:.3f}'.format(linreg_poly.score(X_test, y_test)))\n",
    "\n",
    "# make predictions on the testing set and print RMSE\n",
    "y_pred = linreg_poly.predict(X_test)\n",
    "print('(poly deg 2) RMSE: {:.3f}'.format(np.sqrt(metrics.mean_squared_error(y_test, y_pred))))"
   ]
  },
  {
   "cell_type": "markdown",
   "metadata": {},
   "source": [
    "## Ridge "
   ]
  },
  {
   "cell_type": "code",
   "execution_count": 68,
   "metadata": {},
   "outputs": [],
   "source": [
    "X_train, X_test, y_train, y_test = train_test_split(X, y, test_size=test_size)"
   ]
  },
  {
   "cell_type": "markdown",
   "metadata": {},
   "source": [
    "### Degree"
   ]
  },
  {
   "cell_type": "code",
   "execution_count": 69,
   "metadata": {},
   "outputs": [
    {
     "name": "stdout",
     "output_type": "stream",
     "text": [
      "degree = 1\n",
      "(poly deg  Ridge(alpha=0.01) ) R-squared score (training): 0.754\n",
      "(poly deg  Ridge(alpha=0.01) ) R-squared score (test): 0.724\n",
      "Training RMSE: 0.090\n",
      "Testing RMSE: 0.093\n",
      "\n",
      "degree = 2\n",
      "(poly deg  Ridge(alpha=0.01) ) R-squared score (training): 0.793\n",
      "(poly deg  Ridge(alpha=0.01) ) R-squared score (test): 0.776\n",
      "Training RMSE: 0.083\n",
      "Testing RMSE: 0.084\n",
      "\n",
      "degree = 3\n",
      "(poly deg  Ridge(alpha=0.01) ) R-squared score (training): 0.824\n",
      "(poly deg  Ridge(alpha=0.01) ) R-squared score (test): 0.770\n",
      "Training RMSE: 0.077\n",
      "Testing RMSE: 0.085\n",
      "\n",
      "degree = 4\n",
      "(poly deg  Ridge(alpha=0.01) ) R-squared score (training): 0.848\n",
      "(poly deg  Ridge(alpha=0.01) ) R-squared score (test): 0.760\n",
      "Training RMSE: 0.071\n",
      "Testing RMSE: 0.087\n",
      "\n"
     ]
    }
   ],
   "source": [
    "# change the parameter values for range of lower and upper bound of training data size\n",
    "# and the number of iterations, and see the changes in the learning curve. \n",
    "degree_sizes = [1, 2, 3, 4]#, 5]\n",
    "train_scores_mean = []\n",
    "test_scores_mean = []\n",
    "for degree in degree_sizes:\n",
    "    print(\"degree =\", degree)\n",
    "    poly = PolynomialFeatures(degree=degree)\n",
    "    X_poly = poly.fit_transform(X)\n",
    "\n",
    "    X_train, X_test, y_train, y_test = train_test_split(X_poly, y, random_state=0)\n",
    "    #print(degree)\n",
    "    \n",
    "    linrig_poly = Ridge(alpha = 0.01).fit(X_train, y_train)\n",
    "    \n",
    "    train_score = linrig_poly.score(X_train, y_train)\n",
    "    print('(poly deg ', linrig_poly, ') R-squared score (training): {:.3f}'\n",
    "         .format(train_score))\n",
    "    test_score = linrig_poly.score(X_test, y_test)\n",
    "    print('(poly deg ', linrig_poly, ') R-squared score (test): {:.3f}'\n",
    "         .format(test_score))\n",
    "    \n",
    "    y_pred = linrig_poly.predict(X_train)\n",
    "    train_score_mean = np.sqrt(metrics.mean_squared_error(y_train, y_pred))\n",
    "    print('Training RMSE: {:.3f}'.format(train_score_mean))\n",
    "    train_scores_mean.append(train_score_mean)\n",
    "\n",
    "    # make predictions on the testing set\n",
    "    y_pred = linrig_poly.predict(X_test)\n",
    "    test_score_mean = np.sqrt(metrics.mean_squared_error(y_test, y_pred))\n",
    "    print('Testing RMSE: {:.3f}\\n'.format(test_score_mean))\n",
    "    test_scores_mean.append(test_score_mean)"
   ]
  },
  {
   "cell_type": "code",
   "execution_count": 70,
   "metadata": {},
   "outputs": [
    {
     "data": {
      "image/png": "[encoded data removed]",
      "text/plain": [
       "<Figure size 360x216 with 1 Axes>"
      ]
     },
     "metadata": {
      "needs_background": "light"
     },
     "output_type": "display_data"
    }
   ],
   "source": [
    "# Plot learning curve\n",
    "fig, ax = plt.subplots(1, 1, figsize=(5, 3))\n",
    "\n",
    "ax.set_title('A learning curve for a Polynomial Ridge regression')\n",
    "ax.set_xlabel(\"Degree\")\n",
    "ax.set_ylabel(\"Score (RMSE)\")\n",
    "ax.grid()\n",
    "\n",
    "ax.plot(degree_sizes, train_scores_mean, 'o-', color=\"r\", label=\"Training score\")\n",
    "ax.plot(degree_sizes, test_scores_mean, 'o-', color=\"g\", label=\"Cross-validation score\")\n",
    "ax.legend(loc=\"best\")\n",
    "\n",
    "plt.show()\n"
   ]
  },
  {
   "cell_type": "code",
   "execution_count": 71,
   "metadata": {},
   "outputs": [],
   "source": [
    "poly = PolynomialFeatures(degree=2)\n",
    "X_poly = poly.fit_transform(X)\n",
    "\n",
    "X_train, X_test, y_train, y_test = train_test_split(X_poly, y, random_state=0)"
   ]
  },
  {
   "cell_type": "markdown",
   "metadata": {},
   "source": [
    "### alpha "
   ]
  },
  {
   "cell_type": "code",
   "execution_count": 72,
   "metadata": {},
   "outputs": [],
   "source": [
    "X_train, X_test, y_train, y_test = train_test_split(X_poly, y, random_state=0)"
   ]
  },
  {
   "cell_type": "code",
   "execution_count": 73,
   "metadata": {},
   "outputs": [
    {
     "name": "stdout",
     "output_type": "stream",
     "text": [
      "Alpha = 0.00\n",
      "num abs(coeff) > 1.0: 57, r-squared training: 0.80, r-squared test: 0.77\n",
      "Training RMSE: 0.082\n",
      "Testing RMSE: 0.084\n",
      "\n",
      "Alpha = 0.00\n",
      "num abs(coeff) > 1.0: 51, r-squared training: 0.80, r-squared test: 0.78\n",
      "Training RMSE: 0.082\n",
      "Testing RMSE: 0.084\n",
      "\n",
      "Alpha = 0.00\n",
      "num abs(coeff) > 1.0: 39, r-squared training: 0.80, r-squared test: 0.78\n",
      "Training RMSE: 0.082\n",
      "Testing RMSE: 0.083\n",
      "\n",
      "Alpha = 0.01\n",
      "num abs(coeff) > 1.0: 11, r-squared training: 0.79, r-squared test: 0.78\n",
      "Training RMSE: 0.083\n",
      "Testing RMSE: 0.084\n",
      "\n",
      "Alpha = 0.02\n",
      "num abs(coeff) > 1.0: 7, r-squared training: 0.79, r-squared test: 0.77\n",
      "Training RMSE: 0.084\n",
      "Testing RMSE: 0.084\n",
      "\n",
      "Alpha = 0.05\n",
      "num abs(coeff) > 1.0: 6, r-squared training: 0.79, r-squared test: 0.77\n",
      "Training RMSE: 0.084\n",
      "Testing RMSE: 0.085\n",
      "\n",
      "Alpha = 0.07\n",
      "num abs(coeff) > 1.0: 4, r-squared training: 0.78, r-squared test: 0.76\n",
      "Training RMSE: 0.085\n",
      "Testing RMSE: 0.086\n",
      "\n",
      "Alpha = 0.10\n",
      "num abs(coeff) > 1.0: 4, r-squared training: 0.78, r-squared test: 0.76\n",
      "Training RMSE: 0.085\n",
      "Testing RMSE: 0.086\n",
      "\n",
      "Alpha = 0.20\n",
      "num abs(coeff) > 1.0: 2, r-squared training: 0.77, r-squared test: 0.75\n",
      "Training RMSE: 0.087\n",
      "Testing RMSE: 0.088\n",
      "\n",
      "Alpha = 0.30\n",
      "num abs(coeff) > 1.0: 0, r-squared training: 0.77, r-squared test: 0.75\n",
      "Training RMSE: 0.088\n",
      "Testing RMSE: 0.089\n",
      "\n",
      "Alpha = 0.40\n",
      "num abs(coeff) > 1.0: 0, r-squared training: 0.77, r-squared test: 0.74\n",
      "Training RMSE: 0.088\n",
      "Testing RMSE: 0.090\n",
      "\n",
      "Alpha = 0.50\n",
      "num abs(coeff) > 1.0: 0, r-squared training: 0.76, r-squared test: 0.74\n",
      "Training RMSE: 0.089\n",
      "Testing RMSE: 0.090\n",
      "\n",
      "Alpha = 0.60\n",
      "num abs(coeff) > 1.0: 0, r-squared training: 0.76, r-squared test: 0.74\n",
      "Training RMSE: 0.089\n",
      "Testing RMSE: 0.090\n",
      "\n",
      "Alpha = 0.70\n",
      "num abs(coeff) > 1.0: 0, r-squared training: 0.76, r-squared test: 0.74\n",
      "Training RMSE: 0.089\n",
      "Testing RMSE: 0.091\n",
      "\n",
      "Alpha = 0.80\n",
      "num abs(coeff) > 1.0: 0, r-squared training: 0.76, r-squared test: 0.73\n",
      "Training RMSE: 0.090\n",
      "Testing RMSE: 0.091\n",
      "\n",
      "Alpha = 0.90\n",
      "num abs(coeff) > 1.0: 0, r-squared training: 0.76, r-squared test: 0.73\n",
      "Training RMSE: 0.090\n",
      "Testing RMSE: 0.091\n",
      "\n",
      "Alpha = 1.00\n",
      "num abs(coeff) > 1.0: 0, r-squared training: 0.76, r-squared test: 0.73\n",
      "Training RMSE: 0.090\n",
      "Testing RMSE: 0.092\n",
      "\n",
      "Alpha = 2.00\n",
      "num abs(coeff) > 1.0: 0, r-squared training: 0.75, r-squared test: 0.72\n",
      "Training RMSE: 0.091\n",
      "Testing RMSE: 0.093\n",
      "\n"
     ]
    }
   ],
   "source": [
    "train_scores_mean = []\n",
    "test_scores_mean = []\n",
    "\n",
    "alpha_sizes = [0, 0.0001, 0.001, 0.01, 0.02, 0.05, 0.075, 0.1,0.2,0.3,0.4, 0.5, 0.6, 0.7,0.8,0.9, 1,2,]\n",
    "\n",
    "for this_alpha in alpha_sizes:\n",
    "    linrig_poly = Ridge(alpha = this_alpha).fit(X_train, y_train)\n",
    "    r2_train = linrig_poly.score(X_train, y_train)\n",
    "    r2_test = linrig_poly.score(X_test, y_test)\n",
    "    num_coeff_bigger = np.sum(abs(linrig_poly.coef_) > 1.0)\n",
    "    print('Alpha = {:.2f}\\nnum abs(coeff) > 1.0: {}, \\\n",
    "r-squared training: {:.2f}, r-squared test: {:.2f}'\n",
    "         .format(this_alpha, num_coeff_bigger, r2_train, r2_test))\n",
    "    \n",
    "    y_pred = linrig_poly.predict(X_train)\n",
    "    train_score_mean = np.sqrt(metrics.mean_squared_error(y_train, y_pred))\n",
    "    print('Training RMSE: {:.3f}'.format(train_score_mean))\n",
    "    train_scores_mean.append(train_score_mean)\n",
    "\n",
    "    # make predictions on the testing set\n",
    "    y_pred = linrig_poly.predict(X_test)\n",
    "    test_score_mean = np.sqrt(metrics.mean_squared_error(y_test, y_pred))\n",
    "    print('Testing RMSE: {:.3f}\\n'.format(test_score_mean))\n",
    "    test_scores_mean.append(test_score_mean)"
   ]
  },
  {
   "cell_type": "code",
   "execution_count": 74,
   "metadata": {},
   "outputs": [
    {
     "data": {
      "image/png": "[encoded data removed]",
      "text/plain": [
       "<Figure size 360x216 with 1 Axes>"
      ]
     },
     "metadata": {
      "needs_background": "light"
     },
     "output_type": "display_data"
    }
   ],
   "source": [
    "# Plot learning curve\n",
    "fig, ax = plt.subplots(1, 1, figsize=(5, 3))\n",
    "\n",
    "ax.set_title('A learning curve for a Polynomial Ridge regression')\n",
    "ax.set_xlabel(\"Alpha number\")\n",
    "ax.set_ylabel(\"Score (RMSE)\")\n",
    "ax.grid()\n",
    "\n",
    "ax.plot(alpha_sizes, train_scores_mean, 'o-', color=\"r\", label=\"Training score\")\n",
    "ax.plot(alpha_sizes, test_scores_mean, 'o-', color=\"g\", label=\"Cross-validation score\")\n",
    "ax.legend(loc=\"best\")\n",
    "\n",
    "plt.show()\n"
   ]
  },
  {
   "cell_type": "markdown",
   "metadata": {},
   "source": [
    "### Learning Curve "
   ]
  },
  {
   "cell_type": "code",
   "execution_count": 75,
   "metadata": {},
   "outputs": [
    {
     "name": "stdout",
     "output_type": "stream",
     "text": [
      "training RMSE:  [0.08829321 0.09005763 0.09017083 0.09017668 0.09000425 0.08995185\n",
      " 0.09001061 0.09058182 0.09042759 0.09093699]\n",
      "testing RMSE:  [0.09448705 0.09518036 0.09535508 0.09479349 0.09423852 0.09387219\n",
      " 0.09382304 0.09368041 0.09365472 0.09372435]\n"
     ]
    },
    {
     "data": {
      "image/png": "[encoded data removed]",
      "text/plain": [
       "<Figure size 360x216 with 1 Axes>"
      ]
     },
     "metadata": {
      "needs_background": "light"
     },
     "output_type": "display_data"
    }
   ],
   "source": [
    "from sklearn.model_selection import learning_curve\n",
    "    \n",
    "# change the parameter values for range of lower and upper bound of training data size\n",
    "# and the number of iterations, and see the changes in the learning curve. \n",
    "linrig_poly = Ridge(alpha = 0.01)\n",
    "\n",
    "train_sizes = np.linspace(0.1, 0.90, 10)\n",
    "\n",
    "train_sizes, train_mse, test_mse = \\\n",
    "            learning_curve(linrig_poly, X, y, scoring='neg_mean_squared_error', \n",
    "                           train_sizes = train_sizes, cv=10, shuffle=True, random_state=1)\n",
    "    \n",
    "train_scores = np.sqrt(np.abs(train_mse))\n",
    "test_scores = np.sqrt(np.abs(test_mse))\n",
    "#print(train_scores)\n",
    "#print(test_scores)\n",
    "\n",
    "train_scores_mean = np.mean(train_scores, axis=1)\n",
    "\n",
    "test_scores_mean = np.mean(test_scores, axis=1)\n",
    "print(\"training RMSE: \",train_scores_mean)\n",
    "print(\"testing RMSE: \", test_scores_mean)\n",
    "\n",
    "# Plot learning curve\n",
    "fig, ax = plt.subplots(1, 1, figsize=(5, 3))\n",
    "    \n",
    "ax.set_title('A learning curve for a Polynomial Ridge regression')\n",
    "ax.set_xlabel(\"Training examples\")\n",
    "ax.set_ylabel(\"Score (RMSE)\")\n",
    "ax.grid()\n",
    "\n",
    "ax.plot(train_sizes, train_scores_mean, 'o-', color=\"r\", label=\"Training score\")\n",
    "ax.plot(train_sizes, test_scores_mean, 'o-', color=\"g\", label=\"Cross-validation score\")\n",
    "ax.legend(loc=\"best\")\n",
    "\n",
    "plt.show()"
   ]
  },
  {
   "cell_type": "markdown",
   "metadata": {},
   "source": [
    "### R-Squared"
   ]
  },
  {
   "cell_type": "code",
   "execution_count": 76,
   "metadata": {},
   "outputs": [
    {
     "name": "stdout",
     "output_type": "stream",
     "text": [
      "Airline dataset\n",
      "R-squared score (training): 0.793\n",
      "R-squared score (test): 0.776\n",
      "RMSE: 0.084\n",
      "Number of non-zero features: 77\n"
     ]
    }
   ],
   "source": [
    "X_train, X_test, y_train, y_test = train_test_split(X_poly, y, random_state=0)\n",
    "\n",
    "linridge_poly = Ridge(alpha = 0.01).fit(X_train, y_train)\n",
    "\n",
    "\n",
    "print('Airline dataset')\n",
    "\n",
    "print('R-squared score (training): {:.3f}'\n",
    "     .format(linridge_poly.score(X_train, y_train)))\n",
    "print('R-squared score (test): {:.3f}'\n",
    "     .format(linridge_poly.score(X_test, y_test)))\n",
    "\n",
    "# make predictions on the testing set\n",
    "y_pred = linridge_poly.predict(X_test)\n",
    "print('RMSE: {:.3f}'.format(np.sqrt(metrics.mean_squared_error(y_test, y_pred))))\n",
    "\n",
    "#print('ridge regression linear model intercept: {}'.format(linridge.intercept_))\n",
    "#print('ridge regression linear model coeff:\\n{}'.format(linridge.coef_))\n",
    "\n",
    "print('Number of non-zero features: {}'.format(np.sum(linridge_poly.coef_ != 0)))"
   ]
  },
  {
   "cell_type": "code",
   "execution_count": 77,
   "metadata": {},
   "outputs": [
    {
     "name": "stdout",
     "output_type": "stream",
     "text": [
      "R-squared score (training): 0.774\n",
      "R-squared score (test): 0.776\n",
      "RMSE: 0.084\n"
     ]
    }
   ],
   "source": [
    "from sklearn.model_selection import cross_val_score\n",
    "\n",
    "score = cross_val_score(linridge_poly, X_train, y_train, cv=10)\n",
    "\n",
    "# train data R2\n",
    "print('R-squared score (training): {:.3f}'.format(score.sum()/10))\n",
    "# test data R2\n",
    "print('R-squared score (test): {:.3f}'.format(linridge_poly.score(X_test, y_test)))\n",
    "\n",
    "# make predictions on the testing set and print RMSE\n",
    "y_pred = linridge_poly.predict(X_test)\n",
    "print('RMSE: {:.3f}'.format(np.sqrt(metrics.mean_squared_error(y_test, y_pred))))"
   ]
  },
  {
   "cell_type": "code",
   "execution_count": 78,
   "metadata": {
    "scrolled": true
   },
   "outputs": [
    {
     "name": "stdout",
     "output_type": "stream",
     "text": [
      "Ridge regression: effect of alpha regularization parameter\n",
      "\n",
      "Alpha = 0.00\n",
      "num abs(coeff) > 1.0: 57, r-squared training: 0.80, r-squared test: 0.77\n",
      "\n",
      "Alpha = 0.01\n",
      "num abs(coeff) > 1.0: 11, r-squared training: 0.79, r-squared test: 0.78\n",
      "\n",
      "Alpha = 0.05\n",
      "num abs(coeff) > 1.0: 6, r-squared training: 0.79, r-squared test: 0.77\n",
      "\n",
      "Alpha = 0.07\n",
      "num abs(coeff) > 1.0: 4, r-squared training: 0.78, r-squared test: 0.76\n",
      "\n",
      "Alpha = 0.10\n",
      "num abs(coeff) > 1.0: 4, r-squared training: 0.78, r-squared test: 0.76\n",
      "\n",
      "Alpha = 0.50\n",
      "num abs(coeff) > 1.0: 0, r-squared training: 0.76, r-squared test: 0.74\n",
      "\n",
      "Alpha = 1.00\n",
      "num abs(coeff) > 1.0: 0, r-squared training: 0.76, r-squared test: 0.73\n",
      "\n",
      "Alpha = 10.00\n",
      "num abs(coeff) > 1.0: 0, r-squared training: 0.73, r-squared test: 0.70\n",
      "\n",
      "Alpha = 20.00\n",
      "num abs(coeff) > 1.0: 0, r-squared training: 0.71, r-squared test: 0.68\n",
      "\n",
      "Alpha = 50.00\n",
      "num abs(coeff) > 1.0: 0, r-squared training: 0.67, r-squared test: 0.64\n",
      "\n",
      "Alpha = 100.00\n",
      "num abs(coeff) > 1.0: 0, r-squared training: 0.64, r-squared test: 0.60\n",
      "\n",
      "Alpha = 1000.00\n",
      "num abs(coeff) > 1.0: 0, r-squared training: 0.51, r-squared test: 0.48\n",
      "\n"
     ]
    }
   ],
   "source": [
    "print('Ridge regression: effect of alpha regularization parameter\\n')\n",
    "for this_alpha in [0, 0.01, 0.05, 0.075, 0.1, 0.5, 1, 10, 20, 50, 100, 1000]:\n",
    "    linridge = Ridge(alpha = this_alpha).fit(X_train, y_train)\n",
    "    r2_train = linridge.score(X_train, y_train)\n",
    "    r2_test = linridge.score(X_test, y_test)\n",
    "    num_coeff_bigger = np.sum(abs(linridge.coef_) > 1.0)\n",
    "    print('Alpha = {:.2f}\\nnum abs(coeff) > 1.0: {}, \\\n",
    "r-squared training: {:.2f}, r-squared test: {:.2f}\\n'\n",
    "         .format(this_alpha, num_coeff_bigger, r2_train, r2_test))"
   ]
  },
  {
   "cell_type": "markdown",
   "metadata": {},
   "source": [
    "### lasso Regression"
   ]
  },
  {
   "cell_type": "code",
   "execution_count": 79,
   "metadata": {},
   "outputs": [],
   "source": [
    "X_train, X_test, y_train, y_test = train_test_split(X, y, test_size=test_size)"
   ]
  },
  {
   "cell_type": "markdown",
   "metadata": {},
   "source": [
    "### Degree"
   ]
  },
  {
   "cell_type": "code",
   "execution_count": 80,
   "metadata": {},
   "outputs": [
    {
     "name": "stdout",
     "output_type": "stream",
     "text": [
      "degree = 1\n",
      "(poly deg  Lasso(alpha=1e-06) ) R-squared score (training): 0.755\n",
      "(poly deg  Lasso(alpha=1e-06) ) R-squared score (test): 0.724\n",
      "Training RMSE: 0.090\n",
      "Testing RMSE: 0.093\n",
      "\n",
      "degree = 2\n",
      "(poly deg  Lasso(alpha=1e-06) ) R-squared score (training): 0.793\n",
      "(poly deg  Lasso(alpha=1e-06) ) R-squared score (test): 0.777\n",
      "Training RMSE: 0.083\n",
      "Testing RMSE: 0.084\n",
      "\n",
      "degree = 3\n",
      "(poly deg  Lasso(alpha=1e-06) ) R-squared score (training): 0.819\n",
      "(poly deg  Lasso(alpha=1e-06) ) R-squared score (test): 0.773\n",
      "Training RMSE: 0.078\n",
      "Testing RMSE: 0.084\n",
      "\n",
      "degree = 4\n",
      "(poly deg  Lasso(alpha=1e-06) ) R-squared score (training): 0.830\n",
      "(poly deg  Lasso(alpha=1e-06) ) R-squared score (test): 0.763\n",
      "Training RMSE: 0.075\n",
      "Testing RMSE: 0.086\n",
      "\n",
      "degree = 5\n",
      "(poly deg  Lasso(alpha=1e-06) ) R-squared score (training): 0.838\n",
      "(poly deg  Lasso(alpha=1e-06) ) R-squared score (test): 0.732\n",
      "Training RMSE: 0.073\n",
      "Testing RMSE: 0.092\n",
      "\n",
      "degree = 6\n",
      "(poly deg  Lasso(alpha=1e-06) ) R-squared score (training): 0.845\n",
      "(poly deg  Lasso(alpha=1e-06) ) R-squared score (test): 0.411\n",
      "Training RMSE: 0.072\n",
      "Testing RMSE: 0.136\n",
      "\n"
     ]
    }
   ],
   "source": [
    "# change the parameter values for range of lower and upper bound of training data size\n",
    "# and the number of iterations, and see the changes in the learning curve. \n",
    "degree_sizes = [1, 2, 3, 4, 5, 6]#, 7, 8, 9]\n",
    "\n",
    "train_scores_mean = []\n",
    "test_scores_mean = []\n",
    "\n",
    "for degree in degree_sizes:\n",
    "    print(\"degree =\", degree)\n",
    "    poly = PolynomialFeatures(degree=degree)\n",
    "    X_poly = poly.fit_transform(X)\n",
    "\n",
    "    X_train, X_test, y_train, y_test = train_test_split(X_poly, y, random_state=0)\n",
    "    \n",
    "    linlasso_poly = Lasso(alpha = 0.000001).fit(X_train, y_train)\n",
    "\n",
    "    train_score = linlasso_poly.score(X_train, y_train)\n",
    "    print('(poly deg ', linlasso_poly, ') R-squared score (training): {:.3f}'\n",
    "         .format(train_score))\n",
    "    test_score = linlasso_poly.score(X_test, y_test)\n",
    "    print('(poly deg ', linlasso_poly, ') R-squared score (test): {:.3f}'\n",
    "         .format(test_score))\n",
    "    \n",
    "    y_pred = linlasso_poly.predict(X_train)\n",
    "    train_score_mean = np.sqrt(metrics.mean_squared_error(y_train, y_pred))\n",
    "    print('Training RMSE: {:.3f}'.format(train_score_mean))\n",
    "    train_scores_mean.append(train_score_mean)\n",
    "\n",
    "    # make predictions on the testing set\n",
    "    y_pred = linlasso_poly.predict(X_test)\n",
    "    test_score_mean = np.sqrt(metrics.mean_squared_error(y_test, y_pred))\n",
    "    print('Testing RMSE: {:.3f}\\n'.format(test_score_mean))\n",
    "    test_scores_mean.append(test_score_mean)"
   ]
  },
  {
   "cell_type": "markdown",
   "metadata": {},
   "source": [
    "### Learing Curve"
   ]
  },
  {
   "cell_type": "code",
   "execution_count": 81,
   "metadata": {},
   "outputs": [
    {
     "data": {
      "image/png": "[encoded data removed]",
      "text/plain": [
       "<Figure size 360x216 with 1 Axes>"
      ]
     },
     "metadata": {
      "needs_background": "light"
     },
     "output_type": "display_data"
    }
   ],
   "source": [
    "# Plot learning curve\n",
    "fig, ax = plt.subplots(1, 1, figsize=(5, 3))\n",
    "\n",
    "ax.set_title('A learning curve for a polynomial Lasso regression')\n",
    "ax.set_xlabel(\"Degree\")\n",
    "ax.set_ylabel(\"Score (RMSE)\")\n",
    "ax.grid()\n",
    "\n",
    "ax.plot(degree_sizes, train_scores_mean, 'o-', color=\"r\", label=\"Training score\")\n",
    "ax.plot(degree_sizes, test_scores_mean, 'o-', color=\"g\", label=\"Cross-validation score\")\n",
    "ax.legend(loc=\"best\")\n",
    "\n",
    "plt.show()\n"
   ]
  },
  {
   "cell_type": "markdown",
   "metadata": {},
   "source": [
    "### Alpha"
   ]
  },
  {
   "cell_type": "code",
   "execution_count": 82,
   "metadata": {},
   "outputs": [],
   "source": [
    "poly = PolynomialFeatures(degree=2)\n",
    "X_poly = poly.fit_transform(X)\n",
    "\n",
    "X_train, X_test, y_train, y_test = train_test_split(X_poly, y, random_state=0)"
   ]
  },
  {
   "cell_type": "code",
   "execution_count": 83,
   "metadata": {},
   "outputs": [
    {
     "name": "stdout",
     "output_type": "stream",
     "text": [
      "Lasso regression: effect of alpha regularization\n",
      "parameter on number of features kept in final model\n",
      "\n",
      "Alpha = 0.00000000\n",
      "Features kept: 77, r-squared training: 0.79768431, r-squared test: 0.77301654\n",
      "Training RMSE: 0.08206\n",
      "Testing RMSE: 0.08432\n",
      "\n",
      "Alpha = 0.00000010\n",
      "Features kept: 76, r-squared training: 0.79771821, r-squared test: 0.77456077\n",
      "Training RMSE: 0.08206\n",
      "Testing RMSE: 0.08403\n",
      "\n",
      "Alpha = 0.00000050\n",
      "Features kept: 72, r-squared training: 0.79723327, r-squared test: 0.77747560\n",
      "Training RMSE: 0.08216\n",
      "Testing RMSE: 0.08348\n",
      "\n",
      "Alpha = 0.00000100\n",
      "Features kept: 64, r-squared training: 0.79635152, r-squared test: 0.77788379\n",
      "Training RMSE: 0.08233\n",
      "Testing RMSE: 0.08341\n",
      "\n",
      "Alpha = 0.00000500\n",
      "Features kept: 45, r-squared training: 0.79129953, r-squared test: 0.77489583\n",
      "Training RMSE: 0.08335\n",
      "Testing RMSE: 0.08397\n",
      "\n",
      "Alpha = 0.00001000\n",
      "Features kept: 41, r-squared training: 0.78780492, r-squared test: 0.77172622\n",
      "Training RMSE: 0.08404\n",
      "Testing RMSE: 0.08455\n",
      "\n",
      "Alpha = 0.00005000\n",
      "Features kept: 22, r-squared training: 0.76873356, r-squared test: 0.74893471\n",
      "Training RMSE: 0.08774\n",
      "Testing RMSE: 0.08868\n",
      "\n",
      "Alpha = 0.00010000\n",
      "Features kept: 19, r-squared training: 0.75590054, r-squared test: 0.72806459\n",
      "Training RMSE: 0.09014\n",
      "Testing RMSE: 0.09229\n",
      "\n"
     ]
    }
   ],
   "source": [
    "print('Lasso regression: effect of alpha regularization\\n\\\n",
    "parameter on number of features kept in final model\\n')\n",
    "\n",
    "train_scores_mean = []\n",
    "test_scores_mean = []\n",
    "\n",
    "#alpha_sizes = [0.0, 0.001, 0.01, 0.025, 0.05, 0.075, 0.25, 0.5, 1, 5]\n",
    "alpha_sizes =  [0.0, 0.0000001,0.0000005,0.000001,0.000005, 0.00001,0.00005, 0.0001]\n",
    "\n",
    "for alpha in alpha_sizes:\n",
    "    linlasso_poly = Lasso(alpha, max_iter = 10000).fit(X_train, y_train)\n",
    "    r2_train = linlasso_poly.score(X_train, y_train)\n",
    "    r2_test = linlasso_poly.score(X_test, y_test)\n",
    "    \n",
    "    print('Alpha = {:.8f}\\nFeatures kept: {}, r-squared training: {:.8f}, \\\n",
    "r-squared test: {:.8f}'\n",
    "         .format(alpha, np.sum(linlasso_poly.coef_ != 0), r2_train, r2_test))\n",
    "    \n",
    "    y_pred = linlasso_poly.predict(X_train)\n",
    "    train_score_mean = np.sqrt(metrics.mean_squared_error(y_train, y_pred))\n",
    "    print('Training RMSE: {:.5f}'.format(train_score_mean))\n",
    "    train_scores_mean.append(train_score_mean)\n",
    "\n",
    "    # make predictions on the testing set\n",
    "    y_pred = linlasso_poly.predict(X_test)\n",
    "    test_score_mean = np.sqrt(metrics.mean_squared_error(y_test, y_pred))\n",
    "    print('Testing RMSE: {:.5f}\\n'.format(test_score_mean))\n",
    "    test_scores_mean.append(test_score_mean)"
   ]
  },
  {
   "cell_type": "markdown",
   "metadata": {},
   "source": [
    "### Learning Curve "
   ]
  },
  {
   "cell_type": "code",
   "execution_count": 84,
   "metadata": {},
   "outputs": [
    {
     "data": {
      "image/png": "[encoded data removed]",
      "text/plain": [
       "<Figure size 360x216 with 1 Axes>"
      ]
     },
     "metadata": {
      "needs_background": "light"
     },
     "output_type": "display_data"
    }
   ],
   "source": [
    "# Plot learning curve\n",
    "fig, ax = plt.subplots(1, 1, figsize=(5, 3))\n",
    "\n",
    "ax.set_title('A learning curve for a Polynomial Lasso regression')\n",
    "ax.set_xlabel(\"Alpha number\")\n",
    "ax.set_ylabel(\"Score (RMSE)\")\n",
    "ax.grid()\n",
    "\n",
    "ax.plot(alpha_sizes, train_scores_mean, 'o-', color=\"r\", label=\"Training score\")\n",
    "ax.plot(alpha_sizes, test_scores_mean, 'o-', color=\"g\", label=\"Cross-validation score\")\n",
    "ax.legend(loc=\"best\")\n",
    "\n",
    "plt.show()"
   ]
  },
  {
   "cell_type": "markdown",
   "metadata": {},
   "source": [
    "### Split Train size/ Testing Size "
   ]
  },
  {
   "cell_type": "code",
   "execution_count": 85,
   "metadata": {},
   "outputs": [
    {
     "name": "stdout",
     "output_type": "stream",
     "text": [
      "training RMSE:  [0.08978535 0.09013308 0.09035372 0.09008659 0.09006698 0.09014008\n",
      " 0.09043721 0.09056646 0.09050067 0.09093338]\n",
      "testing RMSE:  [0.09523997 0.09540034 0.09491063 0.09438289 0.0938961  0.09391817\n",
      " 0.09354175 0.09375116 0.09362185 0.09372925]\n"
     ]
    },
    {
     "data": {
      "image/png": "[encoded data removed]",
      "text/plain": [
       "<Figure size 360x216 with 1 Axes>"
      ]
     },
     "metadata": {
      "needs_background": "light"
     },
     "output_type": "display_data"
    }
   ],
   "source": [
    "from sklearn.model_selection import learning_curve\n",
    "    \n",
    "# change the parameter values for range of lower and upper bound of training data size\n",
    "# and the number of iterations, and see the changes in the learning curve. \n",
    "\n",
    "linlasso_poly = Lasso(alpha = 0.000001)\n",
    "\n",
    "train_sizes = np.linspace(0.2, 0.90, 10)\n",
    "\n",
    "train_sizes, train_mse, test_mse = \\\n",
    "            learning_curve(linlasso_poly, X, y, scoring='neg_mean_squared_error', \n",
    "                           train_sizes = train_sizes, cv=10, shuffle=True, random_state=1)\n",
    "    \n",
    "train_scores = np.sqrt(np.abs(train_mse))\n",
    "test_scores = np.sqrt(np.abs(test_mse))\n",
    "#print(train_scores)\n",
    "#print(test_scores)\n",
    "\n",
    "train_scores_mean = np.mean(train_scores, axis=1)\n",
    "\n",
    "test_scores_mean = np.mean(test_scores, axis=1)\n",
    "print(\"training RMSE: \",train_scores_mean)\n",
    "print(\"testing RMSE: \", test_scores_mean)\n",
    "\n",
    "# Plot learning curve\n",
    "fig, ax = plt.subplots(1, 1, figsize=(5, 3))\n",
    "    \n",
    "ax.set_title('A learning curve for a Polynomial Lasso regression')\n",
    "ax.set_xlabel(\"Training examples\")\n",
    "ax.set_ylabel(\"Score (RMSE)\")\n",
    "ax.grid()\n",
    "\n",
    "ax.plot(train_sizes, train_scores_mean, 'o-', color=\"r\", label=\"Training score\")\n",
    "ax.plot(train_sizes, test_scores_mean, 'o-', color=\"g\", label=\"Cross-validation score\")\n",
    "ax.legend(loc=\"best\")\n",
    "\n",
    "plt.show()"
   ]
  },
  {
   "cell_type": "code",
   "execution_count": 86,
   "metadata": {},
   "outputs": [
    {
     "name": "stdout",
     "output_type": "stream",
     "text": [
      "Airline dataset\n",
      "R-squared score (training): 0.793\n",
      "R-squared score (test): 0.777\n",
      "RMSE: 0.084\n",
      "Non-zero features: 72\n",
      "\n"
     ]
    }
   ],
   "source": [
    "X_train, X_test, y_train, y_test = train_test_split(X_poly, y,\n",
    "                                                   random_state = 0)\n",
    "\n",
    "linlasso_poly = Lasso(alpha = 0.000001).fit(X_train, y_train)\n",
    "\n",
    "print('Airline dataset')\n",
    "\n",
    "print('R-squared score (training): {:.3f}'\n",
    "     .format(linlasso_poly.score(X_train, y_train)))\n",
    "print('R-squared score (test): {:.3f}'\n",
    "     .format(linlasso_poly.score(X_test, y_test)))\n",
    "\n",
    "# make predictions on the testing set\n",
    "y_pred = linlasso_poly.predict(X_test)\n",
    "print('RMSE: {:.3f}'.format(np.sqrt(metrics.mean_squared_error(y_test, y_pred))))\n",
    "    \n",
    "#print('lasso regression linear model intercept: {}'.format(linlasso.intercept_))\n",
    "#print('lasso regression linear model coeff:\\n{}'.format(linlasso.coef_))\n",
    "\n",
    "print('Non-zero features: {}\\n'.format(np.sum(linlasso_poly.coef_ != 0)))"
   ]
  },
  {
   "cell_type": "code",
   "execution_count": 87,
   "metadata": {},
   "outputs": [
    {
     "name": "stdout",
     "output_type": "stream",
     "text": [
      "R-squared score (training): 0.771\n",
      "R-squared score (test): 0.777\n",
      "RMSE: 0.084\n"
     ]
    }
   ],
   "source": [
    "from sklearn.model_selection import cross_val_score\n",
    "\n",
    "score = cross_val_score(linlasso_poly, X_train, y_train, cv=10)\n",
    "#print(score)\n",
    "#print(score.sum()/10)\n",
    "\n",
    "#print('linear model original data intercept (b): {:.3f}'.format(linreg_poly.intercept_))\n",
    "#print('linear model original data coeff (w): {}'.format(linreg_poly.coef_))\n",
    "\n",
    "# train data R2\n",
    "print('R-squared score (training): {:.3f}'.format(score.sum()/10))\n",
    "# test data R2\n",
    "print('R-squared score (test): {:.3f}'.format(linlasso_poly.score(X_test, y_test)))\n",
    "\n",
    "# make predictions on the testing set and print RMSE\n",
    "y_pred = linlasso_poly.predict(X_test)\n",
    "print('RMSE: {:.3f}'.format(np.sqrt(metrics.mean_squared_error(y_test, y_pred))))"
   ]
  },
  {
   "cell_type": "code",
   "execution_count": 88,
   "metadata": {},
   "outputs": [
    {
     "name": "stdout",
     "output_type": "stream",
     "text": [
      "Airline dataset\n",
      "R-squared score (training): 0.787\n",
      "R-squared score (test): 0.772\n",
      "\n",
      "RMSE: 0.085\n",
      "lasso regression linear model intercept: -0.05069931745494011\n",
      "lasso regression linear model coeff:\n",
      "[ 0.00000000e+00 -4.20787543e-01  1.94499416e-02  3.29692084e+00\n",
      "  1.03544713e+00 -1.72286860e-02  5.54217995e-02  1.58154638e+00\n",
      " -3.27015739e+00 -7.37706945e-01 -0.00000000e+00 -1.31800827e-01\n",
      " -0.00000000e+00 -5.03324642e-02  0.00000000e+00  0.00000000e+00\n",
      " -6.17531372e-01  0.00000000e+00 -6.01513015e-03  3.82176622e-02\n",
      "  1.64081819e-01 -0.00000000e+00 -0.00000000e+00 -1.13053922e-03\n",
      "  3.88582049e-02 -2.85238767e-05 -2.16037740e-02 -3.16474498e-02\n",
      "  5.63394935e-02 -5.28697584e-02  3.82636228e-03  3.32863098e-02\n",
      "  1.26799469e-02 -2.18241999e+00  0.00000000e+00 -6.13527931e-01\n",
      "  0.00000000e+00 -0.00000000e+00  0.00000000e+00  4.98547784e-01\n",
      " -0.00000000e+00  0.00000000e+00 -4.33905282e-01  0.00000000e+00\n",
      " -0.00000000e+00 -0.00000000e+00  0.00000000e+00 -0.00000000e+00\n",
      "  0.00000000e+00 -0.00000000e+00  2.57113108e-01  4.34579766e-01\n",
      " -1.17600500e-01 -0.00000000e+00  5.67685852e-01  0.00000000e+00\n",
      "  0.00000000e+00  0.00000000e+00 -1.10537604e-02  2.73820271e-01\n",
      " -0.00000000e+00  2.53919816e-01  0.00000000e+00 -1.93299645e-02\n",
      "  0.00000000e+00  0.00000000e+00 -0.00000000e+00 -8.96902027e-01\n",
      "  1.91827973e+00  7.61687909e-02 -0.00000000e+00  0.00000000e+00\n",
      "  0.00000000e+00  0.00000000e+00  0.00000000e+00 -4.11337779e-02\n",
      "  0.00000000e+00  2.84625845e-01]\n",
      "Non-zero features: 42\n",
      "Features with non-zero weight (sorted by absolute magnitude):\n",
      "\t[0.06319328 6.         0.08778713 0.07484731 0.03157895 0.06535142\n",
      " 0.04072539 0.05364714 0.03601723 0.02566175 0.04882436], 3.297\n",
      "\t[0.07058824 6.         0.09847623 0.20955025 0.11578947 0.14796547\n",
      " 0.06599311 0.07576065 0.1480353  0.0990099  0.10210625], -3.270\n",
      "\t[0.07764706 7.         0.04184671 0.0568573  0.04210526 0.09001233\n",
      " 0.0547537  0.037848   0.03950384 0.02242877 0.07829362], -2.182\n",
      "\t[0.08941176 8.         0.08210143 0.08750694 0.10526316 0.15782984\n",
      " 0.07211565 0.07528758 0.06830297 0.059608   0.14394453], 1.918\n",
      "\t[0.0887395  6.         0.06481692 0.05652415 0.07368421 0.08631319\n",
      " 0.07349846 0.039943   0.02381992 0.02808648 0.04539649], 1.582\n",
      "\t[0.05747899 6.         0.04139186 0.04730705 0.05263158 0.0702836\n",
      " 0.03612534 0.02524278 0.03134454 0.02424732 0.05337313], 1.035\n",
      "\t[0.05613445 8.         0.07050262 0.04752915 0.10526316 0.05548705\n",
      " 0.04580035 0.06083124 0.02670849 0.06748838 0.04282884], -0.897\n",
      "\t[0.04537815 6.         0.03866272 0.04064409 0.06315789 0.04069051\n",
      " 0.03040786 0.02785197 0.02124285 0.0284906  0.02651061], -0.738\n",
      "\t[0.08605042 6.         0.07914487 0.05263742 0.04210526 0.05795314\n",
      " 0.05443244 0.06168922 0.02647027 0.01131542 0.04095198], -0.618\n",
      "\t[0.37109244 7.         0.30861951 0.22431982 0.2        0.29963009\n",
      " 0.33537108 0.22928879 0.13086377 0.09032128 0.21108128], -0.614\n",
      "\t[0.13243697 7.         0.12531271 0.03997779 0.28421053 0.08138101\n",
      " 0.08897011 0.09381639 0.02238063 0.12750051 0.06191022], 0.568\n",
      "\t[0.09512605 7.         0.07277689 0.06774014 0.11578947 0.10234279\n",
      " 0.07855014 0.06244436 0.05480796 0.06243686 0.10454356], 0.499\n",
      "\t[9.64705882e-02 7.00000000e+00 1.24630430e-01 1.18711827e-01\n",
      " 2.10526316e-02 1.13440197e-01 6.26361859e-02 1.06668430e-01\n",
      " 8.38652931e-02 3.03091534e-03 9.99947865e-02], 0.435\n",
      "\t[0.15058824 7.         0.15328633 0.05652415 0.09473684 0.12083847\n",
      " 0.1139864  0.11488093 0.0406033  0.04243281 0.11391481], -0.434\n",
      "\t[0.08806723 6.         0.09301797 0.06929484 0.04210526 0.08014797\n",
      " 0.06659372 0.06778028 0.03701008 0.02000404 0.05362077], -0.421\n",
      "\t[0.14151261 8.         0.08005458 0.06418656 0.10526316 0.1270037\n",
      " 0.14291368 0.06200655 0.03441635 0.05940594 0.09420781], 0.285\n",
      "\t[1.24033613e-01 8.00000000e+00 1.39185809e-01 1.01832315e-01\n",
      " 1.05263158e-02 1.22071517e-01 1.05014433e-01 1.29801519e-01\n",
      " 6.67520690e-02 8.08244090e-04 9.54329806e-02], 0.274\n",
      "\t[3.76470588e-02 7.00000000e+00 5.59472368e-02 7.21821210e-03\n",
      " 8.42105263e-02 3.08261406e-02 2.23810411e-02 4.16560154e-02\n",
      " 4.03301038e-03 3.63709840e-02 2.47640895e-02], 0.257\n",
      "\t[0.07966387 8.         0.09665681 0.09627984 0.02105263 0.10974106\n",
      " 0.05318931 0.07593401 0.06038188 0.02343908 0.0863224 ], 0.254\n",
      "\t[0.23159664 6.         0.2037753  0.32048862 0.12631579 0.19235512\n",
      " 0.22478816 0.14907077 0.22267015 0.12204486 0.13496429], 0.164\n",
      "\t[0.07294118 6.         0.1464635  0.14925042 0.16842105 0.15043157\n",
      " 0.07340535 0.11255675 0.09034043 0.11658921 0.15555758], -0.132\n",
      "\t[0.16168067 7.         0.14942006 0.0485286  0.09473684 0.08014797\n",
      " 0.13871403 0.12032262 0.02753642 0.03657305 0.0611673 ], -0.118\n",
      "\t[0.10521008 8.         0.11394132 0.11893393 0.06315789 0.17632552\n",
      " 0.09736009 0.09688101 0.0768171  0.03697717 0.15040926], 0.076\n",
      "\t[0.03831933 6.         0.0548101  0.05141588 0.04210526 0.05055487\n",
      " 0.02326101 0.03948169 0.02814445 0.02263083 0.03334028], 0.056\n",
      "\t[0.29378151 6.         0.29656584 0.23164908 0.21052632 0.31689273\n",
      " 0.30217897 0.22211351 0.14724569 0.13800768 0.26831239], 0.055\n",
      "\t[0.38554622 7.         0.38776438 0.43986674 0.14736842 0.4512947\n",
      " 0.37827079 0.32793277 0.30411164 0.07193372 0.37984203], -0.053\n",
      "\t[0.13411765 6.         0.13463725 0.06252082 0.18947368 0.07768187\n",
      " 0.08509638 0.07616613 0.02894905 0.16326531 0.04929357], -0.050\n",
      "\t[0.0312605  8.         0.08187401 0.03920044 0.16842105 0.08754624\n",
      " 0.02252072 0.06790662 0.03279216 0.11679127 0.09182264], -0.041\n",
      "\t[0.0712605  6.         0.05981351 0.03109384 0.09473684 0.03575832\n",
      " 0.04198715 0.03122218 0.01376987 0.04505961 0.02236588], 0.039\n",
      "\t[0.10621849 6.         0.06595406 0.07751249 0.10526316 0.12946979\n",
      " 0.09987895 0.04663934 0.03490611 0.10689028 0.07931025], 0.038\n",
      "\t[0.09243697 7.         0.12735956 0.05363687 0.05263158 0.12453761\n",
      " 0.05763572 0.11093481 0.04409658 0.01636694 0.13170585], 0.033\n",
      "\t[0.08436975 6.         0.04639527 0.03231538 0.16842105 0.0431566\n",
      " 0.04754167 0.02574522 0.01387482 0.11234593 0.02136229], -0.032\n",
      "\t[0.10218487 6.         0.05139868 0.11315936 0.15789474 0.07151665\n",
      " 0.07755378 0.03748659 0.07200448 0.22994544 0.0435848 ], -0.022\n",
      "\t[0.06184874 6.         0.08892427 0.03642421 0.09473684 0.09494451\n",
      " 0.03547351 0.06372839 0.02560903 0.05617296 0.08022262], 0.019\n",
      "\t[0.14521008 8.         0.06277007 0.05541366 0.04210526 0.13563502\n",
      " 0.11281777 0.05985867 0.03531924 0.0155587  0.10145456], -0.019\n",
      "\t[0.13579832 6.         0.05390039 0.0669628  0.12631579 0.11960543\n",
      " 0.0959959  0.04068932 0.03557412 0.14265508 0.0721417 ], -0.017\n",
      "\t[0.07495798 7.         0.10370707 0.09816768 0.01052632 0.09001233\n",
      " 0.05500512 0.08045308 0.0590492  0.         0.08501903], 0.013\n",
      "\t[0.37243697 8.         0.38207869 0.49017213 0.10526316 0.44389642\n",
      " 0.33069187 0.30262242 0.26941542 0.06142655 0.26995464], -0.011\n",
      "\t[0.04537815 6.         0.02820105 0.05818989 0.03157895 0.08014797\n",
      " 0.03069653 0.02226923 0.03463791 0.01333603 0.04944998], -0.006\n",
      "\t[1.13613445e-01 7.00000000e+00 1.13941324e-01 6.08550805e-02\n",
      " 1.05263158e-02 7.39827374e-02 1.05196015e-01 9.25499875e-02\n",
      " 4.12130016e-02 2.02061022e-03 6.48819144e-02], 0.004\n",
      "\t[0.12739496 6.         0.10984762 0.0669628  0.21052632 0.04932182\n",
      " 0.09542788 0.06563239 0.02746978 0.15518287 0.03354882], -0.001\n",
      "\t[0.11294118 6.         0.10598135 0.04364242 0.30526316 0.0431566\n",
      " 0.07743272 0.0675746  0.01945207 0.22166094 0.03784996], -0.000\n"
     ]
    }
   ],
   "source": [
    "from sklearn.linear_model import Lasso\n",
    "from sklearn.preprocessing import MinMaxScaler\n",
    "\n",
    "X_train, X_test, y_train, y_test = train_test_split(X_poly, y,\n",
    "                                                   random_state = 0)\n",
    "\n",
    "linlasso = Lasso(alpha = 0.00001).fit(X_train, y_train)\n",
    "\n",
    "print('Airline dataset')\n",
    "\n",
    "print('R-squared score (training): {:.3f}'\n",
    "     .format(linlasso.score(X_train, y_train)))\n",
    "print('R-squared score (test): {:.3f}\\n'\n",
    "     .format(linlasso.score(X_test, y_test)))\n",
    "\n",
    "# make predictions on the testing set\n",
    "y_pred = linlasso.predict(X_test)\n",
    "print('RMSE: {:.3f}'.format(np.sqrt(metrics.mean_squared_error(y_test, y_pred))))\n",
    "    \n",
    "print('lasso regression linear model intercept: {}'.format(linlasso.intercept_))\n",
    "print('lasso regression linear model coeff:\\n{}'.format(linlasso.coef_))\n",
    "\n",
    "print('Non-zero features: {}'.format(np.sum(linlasso.coef_ != 0)))\n",
    " \n",
    "print('Features with non-zero weight (sorted by absolute magnitude):')\n",
    "for e in sorted (list(zip(list(X), linlasso.coef_)),\n",
    "                key = lambda e: -abs(e[1])):\n",
    "    if e[1] != 0:\n",
    "        print('\\t{}, {:.3f}'.format(e[0], e[1]))"
   ]
  },
  {
   "cell_type": "code",
   "execution_count": 89,
   "metadata": {},
   "outputs": [
    {
     "name": "stdout",
     "output_type": "stream",
     "text": [
      "Lasso regression: effect of alpha regularization\n",
      "parameter on number of features kept in final model\n",
      "\n",
      "Alpha = 0.00\n",
      "Features kept: 77, r-squared training: 0.80, r-squared test: 0.77\n",
      "\n",
      "Alpha = 0.00\n",
      "Features kept: 13, r-squared training: 0.72, r-squared test: 0.69\n",
      "\n",
      "Alpha = 0.01\n",
      "Features kept: 3, r-squared training: 0.50, r-squared test: 0.47\n",
      "\n",
      "Alpha = 0.03\n",
      "Features kept: 3, r-squared training: 0.48, r-squared test: 0.46\n",
      "\n",
      "Alpha = 0.05\n",
      "Features kept: 3, r-squared training: 0.40, r-squared test: 0.39\n",
      "\n",
      "Alpha = 0.07\n",
      "Features kept: 3, r-squared training: 0.26, r-squared test: 0.27\n",
      "\n",
      "Alpha = 0.25\n",
      "Features kept: 0, r-squared training: 0.00, r-squared test: -0.00\n",
      "\n",
      "Alpha = 0.50\n",
      "Features kept: 0, r-squared training: 0.00, r-squared test: -0.00\n",
      "\n",
      "Alpha = 1.00\n",
      "Features kept: 0, r-squared training: 0.00, r-squared test: -0.00\n",
      "\n",
      "Alpha = 2.00\n",
      "Features kept: 0, r-squared training: 0.00, r-squared test: -0.00\n",
      "\n",
      "Alpha = 3.00\n",
      "Features kept: 0, r-squared training: 0.00, r-squared test: -0.00\n",
      "\n",
      "Alpha = 5.00\n",
      "Features kept: 0, r-squared training: 0.00, r-squared test: -0.00\n",
      "\n",
      "Alpha = 10.00\n",
      "Features kept: 0, r-squared training: 0.00, r-squared test: -0.00\n",
      "\n",
      "Alpha = 20.00\n",
      "Features kept: 0, r-squared training: 0.00, r-squared test: -0.00\n",
      "\n",
      "Alpha = 50.00\n",
      "Features kept: 0, r-squared training: 0.00, r-squared test: -0.00\n",
      "\n"
     ]
    }
   ],
   "source": [
    "print('Lasso regression: effect of alpha regularization\\n\\\n",
    "parameter on number of features kept in final model\\n')\n",
    "\n",
    "for alpha in [0.0,0.001, 0.01, 0.025, 0.05, 0.075, 0.25, 0.5, 1, 2, 3, 5, 10, 20, 50]:\n",
    "    linlasso = Lasso(alpha, max_iter = 10000).fit(X_train, y_train)\n",
    "    r2_train = linlasso.score(X_train, y_train)\n",
    "    r2_test = linlasso.score(X_test, y_test)\n",
    "    \n",
    "    print('Alpha = {:.2f}\\nFeatures kept: {}, r-squared training: {:.2f}, \\\n",
    "r-squared test: {:.2f}\\n'\n",
    "         .format(alpha, np.sum(linlasso.coef_ != 0), r2_train, r2_test))"
   ]
  },
  {
   "cell_type": "code",
   "execution_count": null,
   "metadata": {},
   "outputs": [],
   "source": []
  }
 ],
 "metadata": {
  "kernelspec": {
   "display_name": "Python 3",
   "language": "python",
   "name": "python3"
  },
  "language_info": {
   "codemirror_mode": {
    "name": "ipython",
    "version": 3
   },
   "file_extension": ".py",
   "mimetype": "text/x-python",
   "name": "python",
   "nbconvert_exporter": "python",
   "pygments_lexer": "ipython3",
   "version": "3.7.9"
  }
 },
 "nbformat": 4,
 "nbformat_minor": 4
}
