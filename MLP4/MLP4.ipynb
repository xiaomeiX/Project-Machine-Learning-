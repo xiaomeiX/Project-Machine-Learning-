{
 "cells": [
  {
   "cell_type": "markdown",
   "metadata": {},
   "source": [
    "### MLP 4: Classification\n",
    "Write your name\n",
    "* xiaomei Xie\n",
    "* Lili Hao"
   ]
  },
  {
   "cell_type": "code",
   "execution_count": 10,
   "metadata": {},
   "outputs": [],
   "source": [
    "import pandas as pd\n",
    "from sklearn.model_selection import train_test_split\n",
    "from sklearn.linear_model import LinearRegression\n",
    "from sklearn import metrics\n",
    "import numpy as np\n",
    "\n",
    "import warnings\n",
    "\n",
    "warnings.filterwarnings('ignore')"
   ]
  },
  {
   "cell_type": "code",
   "execution_count": 12,
   "metadata": {},
   "outputs": [
    {
     "data": {
      "text/html": [
       "<div>\n",
       "<style scoped>\n",
       "    .dataframe tbody tr th:only-of-type {\n",
       "        vertical-align: middle;\n",
       "    }\n",
       "\n",
       "    .dataframe tbody tr th {\n",
       "        vertical-align: top;\n",
       "    }\n",
       "\n",
       "    .dataframe thead th {\n",
       "        text-align: right;\n",
       "    }\n",
       "</style>\n",
       "<table border=\"1\" class=\"dataframe\">\n",
       "  <thead>\n",
       "    <tr style=\"text-align: right;\">\n",
       "      <th></th>\n",
       "      <th># of Delays.Carrier</th>\n",
       "      <th># of Delays.Late Aircraft</th>\n",
       "      <th># of Delays.National Aviation System</th>\n",
       "      <th># of Delays.Security</th>\n",
       "      <th># of Delays.Weather</th>\n",
       "      <th>Carriers.Total</th>\n",
       "      <th>Flights.Cancelled</th>\n",
       "      <th>Flights.Delayed</th>\n",
       "      <th>Flights.Diverted</th>\n",
       "      <th>Flights.On Time</th>\n",
       "      <th>Flights.Total</th>\n",
       "      <th>Minutes Delayed.Carrier</th>\n",
       "      <th>Minutes Delayed.Late Aircraft</th>\n",
       "      <th>Minutes Delayed.National Aviation System</th>\n",
       "      <th>Minutes Delayed.Security</th>\n",
       "      <th>Minutes Delayed.Total</th>\n",
       "      <th>Minutes Delayed.Weather</th>\n",
       "    </tr>\n",
       "  </thead>\n",
       "  <tbody>\n",
       "    <tr>\n",
       "      <th>0</th>\n",
       "      <td>0.301513</td>\n",
       "      <td>0.270412</td>\n",
       "      <td>0.350472</td>\n",
       "      <td>0.189474</td>\n",
       "      <td>0.403206</td>\n",
       "      <td>0.533333</td>\n",
       "      <td>0.057928</td>\n",
       "      <td>0.414431</td>\n",
       "      <td>0.061086</td>\n",
       "      <td>0.745664</td>\n",
       "      <td>0.770892</td>\n",
       "      <td>0.258823</td>\n",
       "      <td>0.185741</td>\n",
       "      <td>0.194317</td>\n",
       "      <td>0.104668</td>\n",
       "      <td>0.260628</td>\n",
       "      <td>0.253219</td>\n",
       "    </tr>\n",
       "    <tr>\n",
       "      <th>1</th>\n",
       "      <td>0.088067</td>\n",
       "      <td>0.093018</td>\n",
       "      <td>0.069295</td>\n",
       "      <td>0.042105</td>\n",
       "      <td>0.080148</td>\n",
       "      <td>0.733333</td>\n",
       "      <td>0.036715</td>\n",
       "      <td>0.099881</td>\n",
       "      <td>0.006787</td>\n",
       "      <td>0.199287</td>\n",
       "      <td>0.199003</td>\n",
       "      <td>0.066594</td>\n",
       "      <td>0.067780</td>\n",
       "      <td>0.037010</td>\n",
       "      <td>0.020004</td>\n",
       "      <td>0.064041</td>\n",
       "      <td>0.053621</td>\n",
       "    </tr>\n",
       "  </tbody>\n",
       "</table>\n",
       "</div>"
      ],
      "text/plain": [
       "   # of Delays.Carrier  # of Delays.Late Aircraft  \\\n",
       "0             0.301513                   0.270412   \n",
       "1             0.088067                   0.093018   \n",
       "\n",
       "   # of Delays.National Aviation System  # of Delays.Security  \\\n",
       "0                              0.350472              0.189474   \n",
       "1                              0.069295              0.042105   \n",
       "\n",
       "   # of Delays.Weather  Carriers.Total  Flights.Cancelled  Flights.Delayed  \\\n",
       "0             0.403206        0.533333           0.057928         0.414431   \n",
       "1             0.080148        0.733333           0.036715         0.099881   \n",
       "\n",
       "   Flights.Diverted  Flights.On Time  Flights.Total  Minutes Delayed.Carrier  \\\n",
       "0          0.061086         0.745664       0.770892                 0.258823   \n",
       "1          0.006787         0.199287       0.199003                 0.066594   \n",
       "\n",
       "   Minutes Delayed.Late Aircraft  Minutes Delayed.National Aviation System  \\\n",
       "0                       0.185741                                  0.194317   \n",
       "1                       0.067780                                  0.037010   \n",
       "\n",
       "   Minutes Delayed.Security  Minutes Delayed.Total  Minutes Delayed.Weather  \n",
       "0                  0.104668               0.260628                 0.253219  \n",
       "1                  0.020004               0.064041                 0.053621  "
      ]
     },
     "execution_count": 12,
     "metadata": {},
     "output_type": "execute_result"
    }
   ],
   "source": [
    "df = pd.read_csv('../processeddata/new_airlines_Normalized.csv')\n",
    "df.head(2)"
   ]
  },
  {
   "cell_type": "code",
   "execution_count": 7,
   "metadata": {},
   "outputs": [
    {
     "data": {
      "text/plain": [
       "Index(['# of Delays.Carrier', '# of Delays.Late Aircraft',\n",
       "       '# of Delays.National Aviation System', '# of Delays.Security',\n",
       "       '# of Delays.Weather', 'Carriers.Total', 'Flights.Cancelled',\n",
       "       'Flights.Delayed', 'Flights.Diverted', 'Flights.On Time',\n",
       "       'Flights.Total', 'Minutes Delayed.Carrier',\n",
       "       'Minutes Delayed.Late Aircraft',\n",
       "       'Minutes Delayed.National Aviation System', 'Minutes Delayed.Security',\n",
       "       'Minutes Delayed.Total', 'Minutes Delayed.Weather'],\n",
       "      dtype='object')"
      ]
     },
     "execution_count": 7,
     "metadata": {},
     "output_type": "execute_result"
    }
   ],
   "source": [
    "df.columns"
   ]
  },
  {
   "cell_type": "code",
   "execution_count": 8,
   "metadata": {},
   "outputs": [
    {
     "data": {
      "text/plain": [
       "(4408, 17)"
      ]
     },
     "execution_count": 8,
     "metadata": {},
     "output_type": "execute_result"
    }
   ],
   "source": [
    "df.shape"
   ]
  },
  {
   "cell_type": "code",
   "execution_count": 14,
   "metadata": {},
   "outputs": [],
   "source": [
    "col = ['# of Delays.Carrier',\n",
    "       '# of Delays.Late Aircraft', '# of Delays.National Aviation System',\n",
    "       '# of Delays.Security', '# of Delays.Weather',\n",
    "       'Flights.Cancelled',\n",
    "       'Flights.Delayed', 'Flights.Diverted', 'Flights.On Time',\n",
    "       'Flights.Total', 'Minutes Delayed.Carrier',\n",
    "       'Minutes Delayed.Late Aircraft',\n",
    "       'Minutes Delayed.National Aviation System', 'Minutes Delayed.Security',\n",
    "       'Minutes Delayed.Total', 'Minutes Delayed.Weather']"
   ]
  },
  {
   "cell_type": "code",
   "execution_count": 15,
   "metadata": {},
   "outputs": [
    {
     "data": {
      "text/plain": [
       "(4408, 16)"
      ]
     },
     "execution_count": 15,
     "metadata": {},
     "output_type": "execute_result"
    }
   ],
   "source": [
    "normalizedData = df[col]\n",
    "normalizedData.shape"
   ]
  },
  {
   "cell_type": "code",
   "execution_count": 18,
   "metadata": {},
   "outputs": [],
   "source": [
    "Xcol = ['# of Delays.Carrier',\n",
    "       '# of Delays.Late Aircraft', '# of Delays.National Aviation System',\n",
    "       '# of Delays.Security', '# of Delays.Weather',\n",
    "        'Minutes Delayed.Carrier',\n",
    "       'Minutes Delayed.Late Aircraft',\n",
    "       'Minutes Delayed.National Aviation System', 'Minutes Delayed.Security',\n",
    "       'Minutes Delayed.Weather']"
   ]
  },
  {
   "cell_type": "code",
   "execution_count": 19,
   "metadata": {},
   "outputs": [
    {
     "name": "stdout",
     "output_type": "stream",
     "text": [
      "(4408, 10)\n"
     ]
    },
    {
     "data": {
      "text/html": [
       "<div>\n",
       "<style scoped>\n",
       "    .dataframe tbody tr th:only-of-type {\n",
       "        vertical-align: middle;\n",
       "    }\n",
       "\n",
       "    .dataframe tbody tr th {\n",
       "        vertical-align: top;\n",
       "    }\n",
       "\n",
       "    .dataframe thead th {\n",
       "        text-align: right;\n",
       "    }\n",
       "</style>\n",
       "<table border=\"1\" class=\"dataframe\">\n",
       "  <thead>\n",
       "    <tr style=\"text-align: right;\">\n",
       "      <th></th>\n",
       "      <th># of Delays.Carrier</th>\n",
       "      <th># of Delays.Late Aircraft</th>\n",
       "      <th># of Delays.National Aviation System</th>\n",
       "      <th># of Delays.Security</th>\n",
       "      <th># of Delays.Weather</th>\n",
       "      <th>Minutes Delayed.Carrier</th>\n",
       "      <th>Minutes Delayed.Late Aircraft</th>\n",
       "      <th>Minutes Delayed.National Aviation System</th>\n",
       "      <th>Minutes Delayed.Security</th>\n",
       "      <th>Minutes Delayed.Weather</th>\n",
       "    </tr>\n",
       "  </thead>\n",
       "  <tbody>\n",
       "    <tr>\n",
       "      <th>0</th>\n",
       "      <td>0.301513</td>\n",
       "      <td>0.270412</td>\n",
       "      <td>0.350472</td>\n",
       "      <td>0.189474</td>\n",
       "      <td>0.403206</td>\n",
       "      <td>0.258823</td>\n",
       "      <td>0.185741</td>\n",
       "      <td>0.194317</td>\n",
       "      <td>0.104668</td>\n",
       "      <td>0.253219</td>\n",
       "    </tr>\n",
       "    <tr>\n",
       "      <th>1</th>\n",
       "      <td>0.088067</td>\n",
       "      <td>0.093018</td>\n",
       "      <td>0.069295</td>\n",
       "      <td>0.042105</td>\n",
       "      <td>0.080148</td>\n",
       "      <td>0.066594</td>\n",
       "      <td>0.067780</td>\n",
       "      <td>0.037010</td>\n",
       "      <td>0.020004</td>\n",
       "      <td>0.053621</td>\n",
       "    </tr>\n",
       "    <tr>\n",
       "      <th>2</th>\n",
       "      <td>0.061849</td>\n",
       "      <td>0.088924</td>\n",
       "      <td>0.036424</td>\n",
       "      <td>0.094737</td>\n",
       "      <td>0.094945</td>\n",
       "      <td>0.035474</td>\n",
       "      <td>0.063728</td>\n",
       "      <td>0.025609</td>\n",
       "      <td>0.056173</td>\n",
       "      <td>0.080223</td>\n",
       "    </tr>\n",
       "    <tr>\n",
       "      <th>3</th>\n",
       "      <td>0.063193</td>\n",
       "      <td>0.087787</td>\n",
       "      <td>0.074847</td>\n",
       "      <td>0.031579</td>\n",
       "      <td>0.065351</td>\n",
       "      <td>0.040725</td>\n",
       "      <td>0.053647</td>\n",
       "      <td>0.036017</td>\n",
       "      <td>0.025662</td>\n",
       "      <td>0.048824</td>\n",
       "    </tr>\n",
       "    <tr>\n",
       "      <th>4</th>\n",
       "      <td>0.057479</td>\n",
       "      <td>0.041392</td>\n",
       "      <td>0.047307</td>\n",
       "      <td>0.052632</td>\n",
       "      <td>0.070284</td>\n",
       "      <td>0.036125</td>\n",
       "      <td>0.025243</td>\n",
       "      <td>0.031345</td>\n",
       "      <td>0.024247</td>\n",
       "      <td>0.053373</td>\n",
       "    </tr>\n",
       "  </tbody>\n",
       "</table>\n",
       "</div>"
      ],
      "text/plain": [
       "   # of Delays.Carrier  # of Delays.Late Aircraft  \\\n",
       "0             0.301513                   0.270412   \n",
       "1             0.088067                   0.093018   \n",
       "2             0.061849                   0.088924   \n",
       "3             0.063193                   0.087787   \n",
       "4             0.057479                   0.041392   \n",
       "\n",
       "   # of Delays.National Aviation System  # of Delays.Security  \\\n",
       "0                              0.350472              0.189474   \n",
       "1                              0.069295              0.042105   \n",
       "2                              0.036424              0.094737   \n",
       "3                              0.074847              0.031579   \n",
       "4                              0.047307              0.052632   \n",
       "\n",
       "   # of Delays.Weather  Minutes Delayed.Carrier  \\\n",
       "0             0.403206                 0.258823   \n",
       "1             0.080148                 0.066594   \n",
       "2             0.094945                 0.035474   \n",
       "3             0.065351                 0.040725   \n",
       "4             0.070284                 0.036125   \n",
       "\n",
       "   Minutes Delayed.Late Aircraft  Minutes Delayed.National Aviation System  \\\n",
       "0                       0.185741                                  0.194317   \n",
       "1                       0.067780                                  0.037010   \n",
       "2                       0.063728                                  0.025609   \n",
       "3                       0.053647                                  0.036017   \n",
       "4                       0.025243                                  0.031345   \n",
       "\n",
       "   Minutes Delayed.Security  Minutes Delayed.Weather  \n",
       "0                  0.104668                 0.253219  \n",
       "1                  0.020004                 0.053621  \n",
       "2                  0.056173                 0.080223  \n",
       "3                  0.025662                 0.048824  \n",
       "4                  0.024247                 0.053373  "
      ]
     },
     "execution_count": 19,
     "metadata": {},
     "output_type": "execute_result"
    }
   ],
   "source": [
    "X = normalizedData[Xcol]\n",
    "print(X.shape)\n",
    "X.head()"
   ]
  },
  {
   "cell_type": "code",
   "execution_count": 20,
   "metadata": {},
   "outputs": [
    {
     "data": {
      "text/plain": [
       "0    0.745664\n",
       "1    0.199287\n",
       "2    0.169523\n",
       "3    0.170304\n",
       "4    0.112608\n",
       "Name: Flights.On Time, dtype: float64"
      ]
     },
     "execution_count": 20,
     "metadata": {},
     "output_type": "execute_result"
    }
   ],
   "source": [
    "y = normalizedData[\"Flights.On Time\"]\n",
    "y.head()"
   ]
  },
  {
   "cell_type": "code",
   "execution_count": 21,
   "metadata": {},
   "outputs": [
    {
     "name": "stdout",
     "output_type": "stream",
     "text": [
      "<class 'numpy.ndarray'>\n",
      "<class 'numpy.ndarray'>\n"
     ]
    }
   ],
   "source": [
    "X = X.to_numpy()\n",
    "print(type(X))\n",
    "\n",
    "y = y.to_numpy()\n",
    "print(type(y))"
   ]
  },
  {
   "cell_type": "code",
   "execution_count": 22,
   "metadata": {},
   "outputs": [],
   "source": [
    "X_train, X_test, y_train, y_test = train_test_split(X, y, test_size=0.30)"
   ]
  },
  {
   "cell_type": "markdown",
   "metadata": {},
   "source": [
    "### (1) Multivariate linear regression modeling"
   ]
  },
  {
   "cell_type": "code",
   "execution_count": 23,
   "metadata": {},
   "outputs": [
    {
     "name": "stdout",
     "output_type": "stream",
     "text": [
      "linear model original data intercept (b): 0.063\n",
      "linear model original data coeff (w): [-0.74916313  2.38403782  0.61122918 -0.19452602 -0.053916    1.69904367\n",
      " -2.52923959 -0.24659115  0.29272493 -0.23177576]\n",
      "R-squared score (training): 0.744\n",
      "R-squared score (test): 0.752\n",
      "RMSE: 0.091\n"
     ]
    }
   ],
   "source": [
    "linreg = LinearRegression().fit(X_train, y_train)\n",
    "\n",
    "print('linear model original data intercept (b): {:.3f}'.format(linreg.intercept_))\n",
    "print('linear model original data coeff (w): {}'.format(linreg.coef_))\n",
    "\n",
    "# train data R2\n",
    "print('R-squared score (training): {:.3f}'.format(linreg.score(X_train, y_train)))\n",
    "# test data R2\n",
    "print('R-squared score (test): {:.3f}'.format(linreg.score(X_test, y_test)))\n",
    "\n",
    "# make predictions on the testing set and print RMSE\n",
    "y_pred = linreg.predict(X_test)\n",
    "print('RMSE: {:.3f}'.format(np.sqrt(metrics.mean_squared_error(y_test, y_pred))))"
   ]
  },
  {
   "cell_type": "markdown",
   "metadata": {},
   "source": [
    "### (2) Multivariate linear regression model with gradient descent "
   ]
  },
  {
   "cell_type": "code",
   "execution_count": 29,
   "metadata": {},
   "outputs": [
    {
     "name": "stdout",
     "output_type": "stream",
     "text": [
      "initial theta: \n",
      " [[-0.13187042]\n",
      " [-0.25399908]\n",
      " [ 0.81501593]\n",
      " [-0.88982878]\n",
      " [-0.87141301]\n",
      " [-0.45462995]\n",
      " [-0.36458408]\n",
      " [-0.71410653]\n",
      " [ 0.32366869]\n",
      " [ 0.48335856]]\n",
      "best theta: \n",
      " [[ 0.46338393  0.23021256  0.57912202 ...  0.23283844  0.38733317\n",
      "   0.53857048]\n",
      " [ 0.30962156  0.10336231  0.41200141 ...  0.10568512  0.2423484\n",
      "   0.37613024]\n",
      " [ 1.0950737   0.99069574  1.14688327 ...  0.9918712   1.06102997\n",
      "   1.12873058]\n",
      " ...\n",
      " [-0.54895839 -0.59515429 -0.52602837 ... -0.59463405 -0.56402556\n",
      "  -0.53406244]\n",
      " [ 0.52963041  0.44599908  0.57114207 ...  0.4469409   0.50235336\n",
      "   0.55659749]\n",
      " [ 0.73855223  0.66181019  0.77664429 ...  0.66267443  0.71352218\n",
      "   0.76329785]]\n"
     ]
    }
   ],
   "source": [
    "# learning rate\n",
    "alpha = 0.01\n",
    "\n",
    "# number of iterations\n",
    "n_iter = 100\n",
    "\n",
    "# the number of data points\n",
    "n = 100\n",
    "\n",
    "# random initialization to theta. \n",
    "# Return samples (11 values for theta0 and theta1) from the “standard normal” distribution.\n",
    "theta = np.random.randn(10, 1)\n",
    "print('initial theta: \\n', theta)\n",
    "\n",
    "# the process of gradient descent\n",
    "for iteration in range(n_iter):\n",
    "    gradients = (1/n) * X_train.T.dot(X_train.dot(theta) - y_train)\n",
    "    theta = theta - alpha*gradients\n",
    "    \n",
    "print('best theta: \\n', theta)"
   ]
  },
  {
   "cell_type": "code",
   "execution_count": 30,
   "metadata": {},
   "outputs": [
    {
     "name": "stdout",
     "output_type": "stream",
     "text": [
      "[[0.07390208 0.01018124 0.10553087 ... 0.01089883 0.053119   0.09444898]\n",
      " [0.26638356 0.09578307 0.35106366 ... 0.0977043  0.21074081 0.32139401]\n",
      " [0.82523023 0.18640552 1.14232041 ... 0.19359969 0.61687229 1.03122046]\n",
      " ...\n",
      " [0.06184883 0.0148528  0.08517601 ... 0.01538205 0.04652069 0.07700279]\n",
      " [0.13589438 0.02501712 0.19092997 ... 0.02626577 0.09973085 0.17164696]\n",
      " [0.10242846 0.04486791 0.1309995  ... 0.04551614 0.08365462 0.12098897]]\n"
     ]
    }
   ],
   "source": [
    "y_predict = X_test.dot(theta)\n",
    "print(y_predict)"
   ]
  },
  {
   "cell_type": "markdown",
   "metadata": {},
   "source": [
    "### (3) Regularized linear regression models with feature normalization\n",
    "Ridge regression model "
   ]
  },
  {
   "cell_type": "code",
   "execution_count": 31,
   "metadata": {},
   "outputs": [
    {
     "name": "stdout",
     "output_type": "stream",
     "text": [
      "Airline dataset\n",
      "R-squared score (training): 0.744\n",
      "R-squared score (test): 0.752\n",
      "RMSE: 0.091\n",
      "ridge regression linear model intercept: 0.06281373364255535\n",
      "ridge regression linear model coeff:\n",
      "[-0.74737741  2.37875905  0.61307132 -0.19436454 -0.05379414  1.6972576\n",
      " -2.52303137 -0.24891187  0.2925016  -0.232028  ]\n",
      "Number of non-zero features: 10\n"
     ]
    }
   ],
   "source": [
    "from sklearn.linear_model import Ridge\n",
    "\n",
    "linridge = Ridge(alpha=0.001).fit(X_train, y_train)\n",
    "\n",
    "print('Airline dataset')\n",
    "\n",
    "print('R-squared score (training): {:.3f}'\n",
    "     .format(linridge.score(X_train, y_train)))\n",
    "print('R-squared score (test): {:.3f}'\n",
    "     .format(linridge.score(X_test, y_test)))\n",
    "\n",
    "# make predictions on the testing set\n",
    "y_pred = linridge.predict(X_test)\n",
    "print('RMSE: {:.3f}'.format(np.sqrt(metrics.mean_squared_error(y_test, y_pred))))\n",
    "\n",
    "print('ridge regression linear model intercept: {}'.format(linridge.intercept_))\n",
    "print('ridge regression linear model coeff:\\n{}'.format(linridge.coef_))\n",
    "\n",
    "print('Number of non-zero features: {}'.format(np.sum(linridge.coef_ != 0)))"
   ]
  },
  {
   "cell_type": "code",
   "execution_count": 32,
   "metadata": {},
   "outputs": [
    {
     "name": "stdout",
     "output_type": "stream",
     "text": [
      "Ridge regression: effect of alpha regularization parameter\n",
      "\n",
      "Alpha = 0.00\n",
      "num abs(coeff) > 1.0: 3, r-squared training: 0.74, r-squared test: 0.75\n",
      "\n",
      "Alpha = 1.00\n",
      "num abs(coeff) > 1.0: 1, r-squared training: 0.71, r-squared test: 0.71\n",
      "\n",
      "Alpha = 10.00\n",
      "num abs(coeff) > 1.0: 0, r-squared training: 0.64, r-squared test: 0.63\n",
      "\n",
      "Alpha = 20.00\n",
      "num abs(coeff) > 1.0: 0, r-squared training: 0.62, r-squared test: 0.60\n",
      "\n",
      "Alpha = 50.00\n",
      "num abs(coeff) > 1.0: 0, r-squared training: 0.58, r-squared test: 0.56\n",
      "\n",
      "Alpha = 100.00\n",
      "num abs(coeff) > 1.0: 0, r-squared training: 0.53, r-squared test: 0.52\n",
      "\n",
      "Alpha = 1000.00\n",
      "num abs(coeff) > 1.0: 0, r-squared training: 0.19, r-squared test: 0.19\n",
      "\n"
     ]
    }
   ],
   "source": [
    "print('Ridge regression: effect of alpha regularization parameter\\n')\n",
    "for this_alpha in [0, 1, 10, 20, 50, 100, 1000]:\n",
    "    linridge = Ridge(alpha = this_alpha).fit(X_train, y_train)\n",
    "    r2_train = linridge.score(X_train, y_train)\n",
    "    r2_test = linridge.score(X_test, y_test)\n",
    "    num_coeff_bigger = np.sum(abs(linridge.coef_) > 1.0)\n",
    "    print('Alpha = {:.2f}\\nnum abs(coeff) > 1.0: {}, \\\n",
    "r-squared training: {:.2f}, r-squared test: {:.2f}\\n'\n",
    "         .format(this_alpha, num_coeff_bigger, r2_train, r2_test))"
   ]
  },
  {
   "cell_type": "markdown",
   "metadata": {},
   "source": [
    "### Lasso regression model "
   ]
  },
  {
   "cell_type": "code",
   "execution_count": 33,
   "metadata": {},
   "outputs": [
    {
     "name": "stdout",
     "output_type": "stream",
     "text": [
      "Airline dataset\n",
      "R-squared score (training): 0.635\n",
      "R-squared score (test): 0.629\n",
      "\n",
      "RMSE: 0.112\n",
      "lasso regression linear model intercept: 0.07846606850499316\n",
      "lasso regression linear model coeff:\n",
      "[ 0.          0.27249739  0.02643344  0.         -0.          0.89713093\n",
      " -0.         -0.          0.         -0.        ]\n",
      "Non-zero features: 3\n",
      "Features with non-zero weight (sorted by absolute magnitude):\n",
      "\t[0.13579832 0.05390039 0.0669628  0.12631579 0.11960543 0.0959959\n",
      " 0.04068932 0.03557412 0.14265508 0.0721417 ], 0.897\n",
      "\t[0.08806723 0.09301797 0.06929484 0.04210526 0.08014797 0.06659372\n",
      " 0.06778028 0.03701008 0.02000404 0.05362077], 0.272\n",
      "\t[0.06184874 0.08892427 0.03642421 0.09473684 0.09494451 0.03547351\n",
      " 0.06372839 0.02560903 0.05617296 0.08022262], 0.026\n"
     ]
    }
   ],
   "source": [
    "from sklearn.linear_model import Lasso\n",
    "\n",
    "linlasso = Lasso(alpha=0.001).fit(X_train, y_train)\n",
    "\n",
    "print('Airline dataset')\n",
    "\n",
    "print('R-squared score (training): {:.3f}'\n",
    "     .format(linlasso.score(X_train, y_train)))\n",
    "print('R-squared score (test): {:.3f}\\n'\n",
    "     .format(linlasso.score(X_test, y_test)))\n",
    "\n",
    "# make predictions on the testing set\n",
    "y_pred = linlasso.predict(X_test)\n",
    "print('RMSE: {:.3f}'.format(np.sqrt(metrics.mean_squared_error(y_test, y_pred))))\n",
    "    \n",
    "print('lasso regression linear model intercept: {}'.format(linlasso.intercept_))\n",
    "print('lasso regression linear model coeff:\\n{}'.format(linlasso.coef_))\n",
    "\n",
    "print('Non-zero features: {}'.format(np.sum(linlasso.coef_ != 0)))\n",
    " \n",
    "print('Features with non-zero weight (sorted by absolute magnitude):')\n",
    "for e in sorted (list(zip(list(X), linlasso.coef_)),\n",
    "                key = lambda e: -abs(e[1])):\n",
    "    if e[1] != 0:\n",
    "        print('\\t{}, {:.3f}'.format(e[0], e[1]))"
   ]
  },
  {
   "cell_type": "code",
   "execution_count": 34,
   "metadata": {},
   "outputs": [
    {
     "name": "stdout",
     "output_type": "stream",
     "text": [
      "Lasso regression: effect of alpha regularization\n",
      "parameter on number of features kept in final model\n",
      "\n",
      "Alpha = 0.00\n",
      "Features kept: 10, r-squared training: 0.74, r-squared test: 0.75\n",
      "\n",
      "Alpha = 0.00\n",
      "Features kept: 3, r-squared training: 0.63, r-squared test: 0.63\n",
      "\n",
      "Alpha = 0.01\n",
      "Features kept: 2, r-squared training: 0.40, r-squared test: 0.40\n",
      "\n",
      "Alpha = 0.03\n",
      "Features kept: 0, r-squared training: 0.00, r-squared test: -0.00\n",
      "\n",
      "Alpha = 0.05\n",
      "Features kept: 0, r-squared training: 0.00, r-squared test: -0.00\n",
      "\n",
      "Alpha = 0.07\n",
      "Features kept: 0, r-squared training: 0.00, r-squared test: -0.00\n",
      "\n",
      "Alpha = 0.25\n",
      "Features kept: 0, r-squared training: 0.00, r-squared test: -0.00\n",
      "\n",
      "Alpha = 0.50\n",
      "Features kept: 0, r-squared training: 0.00, r-squared test: -0.00\n",
      "\n",
      "Alpha = 1.00\n",
      "Features kept: 0, r-squared training: 0.00, r-squared test: -0.00\n",
      "\n",
      "Alpha = 2.00\n",
      "Features kept: 0, r-squared training: 0.00, r-squared test: -0.00\n",
      "\n",
      "Alpha = 3.00\n",
      "Features kept: 0, r-squared training: 0.00, r-squared test: -0.00\n",
      "\n",
      "Alpha = 5.00\n",
      "Features kept: 0, r-squared training: 0.00, r-squared test: -0.00\n",
      "\n",
      "Alpha = 10.00\n",
      "Features kept: 0, r-squared training: 0.00, r-squared test: -0.00\n",
      "\n",
      "Alpha = 20.00\n",
      "Features kept: 0, r-squared training: 0.00, r-squared test: -0.00\n",
      "\n",
      "Alpha = 50.00\n",
      "Features kept: 0, r-squared training: 0.00, r-squared test: -0.00\n",
      "\n"
     ]
    }
   ],
   "source": [
    "print('Lasso regression: effect of alpha regularization\\n\\\n",
    "parameter on number of features kept in final model\\n')\n",
    "\n",
    "for alpha in [0.0,0.001, 0.01, 0.025, 0.05, 0.075, 0.25, 0.5, 1, 2, 3, 5, 10, 20, 50]:\n",
    "    linlasso = Lasso(alpha, max_iter = 10000).fit(X_train, y_train)\n",
    "    r2_train = linlasso.score(X_train, y_train)\n",
    "    r2_test = linlasso.score(X_test, y_test)\n",
    "    \n",
    "    print('Alpha = {:.2f}\\nFeatures kept: {}, r-squared training: {:.2f}, \\\n",
    "r-squared test: {:.2f}\\n'\n",
    "         .format(alpha, np.sum(linlasso.coef_ != 0), r2_train, r2_test))"
   ]
  },
  {
   "cell_type": "markdown",
   "metadata": {},
   "source": [
    "### (4) Polynomial regression models "
   ]
  },
  {
   "cell_type": "code",
   "execution_count": 35,
   "metadata": {},
   "outputs": [
    {
     "name": "stdout",
     "output_type": "stream",
     "text": [
      "(poly deg 2) linear model coeff (w):\n",
      "[-1.13433724e-12 -1.07432802e+00  4.50487431e+00  1.09221669e+00\n",
      " -1.37326962e-01 -6.81144987e-01  2.35989462e+00 -4.68205358e+00\n",
      " -7.26962598e-01  2.23050804e-01  4.68438281e-01 -3.95388163e+00\n",
      " -4.04042406e+00  3.08406281e+00  2.19121411e+00  7.70757237e+00\n",
      "  7.73988496e+00  4.58169454e+00 -2.75210115e+00 -1.88265549e+00\n",
      " -6.73193768e+00 -8.62695627e+00 -2.04063101e+00  2.04792561e+00\n",
      "  2.87238602e+00  5.83251058e+00  1.08778571e+01  1.81053432e+00\n",
      " -4.17098730e+00 -3.78680021e+00  1.75938115e+00 -6.38637984e+00\n",
      "  4.64828480e+00 -8.03111537e+00  5.95500249e+00 -5.30781651e+00\n",
      "  5.29036482e+00 -2.26286090e+00 -7.42905687e-01  4.26343883e+00\n",
      " -3.14152167e+00 -3.28625447e+00  8.09039900e+00  2.15955299e+00\n",
      " -4.62315553e+00 -3.94286732e+00 -6.84493358e+00 -1.64148871e+00\n",
      " -6.86892620e+00 -2.50291342e+00  7.62665497e+00 -3.06980832e+00\n",
      " -6.45540101e+00  8.43907100e+00  1.78524202e+00  3.13432601e+00\n",
      " -2.34012787e+00 -6.09360667e+00  4.64406220e+00  3.56523154e+00\n",
      "  3.41858983e+00 -6.44263619e+00  4.47131037e+00 -7.63079449e-01\n",
      "  4.04803243e+00 -2.83349137e+00]\n",
      "(poly deg 2) linear model intercept (b): 0.012\n",
      "(poly deg 2) R-squared score (training): 0.791\n",
      "(poly deg 2) R-squared score (test): 0.767\n",
      "\n"
     ]
    }
   ],
   "source": [
    "from sklearn.preprocessing import PolynomialFeatures\n",
    "\n",
    "poly = PolynomialFeatures(degree=2)\n",
    "X_poly = poly.fit_transform(X)\n",
    "\n",
    "X_train, X_test, y_train, y_test = train_test_split(X_poly, y, random_state=0)\n",
    "\n",
    "linreg_poly = LinearRegression().fit(X_train, y_train)\n",
    "\n",
    "print('(poly deg 2) linear model coeff (w):\\n{}'\n",
    "     .format(linreg_poly.coef_))\n",
    "print('(poly deg 2) linear model intercept (b): {:.3f}'\n",
    "     .format(linreg_poly.intercept_))\n",
    "print('(poly deg 2) R-squared score (training): {:.3f}'\n",
    "     .format(linreg_poly.score(X_train, y_train)))\n",
    "print('(poly deg 2) R-squared score (test): {:.3f}\\n'\n",
    "     .format(linreg_poly.score(X_test, y_test)))"
   ]
  },
  {
   "cell_type": "code",
   "execution_count": 36,
   "metadata": {},
   "outputs": [
    {
     "name": "stdout",
     "output_type": "stream",
     "text": [
      "Airline dataset\n",
      "R-squared score (training): 0.789\n",
      "R-squared score (test): 0.773\n",
      "RMSE: 0.084\n",
      "ridge regression linear model intercept: 0.013834300387225745\n",
      "ridge regression linear model coeff:\n",
      "[ 0.         -1.05886527  4.26533829  1.00331086 -0.17521733 -0.43711551\n",
      "  2.33165968 -4.40319087 -0.64358526  0.27840286  0.17603881 -1.81057647\n",
      " -1.81756934 -0.13066448  0.60749152  2.88127516  3.80627523  2.0476217\n",
      "  0.6564161  -0.42268488 -1.47460533 -4.56052007 -0.13282402 -1.65641529\n",
      "  1.05635584  1.06435132  3.97777623  0.53774273 -0.62242542 -1.03567889\n",
      "  0.7074408  -1.07505981  1.8365541  -2.17241644  1.35532318 -2.46237913\n",
      " -0.21372536  0.02612377 -0.13937281  2.18470764 -1.64843672  0.59112495\n",
      "  2.75719626  1.23770796 -2.59895544 -0.65509505 -2.38478728  0.70392687\n",
      " -4.51425465  1.43502771  0.62058516 -1.40769289 -1.13444296  2.05970634\n",
      "  0.52521707 -1.50734672  0.33287001 -1.86683421  0.92970056  0.18649012\n",
      "  1.53129172 -0.9418702   2.84902076 -0.6227588  -0.22128305  0.79134374]\n",
      "Number of non-zero features: 65\n"
     ]
    }
   ],
   "source": [
    "from sklearn.linear_model import Ridge\n",
    "X_train, X_test, y_train, y_test = train_test_split(X_poly, y, random_state=0)\n",
    "\n",
    "linridge = Ridge(alpha = 0.001).fit(X_train, y_train)\n",
    "\n",
    "\n",
    "print('Airline dataset')\n",
    "\n",
    "print('R-squared score (training): {:.3f}'\n",
    "     .format(linridge.score(X_train, y_train)))\n",
    "print('R-squared score (test): {:.3f}'\n",
    "     .format(linridge.score(X_test, y_test)))\n",
    "\n",
    "# make predictions on the testing set\n",
    "y_pred = linridge.predict(X_test)\n",
    "print('RMSE: {:.3f}'.format(np.sqrt(metrics.mean_squared_error(y_test, y_pred))))\n",
    "\n",
    "print('ridge regression linear model intercept: {}'.format(linridge.intercept_))\n",
    "print('ridge regression linear model coeff:\\n{}'.format(linridge.coef_))\n",
    "\n",
    "print('Number of non-zero features: {}'.format(np.sum(linridge.coef_ != 0)))"
   ]
  },
  {
   "cell_type": "code",
   "execution_count": 37,
   "metadata": {},
   "outputs": [
    {
     "name": "stdout",
     "output_type": "stream",
     "text": [
      "Ridge regression: effect of alpha regularization parameter\n",
      "\n",
      "Alpha = 0.00\n",
      "num abs(coeff) > 1.0: 59, r-squared training: 0.79, r-squared test: 0.77\n",
      "\n",
      "Alpha = 0.03\n",
      "num abs(coeff) > 1.0: 6, r-squared training: 0.78, r-squared test: 0.77\n",
      "\n",
      "Alpha = 0.05\n",
      "num abs(coeff) > 1.0: 5, r-squared training: 0.78, r-squared test: 0.76\n",
      "\n",
      "Alpha = 0.07\n",
      "num abs(coeff) > 1.0: 4, r-squared training: 0.77, r-squared test: 0.76\n",
      "\n",
      "Alpha = 0.50\n",
      "num abs(coeff) > 1.0: 3, r-squared training: 0.75, r-squared test: 0.73\n",
      "\n",
      "Alpha = 1.00\n",
      "num abs(coeff) > 1.0: 1, r-squared training: 0.73, r-squared test: 0.71\n",
      "\n",
      "Alpha = 10.00\n",
      "num abs(coeff) > 1.0: 0, r-squared training: 0.66, r-squared test: 0.63\n",
      "\n",
      "Alpha = 20.00\n",
      "num abs(coeff) > 1.0: 0, r-squared training: 0.63, r-squared test: 0.60\n",
      "\n",
      "Alpha = 50.00\n",
      "num abs(coeff) > 1.0: 0, r-squared training: 0.59, r-squared test: 0.56\n",
      "\n",
      "Alpha = 100.00\n",
      "num abs(coeff) > 1.0: 0, r-squared training: 0.55, r-squared test: 0.53\n",
      "\n",
      "Alpha = 1000.00\n",
      "num abs(coeff) > 1.0: 0, r-squared training: 0.28, r-squared test: 0.29\n",
      "\n"
     ]
    }
   ],
   "source": [
    "print('Ridge regression: effect of alpha regularization parameter\\n')\n",
    "for this_alpha in [0, 0.025, 0.05, 0.075, 0.5,  1, 10, 20, 50, 100, 1000]:\n",
    "    linridge = Ridge(alpha = this_alpha).fit(X_train, y_train)\n",
    "    r2_train = linridge.score(X_train, y_train)\n",
    "    r2_test = linridge.score(X_test, y_test)\n",
    "    num_coeff_bigger = np.sum(abs(linridge.coef_) > 1.0)\n",
    "    print('Alpha = {:.2f}\\nnum abs(coeff) > 1.0: {}, \\\n",
    "r-squared training: {:.2f}, r-squared test: {:.2f}\\n'\n",
    "         .format(this_alpha, num_coeff_bigger, r2_train, r2_test))"
   ]
  },
  {
   "cell_type": "code",
   "execution_count": 38,
   "metadata": {},
   "outputs": [
    {
     "name": "stdout",
     "output_type": "stream",
     "text": [
      "Airline dataset\n",
      "R-squared score (training): 0.781\n",
      "R-squared score (test): 0.764\n",
      "\n",
      "RMSE: 0.086\n",
      "lasso regression linear model intercept: 0.017810492996072264\n",
      "lasso regression linear model coeff:\n",
      "[ 0.00000000e+00 -8.33105976e-01  3.57508877e+00  8.73449870e-01\n",
      " -1.70639158e-01 -0.00000000e+00  2.05342675e+00 -3.63334327e+00\n",
      " -5.46969787e-01  2.51118636e-01 -2.45514365e-01 -9.22559026e-04\n",
      "  0.00000000e+00  0.00000000e+00 -7.57542948e-01  0.00000000e+00\n",
      " -0.00000000e+00  2.81452309e-01  2.35897979e-01 -0.00000000e+00\n",
      " -0.00000000e+00 -2.25437957e+00 -0.00000000e+00 -6.56516676e-01\n",
      "  0.00000000e+00 -0.00000000e+00  3.98960129e-02  4.85469804e-01\n",
      "  0.00000000e+00  0.00000000e+00 -2.47182508e-01  0.00000000e+00\n",
      " -0.00000000e+00 -0.00000000e+00  0.00000000e+00 -1.64587336e-01\n",
      "  0.00000000e+00 -0.00000000e+00  2.97839829e-01  4.78861424e-01\n",
      " -0.00000000e+00 -0.00000000e+00  5.04625287e-01  0.00000000e+00\n",
      "  0.00000000e+00  4.26941801e-03 -7.39292978e-02  2.23232848e-01\n",
      " -9.44143830e-02  3.12230242e-02  0.00000000e+00 -5.41936421e-02\n",
      "  0.00000000e+00  0.00000000e+00  0.00000000e+00 -1.07395341e+00\n",
      "  1.87839567e+00  1.74535485e-02  0.00000000e+00  0.00000000e+00\n",
      " -0.00000000e+00  0.00000000e+00  0.00000000e+00 -0.00000000e+00\n",
      "  0.00000000e+00  5.57960229e-01]\n",
      "Non-zero features: 32\n",
      "Features with non-zero weight (sorted by absolute magnitude):\n",
      "\t[0.0887395  0.06481692 0.05652415 0.07368421 0.08631319 0.07349846\n",
      " 0.039943   0.02381992 0.02808648 0.04539649], -3.633\n",
      "\t[0.06184874 0.08892427 0.03642421 0.09473684 0.09494451 0.03547351\n",
      " 0.06372839 0.02560903 0.05617296 0.08022262], 3.575\n",
      "\t[0.02722689 0.0368433  0.01687951 0.12631579 0.02589396 0.0104479\n",
      " 0.01994505 0.00626358 0.10204082 0.01279912], -2.254\n",
      "\t[0.29378151 0.29656584 0.23164908 0.21052632 0.31689273 0.30217897\n",
      " 0.22211351 0.14724569 0.13800768 0.26831239], 2.053\n",
      "\t[0.09815126 0.0450307  0.02987229 0.10526316 0.07891492 0.06658907\n",
      " 0.03238574 0.01620367 0.05758739 0.05126167], 1.878\n",
      "\t[0.12134454 0.06345235 0.05308162 0.11578947 0.09247842 0.08658627\n",
      " 0.05695271 0.03566407 0.05273793 0.08398936], -1.074\n",
      "\t[0.06319328 0.08778713 0.07484731 0.03157895 0.06535142 0.04072539\n",
      " 0.05364714 0.03601723 0.02566175 0.04882436], 0.873\n",
      "\t[0.08806723 0.09301797 0.06929484 0.04210526 0.08014797 0.06659372\n",
      " 0.06778028 0.03701008 0.02000404 0.05362077], -0.833\n",
      "\t[0.24134454 0.15442347 0.08672959 0.4        0.11837238 0.1586414\n",
      " 0.10147061 0.03994529 0.51707416 0.07719879], -0.758\n",
      "\t[0.12739496 0.10984762 0.0669628  0.21052632 0.04932182 0.09542788\n",
      " 0.06563239 0.02746978 0.15518287 0.03354882], -0.657\n",
      "\t[0.11663866 0.08096429 0.10805108 0.07368421 0.18988903 0.10843654\n",
      " 0.06571173 0.07367532 0.05920388 0.16947761], 0.558\n",
      "\t[0.07058824 0.09847623 0.20955025 0.11578947 0.14796547 0.06599311\n",
      " 0.07576065 0.1480353  0.0990099  0.10210625], -0.547\n",
      "\t[0.15058824 0.15328633 0.05652415 0.09473684 0.12083847 0.1139864\n",
      " 0.11488093 0.0406033  0.04243281 0.11391481], 0.505\n",
      "\t[0.08436975 0.04639527 0.03231538 0.16842105 0.0431566  0.04754167\n",
      " 0.02574522 0.01387482 0.11234593 0.02136229], 0.485\n",
      "\t[0.09512605 0.07277689 0.06774014 0.11578947 0.10234279 0.07855014\n",
      " 0.06244436 0.05480796 0.06243686 0.10454356], 0.479\n",
      "\t[0.05042017 0.05503753 0.03897835 0.07368421 0.04192355 0.03406742\n",
      " 0.04667754 0.02272379 0.0347545  0.03039466], 0.298\n",
      "\t[0.02285714 0.07391403 0.02776235 0.13684211 0.04685573 0.01172828\n",
      " 0.0464748  0.01419133 0.0668822  0.03141129], 0.281\n",
      "\t[0.04537815 0.03866272 0.04064409 0.06315789 0.04069051 0.03040786\n",
      " 0.02785197 0.02124285 0.0284906  0.02651061], 0.251\n",
      "\t[0.11361345 0.11394132 0.06085508 0.01052632 0.07398274 0.10519601\n",
      " 0.09254999 0.041213   0.00202061 0.06488191], -0.247\n",
      "\t[0.06991597 0.04753241 0.0568573  0.04210526 0.08014797 0.04999534\n",
      " 0.03805956 0.03935392 0.03677511 0.06081539], -0.246\n",
      "\t[0.04537815 0.02820105 0.05818989 0.03157895 0.08014797 0.03069653\n",
      " 0.02226923 0.03463791 0.01333603 0.04944998], 0.236\n",
      "\t[0.06823529 0.04139186 0.05852304 0.05263158 0.04932182 0.06905205\n",
      " 0.04146503 0.03432307 0.02444938 0.0480293 ], 0.223\n",
      "\t[0.05747899 0.04139186 0.04730705 0.05263158 0.0702836  0.03612534\n",
      " 0.02524278 0.03134454 0.02424732 0.05337313], -0.171\n",
      "\t[0.37109244 0.30861951 0.22431982 0.2        0.29963009 0.33537108\n",
      " 0.22928879 0.13086377 0.09032128 0.21108128], -0.165\n",
      "\t[0.14084034 0.0777803  0.08872848 0.07368421 0.13193588 0.12623615\n",
      " 0.06877929 0.05016858 0.03091534 0.10588603], -0.094\n",
      "\t[0.04168067 0.10757335 0.06396446 0.15789474 0.10480888 0.03620449\n",
      " 0.09696329 0.05533437 0.07476258 0.10769772], -0.074\n",
      "\t[0.09647059 0.12463043 0.11871183 0.02105263 0.1134402  0.06263619\n",
      " 0.10666843 0.08386529 0.00303092 0.09999479], -0.054\n",
      "\t[0.10218487 0.05139868 0.11315936 0.15789474 0.07151665 0.07755378\n",
      " 0.03748659 0.07200448 0.22994544 0.0435848 ], 0.040\n",
      "\t[0.28537815 0.37343643 0.47129373 0.09473684 0.31689273 0.32242294\n",
      " 0.38902258 0.51999014 0.04061427 0.31548147], 0.031\n",
      "\t[0.04571429 0.07027519 0.04264298 0.04210526 0.05302096 0.03093863\n",
      " 0.06197129 0.0272349  0.01475045 0.04239873], 0.017\n",
      "\t[0.11394958 0.09847623 0.08173237 0.04210526 0.07644883 0.08402551\n",
      " 0.0865177  0.0503285  0.01212366 0.05428549], 0.004\n",
      "\t[0.07294118 0.1464635  0.14925042 0.16842105 0.15043157 0.07340535\n",
      " 0.11255675 0.09034043 0.11658921 0.15555758], -0.001\n"
     ]
    }
   ],
   "source": [
    "from sklearn.linear_model import Lasso\n",
    "from sklearn.preprocessing import MinMaxScaler\n",
    "\n",
    "X_train, X_test, y_train, y_test = train_test_split(X_poly, y,\n",
    "                                                   random_state = 0)\n",
    "\n",
    "linlasso = Lasso(alpha = 0.00001).fit(X_train, y_train)\n",
    "\n",
    "print('Airline dataset')\n",
    "\n",
    "print('R-squared score (training): {:.3f}'\n",
    "     .format(linlasso.score(X_train, y_train)))\n",
    "print('R-squared score (test): {:.3f}\\n'\n",
    "     .format(linlasso.score(X_test, y_test)))\n",
    "\n",
    "# make predictions on the testing set\n",
    "y_pred = linlasso.predict(X_test)\n",
    "print('RMSE: {:.3f}'.format(np.sqrt(metrics.mean_squared_error(y_test, y_pred))))\n",
    "    \n",
    "print('lasso regression linear model intercept: {}'.format(linlasso.intercept_))\n",
    "print('lasso regression linear model coeff:\\n{}'.format(linlasso.coef_))\n",
    "\n",
    "print('Non-zero features: {}'.format(np.sum(linlasso.coef_ != 0)))\n",
    " \n",
    "print('Features with non-zero weight (sorted by absolute magnitude):')\n",
    "for e in sorted (list(zip(list(X), linlasso.coef_)),\n",
    "                key = lambda e: -abs(e[1])):\n",
    "    if e[1] != 0:\n",
    "        print('\\t{}, {:.3f}'.format(e[0], e[1]))"
   ]
  },
  {
   "cell_type": "code",
   "execution_count": 39,
   "metadata": {},
   "outputs": [
    {
     "name": "stdout",
     "output_type": "stream",
     "text": [
      "Lasso regression: effect of alpha regularization\n",
      "parameter on number of features kept in final model\n",
      "\n",
      "Alpha = 0.00\n",
      "Features kept: 65, r-squared training: 0.79, r-squared test: 0.77\n",
      "\n",
      "Alpha = 0.00\n",
      "Features kept: 3, r-squared training: 0.64, r-squared test: 0.61\n",
      "\n",
      "Alpha = 0.01\n",
      "Features kept: 2, r-squared training: 0.41, r-squared test: 0.41\n",
      "\n",
      "Alpha = 0.03\n",
      "Features kept: 0, r-squared training: 0.00, r-squared test: -0.00\n",
      "\n",
      "Alpha = 0.05\n",
      "Features kept: 0, r-squared training: 0.00, r-squared test: -0.00\n",
      "\n",
      "Alpha = 0.07\n",
      "Features kept: 0, r-squared training: 0.00, r-squared test: -0.00\n",
      "\n",
      "Alpha = 0.25\n",
      "Features kept: 0, r-squared training: 0.00, r-squared test: -0.00\n",
      "\n",
      "Alpha = 0.50\n",
      "Features kept: 0, r-squared training: 0.00, r-squared test: -0.00\n",
      "\n",
      "Alpha = 1.00\n",
      "Features kept: 0, r-squared training: 0.00, r-squared test: -0.00\n",
      "\n",
      "Alpha = 2.00\n",
      "Features kept: 0, r-squared training: 0.00, r-squared test: -0.00\n",
      "\n",
      "Alpha = 3.00\n",
      "Features kept: 0, r-squared training: 0.00, r-squared test: -0.00\n",
      "\n",
      "Alpha = 5.00\n",
      "Features kept: 0, r-squared training: 0.00, r-squared test: -0.00\n",
      "\n",
      "Alpha = 10.00\n",
      "Features kept: 0, r-squared training: 0.00, r-squared test: -0.00\n",
      "\n",
      "Alpha = 20.00\n",
      "Features kept: 0, r-squared training: 0.00, r-squared test: -0.00\n",
      "\n",
      "Alpha = 50.00\n",
      "Features kept: 0, r-squared training: 0.00, r-squared test: -0.00\n",
      "\n"
     ]
    }
   ],
   "source": [
    "print('Lasso regression: effect of alpha regularization\\n\\\n",
    "parameter on number of features kept in final model\\n')\n",
    "\n",
    "for alpha in [0.0,0.001, 0.01, 0.025, 0.05, 0.075, 0.25, 0.5, 1, 2, 3, 5, 10, 20, 50]:\n",
    "    linlasso = Lasso(alpha, max_iter = 10000).fit(X_train, y_train)\n",
    "    r2_train = linlasso.score(X_train, y_train)\n",
    "    r2_test = linlasso.score(X_test, y_test)\n",
    "    \n",
    "    print('Alpha = {:.2f}\\nFeatures kept: {}, r-squared training: {:.2f}, \\\n",
    "r-squared test: {:.2f}\\n'\n",
    "         .format(alpha, np.sum(linlasso.coef_ != 0), r2_train, r2_test))"
   ]
  },
  {
   "cell_type": "code",
   "execution_count": null,
   "metadata": {},
   "outputs": [],
   "source": []
  }
 ],
 "metadata": {
  "kernelspec": {
   "display_name": "Python 3",
   "language": "python",
   "name": "python3"
  },
  "language_info": {
   "codemirror_mode": {
    "name": "ipython",
    "version": 3
   },
   "file_extension": ".py",
   "mimetype": "text/x-python",
   "name": "python",
   "nbconvert_exporter": "python",
   "pygments_lexer": "ipython3",
   "version": "3.7.9"
  }
 },
 "nbformat": 4,
 "nbformat_minor": 4
}
