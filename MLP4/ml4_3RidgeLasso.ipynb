{
 "cells": [
  {
   "cell_type": "markdown",
   "metadata": {},
   "source": [
    "### MLP 4: Classification"
   ]
  },
  {
   "cell_type": "markdown",
   "metadata": {},
   "source": [
    "#### Write your name\n",
    "\n",
    "- xiaomei Xie\n",
    "- Lili Hao\n"
   ]
  },
  {
   "cell_type": "code",
   "execution_count": 1,
   "metadata": {},
   "outputs": [],
   "source": [
    "import pandas as pd\n",
    "from sklearn.model_selection import train_test_split\n",
    "from sklearn.linear_model import LinearRegression\n",
    "from sklearn import metrics\n",
    "import numpy as np\n",
    "import matplotlib.pyplot as plt\n",
    "from sklearn.model_selection import learning_curve\n",
    "from sklearn.linear_model import Ridge\n",
    "from sklearn.linear_model import RidgeCV\n",
    "from sklearn.model_selection import learning_curve\n",
    "from sklearn.linear_model import Lasso\n",
    "from sklearn.linear_model import LassoCV\n",
    "from sklearn.model_selection import cross_val_score\n",
    "\n",
    "import warnings\n",
    "\n",
    "warnings.filterwarnings('ignore')\n",
    "test_size=0.25"
   ]
  },
  {
   "cell_type": "code",
   "execution_count": 2,
   "metadata": {},
   "outputs": [
    {
     "data": {
      "text/html": [
       "<div>\n",
       "<style scoped>\n",
       "    .dataframe tbody tr th:only-of-type {\n",
       "        vertical-align: middle;\n",
       "    }\n",
       "\n",
       "    .dataframe tbody tr th {\n",
       "        vertical-align: top;\n",
       "    }\n",
       "\n",
       "    .dataframe thead th {\n",
       "        text-align: right;\n",
       "    }\n",
       "</style>\n",
       "<table border=\"1\" class=\"dataframe\">\n",
       "  <thead>\n",
       "    <tr style=\"text-align: right;\">\n",
       "      <th></th>\n",
       "      <th>Airport.Code</th>\n",
       "      <th>Airport.Name</th>\n",
       "      <th>Time.Label</th>\n",
       "      <th>Time.Month</th>\n",
       "      <th>Time.Month Name</th>\n",
       "      <th>Time.Year</th>\n",
       "      <th># of Delays.Carrier</th>\n",
       "      <th># of Delays.Late Aircraft</th>\n",
       "      <th># of Delays.National Aviation System</th>\n",
       "      <th># of Delays.Security</th>\n",
       "      <th>...</th>\n",
       "      <th>Flights.Total</th>\n",
       "      <th>Minutes Delayed.Carrier</th>\n",
       "      <th>Minutes Delayed.Late Aircraft</th>\n",
       "      <th>Minutes Delayed.National Aviation System</th>\n",
       "      <th>Minutes Delayed.Security</th>\n",
       "      <th>Minutes Delayed.Total</th>\n",
       "      <th>Minutes Delayed.Weather</th>\n",
       "      <th>Time.Month.level</th>\n",
       "      <th>Rate</th>\n",
       "      <th>Ratio_Rank</th>\n",
       "    </tr>\n",
       "  </thead>\n",
       "  <tbody>\n",
       "    <tr>\n",
       "      <th>0</th>\n",
       "      <td>ATL</td>\n",
       "      <td>Atlanta, GA: Hartsfield-Jackson Atlanta Intern...</td>\n",
       "      <td>2003/06</td>\n",
       "      <td>6</td>\n",
       "      <td>June</td>\n",
       "      <td>2003</td>\n",
       "      <td>0.301513</td>\n",
       "      <td>0.270412</td>\n",
       "      <td>0.350472</td>\n",
       "      <td>0.189474</td>\n",
       "      <td>...</td>\n",
       "      <td>0.770892</td>\n",
       "      <td>0.258823</td>\n",
       "      <td>0.185741</td>\n",
       "      <td>0.194317</td>\n",
       "      <td>0.104668</td>\n",
       "      <td>0.260628</td>\n",
       "      <td>0.253219</td>\n",
       "      <td>3.0</td>\n",
       "      <td>0.797538</td>\n",
       "      <td>2.0</td>\n",
       "    </tr>\n",
       "    <tr>\n",
       "      <th>1</th>\n",
       "      <td>BOS</td>\n",
       "      <td>Boston, MA: Logan International</td>\n",
       "      <td>2003/06</td>\n",
       "      <td>6</td>\n",
       "      <td>June</td>\n",
       "      <td>2003</td>\n",
       "      <td>0.088067</td>\n",
       "      <td>0.093018</td>\n",
       "      <td>0.069295</td>\n",
       "      <td>0.042105</td>\n",
       "      <td>...</td>\n",
       "      <td>0.199003</td>\n",
       "      <td>0.066594</td>\n",
       "      <td>0.067780</td>\n",
       "      <td>0.037010</td>\n",
       "      <td>0.020004</td>\n",
       "      <td>0.064041</td>\n",
       "      <td>0.053621</td>\n",
       "      <td>3.0</td>\n",
       "      <td>0.816993</td>\n",
       "      <td>1.0</td>\n",
       "    </tr>\n",
       "  </tbody>\n",
       "</table>\n",
       "<p>2 rows × 27 columns</p>\n",
       "</div>"
      ],
      "text/plain": [
       "  Airport.Code                                       Airport.Name Time.Label  \\\n",
       "0          ATL  Atlanta, GA: Hartsfield-Jackson Atlanta Intern...    2003/06   \n",
       "1          BOS                    Boston, MA: Logan International    2003/06   \n",
       "\n",
       "   Time.Month Time.Month Name  Time.Year  # of Delays.Carrier  \\\n",
       "0           6            June       2003             0.301513   \n",
       "1           6            June       2003             0.088067   \n",
       "\n",
       "   # of Delays.Late Aircraft  # of Delays.National Aviation System  \\\n",
       "0                   0.270412                              0.350472   \n",
       "1                   0.093018                              0.069295   \n",
       "\n",
       "   # of Delays.Security  ...  Flights.Total Minutes Delayed.Carrier  \\\n",
       "0              0.189474  ...       0.770892                0.258823   \n",
       "1              0.042105  ...       0.199003                0.066594   \n",
       "\n",
       "   Minutes Delayed.Late Aircraft  Minutes Delayed.National Aviation System  \\\n",
       "0                       0.185741                                  0.194317   \n",
       "1                       0.067780                                  0.037010   \n",
       "\n",
       "   Minutes Delayed.Security  Minutes Delayed.Total  Minutes Delayed.Weather  \\\n",
       "0                  0.104668               0.260628                 0.253219   \n",
       "1                  0.020004               0.064041                 0.053621   \n",
       "\n",
       "   Time.Month.level      Rate  Ratio_Rank  \n",
       "0               3.0  0.797538         2.0  \n",
       "1               3.0  0.816993         1.0  \n",
       "\n",
       "[2 rows x 27 columns]"
      ]
     },
     "execution_count": 2,
     "metadata": {},
     "output_type": "execute_result"
    }
   ],
   "source": [
    "df = pd.read_csv('../processeddata/new_airlines_Normalized.csv')\n",
    "df.head(2)"
   ]
  },
  {
   "cell_type": "code",
   "execution_count": 3,
   "metadata": {},
   "outputs": [],
   "source": [
    "col = ['# of Delays.Carrier', \"Time.Month\",\n",
    "       '# of Delays.Late Aircraft', '# of Delays.National Aviation System',\n",
    "       '# of Delays.Security', '# of Delays.Weather',\n",
    "       'Flights.Cancelled',\n",
    "       'Flights.Delayed', 'Flights.Diverted', 'Flights.On Time',\n",
    "       'Flights.Total', 'Minutes Delayed.Carrier',\n",
    "       'Minutes Delayed.Late Aircraft',\n",
    "       'Minutes Delayed.National Aviation System', 'Minutes Delayed.Security',\n",
    "       'Minutes Delayed.Total', 'Minutes Delayed.Weather']"
   ]
  },
  {
   "cell_type": "code",
   "execution_count": 4,
   "metadata": {},
   "outputs": [
    {
     "data": {
      "text/plain": [
       "(4408, 17)"
      ]
     },
     "execution_count": 4,
     "metadata": {},
     "output_type": "execute_result"
    }
   ],
   "source": [
    "normalizedData = df[col]\n",
    "normalizedData.shape\n",
    "# of fligth on time "
   ]
  },
  {
   "cell_type": "code",
   "execution_count": 5,
   "metadata": {},
   "outputs": [],
   "source": [
    "Xcol = ['# of Delays.Carrier', \"Time.Month\",\n",
    "       '# of Delays.Late Aircraft', '# of Delays.National Aviation System',\n",
    "       '# of Delays.Security', '# of Delays.Weather',\n",
    "        'Minutes Delayed.Carrier',\n",
    "       'Minutes Delayed.Late Aircraft',\n",
    "       'Minutes Delayed.National Aviation System', 'Minutes Delayed.Security',\n",
    "       'Minutes Delayed.Weather']"
   ]
  },
  {
   "cell_type": "code",
   "execution_count": 6,
   "metadata": {},
   "outputs": [
    {
     "name": "stdout",
     "output_type": "stream",
     "text": [
      "(4408, 11)\n"
     ]
    },
    {
     "data": {
      "text/html": [
       "<div>\n",
       "<style scoped>\n",
       "    .dataframe tbody tr th:only-of-type {\n",
       "        vertical-align: middle;\n",
       "    }\n",
       "\n",
       "    .dataframe tbody tr th {\n",
       "        vertical-align: top;\n",
       "    }\n",
       "\n",
       "    .dataframe thead th {\n",
       "        text-align: right;\n",
       "    }\n",
       "</style>\n",
       "<table border=\"1\" class=\"dataframe\">\n",
       "  <thead>\n",
       "    <tr style=\"text-align: right;\">\n",
       "      <th></th>\n",
       "      <th># of Delays.Carrier</th>\n",
       "      <th>Time.Month</th>\n",
       "      <th># of Delays.Late Aircraft</th>\n",
       "      <th># of Delays.National Aviation System</th>\n",
       "      <th># of Delays.Security</th>\n",
       "      <th># of Delays.Weather</th>\n",
       "      <th>Minutes Delayed.Carrier</th>\n",
       "      <th>Minutes Delayed.Late Aircraft</th>\n",
       "      <th>Minutes Delayed.National Aviation System</th>\n",
       "      <th>Minutes Delayed.Security</th>\n",
       "      <th>Minutes Delayed.Weather</th>\n",
       "    </tr>\n",
       "  </thead>\n",
       "  <tbody>\n",
       "    <tr>\n",
       "      <th>0</th>\n",
       "      <td>0.301513</td>\n",
       "      <td>6</td>\n",
       "      <td>0.270412</td>\n",
       "      <td>0.350472</td>\n",
       "      <td>0.189474</td>\n",
       "      <td>0.403206</td>\n",
       "      <td>0.258823</td>\n",
       "      <td>0.185741</td>\n",
       "      <td>0.194317</td>\n",
       "      <td>0.104668</td>\n",
       "      <td>0.253219</td>\n",
       "    </tr>\n",
       "    <tr>\n",
       "      <th>1</th>\n",
       "      <td>0.088067</td>\n",
       "      <td>6</td>\n",
       "      <td>0.093018</td>\n",
       "      <td>0.069295</td>\n",
       "      <td>0.042105</td>\n",
       "      <td>0.080148</td>\n",
       "      <td>0.066594</td>\n",
       "      <td>0.067780</td>\n",
       "      <td>0.037010</td>\n",
       "      <td>0.020004</td>\n",
       "      <td>0.053621</td>\n",
       "    </tr>\n",
       "    <tr>\n",
       "      <th>2</th>\n",
       "      <td>0.061849</td>\n",
       "      <td>6</td>\n",
       "      <td>0.088924</td>\n",
       "      <td>0.036424</td>\n",
       "      <td>0.094737</td>\n",
       "      <td>0.094945</td>\n",
       "      <td>0.035474</td>\n",
       "      <td>0.063728</td>\n",
       "      <td>0.025609</td>\n",
       "      <td>0.056173</td>\n",
       "      <td>0.080223</td>\n",
       "    </tr>\n",
       "    <tr>\n",
       "      <th>3</th>\n",
       "      <td>0.063193</td>\n",
       "      <td>6</td>\n",
       "      <td>0.087787</td>\n",
       "      <td>0.074847</td>\n",
       "      <td>0.031579</td>\n",
       "      <td>0.065351</td>\n",
       "      <td>0.040725</td>\n",
       "      <td>0.053647</td>\n",
       "      <td>0.036017</td>\n",
       "      <td>0.025662</td>\n",
       "      <td>0.048824</td>\n",
       "    </tr>\n",
       "    <tr>\n",
       "      <th>4</th>\n",
       "      <td>0.057479</td>\n",
       "      <td>6</td>\n",
       "      <td>0.041392</td>\n",
       "      <td>0.047307</td>\n",
       "      <td>0.052632</td>\n",
       "      <td>0.070284</td>\n",
       "      <td>0.036125</td>\n",
       "      <td>0.025243</td>\n",
       "      <td>0.031345</td>\n",
       "      <td>0.024247</td>\n",
       "      <td>0.053373</td>\n",
       "    </tr>\n",
       "  </tbody>\n",
       "</table>\n",
       "</div>"
      ],
      "text/plain": [
       "   # of Delays.Carrier  Time.Month  # of Delays.Late Aircraft  \\\n",
       "0             0.301513           6                   0.270412   \n",
       "1             0.088067           6                   0.093018   \n",
       "2             0.061849           6                   0.088924   \n",
       "3             0.063193           6                   0.087787   \n",
       "4             0.057479           6                   0.041392   \n",
       "\n",
       "   # of Delays.National Aviation System  # of Delays.Security  \\\n",
       "0                              0.350472              0.189474   \n",
       "1                              0.069295              0.042105   \n",
       "2                              0.036424              0.094737   \n",
       "3                              0.074847              0.031579   \n",
       "4                              0.047307              0.052632   \n",
       "\n",
       "   # of Delays.Weather  Minutes Delayed.Carrier  \\\n",
       "0             0.403206                 0.258823   \n",
       "1             0.080148                 0.066594   \n",
       "2             0.094945                 0.035474   \n",
       "3             0.065351                 0.040725   \n",
       "4             0.070284                 0.036125   \n",
       "\n",
       "   Minutes Delayed.Late Aircraft  Minutes Delayed.National Aviation System  \\\n",
       "0                       0.185741                                  0.194317   \n",
       "1                       0.067780                                  0.037010   \n",
       "2                       0.063728                                  0.025609   \n",
       "3                       0.053647                                  0.036017   \n",
       "4                       0.025243                                  0.031345   \n",
       "\n",
       "   Minutes Delayed.Security  Minutes Delayed.Weather  \n",
       "0                  0.104668                 0.253219  \n",
       "1                  0.020004                 0.053621  \n",
       "2                  0.056173                 0.080223  \n",
       "3                  0.025662                 0.048824  \n",
       "4                  0.024247                 0.053373  "
      ]
     },
     "execution_count": 6,
     "metadata": {},
     "output_type": "execute_result"
    }
   ],
   "source": [
    "X = normalizedData[Xcol]\n",
    "print(X.shape)\n",
    "X.head()"
   ]
  },
  {
   "cell_type": "code",
   "execution_count": 7,
   "metadata": {},
   "outputs": [
    {
     "data": {
      "text/plain": [
       "0    0.745664\n",
       "1    0.199287\n",
       "2    0.169523\n",
       "3    0.170304\n",
       "4    0.112608\n",
       "Name: Flights.On Time, dtype: float64"
      ]
     },
     "execution_count": 7,
     "metadata": {},
     "output_type": "execute_result"
    }
   ],
   "source": [
    "y = normalizedData[\"Flights.On Time\"]\n",
    "y.head()"
   ]
  },
  {
   "cell_type": "code",
   "execution_count": 8,
   "metadata": {},
   "outputs": [
    {
     "name": "stdout",
     "output_type": "stream",
     "text": [
      "<class 'numpy.ndarray'>\n",
      "<class 'numpy.ndarray'>\n"
     ]
    }
   ],
   "source": [
    "X = X.to_numpy()\n",
    "print(type(X))\n",
    "\n",
    "y = y.to_numpy()\n",
    "print(type(y))"
   ]
  },
  {
   "cell_type": "code",
   "execution_count": 9,
   "metadata": {},
   "outputs": [],
   "source": [
    "X_train, X_test, y_train, y_test = train_test_split(X, y, test_size=test_size)"
   ]
  },
  {
   "cell_type": "markdown",
   "metadata": {},
   "source": [
    "### (3) Regularized linear regression models with feature normalization\n",
    "### Ridge regression model"
   ]
  },
  {
   "cell_type": "markdown",
   "metadata": {},
   "source": [
    "#### alpha"
   ]
  },
  {
   "cell_type": "code",
   "execution_count": 10,
   "metadata": {},
   "outputs": [
    {
     "name": "stdout",
     "output_type": "stream",
     "text": [
      "Ridge regression: effect of alpha regularization parameter\n",
      "\n",
      "Alpha = 0.00\n",
      "num abs(coeff) > 1.0: 3,                     r-squared training: 0.76, r-squared test: 0.72\n",
      "Training RMSE: 0.091\n",
      "Testing RMSE: 0.092\n",
      "\n",
      "Alpha = 0.00\n",
      "num abs(coeff) > 1.0: 3,                     r-squared training: 0.76, r-squared test: 0.72\n",
      "Training RMSE: 0.091\n",
      "Testing RMSE: 0.092\n",
      "\n",
      "Alpha = 0.00\n",
      "num abs(coeff) > 1.0: 3,                     r-squared training: 0.76, r-squared test: 0.72\n",
      "Training RMSE: 0.091\n",
      "Testing RMSE: 0.092\n",
      "\n",
      "Alpha = 0.01\n",
      "num abs(coeff) > 1.0: 3,                     r-squared training: 0.76, r-squared test: 0.72\n",
      "Training RMSE: 0.091\n",
      "Testing RMSE: 0.092\n",
      "\n",
      "Alpha = 0.02\n",
      "num abs(coeff) > 1.0: 3,                     r-squared training: 0.76, r-squared test: 0.72\n",
      "Training RMSE: 0.091\n",
      "Testing RMSE: 0.092\n",
      "\n",
      "Alpha = 0.05\n",
      "num abs(coeff) > 1.0: 3,                     r-squared training: 0.75, r-squared test: 0.72\n",
      "Training RMSE: 0.091\n",
      "Testing RMSE: 0.092\n",
      "\n",
      "Alpha = 0.07\n",
      "num abs(coeff) > 1.0: 3,                     r-squared training: 0.75, r-squared test: 0.72\n",
      "Training RMSE: 0.091\n",
      "Testing RMSE: 0.093\n",
      "\n",
      "Alpha = 0.10\n",
      "num abs(coeff) > 1.0: 3,                     r-squared training: 0.75, r-squared test: 0.72\n",
      "Training RMSE: 0.091\n",
      "Testing RMSE: 0.093\n",
      "\n",
      "Alpha = 0.20\n",
      "num abs(coeff) > 1.0: 3,                     r-squared training: 0.75, r-squared test: 0.71\n",
      "Training RMSE: 0.091\n",
      "Testing RMSE: 0.094\n",
      "\n"
     ]
    }
   ],
   "source": [
    "print('Ridge regression: effect of alpha regularization parameter\\n')\n",
    "train_errors = []\n",
    "test_errors = []\n",
    "\n",
    "train_R_sq= []\n",
    "test_R_sq = []\n",
    "\n",
    "alpha_sizes = [0, 0.0001, 0.001, 0.01, 0.02, 0.05, 0.075, 0.1,0.2]#,0.3,0.4, 0.5, 0.6, 0.7,0.8,0.9, 1]\n",
    "\n",
    "for this_alpha in alpha_sizes:\n",
    "    linridge = RidgeCV(alphas = [this_alpha],cv = 10).fit(X_train, y_train)\n",
    "    \n",
    "    r2_train = linridge.score(X_train, y_train)\n",
    "    train_R_sq.append(r2_train)\n",
    "    r2_test = linridge.score(X_test, y_test)\n",
    "    test_R_sq.append(r2_test)\n",
    "    num_coeff_bigger = np.sum(abs(linridge.coef_) > 1.0)\n",
    "    \n",
    "    print('Alpha = {:.2f}\\nnum abs(coeff) > 1.0: {}, \\\n",
    "                    r-squared training: {:.2f}, r-squared test: {:.2f}'\n",
    "         .format(this_alpha, num_coeff_bigger, r2_train, r2_test))\n",
    "    \n",
    "    y_pred = linridge.predict(X_train)\n",
    "    train_error = np.sqrt(metrics.mean_squared_error(y_train, y_pred))\n",
    "    print('Training RMSE: {:.3f}'.format(train_error))\n",
    "    train_errors.append(train_error)\n",
    "\n",
    "    # make predictions on the testing set\n",
    "    y_pred = linridge.predict(X_test)\n",
    "    test_error = np.sqrt(metrics.mean_squared_error(y_test, y_pred))\n",
    "    print('Testing RMSE: {:.3f}\\n'.format(test_error))\n",
    "    test_errors.append(test_error)"
   ]
  },
  {
   "cell_type": "code",
   "execution_count": 11,
   "metadata": {},
   "outputs": [
    {
     "data": {
      "image/png": "[encoded data removed]",
      "text/plain": [
       "<Figure size 360x216 with 1 Axes>"
      ]
     },
     "metadata": {
      "needs_background": "light"
     },
     "output_type": "display_data"
    }
   ],
   "source": [
    "# Plot learning curve\n",
    "fig, ax = plt.subplots(1, 1, figsize=(5, 3))\n",
    "\n",
    "ax.set_title('A learning curve for a Ridge linear regression')\n",
    "ax.set_xlabel(\"Alpha number\")\n",
    "ax.set_ylabel(\"Score (RMSE)\")\n",
    "ax.grid()\n",
    "\n",
    "ax.plot(alpha_sizes, train_errors, 'o-', color=\"r\", label=\"Training score\")\n",
    "ax.plot(alpha_sizes, test_errors, 'o-', color=\"g\", label=\"Cross-validation score\")\n",
    "ax.legend(loc=\"best\")\n",
    "\n",
    "plt.show()"
   ]
  },
  {
   "cell_type": "markdown",
   "metadata": {},
   "source": [
    "#### training and test data split"
   ]
  },
  {
   "cell_type": "code",
   "execution_count": 12,
   "metadata": {},
   "outputs": [
    {
     "name": "stdout",
     "output_type": "stream",
     "text": [
      "training RMSE:  [0.08829321 0.09005763 0.09017083 0.09017668 0.09000425 0.08995185\n",
      " 0.09001061 0.09058182 0.09042759 0.09093699]\n",
      "testing RMSE:  [0.09448705 0.09518036 0.09535508 0.09479349 0.09423852 0.09387219\n",
      " 0.09382304 0.09368041 0.09365472 0.09372435]\n"
     ]
    }
   ],
   "source": [
    "# change the parameter values for range of lower and upper bound of training data size\n",
    "# and the number of iterations, and see the changes in the learning curve. \n",
    "train_sizes = np.linspace(0.1, 0.90, 10)\n",
    "\n",
    "linridge = Ridge(alpha=0.01)\n",
    "\n",
    "train_sizes, train_mse, test_mse = \\\n",
    "            learning_curve(linridge, X, y, scoring='neg_mean_squared_error', \n",
    "                           train_sizes = train_sizes, cv=10, shuffle=True, random_state=1)\n",
    "    \n",
    "train_scores = np.sqrt(np.abs(train_mse))\n",
    "test_scores = np.sqrt(np.abs(test_mse))\n",
    "#print(train_scores)\n",
    "#print(test_scores)\n",
    "\n",
    "train_scores_mean = np.mean(train_scores, axis=1)\n",
    "\n",
    "test_scores_mean = np.mean(test_scores, axis=1)\n",
    "print(\"training RMSE: \",train_scores_mean)\n",
    "print(\"testing RMSE: \", test_scores_mean)\n"
   ]
  },
  {
   "cell_type": "code",
   "execution_count": 13,
   "metadata": {},
   "outputs": [
    {
     "data": {
      "image/png": "[encoded data removed]",
      "text/plain": [
       "<Figure size 360x216 with 1 Axes>"
      ]
     },
     "metadata": {
      "needs_background": "light"
     },
     "output_type": "display_data"
    }
   ],
   "source": [
    "# Plot learning curve\n",
    "fig, ax = plt.subplots(1, 1, figsize=(5, 3))\n",
    "    \n",
    "ax.set_title('A learning curve for a Ridge regression')\n",
    "ax.set_xlabel(\"Training examples\")\n",
    "ax.set_ylabel(\"Score (RMSE)\")\n",
    "ax.grid()\n",
    "\n",
    "ax.plot(train_sizes, train_scores_mean, 'o-', color=\"r\", label=\"Training score\")\n",
    "ax.plot(train_sizes, test_scores_mean, 'o-', color=\"g\", label=\"Cross-validation score\")\n",
    "ax.legend(loc=\"best\")\n",
    "\n",
    "plt.show()"
   ]
  },
  {
   "cell_type": "markdown",
   "metadata": {},
   "source": [
    "#### K cross validation¶"
   ]
  },
  {
   "cell_type": "code",
   "execution_count": 14,
   "metadata": {},
   "outputs": [],
   "source": [
    "X_train, X_test, y_train, y_test = train_test_split(X, y, test_size=test_size)"
   ]
  },
  {
   "cell_type": "code",
   "execution_count": 15,
   "metadata": {},
   "outputs": [
    {
     "name": "stdout",
     "output_type": "stream",
     "text": [
      "ridge regression linear model alpha: 0.01\n",
      "ridge regression linear model intercept: 0.05326624190019896\n",
      "ridge regression linear model coeff:\n",
      "[-7.51221573e-01  1.40563423e-03  2.26520330e+00  7.33966247e-01\n",
      " -1.83874613e-01 -4.90124409e-02  1.75921802e+00 -2.45620003e+00\n",
      " -3.80424359e-01  2.50906901e-01 -2.30620238e-01]\n",
      "R-squared score (training): 0.746\n",
      "R-squared score (test): 0.727\n",
      "RMSE: 0.087\n"
     ]
    }
   ],
   "source": [
    "from sklearn.linear_model import RidgeCV\n",
    "\n",
    "linridge = RidgeCV(alphas=[1e-3, 1e-2, 1e-1, 1], cv = 10).fit(X, y)\n",
    "\n",
    "print('ridge regression linear model alpha: {}'.format(linridge.alpha_))\n",
    "print('ridge regression linear model intercept: {}'.format(linridge.intercept_))\n",
    "print('ridge regression linear model coeff:\\n{}'.format(linridge.coef_))\n",
    "\n",
    "print('R-squared score (training): {:.3f}'.format(linridge.score(X_train, y_train)))\n",
    "\n",
    "print('R-squared score (test): {:.3f}'.format(linridge.best_score_))\n",
    "\n",
    "# make predictions on the testing set and print RMSE\n",
    "y_pred = linridge.predict(X_test)\n",
    "print('RMSE: {:.3f}'.format(np.sqrt(metrics.mean_squared_error(y_test, y_pred))))"
   ]
  },
  {
   "cell_type": "code",
   "execution_count": 16,
   "metadata": {},
   "outputs": [
    {
     "data": {
      "image/png": "[encoded data removed]",
      "text/plain": [
       "<Figure size 432x288 with 1 Axes>"
      ]
     },
     "metadata": {
      "needs_background": "light"
     },
     "output_type": "display_data"
    }
   ],
   "source": [
    "fig = plt.figure()\n",
    "plt.bar(normalizedData[Xcol].columns, linridge.coef_, width=0.8, bottom=None, align='center')\n",
    "plt.title(\"coeffiences of Ridge Regression\")\n",
    "fig.autofmt_xdate()"
   ]
  },
  {
   "cell_type": "code",
   "execution_count": 17,
   "metadata": {},
   "outputs": [
    {
     "name": "stdout",
     "output_type": "stream",
     "text": [
      "Lasso regression linear model intercept: 0.05326624190019896\n",
      "Lasso regression linear model coeff:\n",
      "[-7.51221573e-01  1.40563423e-03  2.26520330e+00  7.33966247e-01\n",
      " -1.83874613e-01 -4.90124409e-02  1.75921802e+00 -2.45620003e+00\n",
      " -3.80424359e-01  2.50906901e-01 -2.30620238e-01]\n",
      "R-squared score (training): 0.741\n",
      "R-squared score (test): 0.751\n",
      "RMSE: 0.087\n"
     ]
    }
   ],
   "source": [
    "from sklearn.model_selection import cross_val_score\n",
    "\n",
    "score = cross_val_score(linridge, X_train, y_train, cv=10)\n",
    "#print(score)\n",
    "#print(score.sum()/10)\n",
    "\n",
    "print('Lasso regression linear model intercept: {}'.format(linridge.intercept_))\n",
    "print('Lasso regression linear model coeff:\\n{}'.format(linridge.coef_))\n",
    "# train data R2\n",
    "print('R-squared score (training): {:.3f}'.format(score.sum()/10))\n",
    "# test data R2\n",
    "print('R-squared score (test): {:.3f}'.format(linridge.score(X_test, y_test)))\n",
    "\n",
    "# make predictions on the testing set and print RMSE\n",
    "y_pred = linridge.predict(X_test)\n",
    "print('RMSE: {:.3f}'.format(np.sqrt(metrics.mean_squared_error(y_test, y_pred))))"
   ]
  },
  {
   "cell_type": "markdown",
   "metadata": {},
   "source": [
    "### Lasso regression model"
   ]
  },
  {
   "cell_type": "code",
   "execution_count": 18,
   "metadata": {},
   "outputs": [],
   "source": [
    "X_train, X_test, y_train, y_test = train_test_split(X, y, test_size=test_size)"
   ]
  },
  {
   "cell_type": "markdown",
   "metadata": {},
   "source": [
    "#### alpha"
   ]
  },
  {
   "cell_type": "code",
   "execution_count": 19,
   "metadata": {},
   "outputs": [
    {
     "name": "stdout",
     "output_type": "stream",
     "text": [
      "Lasso regression: effect of alpha regularization\n",
      "parameter on number of features kept in final model\n",
      "\n",
      "Alpha = 0.00000000\n",
      "Features kept: 11, r-squared training: 0.74858126, r-squared test: 0.74382636\n",
      "Training RMSE: 0.09172039\n",
      "Testing RMSE: 0.08886510\n",
      "\n",
      "Alpha = 0.00000010\n",
      "Features kept: 11, r-squared training: 0.74858126, r-squared test: 0.74382925\n",
      "Training RMSE: 0.09172039\n",
      "Testing RMSE: 0.08886460\n",
      "\n",
      "Alpha = 0.00000050\n",
      "Features kept: 11, r-squared training: 0.74858109, r-squared test: 0.74384006\n",
      "Training RMSE: 0.09172042\n",
      "Testing RMSE: 0.08886273\n",
      "\n",
      "Alpha = 0.00000100\n",
      "Features kept: 11, r-squared training: 0.74858055, r-squared test: 0.74385368\n",
      "Training RMSE: 0.09172052\n",
      "Testing RMSE: 0.08886037\n",
      "\n",
      "Alpha = 0.00000500\n",
      "Features kept: 11, r-squared training: 0.74856327, r-squared test: 0.74394737\n",
      "Training RMSE: 0.09172367\n",
      "Testing RMSE: 0.08884411\n",
      "\n",
      "Alpha = 0.00001000\n",
      "Features kept: 11, r-squared training: 0.74850866, r-squared test: 0.74402279\n",
      "Training RMSE: 0.09173363\n",
      "Testing RMSE: 0.08883103\n",
      "\n",
      "Alpha = 0.00005000\n",
      "Features kept: 11, r-squared training: 0.74673319, r-squared test: 0.74289812\n",
      "Training RMSE: 0.09205687\n",
      "Testing RMSE: 0.08902596\n",
      "\n",
      "Alpha = 0.00010000\n",
      "Features kept: 10, r-squared training: 0.74133936, r-squared test: 0.73734048\n",
      "Training RMSE: 0.09303198\n",
      "Testing RMSE: 0.08998303\n",
      "\n"
     ]
    }
   ],
   "source": [
    "print('Lasso regression: effect of alpha regularization\\n\\\n",
    "parameter on number of features kept in final model\\n')\n",
    "\n",
    "\n",
    "train_scores_mean = []\n",
    "test_scores_mean = []\n",
    "\n",
    "alpha_sizes = [0.0, 0.0000001,0.0000005,0.000001,0.000005, 0.00001,0.00005, 0.0001]\n",
    "#, 0.001, 0.01, 0.025, 0.05, 0.075, 0.25, 0.5, 1, 5]\n",
    "\n",
    "for this_alpha in alpha_sizes:\n",
    "    #linlasso = Lasso(alpha, max_iter = 10000).fit(X_train, y_train)\n",
    "    #linlasso = RidgeCV(alphas = [this_alpha],cv = 10).fit(X_train, y_train)\n",
    "    linlasso = LassoCV(alphas=[this_alpha], cv = 10).fit(X_train, y_train)\n",
    "    r2_train = linlasso.score(X_train, y_train)\n",
    "    r2_test = linlasso.score(X_test, y_test)\n",
    "    \n",
    "    print('Alpha = {:.8f}\\nFeatures kept: {}, r-squared training: {:.8f}, \\\n",
    "r-squared test: {:.8f}'\n",
    "         .format(this_alpha, np.sum(linlasso.coef_ != 0), r2_train, r2_test))\n",
    "    \n",
    "    y_pred = linlasso.predict(X_train)\n",
    "    train_score_mean = np.sqrt(metrics.mean_squared_error(y_train, y_pred))\n",
    "    print('Training RMSE: {:.8f}'.format(train_score_mean))\n",
    "    train_scores_mean.append(train_score_mean)\n",
    "\n",
    "    # make predictions on the testing set\n",
    "    y_pred = linlasso.predict(X_test)\n",
    "    test_score_mean = np.sqrt(metrics.mean_squared_error(y_test, y_pred))\n",
    "    print('Testing RMSE: {:.8f}\\n'.format(test_score_mean))\n",
    "    test_scores_mean.append(test_score_mean)"
   ]
  },
  {
   "cell_type": "code",
   "execution_count": 20,
   "metadata": {},
   "outputs": [
    {
     "name": "stdout",
     "output_type": "stream",
     "text": [
      "[0.09172038934172623, 0.09172039069367897, 0.09172042197255778, 0.09172051995422735, 0.09172367234621796, 0.09173363108015153, 0.09205687112800771, 0.09303197639981976]\n"
     ]
    }
   ],
   "source": [
    "print(train_scores_mean)"
   ]
  },
  {
   "cell_type": "code",
   "execution_count": 21,
   "metadata": {},
   "outputs": [
    {
     "data": {
      "image/png": "[encoded data removed]",
      "text/plain": [
       "<Figure size 360x216 with 1 Axes>"
      ]
     },
     "metadata": {
      "needs_background": "light"
     },
     "output_type": "display_data"
    }
   ],
   "source": [
    "# Plot learning curve\n",
    "fig, ax = plt.subplots(1, 1, figsize=(5, 3))\n",
    "\n",
    "ax.set_title('A learning curve for a Lasso regression')\n",
    "ax.set_xlabel(\"Alpha number\")\n",
    "ax.set_ylabel(\"Score (RMSE)\")\n",
    "ax.grid()\n",
    "\n",
    "ax.plot(alpha_sizes, train_scores_mean, 'o-', color=\"r\", label=\"Training score\")\n",
    "ax.plot(alpha_sizes, test_scores_mean, 'o-', color=\"g\", label=\"Cross-validation score\")\n",
    "ax.legend(loc=\"best\")\n",
    "\n",
    "plt.show()"
   ]
  },
  {
   "cell_type": "markdown",
   "metadata": {},
   "source": [
    "#### training and test data split"
   ]
  },
  {
   "cell_type": "code",
   "execution_count": 22,
   "metadata": {},
   "outputs": [
    {
     "name": "stdout",
     "output_type": "stream",
     "text": [
      "training RMSE:  [0.08797124 0.08997625 0.09013308 0.09015459 0.08998921 0.08994146\n",
      " 0.09000286 0.09057587 0.09042302 0.09093338]\n",
      "testing RMSE:  [0.09451882 0.0951805  0.09540034 0.09480738 0.09424749 0.09388147\n",
      " 0.09383007 0.09368191 0.09366024 0.09372925]\n"
     ]
    },
    {
     "data": {
      "image/png": "[encoded data removed]",
      "text/plain": [
       "<Figure size 360x216 with 1 Axes>"
      ]
     },
     "metadata": {
      "needs_background": "light"
     },
     "output_type": "display_data"
    }
   ],
   "source": [
    " # change the parameter values for range of lower and upper bound of training data size\n",
    "# and the number of iterations, and see the changes in the learning curve. \n",
    "linlasso = Lasso(alpha=0.000001)\n",
    "\n",
    "train_sizes = np.linspace(0.1, 0.90, 10)\n",
    "\n",
    "train_sizes, train_mse, test_mse = \\\n",
    "            learning_curve(linlasso, X, y, scoring='neg_mean_squared_error', \n",
    "                           train_sizes = train_sizes, cv=10, shuffle=True, random_state=1)\n",
    "    \n",
    "train_scores = np.sqrt(np.abs(train_mse))\n",
    "test_scores = np.sqrt(np.abs(test_mse))\n",
    "#print(train_scores)\n",
    "#print(test_scores)\n",
    "\n",
    "train_scores_mean = np.mean(train_scores, axis=1)\n",
    "\n",
    "test_scores_mean = np.mean(test_scores, axis=1)\n",
    "print(\"training RMSE: \",train_scores_mean)\n",
    "print(\"testing RMSE: \", test_scores_mean)\n",
    "\n",
    "# Plot learning curve\n",
    "fig, ax = plt.subplots(1, 1, figsize=(5, 3))\n",
    "    \n",
    "ax.set_title('A learning curve for a Lasso regression')\n",
    "ax.set_xlabel(\"Training examples\")\n",
    "ax.set_ylabel(\"Score (RMSE)\")\n",
    "ax.grid()\n",
    "\n",
    "ax.plot(train_sizes, train_scores_mean, 'o-', color=\"r\", label=\"Training score\")\n",
    "ax.plot(train_sizes, test_scores_mean, 'o-', color=\"g\", label=\"Cross-validation score\")\n",
    "ax.legend(loc=\"best\")\n",
    "\n",
    "plt.show()"
   ]
  },
  {
   "cell_type": "markdown",
   "metadata": {},
   "source": [
    "#### K cross validation¶"
   ]
  },
  {
   "cell_type": "code",
   "execution_count": 23,
   "metadata": {},
   "outputs": [],
   "source": [
    "X_train, X_test, y_train, y_test = train_test_split(X, y, test_size=test_size)"
   ]
  },
  {
   "cell_type": "code",
   "execution_count": 24,
   "metadata": {},
   "outputs": [
    {
     "name": "stdout",
     "output_type": "stream",
     "text": [
      "ridge regression linear model alpha: 1e-06\n",
      "ridge regression linear model intercept: 0.053299899808700923\n",
      "ridge regression linear model coeff:\n",
      "[-7.60985702e-01  1.40289088e-03  2.29477366e+00  7.21622829e-01\n",
      " -1.82737858e-01 -4.85448672e-02  1.76935637e+00 -2.49126240e+00\n",
      " -3.65743343e-01  2.49583296e-01 -2.29666979e-01]\n",
      "R-squared score (training): 0.744\n",
      "R-squared score (test): 0.759\n",
      "RMSE: 0.090\n"
     ]
    }
   ],
   "source": [
    "\n",
    "\n",
    "linlasso = LassoCV(alphas=[1e-6,1e-5,1e-4,1e-3, 1e-2, 1e-1, 1], cv = 10).fit(X, y)\n",
    "\n",
    "print('ridge regression linear model alpha: {}'.format(linlasso.alpha_))\n",
    "print('ridge regression linear model intercept: {}'.format(linlasso.intercept_))\n",
    "print('ridge regression linear model coeff:\\n{}'.format(linlasso.coef_))\n",
    "\n",
    "print('R-squared score (training): {:.3f}'.format(linlasso.score(X_train, y_train)))\n",
    "\n",
    "print('R-squared score (test): {:.3f}'.format(linlasso.score(X_test, y_test)))\n",
    "\n",
    "# make predictions on the testing set and print RMSE\n",
    "y_pred = linlasso.predict(X_test)\n",
    "print('RMSE: {:.3f}'.format(np.sqrt(metrics.mean_squared_error(y_test, y_pred))))"
   ]
  },
  {
   "cell_type": "code",
   "execution_count": 25,
   "metadata": {},
   "outputs": [
    {
     "data": {
      "image/png": "[encoded data removed]",
      "text/plain": [
       "<Figure size 432x288 with 1 Axes>"
      ]
     },
     "metadata": {
      "needs_background": "light"
     },
     "output_type": "display_data"
    }
   ],
   "source": [
    "fig = plt.figure()\n",
    "plt.bar(normalizedData[Xcol].columns, linlasso.coef_, width=0.8, bottom=None, align='center')\n",
    "plt.title(\"coeffiences of Lasso Regression\")\n",
    "fig.autofmt_xdate()"
   ]
  },
  {
   "cell_type": "code",
   "execution_count": 26,
   "metadata": {},
   "outputs": [
    {
     "name": "stdout",
     "output_type": "stream",
     "text": [
      "Lasso regression linear model intercept: 0.053299899808700923\n",
      "Lasso regression linear model coeff:\n",
      "[-7.60985702e-01  1.40289088e-03  2.29477366e+00  7.21622829e-01\n",
      " -1.82737858e-01 -4.85448672e-02  1.76935637e+00 -2.49126240e+00\n",
      " -3.65743343e-01  2.49583296e-01 -2.29666979e-01]\n",
      "R-squared score (training): 0.738\n",
      "R-squared score (test): 0.759\n",
      "RMSE: 0.090\n"
     ]
    }
   ],
   "source": [
    "\n",
    "\n",
    "score = cross_val_score(linlasso, X_train, y_train, cv=10)\n",
    "#print(score)\n",
    "#print(score.sum()/10)\n",
    "\n",
    "print('Lasso regression linear model intercept: {}'.format(linlasso.intercept_))\n",
    "print('Lasso regression linear model coeff:\\n{}'.format(linlasso.coef_))\n",
    "# train data R2\n",
    "print('R-squared score (training): {:.3f}'.format(score.sum()/10))\n",
    "# test data R2\n",
    "print('R-squared score (test): {:.3f}'.format(linlasso.score(X_test, y_test)))\n",
    "\n",
    "# make predictions on the testing set and print RMSE\n",
    "y_pred = linlasso.predict(X_test)\n",
    "print('RMSE: {:.3f}'.format(np.sqrt(metrics.mean_squared_error(y_test, y_pred))))"
   ]
  }
 ],
 "metadata": {
  "kernelspec": {
   "display_name": "Python 3",
   "language": "python",
   "name": "python3"
  },
  "language_info": {
   "codemirror_mode": {
    "name": "ipython",
    "version": 3
   },
   "file_extension": ".py",
   "mimetype": "text/x-python",
   "name": "python",
   "nbconvert_exporter": "python",
   "pygments_lexer": "ipython3",
   "version": "3.8.5"
  }
 },
 "nbformat": 4,
 "nbformat_minor": 4
}
